{
 "cells": [
  {
   "cell_type": "markdown",
   "metadata": {
    "id": "LTlmjXExP75I"
   },
   "source": [
    "# Машинное обучение, ФКН ВШЭ\n",
    "\n",
    "## Практическое задание 4. Классификация"
   ]
  },
  {
   "cell_type": "markdown",
   "metadata": {
    "id": "kH11bAAV2SoV"
   },
   "source": [
    "### Общая информация\n",
    "Дата выдачи: 04.11.2022\n",
    "\n",
    "Мягкий дедлайн: 23:59MSK 16.11.2022\n",
    "\n",
    "Жесткий дедлайн: 23:59MSK 23.11.2022"
   ]
  },
  {
   "cell_type": "markdown",
   "metadata": {
    "id": "iWjJuhqS3Ucc"
   },
   "source": [
    "### О задании\n",
    "\n",
    "В этом задании вы:\n",
    "- ознакомитесь с тем, что происходит \"внутри\" метода опорных векторов и логистической регрессии\n",
    "- познакомитесь с калибровкой вероятности\n",
    "- изучите методы трансформации переменных и методы отбора признаков\n",
    "- попробуете оценить экономический эффект модели\n",
    "\n",
    "----\n",
    "\n",
    "#### Самостоятельная оценка результатов\n",
    "\n",
    "Для удобства проверки, исходя из набора решенных задач, посчитайте свою максимальную оценку.\n",
    "\n",
    "**Оценка**:"
   ]
  },
  {
   "cell_type": "markdown",
   "metadata": {
    "id": "Or0r6z5v1Mmt"
   },
   "source": [
    "### Оценивание и штрафы"
   ]
  },
  {
   "cell_type": "markdown",
   "metadata": {
    "id": "CecLXG_w3zs0"
   },
   "source": [
    "Каждая из задач имеет определенную «стоимость» (указана в скобках около задачи). Максимально допустимая оценка за работу — 10 баллов.\n",
    "\n",
    "Сдавать задание после указанного жёсткого дедлайна нельзя. При выставлении неполного балла за задание в связи с наличием ошибок на усмотрение проверяющего предусмотрена возможность исправить работу на указанных в ответном письме условиях.\n",
    "\n",
    "Задание выполняется самостоятельно. «Похожие» решения считаются плагиатом и все задействованные студенты (в том числе те, у кого списали) не могут получить за него больше 0 баллов (подробнее о плагиате см. на странице курса). Если вы нашли решение какого-то из заданий (или его часть) в открытом источнике, необходимо указать ссылку на этот источник в отдельном блоке в конце вашей работы (скорее всего вы будете не единственным, кто это нашел, поэтому чтобы исключить подозрение в плагиате, необходима ссылка на источник).\n",
    "\n",
    "Неэффективная реализация кода может негативно отразиться на оценке."
   ]
  },
  {
   "cell_type": "markdown",
   "metadata": {
    "id": "eMwMhTpA1MwR"
   },
   "source": [
    "### Формат сдачи"
   ]
  },
  {
   "cell_type": "markdown",
   "metadata": {
    "id": "O5qs8FC_35h7"
   },
   "source": [
    "Для сдачи задания переименуйте получившийся файл *.ipynb в соответствии со следующим форматом: homework-practice-04-linclass-__Username__.ipynb, где Username — ваша фамилия и имя на латинице именно в таком порядке (например, homework-practice-04-linclass-__IvanovIvan__.ipynb)."
   ]
  },
  {
   "cell_type": "markdown",
   "metadata": {
    "id": "KGWDDNDyP75O"
   },
   "source": [
    "# Часть 1. SVM, LR и калибровка вероятностей"
   ]
  },
  {
   "cell_type": "code",
   "execution_count": 21,
   "metadata": {
    "id": "jDyI9TST-3Ou"
   },
   "outputs": [
    {
     "name": "stdout",
     "output_type": "stream",
     "text": [
      "Defaulting to user installation because normal site-packages is not writeable\n",
      "Requirement already satisfied: scikit-learn in /Users/ivanbondyrev/Library/Python/3.8/lib/python/site-packages (1.1.3)\n",
      "Requirement already satisfied: scipy>=1.3.2 in /Users/ivanbondyrev/Library/Python/3.8/lib/python/site-packages (from scikit-learn) (1.9.3)\n",
      "Requirement already satisfied: threadpoolctl>=2.0.0 in /Users/ivanbondyrev/Library/Python/3.8/lib/python/site-packages (from scikit-learn) (3.1.0)\n",
      "Requirement already satisfied: joblib>=1.0.0 in /Users/ivanbondyrev/Library/Python/3.8/lib/python/site-packages (from scikit-learn) (1.2.0)\n",
      "Requirement already satisfied: numpy>=1.17.3 in /Users/ivanbondyrev/Library/Python/3.8/lib/python/site-packages (from scikit-learn) (1.22.1)\n",
      "\u001b[33mWARNING: You are using pip version 21.3.1; however, version 22.3.1 is available.\n",
      "You should consider upgrading via the '/Library/Developer/CommandLineTools/usr/bin/python3 -m pip install --upgrade pip' command.\u001b[0m\n"
     ]
    }
   ],
   "source": [
    "!pip install --upgrade scikit-learn"
   ]
  },
  {
   "cell_type": "code",
   "execution_count": 22,
   "metadata": {
    "id": "KyqoX1BNP75N"
   },
   "outputs": [],
   "source": [
    "import numpy as np\n",
    "import pandas as pd\n",
    "import matplotlib.pyplot as plt\n",
    "%matplotlib inline\n",
    "\n",
    "pd.set_option('display.max_rows', 100)\n",
    "pd.set_option('display.max_columns', 100)"
   ]
  },
  {
   "cell_type": "markdown",
   "metadata": {
    "id": "xvhLtt4OP75Q"
   },
   "source": [
    "#### __Задание 1.1  Сравнение методов__ (0.5 балла)\n",
    "\n"
   ]
  },
  {
   "cell_type": "markdown",
   "metadata": {
    "id": "LZw2aOq9P75O"
   },
   "source": [
    "Сгенерируем синтетические данные."
   ]
  },
  {
   "cell_type": "code",
   "execution_count": 23,
   "metadata": {
    "id": "mqkczFrQP75P"
   },
   "outputs": [],
   "source": [
    "from sklearn.datasets import make_classification\n",
    "from sklearn.model_selection import train_test_split\n",
    "\n",
    "# фиксируем random_state для воспроизводимости результатов\n",
    "X, y = make_classification(\n",
    "    n_samples=10000, n_features=10, n_informative=5, n_redundant=5, random_state=42)\n",
    "\n",
    "X_train, X_test, y_train, y_test = train_test_split(X, y, test_size=0.3, random_state=42)"
   ]
  },
  {
   "cell_type": "markdown",
   "metadata": {
    "id": "BdPx-lQbtaRe"
   },
   "source": [
    "__Случайный классификатор__\n",
    "\n",
    "Для начала зададим самую простую модель, которая на каждом объекте выдаёт один из двух классов с равными вероятностями. По тестовой выборке вычислим AUC-ROC, AUC-PR."
   ]
  },
  {
   "cell_type": "code",
   "execution_count": 24,
   "metadata": {
    "colab": {
     "base_uri": "https://localhost:8080/"
    },
    "id": "0rqepy-AtZXc",
    "outputId": "4d532d1d-9654-4a63-e456-60f44a098443"
   },
   "outputs": [
    {
     "data": {
      "text/plain": [
       "array([0, 1, 1, ..., 0, 0, 1])"
      ]
     },
     "execution_count": 24,
     "metadata": {},
     "output_type": "execute_result"
    }
   ],
   "source": [
    "np.random.seed(42)\n",
    "\n",
    "# наш случайный классификатор\n",
    "y_random = np.random.choice([0, 1], size=len(y_test), p=[0.5, 0.5])\n",
    "y_random"
   ]
  },
  {
   "cell_type": "markdown",
   "metadata": {
    "id": "LnmZFwEYDVqx"
   },
   "source": [
    "*Ниже приведен **пример** работы* со встроенными функциями `sklearn` для отрисовки ROC и PR кривых, сохранения метрик. Пайплайн можно изменять как вам удобно, за особенно эффективные или красивые варианты может быть начислен небольшой бонус :)"
   ]
  },
  {
   "cell_type": "code",
   "execution_count": 25,
   "metadata": {
    "id": "gNJLhNj7DkLx"
   },
   "outputs": [],
   "source": [
    "from sklearn.datasets import make_classification\n",
    "from sklearn.model_selection import train_test_split\n",
    "\n",
    "from sklearn.metrics import auc\n",
    "from sklearn.metrics import average_precision_score\n",
    "from sklearn.metrics import precision_recall_curve\n",
    "from sklearn.metrics import PrecisionRecallDisplay\n",
    "\n",
    "from sklearn.metrics import roc_auc_score\n",
    "from sklearn.metrics import RocCurveDisplay\n",
    "\n",
    "from sklearn.svm import LinearSVC\n",
    "from sklearn.linear_model import LogisticRegression"
   ]
  },
  {
   "cell_type": "code",
   "execution_count": 26,
   "metadata": {},
   "outputs": [],
   "source": [
    "def show_curves(name: str, y, y_pred):\n",
    "    fig, ax = plt.subplots(1, 2, figsize=(11, 5))\n",
    "\n",
    "    PrecisionRecallDisplay.from_predictions(y, y_pred, ax=ax[0])\n",
    "    precision, recall, _ = precision_recall_curve(y, y_pred)\n",
    "    auc_pr = auc(recall, precision)\n",
    "    print('AUC-PR: %.5f' % auc_pr)\n",
    "    ax[0].set_title(name)\n",
    "    ax[0].set_ylim(0, 1.1)\n",
    "\n",
    "    RocCurveDisplay.from_predictions(y, y_pred, ax=ax[1])\n",
    "    auc_roc = roc_auc_score(y, y_pred)\n",
    "    print('AUC-ROC: %.5f' % auc_roc)\n",
    "    ax[1].set_title(name)\n",
    "    ax[1].set_ylim(0, 1.1)\n",
    "\n",
    "    plt.tight_layout()\n",
    "    \n",
    "    return auc_pr, auc_roc\n"
   ]
  },
  {
   "cell_type": "code",
   "execution_count": 27,
   "metadata": {
    "colab": {
     "base_uri": "https://localhost:8080/",
     "height": 403
    },
    "id": "-WHELzN6_fsQ",
    "outputId": "47285a42-dd22-4591-af46-56bb8b54dfb2"
   },
   "outputs": [
    {
     "name": "stdout",
     "output_type": "stream",
     "text": [
      "AUC-PR: 0.63340\n",
      "AUC-ROC: 0.50394\n"
     ]
    },
    {
     "data": {
      "image/png": "[encoded data removed]",
      "text/plain": [
       "<Figure size 1100x500 with 2 Axes>"
      ]
     },
     "metadata": {},
     "output_type": "display_data"
    }
   ],
   "source": [
    "fig, ax = plt.subplots(1, 2, figsize=(11, 5))\n",
    "\n",
    "PrecisionRecallDisplay.from_predictions(y_test, y_random, ax=ax[0])\n",
    "precision, recall, _ = precision_recall_curve(y_test, y_random)\n",
    "print('AUC-PR: %.5f' % auc(recall, precision))\n",
    "ax[0].set_title(\"PRC for Random Classifier\")\n",
    "ax[0].set_ylim(0, 1.1)\n",
    "\n",
    "RocCurveDisplay.from_predictions(y_test, y_random, ax=ax[1])\n",
    "print('AUC-ROC: %.5f' % roc_auc_score(y_test, y_random))\n",
    "ax[1].set_title(\"ROC for Random Classifier\")\n",
    "ax[1].set_ylim(0, 1.1)\n",
    "\n",
    "plt.tight_layout()"
   ]
  },
  {
   "cell_type": "code",
   "execution_count": 28,
   "metadata": {
    "colab": {
     "base_uri": "https://localhost:8080/",
     "height": 80
    },
    "id": "pSugCdAAEF2z",
    "outputId": "9cc380d1-eb63-4e9f-a707-46e76092b4ed"
   },
   "outputs": [
    {
     "data": {
      "text/html": [
       "<div>\n",
       "<style scoped>\n",
       "    .dataframe tbody tr th:only-of-type {\n",
       "        vertical-align: middle;\n",
       "    }\n",
       "\n",
       "    .dataframe tbody tr th {\n",
       "        vertical-align: top;\n",
       "    }\n",
       "\n",
       "    .dataframe thead th {\n",
       "        text-align: right;\n",
       "    }\n",
       "</style>\n",
       "<table border=\"1\" class=\"dataframe\">\n",
       "  <thead>\n",
       "    <tr style=\"text-align: right;\">\n",
       "      <th></th>\n",
       "      <th>AUC_PR</th>\n",
       "      <th>AUC_ROC</th>\n",
       "      <th>reg_const</th>\n",
       "    </tr>\n",
       "  </thead>\n",
       "  <tbody>\n",
       "    <tr>\n",
       "      <th>Random Classifier</th>\n",
       "      <td>0.633402</td>\n",
       "      <td>0.503944</td>\n",
       "      <td>NaN</td>\n",
       "    </tr>\n",
       "  </tbody>\n",
       "</table>\n",
       "</div>"
      ],
      "text/plain": [
       "                     AUC_PR   AUC_ROC  reg_const\n",
       "Random Classifier  0.633402  0.503944        NaN"
      ]
     },
     "execution_count": 28,
     "metadata": {},
     "output_type": "execute_result"
    }
   ],
   "source": [
    "# dataframe для сравнения \n",
    "# методов классификации по метрикам\n",
    "df_metrics = pd.DataFrame(columns=['AUC_PR', 'AUC_ROC', 'reg_const'])\n",
    "\n",
    "# добавление очередной строки с характеристиками метода\n",
    "df_metrics.loc['Random Classifier'] = [\n",
    "    auc(recall, precision),\n",
    "    roc_auc_score(y_test, y_random),\n",
    "    None\n",
    "]\n",
    "\n",
    "# по аналогии результаты следующих экспериментов можно будет собрать в табличку\n",
    "df_metrics"
   ]
  },
  {
   "cell_type": "code",
   "execution_count": 29,
   "metadata": {},
   "outputs": [],
   "source": [
    "def get_metrics(y, y_pred):\n",
    "    df_metrics = pd.DataFrame(columns=['AUC_PR', 'AUC_ROC', 'reg_const'])\n",
    "    precision, recall, _ = precision_recall_curve(y, y_pred)\n",
    "\n",
    "    # добавление очередной строки с характеристиками метода\n",
    "    \n",
    "    return auc(recall, precision),  roc_auc_score(y, y_pred)"
   ]
  },
  {
   "cell_type": "markdown",
   "metadata": {
    "id": "9IwDobmQtW2P"
   },
   "source": [
    "__Support Vector Machine (Linear Kernel)__\n",
    "\n",
    "Обучите метод опорных векторов. На занятиях мы проходили линейный вариант без ядрового перехода, что соответствует линейному ядру (`LinearSVC` или же `SVC(kernel='linear')` в `sklearn.svm`). Подберите параметр регуляризации `C` (можете воспользоваться кросс-валидацией или отделить валидационную выборку от обучающей).\n",
    "\n",
    "__NB!__ Здесь и далее, если не сказано иначе, подбирайте __оптимальные гиперпараметры с точки зрения AUC-PR.__"
   ]
  },
  {
   "cell_type": "markdown",
   "metadata": {
    "id": "fapa63xlP75R"
   },
   "source": [
    "  На тестовой части:\n",
    "  - постройте ROC и PR кривые,\n",
    "  - посчитайте AUC-ROC, AUC-PR с точностью до 5 знаков"
   ]
  },
  {
   "cell_type": "code",
   "execution_count": 30,
   "metadata": {
    "id": "xTvNT5uRP75S"
   },
   "outputs": [],
   "source": [
    "X_train, X_val, y_train, y_val = train_test_split(X_train, y_train, test_size=0.2, random_state=42)"
   ]
  },
  {
   "cell_type": "code",
   "execution_count": 31,
   "metadata": {},
   "outputs": [
    {
     "name": "stdout",
     "output_type": "stream",
     "text": [
      "AUC_PR SCORE: 0.7994896368047417\n",
      "AUC_PR SCORE: 0.8018160705056695\n",
      "AUC_PR SCORE: 0.8112027910920401\n",
      "AUC_PR SCORE: 0.8083193991195616\n",
      "AUC_PR SCORE: 0.8002390981430273\n",
      "AUC_PR SCORE: 0.7998457866280726\n",
      "AUC_PR SCORE: 0.7997264384684949\n",
      "AUC_PR SCORE: 0.7996898436922081\n",
      "AUC_PR SCORE: 0.7996920318533525\n",
      "AUC_PR SCORE: 0.7996935071331399\n",
      "BEST C IS 5.994842503189409e-06\n"
     ]
    }
   ],
   "source": [
    "from sklearn.svm import LinearSVC\n",
    "from sklearn.linear_model import LogisticRegression\n",
    "\n",
    "cs = np.logspace(-7, 1, 10)\n",
    "val_scores = []\n",
    "\n",
    "for c in cs:\n",
    "    svc = LinearSVC(max_iter=100000, C=c).fit(X_train, y_train)\n",
    "    svc_pred = svc.decision_function(X_val)\n",
    "    auc_pr, auc_roc = get_metrics(y_val, svc_pred)\n",
    "    print('AUC_PR SCORE:', auc_pr)\n",
    "    val_scores.append(auc_pr)\n",
    "\n",
    "max_idx = np.argmax(val_scores)\n",
    "best_c = cs[max_idx]\n",
    "print(f\"BEST C IS {best_c}\")\n",
    "best_svc = LinearSVC(max_iter=100000, C=best_c).fit(X_train, y_train)"
   ]
  },
  {
   "cell_type": "code",
   "execution_count": 32,
   "metadata": {},
   "outputs": [
    {
     "name": "stdout",
     "output_type": "stream",
     "text": [
      "AUC-PR: 0.82517\n",
      "AUC-ROC: 0.82937\n"
     ]
    },
    {
     "data": {
      "image/png": "[encoded data removed]",
      "text/plain": [
       "<Figure size 1100x500 with 2 Axes>"
      ]
     },
     "metadata": {},
     "output_type": "display_data"
    }
   ],
   "source": [
    "best_svc = LinearSVC(max_iter=100000, C=best_c).fit(X_train, y_train)\n",
    "auc_pr, auc_roc = show_curves(\"SVM\", y_test, best_svc.decision_function(X_test))"
   ]
  },
  {
   "cell_type": "markdown",
   "metadata": {
    "id": "tEoGp5EDtIzW"
   },
   "source": [
    "Сравните AUC-ROC и AUC-PR для вашей модели с этими же метриками для случайного классификатора."
   ]
  },
  {
   "cell_type": "code",
   "execution_count": 33,
   "metadata": {},
   "outputs": [
    {
     "data": {
      "text/html": [
       "<div>\n",
       "<style scoped>\n",
       "    .dataframe tbody tr th:only-of-type {\n",
       "        vertical-align: middle;\n",
       "    }\n",
       "\n",
       "    .dataframe tbody tr th {\n",
       "        vertical-align: top;\n",
       "    }\n",
       "\n",
       "    .dataframe thead th {\n",
       "        text-align: right;\n",
       "    }\n",
       "</style>\n",
       "<table border=\"1\" class=\"dataframe\">\n",
       "  <thead>\n",
       "    <tr style=\"text-align: right;\">\n",
       "      <th></th>\n",
       "      <th>AUC_PR</th>\n",
       "      <th>AUC_ROC</th>\n",
       "      <th>reg_const</th>\n",
       "    </tr>\n",
       "  </thead>\n",
       "  <tbody>\n",
       "    <tr>\n",
       "      <th>Random Classifier</th>\n",
       "      <td>0.633402</td>\n",
       "      <td>0.503944</td>\n",
       "      <td>NaN</td>\n",
       "    </tr>\n",
       "    <tr>\n",
       "      <th>SVM</th>\n",
       "      <td>0.825166</td>\n",
       "      <td>0.829371</td>\n",
       "      <td>C = 5.994842503189409e-06</td>\n",
       "    </tr>\n",
       "  </tbody>\n",
       "</table>\n",
       "</div>"
      ],
      "text/plain": [
       "                     AUC_PR   AUC_ROC                  reg_const\n",
       "Random Classifier  0.633402  0.503944                        NaN\n",
       "SVM                0.825166  0.829371  C = 5.994842503189409e-06"
      ]
     },
     "execution_count": 33,
     "metadata": {},
     "output_type": "execute_result"
    }
   ],
   "source": [
    "\n",
    "\n",
    "df_metrics.loc['SVM'] = [\n",
    "    auc_pr,\n",
    "    auc_roc,\n",
    "    f\"C = {best_c}\"\n",
    "]\n",
    "\n",
    "\n",
    "# по аналогии результаты следующих экспериментов можно будет собрать в табличку\n",
    "df_metrics"
   ]
  },
  {
   "cell_type": "markdown",
   "metadata": {
    "id": "Ln5VaZE_P75S"
   },
   "source": [
    "__Logistic Regression__\n",
    "\n",
    "Теперь повторите то же самое для логистической регрессии (LR) — обучение, подбор параметра регуляризации (используйте L2-регуляризацию), вычисление метрик и построение кривых ROC и PR."
   ]
  },
  {
   "cell_type": "code",
   "execution_count": 34,
   "metadata": {
    "id": "r1TlamoBP75S"
   },
   "outputs": [
    {
     "name": "stdout",
     "output_type": "stream",
     "text": [
      "AUC_PR SCORE: 0.799036405549292\n",
      "AUC_PR SCORE: 0.799036405549292\n",
      "AUC_PR SCORE: 0.799036405549292\n",
      "AUC_PR SCORE: 0.799036405549292\n",
      "AUC_PR SCORE: 0.799036405549292\n",
      "AUC_PR SCORE: 0.799036405549292\n",
      "AUC_PR SCORE: 0.799036405549292\n",
      "AUC_PR SCORE: 0.7991507489101388\n",
      "AUC_PR SCORE: 0.7991434078528319\n",
      "AUC_PR SCORE: 0.7995581305693227\n",
      "AUC_PR SCORE: 0.7991449236421875\n",
      "AUC_PR SCORE: 0.7991416627752209\n",
      "AUC_PR SCORE: 0.7991460357853578\n",
      "AUC_PR SCORE: 0.799897008125007\n",
      "AUC_PR SCORE: 0.8071182048461596\n",
      "AUC_PR SCORE: 0.8140288720872202\n",
      "AUC_PR SCORE: 0.8021082139945976\n",
      "AUC_PR SCORE: 0.7993257239734672\n",
      "AUC_PR SCORE: 0.7992071718355603\n",
      "AUC_PR SCORE: 0.7991962377934749\n",
      "BEST C IS 0.00037926901907322694\n"
     ]
    }
   ],
   "source": [
    "cs = np.logspace(-20, 1, 20)\n",
    "val_scores = []\n",
    "\n",
    "for c in cs:\n",
    "    lr = LogisticRegression(max_iter=100000, C=c).fit(X_train, y_train)\n",
    "    val_pred = lr.decision_function(X_val)\n",
    "    auc_pr, auc_roc = get_metrics(y_val, val_pred)\n",
    "    print('AUC_PR SCORE:', auc_pr)\n",
    "    val_scores.append(auc_pr)\n",
    "\n",
    "max_idx = np.argmax(val_scores)\n",
    "best_c = cs[max_idx]\n",
    "print(f\"BEST C IS {best_c}\")\n",
    "best_lr = LogisticRegression(max_iter=100000, C=best_c).fit(X_train, y_train)"
   ]
  },
  {
   "cell_type": "code",
   "execution_count": 35,
   "metadata": {},
   "outputs": [
    {
     "name": "stdout",
     "output_type": "stream",
     "text": [
      "AUC-PR: 0.83398\n",
      "AUC-ROC: 0.84125\n"
     ]
    },
    {
     "data": {
      "image/png": "[encoded data removed]",
      "text/plain": [
       "<Figure size 1100x500 with 2 Axes>"
      ]
     },
     "metadata": {},
     "output_type": "display_data"
    }
   ],
   "source": [
    "best_lr = LogisticRegression(max_iter=100000, C=best_c).fit(X_train, y_train)\n",
    "auc_pr, auc_roc = show_curves(\"SVM\", y_test, best_lr.decision_function(X_test))"
   ]
  },
  {
   "cell_type": "code",
   "execution_count": 36,
   "metadata": {},
   "outputs": [
    {
     "data": {
      "text/html": [
       "<div>\n",
       "<style scoped>\n",
       "    .dataframe tbody tr th:only-of-type {\n",
       "        vertical-align: middle;\n",
       "    }\n",
       "\n",
       "    .dataframe tbody tr th {\n",
       "        vertical-align: top;\n",
       "    }\n",
       "\n",
       "    .dataframe thead th {\n",
       "        text-align: right;\n",
       "    }\n",
       "</style>\n",
       "<table border=\"1\" class=\"dataframe\">\n",
       "  <thead>\n",
       "    <tr style=\"text-align: right;\">\n",
       "      <th></th>\n",
       "      <th>AUC_PR</th>\n",
       "      <th>AUC_ROC</th>\n",
       "      <th>reg_const</th>\n",
       "    </tr>\n",
       "  </thead>\n",
       "  <tbody>\n",
       "    <tr>\n",
       "      <th>Random Classifier</th>\n",
       "      <td>0.633402</td>\n",
       "      <td>0.503944</td>\n",
       "      <td>NaN</td>\n",
       "    </tr>\n",
       "    <tr>\n",
       "      <th>SVM</th>\n",
       "      <td>0.825166</td>\n",
       "      <td>0.829371</td>\n",
       "      <td>C = 5.994842503189409e-06</td>\n",
       "    </tr>\n",
       "    <tr>\n",
       "      <th>LR</th>\n",
       "      <td>0.833981</td>\n",
       "      <td>0.841246</td>\n",
       "      <td>C = 0.00037926901907322694</td>\n",
       "    </tr>\n",
       "  </tbody>\n",
       "</table>\n",
       "</div>"
      ],
      "text/plain": [
       "                     AUC_PR   AUC_ROC                   reg_const\n",
       "Random Classifier  0.633402  0.503944                         NaN\n",
       "SVM                0.825166  0.829371   C = 5.994842503189409e-06\n",
       "LR                 0.833981  0.841246  C = 0.00037926901907322694"
      ]
     },
     "execution_count": 36,
     "metadata": {},
     "output_type": "execute_result"
    }
   ],
   "source": [
    "df_metrics.loc['LR'] = [\n",
    "    auc_pr,\n",
    "    auc_roc,\n",
    "    f\"C = {best_c}\"\n",
    "]\n",
    "\n",
    "\n",
    "# по аналогии результаты следующих экспериментов можно будет собрать в табличку\n",
    "df_metrics"
   ]
  },
  {
   "cell_type": "markdown",
   "metadata": {
    "id": "khlorKXtr1Sy"
   },
   "source": [
    "__Микровывод__\n",
    "\n",
    "  Сравните результаты LR и SVM с точки зрения всех вычисленных критериев качества, объясните различия (если они есть).\n",
    "\n",
    "  Ответ: Видим, что различия на сгенерированных данных минимально. Это, конечно, не очень согласуется с теорией, потому что на лекции говорилось, что SVM должен быть лучше по именно этим метрикам, потому что он именно на них заточен, но жизнь такова какова она есть и больше никакова, поэтому имеем то, что имеем. "
   ]
  },
  {
   "cell_type": "markdown",
   "metadata": {
    "id": "RvWzOe4wP75T"
   },
   "source": [
    "#### __Задание 1.2. Визуализация в подходах SVM, LR__ (0.5 балла)\n",
    "\n",
    "В названии метода опорных векторов присутствуют некоторые \"опорные векторы\". По сути, это объекты из обучающей выборки, которые задали положение разделяющей гиперплоскости.\n",
    "\n",
    "1) Сгенерируйте синтетические данные с помощью `make_classification` __с 2 признаками__, обучите на нём метод опорных векторов. В этот раз воспользуйтесь `SVC(kernel='linear')`, так как только в нём есть информация об опорных векторах, а в `LinearSVC` нет.\n",
    "\n",
    "2) Визуализируйте разделяющую прямую, все объекты и выделите опорные векторы (атрибут `support_vectors_`). "
   ]
  },
  {
   "cell_type": "code",
   "execution_count": 37,
   "metadata": {
    "id": "baqu-QMCP75T"
   },
   "outputs": [],
   "source": [
    "X, y = make_classification(\n",
    "    n_samples=500, n_features=2, n_redundant=0, n_informative=2, n_clusters_per_class=1, random_state=42)\n",
    "\n",
    "X_train, X_test, y_train, y_test = train_test_split(X, y, test_size=0.3, random_state=42)\n",
    "X_train, X_val, y_train, y_val = train_test_split(X_train, y_train, test_size=0.3, random_state=42)"
   ]
  },
  {
   "cell_type": "code",
   "execution_count": 38,
   "metadata": {},
   "outputs": [
    {
     "name": "stdout",
     "output_type": "stream",
     "text": [
      "AUC_PR SCORE: 0.8376545727060258\n",
      "AUC_PR SCORE: 0.8376545727060258\n",
      "AUC_PR SCORE: 0.8376545727060258\n",
      "AUC_PR SCORE: 0.8380264841555951\n",
      "AUC_PR SCORE: 0.8380264841555951\n",
      "AUC_PR SCORE: 0.8376545727060258\n",
      "AUC_PR SCORE: 0.8614720350006088\n",
      "AUC_PR SCORE: 0.8865877156692249\n",
      "AUC_PR SCORE: 0.910493006340456\n",
      "AUC_PR SCORE: 0.9130505678265889\n",
      "BEST C IS 10.0\n"
     ]
    }
   ],
   "source": [
    "from sklearn.svm import SVC\n",
    "\n",
    "cs = np.logspace(-7, 1, 10)\n",
    "val_scores = []\n",
    "\n",
    "for c in cs:\n",
    "    svc = SVC(kernel='linear', C=c).fit(X_train, y_train)\n",
    "    svc_pred = svc.decision_function(X_val)\n",
    "    auc_pr, auc_roc = get_metrics(y_val, svc_pred)\n",
    "    print('AUC_PR SCORE:', auc_pr)\n",
    "    val_scores.append(auc_pr)\n",
    "\n",
    "max_idx = np.argmax(val_scores)\n",
    "best_c = cs[max_idx]\n",
    "print(f\"BEST C IS {best_c}\")"
   ]
  },
  {
   "cell_type": "code",
   "execution_count": 39,
   "metadata": {},
   "outputs": [],
   "source": [
    "best_svc = SVC(kernel='linear', C=best_c).fit(X, y)"
   ]
  },
  {
   "cell_type": "code",
   "execution_count": 40,
   "metadata": {},
   "outputs": [
    {
     "data": {
      "image/png": "[encoded data removed]",
      "text/plain": [
       "<Figure size 640x480 with 1 Axes>"
      ]
     },
     "metadata": {},
     "output_type": "display_data"
    }
   ],
   "source": [
    "ax = plt.gca()\n",
    "plt.scatter(X[:, 0], X[:, 1], c=y, s=50, cmap='autumn')\n",
    "xlim = ax.get_xlim()\n",
    "ylim = ax.get_ylim()\n",
    "\n",
    "xx = np.linspace(xlim[0], xlim[1], 30)\n",
    "yy = np.linspace(ylim[0], ylim[1], 30)\n",
    "YY, XX = np.meshgrid(yy, xx)\n",
    "xy = np.vstack([XX.ravel(), YY.ravel()]).T\n",
    "Z = best_svc.decision_function(xy).reshape(XX.shape)\n",
    "\n",
    "ax.contour(XX, YY, Z, colors='k', levels=[-1, 0, 1], alpha=1,\n",
    "           linestyles=['--', '-', '--'])\n",
    "\n",
    "ax.scatter(best_svc.support_vectors_[:, 0], best_svc.support_vectors_[:, 1], s=100,\n",
    "           linewidth=1, facecolors='none', edgecolors='k')\n",
    "plt.title(\"SVM line\")\n",
    "plt.xlabel(\"1 feature\")\n",
    "plt.ylabel(\"2 feature\")\n",
    "plt.show()"
   ]
  },
  {
   "cell_type": "markdown",
   "metadata": {},
   "source": [
    "Обведены опорные вектора, сплошная линия -- линия разделения классов, две пунктирные линии -- просто так (-1 и +1 от сплошной)"
   ]
  },
  {
   "cell_type": "markdown",
   "metadata": {
    "id": "gfpVN70PP75U"
   },
   "source": [
    "В отличие от метода опорных векторов, логистическая регрессия не пытается построить разделяющую гиперплоскость с максимальным отступом, а приближает в каждой точке пространства объектов вероятность положительных ответов $p(y=+1|x)$. Попробуйте нарисовать это распределение на плоскости, не забудьте отметить на ней все объекты. Вам может помочь функция `plt.pcolor` ([matplotlib demo](https://matplotlib.org/3.1.1/gallery/images_contours_and_fields/pcolor_demo.html#sphx-glr-gallery-images-contours-and-fields-pcolor-demo-py))."
   ]
  },
  {
   "cell_type": "code",
   "execution_count": 41,
   "metadata": {
    "id": "XJvU2RKDP75U"
   },
   "outputs": [
    {
     "data": {
      "text/plain": [
       "Text(0, 0.5, '2 feature')"
      ]
     },
     "execution_count": 41,
     "metadata": {},
     "output_type": "execute_result"
    },
    {
     "data": {
      "image/png": "[encoded data removed]",
      "text/plain": [
       "<Figure size 800x600 with 2 Axes>"
      ]
     },
     "metadata": {},
     "output_type": "display_data"
    }
   ],
   "source": [
    "clf = LogisticRegression(max_iter=100000, C=0.1).fit(X, y)\n",
    "\n",
    "xx, yy = np.mgrid[-5:5:.01, -5:5:.01]\n",
    "grid = np.c_[xx.ravel(), yy.ravel()]\n",
    "probs = clf.predict_proba(grid)[:, 1].reshape(xx.shape)\n",
    "\n",
    "f, ax = plt.subplots(figsize=(8, 6))\n",
    "contour = ax.contourf(xx, yy, probs, 25, cmap=\"RdBu\",\n",
    "                      vmin=0, vmax=1)\n",
    "ax_c = f.colorbar(contour)\n",
    "ax_c.set_label(\"$P(y = 1)$\")\n",
    "ax_c.set_ticks([0, .25, .5, .75, 1])\n",
    "\n",
    "ax.scatter(X[100:,0], X[100:, 1], c=y[100:], s=50,\n",
    "           cmap=\"RdBu\", vmin=-.2, vmax=1.2,\n",
    "           edgecolor=\"white\", linewidth=1)\n",
    "\n",
    "ax.set(aspect=\"equal\",\n",
    "       xlim=(-5, 5), ylim=(-5, 5),\n",
    "       xlabel=\"$X_1$\", ylabel=\"$X_2$\")\n",
    "\n",
    "plt.title(\"LR lines\")\n",
    "plt.xlabel(\"1 feature\")\n",
    "plt.ylabel(\"2 feature\")"
   ]
  },
  {
   "cell_type": "markdown",
   "metadata": {
    "id": "4VbJR0e3P75U"
   },
   "source": [
    "#### __Задание 2. Калибровка вероятностей__ (1 балл)\n",
    "\n",
    "Перейдём к оценке качества выдаваемых алгоритмами вероятностей. Начнём с калибровочных кривых. \n",
    "\n",
    "Допустим, алгоритм возвращает некоторые числа от нуля до единицы. Хорошо ли они оценивают вероятность? Для этого разобьем отрезок $[0, 1]$ на несколько маленьких отрезков одинаковой длины.\n",
    "\n",
    "Рассмотрим $i$-й отрезок с границами $[a_i, b_i]$ и предсказания $p_1, p_2, \\dots, p_k$, которые попали в него. Пусть им соответствуют истинные ответы $y_1, y_2, \\dots, y_k$. Если алгоритм выдает корректные вероятности, то среди этих истинных ответов должно быть примерно $(a_i + b_i) / 2$ единиц. Иными словами, если нарисовать кривую, у которой по оси X отложены центры отрезков, а по оси Y — доли единичных ответов этих в отрезках, то она должна оказаться диагональной.\n",
    "\n",
    "Ниже приведена функция, которая должна рисовать такие кривые. В ней допущено две ошибки — найдите и исправьте их."
   ]
  },
  {
   "cell_type": "code",
   "execution_count": 42,
   "metadata": {
    "id": "R75uefZuP75V"
   },
   "outputs": [],
   "source": [
    "def plot_calibration_curve(y_test, preds, name):\n",
    "    bin_middle_points = []\n",
    "    bin_real_ratios = []\n",
    "    n_bins = 10\n",
    "    for i in range(n_bins):\n",
    "        l = 1.0 / n_bins * i\n",
    "        r = 1.0 / n_bins * (i + 1)\n",
    "        bin_middle_points.append((l + r) / 2) \n",
    "        bin_real_ratios.append(np.mean(y_test[(preds >= l) & (preds < r)] == 1)) \n",
    "    plt.figure(figsize=(6,6))\n",
    "    plt.plot(bin_middle_points, bin_real_ratios)\n",
    "    plt.ylim([-0.05, 1.05])\n",
    "    plt.grid()\n",
    "    plt.title(name)\n",
    "    plt.xlabel(\"mean predicted probability\")\n",
    "    plt.ylabel(\"fraction of positives\")\n",
    "    plt.show()\n",
    "    "
   ]
  },
  {
   "cell_type": "markdown",
   "metadata": {
    "id": "AvYjnnxSP75V"
   },
   "source": [
    "Сгенерируйте синтетические данные аналогично использованным в самом первом задании. Постройте калибровочные кривые на тестовой части для логистической регрессии и метода опорных векторов (не забудьте перевести его предсказания в $[0;1]$)."
   ]
  },
  {
   "cell_type": "code",
   "execution_count": 43,
   "metadata": {
    "id": "ZTBMyfx4P75W"
   },
   "outputs": [],
   "source": [
    "X, y = make_classification(\n",
    "    n_samples=10000, n_features=10, n_informative=5, n_redundant=5, random_state=42)\n",
    "\n",
    "X_train, X_test, y_train, y_test = train_test_split(X, y, test_size=0.3, random_state=42)\n",
    "X_train, X_val, y_train, y_val = train_test_split(X_train, y_train, test_size=0.3, random_state=42)"
   ]
  },
  {
   "cell_type": "code",
   "execution_count": 44,
   "metadata": {},
   "outputs": [
    {
     "name": "stdout",
     "output_type": "stream",
     "text": [
      "AUC_PR SCORE: 0.792590394304824\n",
      "AUC_PR SCORE: 0.7947832032099267\n",
      "AUC_PR SCORE: 0.8051375392741384\n",
      "AUC_PR SCORE: 0.8088136575344328\n",
      "AUC_PR SCORE: 0.8034041836322449\n",
      "AUC_PR SCORE: 0.8040116393673864\n",
      "AUC_PR SCORE: 0.8041436911280635\n",
      "AUC_PR SCORE: 0.8041840264987943\n",
      "AUC_PR SCORE: 0.804191717546706\n",
      "AUC_PR SCORE: 0.8041927978872535\n",
      "BEST C IS 4.641588833612772e-05\n"
     ]
    }
   ],
   "source": [
    "from sklearn.svm import LinearSVC\n",
    "from sklearn.linear_model import LogisticRegression\n",
    "\n",
    "cs = np.logspace(-7, 1, 10)\n",
    "val_scores = []\n",
    "\n",
    "for c in cs:\n",
    "    svc = LinearSVC(max_iter=100000, C=c).fit(X_train, y_train)\n",
    "    svc_pred = svc.decision_function(X_val)\n",
    "    auc_pr, auc_roc = get_metrics(y_val, svc_pred)\n",
    "    print('AUC_PR SCORE:', auc_pr)\n",
    "    val_scores.append(auc_pr)\n",
    "\n",
    "max_idx = np.argmax(val_scores)\n",
    "best_c = cs[max_idx]\n",
    "print(f\"BEST C IS {best_c}\")\n",
    "best_svc = LinearSVC(max_iter=100000, C=best_c).fit(X_train, y_train)"
   ]
  },
  {
   "cell_type": "code",
   "execution_count": 45,
   "metadata": {},
   "outputs": [
    {
     "name": "stdout",
     "output_type": "stream",
     "text": [
      "AUC_PR SCORE: 0.7922281769495478\n",
      "AUC_PR SCORE: 0.7922281769495478\n",
      "AUC_PR SCORE: 0.7922281769495478\n",
      "AUC_PR SCORE: 0.7922281769495478\n",
      "AUC_PR SCORE: 0.7922281769495478\n",
      "AUC_PR SCORE: 0.7922281769495478\n",
      "AUC_PR SCORE: 0.7922281769495478\n",
      "AUC_PR SCORE: 0.7922281769495478\n",
      "AUC_PR SCORE: 0.7921124681283837\n",
      "AUC_PR SCORE: 0.7921109906677094\n",
      "AUC_PR SCORE: 0.7921079690068604\n",
      "AUC_PR SCORE: 0.7921047958649818\n",
      "AUC_PR SCORE: 0.7921773519169153\n",
      "AUC_PR SCORE: 0.7929789824935198\n",
      "AUC_PR SCORE: 0.8003429002921868\n",
      "AUC_PR SCORE: 0.8131816340815243\n",
      "AUC_PR SCORE: 0.805891923442223\n",
      "AUC_PR SCORE: 0.8033517539019874\n",
      "AUC_PR SCORE: 0.8031697127545699\n",
      "AUC_PR SCORE: 0.8031648265819306\n",
      "BEST C IS 0.00037926901907322694\n"
     ]
    }
   ],
   "source": [
    "cs = np.logspace(-20, 1, 20)\n",
    "val_scores = []\n",
    "\n",
    "for c in cs:\n",
    "    lr = LogisticRegression(max_iter=100000, C=c).fit(X_train, y_train)\n",
    "    val_pred = lr.decision_function(X_val)\n",
    "    auc_pr, auc_roc = get_metrics(y_val, val_pred)\n",
    "    print('AUC_PR SCORE:', auc_pr)\n",
    "    val_scores.append(auc_pr)\n",
    "\n",
    "max_idx = np.argmax(val_scores)\n",
    "best_c = cs[max_idx]\n",
    "print(f\"BEST C IS {best_c}\")\n",
    "best_lr = LogisticRegression(max_iter=100000, C=best_c).fit(X_train, y_train)"
   ]
  },
  {
   "cell_type": "code",
   "execution_count": 46,
   "metadata": {},
   "outputs": [
    {
     "data": {
      "image/png": "[encoded data removed]",
      "text/plain": [
       "<Figure size 600x600 with 1 Axes>"
      ]
     },
     "metadata": {},
     "output_type": "display_data"
    },
    {
     "data": {
      "image/png": "[encoded data removed]",
      "text/plain": [
       "<Figure size 600x600 with 1 Axes>"
      ]
     },
     "metadata": {},
     "output_type": "display_data"
    }
   ],
   "source": [
    "plot_calibration_curve(y_test, best_lr.predict_proba(X_test)[:, 1], \"LR curve\")\n",
    "\n",
    "svc_pred =  best_svc.decision_function(X_test)\n",
    "svc_pred = (svc_pred - svc_pred.min()) / (svc_pred.max() - svc_pred.min())\n",
    "plot_calibration_curve(y_test, svc_pred, \"SVC curve\")"
   ]
  },
  {
   "cell_type": "markdown",
   "metadata": {
    "id": "8zwmGLkyIBxU"
   },
   "source": [
    "Изучите распределение ответов классификаторов (постройте гистограммы с помощью `plt.hist`)."
   ]
  },
  {
   "cell_type": "code",
   "execution_count": 47,
   "metadata": {
    "id": "IaDLxkpxIDVV"
   },
   "outputs": [
    {
     "data": {
      "image/png": "[encoded data removed]",
      "text/plain": [
       "<Figure size 640x480 with 1 Axes>"
      ]
     },
     "metadata": {},
     "output_type": "display_data"
    }
   ],
   "source": [
    "plt.hist(best_svc.decision_function(X_test), bins=50)\n",
    "plt.title(\"SVC dist\")\n",
    "plt.xlabel(\"score\")\n",
    "plt.ylabel(\"quantity\")\n",
    "plt.show()"
   ]
  },
  {
   "cell_type": "code",
   "execution_count": 48,
   "metadata": {},
   "outputs": [
    {
     "data": {
      "image/png": "[encoded data removed]",
      "text/plain": [
       "<Figure size 640x480 with 1 Axes>"
      ]
     },
     "metadata": {},
     "output_type": "display_data"
    }
   ],
   "source": [
    "plt.hist(best_lr.decision_function(X_test), bins=50)\n",
    "plt.title(\"LR dist\")\n",
    "plt.xlabel(\"score\")\n",
    "plt.ylabel(\"quantity\")\n",
    "plt.show()"
   ]
  },
  {
   "cell_type": "markdown",
   "metadata": {
    "id": "KH3u2pVNEYmJ"
   },
   "source": [
    "\n",
    "Чем они различаются? Чем вы можете объяснить это?\n",
    "\n",
    "Ответ: В целом видно, что оба распределения похожи между собой и похожи на нормальное. Отличие следующее: у LR больше отрезок возможных значений. Мне кажется, это связано с тем, что LR предсказывает нам логиты, которые надо бы запихнуть в сигмоиду, поэтому ему важно уметь выражать разные степени уверенности, а для этого хорошо, когда больше значений принимается, а SVC по существу важен знак скалярного произведения с весами, поэтому разброс поменьше"
   ]
  },
  {
   "cell_type": "markdown",
   "metadata": {
    "id": "M9-6ClfaP75W"
   },
   "source": [
    "Воспользуйтесь `CalibratedClassifierCV` из `sklearn` для калибровки вероятностей метода опорных векторов на обучении и постройте с его помощью предсказания для тестовой выборки. Нарисуйте для них калибровочную кривую. Улучшилась ли она?"
   ]
  },
  {
   "cell_type": "code",
   "execution_count": 49,
   "metadata": {
    "id": "RR3pVlSNP75W"
   },
   "outputs": [],
   "source": [
    "from sklearn.calibration import CalibratedClassifierCV\n",
    "sigmoid_svc = CalibratedClassifierCV(best_svc, cv=3, method='sigmoid').fit(X_train, y_train)\n",
    "sigmoid_svc_pred = sigmoid_svc.predict_proba(X_test)[:, 1]"
   ]
  },
  {
   "cell_type": "code",
   "execution_count": 50,
   "metadata": {},
   "outputs": [
    {
     "data": {
      "image/png": "[encoded data removed]",
      "text/plain": [
       "<Figure size 600x600 with 1 Axes>"
      ]
     },
     "metadata": {},
     "output_type": "display_data"
    }
   ],
   "source": [
    "plot_calibration_curve(y_test, sigmoid_svc_pred, \"SVC curve\")"
   ]
  },
  {
   "cell_type": "markdown",
   "metadata": {},
   "source": [
    "Да, видим, что кривая сильно улучшилась, супер"
   ]
  },
  {
   "cell_type": "markdown",
   "metadata": {
    "id": "p2dpbXgoP75X"
   },
   "source": [
    "##### __Бонус: Авторское решение__ (0.5 балла)\n",
    "\n",
    "Реализуйте свою функцию для калибровки вероятностей, используя любой из известных подходов. Кратко опишите ваш подход и продемонстрируйте результаты. Ключевые слова для вдохновения: `Platt`, `Isotonic`."
   ]
  },
  {
   "cell_type": "code",
   "execution_count": 51,
   "metadata": {
    "id": "R8mtQgBJP75X"
   },
   "outputs": [],
   "source": [
    "#your code here"
   ]
  },
  {
   "cell_type": "markdown",
   "metadata": {
    "id": "FaOVU4vJP75X"
   },
   "source": [
    "# Часть 2. Обработка категориальных переменных"
   ]
  },
  {
   "cell_type": "markdown",
   "metadata": {
    "id": "8KQ9ywUEP75X"
   },
   "source": [
    "Как мы знаем, перекодировать категориальную переменную в список чисел (к примеру 1, 2, 3, ..., n) плохо, поскольку это бы задало на множестве ее значений некоторый порядок, не имеющий смысла. \n",
    "\n",
    "В этой части мы рассмотрим два основных способа обработки категориальных значений:\n",
    "- One-hot-кодирование\n",
    "- Счётчики (CTR, mean-target кодирование, ...) — каждый категориальный признак заменяется на среднее значение целевой переменной по всем объектам, имеющим одинаковое значение в этом признаке.\n",
    "\n",
    "Начнём с one-hot-кодирования. Допустим наш категориальный признак $f_j(x)$ принимает значения из множества $C=\\{c_1, \\dots, c_m\\}$. Заменим его на $m$ бинарных признаков $b_1(x), \\dots, b_m(x)$, каждый из которых является индикатором одного из возможных категориальных значений:\n",
    "$$\n",
    "b_i(x) = [f_j(x) = c_i]\n",
    "$$"
   ]
  },
  {
   "cell_type": "markdown",
   "metadata": {
    "id": "pPsScraBP75Y"
   },
   "source": [
    "#### __Подготовка данных__\n",
    "\n",
    "(бесценный шаг)\n",
    "\n",
    "Загрузим данные [UCI Adult Dataset](https://archive.ics.uci.edu/ml/datasets/Adult). Этот набор данных содержит информацию о годовых доходах отдельных людей. В качестве признакового описания используется различная информация о человеке (образование, профессия, брачный статус и т.д.). Целевая переменная является бинарной: больше ли годовой доход 50K долларов или нет. "
   ]
  },
  {
   "cell_type": "code",
   "execution_count": 5,
   "metadata": {
    "id": "KqM6MJHCWRAg"
   },
   "outputs": [
    {
     "name": "stdout",
     "output_type": "stream",
     "text": [
      "--2022-11-21 16:00:05--  https://archive.ics.uci.edu/ml/machine-learning-databases/adult/adult.data\n",
      "Распознаётся archive.ics.uci.edu (archive.ics.uci.edu)… 128.195.10.252\n",
      "Подключение к archive.ics.uci.edu (archive.ics.uci.edu)|128.195.10.252|:443... соединение установлено.\n",
      "HTTP-запрос отправлен. Ожидание ответа… 200 OK\n",
      "Длина: 3974305 (3,8M) [application/x-httpd-php]\n",
      "Сохранение в: «adult.data.2»\n",
      "\n",
      "adult.data.2        100%[===================>]   3,79M   652KB/s    за 7,9s    \n",
      "\n",
      "2022-11-21 16:00:14 (493 KB/s) - «adult.data.2» сохранён [3974305/3974305]\n",
      "\n"
     ]
    }
   ],
   "source": [
    "!wget https://archive.ics.uci.edu/ml/machine-learning-databases/adult/adult.data"
   ]
  },
  {
   "cell_type": "code",
   "execution_count": 52,
   "metadata": {
    "id": "U7l7U7xTWO8l"
   },
   "outputs": [],
   "source": [
    "columns = ['age', 'workclass', 'fnlwgt', 'education', \n",
    "           'education-num', 'marital-status', 'occupation',\n",
    "           'relationship', 'race', 'sex', 'capital-gain', \n",
    "           'capital-loss', 'hours-per-week', 'native-country',\n",
    "           'income']\n",
    "\n",
    "df = pd.read_csv('adult.data', header=None, names=columns)\n",
    "df['income'] = (df['income'] != \" <=50K\").astype('int32')"
   ]
  },
  {
   "cell_type": "code",
   "execution_count": 53,
   "metadata": {
    "id": "zvNOSMmf32Q8"
   },
   "outputs": [
    {
     "data": {
      "text/html": [
       "<div>\n",
       "<style scoped>\n",
       "    .dataframe tbody tr th:only-of-type {\n",
       "        vertical-align: middle;\n",
       "    }\n",
       "\n",
       "    .dataframe tbody tr th {\n",
       "        vertical-align: top;\n",
       "    }\n",
       "\n",
       "    .dataframe thead th {\n",
       "        text-align: right;\n",
       "    }\n",
       "</style>\n",
       "<table border=\"1\" class=\"dataframe\">\n",
       "  <thead>\n",
       "    <tr style=\"text-align: right;\">\n",
       "      <th></th>\n",
       "      <th>age</th>\n",
       "      <th>workclass</th>\n",
       "      <th>fnlwgt</th>\n",
       "      <th>education</th>\n",
       "      <th>education-num</th>\n",
       "      <th>marital-status</th>\n",
       "      <th>occupation</th>\n",
       "      <th>relationship</th>\n",
       "      <th>race</th>\n",
       "      <th>sex</th>\n",
       "      <th>capital-gain</th>\n",
       "      <th>capital-loss</th>\n",
       "      <th>hours-per-week</th>\n",
       "      <th>native-country</th>\n",
       "      <th>income</th>\n",
       "    </tr>\n",
       "  </thead>\n",
       "  <tbody>\n",
       "    <tr>\n",
       "      <th>0</th>\n",
       "      <td>39</td>\n",
       "      <td>State-gov</td>\n",
       "      <td>77516</td>\n",
       "      <td>Bachelors</td>\n",
       "      <td>13</td>\n",
       "      <td>Never-married</td>\n",
       "      <td>Adm-clerical</td>\n",
       "      <td>Not-in-family</td>\n",
       "      <td>White</td>\n",
       "      <td>Male</td>\n",
       "      <td>2174</td>\n",
       "      <td>0</td>\n",
       "      <td>40</td>\n",
       "      <td>United-States</td>\n",
       "      <td>0</td>\n",
       "    </tr>\n",
       "    <tr>\n",
       "      <th>1</th>\n",
       "      <td>50</td>\n",
       "      <td>Self-emp-not-inc</td>\n",
       "      <td>83311</td>\n",
       "      <td>Bachelors</td>\n",
       "      <td>13</td>\n",
       "      <td>Married-civ-spouse</td>\n",
       "      <td>Exec-managerial</td>\n",
       "      <td>Husband</td>\n",
       "      <td>White</td>\n",
       "      <td>Male</td>\n",
       "      <td>0</td>\n",
       "      <td>0</td>\n",
       "      <td>13</td>\n",
       "      <td>United-States</td>\n",
       "      <td>0</td>\n",
       "    </tr>\n",
       "    <tr>\n",
       "      <th>2</th>\n",
       "      <td>38</td>\n",
       "      <td>Private</td>\n",
       "      <td>215646</td>\n",
       "      <td>HS-grad</td>\n",
       "      <td>9</td>\n",
       "      <td>Divorced</td>\n",
       "      <td>Handlers-cleaners</td>\n",
       "      <td>Not-in-family</td>\n",
       "      <td>White</td>\n",
       "      <td>Male</td>\n",
       "      <td>0</td>\n",
       "      <td>0</td>\n",
       "      <td>40</td>\n",
       "      <td>United-States</td>\n",
       "      <td>0</td>\n",
       "    </tr>\n",
       "    <tr>\n",
       "      <th>3</th>\n",
       "      <td>53</td>\n",
       "      <td>Private</td>\n",
       "      <td>234721</td>\n",
       "      <td>11th</td>\n",
       "      <td>7</td>\n",
       "      <td>Married-civ-spouse</td>\n",
       "      <td>Handlers-cleaners</td>\n",
       "      <td>Husband</td>\n",
       "      <td>Black</td>\n",
       "      <td>Male</td>\n",
       "      <td>0</td>\n",
       "      <td>0</td>\n",
       "      <td>40</td>\n",
       "      <td>United-States</td>\n",
       "      <td>0</td>\n",
       "    </tr>\n",
       "    <tr>\n",
       "      <th>4</th>\n",
       "      <td>28</td>\n",
       "      <td>Private</td>\n",
       "      <td>338409</td>\n",
       "      <td>Bachelors</td>\n",
       "      <td>13</td>\n",
       "      <td>Married-civ-spouse</td>\n",
       "      <td>Prof-specialty</td>\n",
       "      <td>Wife</td>\n",
       "      <td>Black</td>\n",
       "      <td>Female</td>\n",
       "      <td>0</td>\n",
       "      <td>0</td>\n",
       "      <td>40</td>\n",
       "      <td>Cuba</td>\n",
       "      <td>0</td>\n",
       "    </tr>\n",
       "    <tr>\n",
       "      <th>...</th>\n",
       "      <td>...</td>\n",
       "      <td>...</td>\n",
       "      <td>...</td>\n",
       "      <td>...</td>\n",
       "      <td>...</td>\n",
       "      <td>...</td>\n",
       "      <td>...</td>\n",
       "      <td>...</td>\n",
       "      <td>...</td>\n",
       "      <td>...</td>\n",
       "      <td>...</td>\n",
       "      <td>...</td>\n",
       "      <td>...</td>\n",
       "      <td>...</td>\n",
       "      <td>...</td>\n",
       "    </tr>\n",
       "    <tr>\n",
       "      <th>32556</th>\n",
       "      <td>27</td>\n",
       "      <td>Private</td>\n",
       "      <td>257302</td>\n",
       "      <td>Assoc-acdm</td>\n",
       "      <td>12</td>\n",
       "      <td>Married-civ-spouse</td>\n",
       "      <td>Tech-support</td>\n",
       "      <td>Wife</td>\n",
       "      <td>White</td>\n",
       "      <td>Female</td>\n",
       "      <td>0</td>\n",
       "      <td>0</td>\n",
       "      <td>38</td>\n",
       "      <td>United-States</td>\n",
       "      <td>0</td>\n",
       "    </tr>\n",
       "    <tr>\n",
       "      <th>32557</th>\n",
       "      <td>40</td>\n",
       "      <td>Private</td>\n",
       "      <td>154374</td>\n",
       "      <td>HS-grad</td>\n",
       "      <td>9</td>\n",
       "      <td>Married-civ-spouse</td>\n",
       "      <td>Machine-op-inspct</td>\n",
       "      <td>Husband</td>\n",
       "      <td>White</td>\n",
       "      <td>Male</td>\n",
       "      <td>0</td>\n",
       "      <td>0</td>\n",
       "      <td>40</td>\n",
       "      <td>United-States</td>\n",
       "      <td>1</td>\n",
       "    </tr>\n",
       "    <tr>\n",
       "      <th>32558</th>\n",
       "      <td>58</td>\n",
       "      <td>Private</td>\n",
       "      <td>151910</td>\n",
       "      <td>HS-grad</td>\n",
       "      <td>9</td>\n",
       "      <td>Widowed</td>\n",
       "      <td>Adm-clerical</td>\n",
       "      <td>Unmarried</td>\n",
       "      <td>White</td>\n",
       "      <td>Female</td>\n",
       "      <td>0</td>\n",
       "      <td>0</td>\n",
       "      <td>40</td>\n",
       "      <td>United-States</td>\n",
       "      <td>0</td>\n",
       "    </tr>\n",
       "    <tr>\n",
       "      <th>32559</th>\n",
       "      <td>22</td>\n",
       "      <td>Private</td>\n",
       "      <td>201490</td>\n",
       "      <td>HS-grad</td>\n",
       "      <td>9</td>\n",
       "      <td>Never-married</td>\n",
       "      <td>Adm-clerical</td>\n",
       "      <td>Own-child</td>\n",
       "      <td>White</td>\n",
       "      <td>Male</td>\n",
       "      <td>0</td>\n",
       "      <td>0</td>\n",
       "      <td>20</td>\n",
       "      <td>United-States</td>\n",
       "      <td>0</td>\n",
       "    </tr>\n",
       "    <tr>\n",
       "      <th>32560</th>\n",
       "      <td>52</td>\n",
       "      <td>Self-emp-inc</td>\n",
       "      <td>287927</td>\n",
       "      <td>HS-grad</td>\n",
       "      <td>9</td>\n",
       "      <td>Married-civ-spouse</td>\n",
       "      <td>Exec-managerial</td>\n",
       "      <td>Wife</td>\n",
       "      <td>White</td>\n",
       "      <td>Female</td>\n",
       "      <td>15024</td>\n",
       "      <td>0</td>\n",
       "      <td>40</td>\n",
       "      <td>United-States</td>\n",
       "      <td>1</td>\n",
       "    </tr>\n",
       "  </tbody>\n",
       "</table>\n",
       "<p>32561 rows × 15 columns</p>\n",
       "</div>"
      ],
      "text/plain": [
       "       age          workclass  fnlwgt    education  education-num  \\\n",
       "0       39          State-gov   77516    Bachelors             13   \n",
       "1       50   Self-emp-not-inc   83311    Bachelors             13   \n",
       "2       38            Private  215646      HS-grad              9   \n",
       "3       53            Private  234721         11th              7   \n",
       "4       28            Private  338409    Bachelors             13   \n",
       "...    ...                ...     ...          ...            ...   \n",
       "32556   27            Private  257302   Assoc-acdm             12   \n",
       "32557   40            Private  154374      HS-grad              9   \n",
       "32558   58            Private  151910      HS-grad              9   \n",
       "32559   22            Private  201490      HS-grad              9   \n",
       "32560   52       Self-emp-inc  287927      HS-grad              9   \n",
       "\n",
       "            marital-status          occupation    relationship    race  \\\n",
       "0            Never-married        Adm-clerical   Not-in-family   White   \n",
       "1       Married-civ-spouse     Exec-managerial         Husband   White   \n",
       "2                 Divorced   Handlers-cleaners   Not-in-family   White   \n",
       "3       Married-civ-spouse   Handlers-cleaners         Husband   Black   \n",
       "4       Married-civ-spouse      Prof-specialty            Wife   Black   \n",
       "...                    ...                 ...             ...     ...   \n",
       "32556   Married-civ-spouse        Tech-support            Wife   White   \n",
       "32557   Married-civ-spouse   Machine-op-inspct         Husband   White   \n",
       "32558              Widowed        Adm-clerical       Unmarried   White   \n",
       "32559        Never-married        Adm-clerical       Own-child   White   \n",
       "32560   Married-civ-spouse     Exec-managerial            Wife   White   \n",
       "\n",
       "           sex  capital-gain  capital-loss  hours-per-week  native-country  \\\n",
       "0         Male          2174             0              40   United-States   \n",
       "1         Male             0             0              13   United-States   \n",
       "2         Male             0             0              40   United-States   \n",
       "3         Male             0             0              40   United-States   \n",
       "4       Female             0             0              40            Cuba   \n",
       "...        ...           ...           ...             ...             ...   \n",
       "32556   Female             0             0              38   United-States   \n",
       "32557     Male             0             0              40   United-States   \n",
       "32558   Female             0             0              40   United-States   \n",
       "32559     Male             0             0              20   United-States   \n",
       "32560   Female         15024             0              40   United-States   \n",
       "\n",
       "       income  \n",
       "0           0  \n",
       "1           0  \n",
       "2           0  \n",
       "3           0  \n",
       "4           0  \n",
       "...       ...  \n",
       "32556       0  \n",
       "32557       1  \n",
       "32558       0  \n",
       "32559       0  \n",
       "32560       1  \n",
       "\n",
       "[32561 rows x 15 columns]"
      ]
     },
     "execution_count": 53,
     "metadata": {},
     "output_type": "execute_result"
    }
   ],
   "source": [
    "df"
   ]
  },
  {
   "cell_type": "markdown",
   "metadata": {
    "id": "VaiObso6IEfd"
   },
   "source": [
    "Разделите выборку на обучающую и тестовую в соотношении 3:1. Зафиксируйте `random_state=777`, также используйте `stratify`. "
   ]
  },
  {
   "cell_type": "code",
   "execution_count": 54,
   "metadata": {
    "id": "QIYErZMnP75Z"
   },
   "outputs": [],
   "source": [
    "X_train, X_test, y_train, y_test = train_test_split(df.loc[:, \"age\" :\"native-country\"], df['income'], test_size=0.25, random_state=777, stratify=df['income'])"
   ]
  },
  {
   "cell_type": "markdown",
   "metadata": {
    "id": "m5LjHkuCP75Z"
   },
   "source": [
    "#### __Задание 3. OrdinalEncoder__  (0.5 балла)\n",
    "\n",
    "Закодируйте категориальные признаки с помощью `OrdinalEncoder`, а числовые признаки нормализуйте с помощью `StandardScaler`. Посчитайте качество (в этом задании будем работать c __`AUC-PR`__) при применении логистической регрессии. Замерьте время, потребовавшееся на обучение модели, с учетом кодирования признаков."
   ]
  },
  {
   "cell_type": "code",
   "execution_count": 55,
   "metadata": {},
   "outputs": [],
   "source": [
    "categorical = ['workclass', 'education', \n",
    "           'education-num', 'marital-status', 'occupation',\n",
    "           'relationship', 'race', 'sex', 'native-country']\n",
    "\n",
    "numeric = ['age',  'fnlwgt', 'capital-gain', \n",
    "           'capital-loss', 'hours-per-week']"
   ]
  },
  {
   "cell_type": "code",
   "execution_count": 56,
   "metadata": {
    "id": "bdZT2tXXP75a"
   },
   "outputs": [
    {
     "name": "stdout",
     "output_type": "stream",
     "text": [
      "Encoding + learning time : 1.201378 seconds\n"
     ]
    }
   ],
   "source": [
    "from sklearn.preprocessing import OrdinalEncoder, OneHotEncoder\n",
    "from sklearn.compose import ColumnTransformer\n",
    "from sklearn.preprocessing import StandardScaler\n",
    "from sklearn.pipeline import Pipeline\n",
    "from datetime import datetime\n",
    "\n",
    "column_transformer = ColumnTransformer([\n",
    "    ('ohe', OrdinalEncoder(), categorical),\n",
    "    ('scaling', StandardScaler(), numeric)\n",
    "])\n",
    "\n",
    "pipeline = Pipeline(steps=[\n",
    "    ('ohe_and_scaling', column_transformer),\n",
    "    ('regression', LogisticRegression(max_iter=100000))\n",
    "])\n",
    "\n",
    "begin = datetime.now()\n",
    "model = pipeline.fit(X_train, y_train)\n",
    "print(f\"Encoding + learning time : {(datetime.now() - begin).total_seconds()} seconds\")\n",
    "y_pred = model.predict(X_test)"
   ]
  },
  {
   "cell_type": "code",
   "execution_count": 57,
   "metadata": {},
   "outputs": [
    {
     "name": "stdout",
     "output_type": "stream",
     "text": [
      "AUC PR : 0.6401982820216694\n"
     ]
    }
   ],
   "source": [
    "auc_pr, auc_roc = get_metrics(y_test, y_pred)\n",
    "print(f\"AUC PR : {auc_pr}\")"
   ]
  },
  {
   "cell_type": "code",
   "execution_count": 58,
   "metadata": {},
   "outputs": [
    {
     "name": "stdout",
     "output_type": "stream",
     "text": [
      "Доля людей с достатком < 50 : 0.7591728091728092\n"
     ]
    }
   ],
   "source": [
    "print(f\"Доля людей с достатком < 50 : {len(y_train[y_train == 0]) / len(y_train)}\")"
   ]
  },
  {
   "cell_type": "markdown",
   "metadata": {
    "id": "TRXYxCSmP75Z"
   },
   "source": [
    "__Вопрос__: почему в данном задании мы выбрали метрикой именно `AUC-PR`, а не, к примеру, `AUC-ROC`?\n",
    "\n",
    "__Ответ__:  Видим, что у нас есть дисбаланс в классах: доля людей с достатком меньше 50 тыс сильно больше, поэтому нам нужно использовать метрику, которая более устойчива к дисбалансу классов, а это как раз AUC-PR, так как PR кривая по осям имеет precision и recall, то там как бы не учитываются TN (true negative), а это хорошо, потому что нам важнее разобраться именно с хорошим предсказанием положительного класса (вообще на семинарах обсуждали это)"
   ]
  },
  {
   "cell_type": "markdown",
   "metadata": {
    "id": "ScIo7NthP75a"
   },
   "source": [
    "#### __Задание 4. One-Hot Encoding__ (0.5 балла)\n",
    "\n"
   ]
  },
  {
   "cell_type": "markdown",
   "metadata": {
    "id": "p3sFuKAtLwOx"
   },
   "source": [
    "Закодируйте все категориальные признаки с помощью one-hot-кодирования. Обучите логистическую регрессию и посмотрите, как изменилось качество модели (в сравнении с тем, что было до кодирования). Измерьте время, потребовавшееся на кодирование категориальных признаков и обучение модели."
   ]
  },
  {
   "cell_type": "code",
   "execution_count": 64,
   "metadata": {
    "id": "t4PbjLIHP75a"
   },
   "outputs": [
    {
     "name": "stdout",
     "output_type": "stream",
     "text": [
      "Encoding + learning time : 1.278482 seconds\n"
     ]
    }
   ],
   "source": [
    "from sklearn.preprocessing import OrdinalEncoder, OneHotEncoder\n",
    "from sklearn.compose import ColumnTransformer\n",
    "from sklearn.preprocessing import StandardScaler\n",
    "from sklearn.pipeline import Pipeline\n",
    "from datetime import datetime\n",
    "\n",
    "column_transformer = ColumnTransformer([\n",
    "    ('ohe', OneHotEncoder(), categorical),\n",
    "    ('scaling', StandardScaler(), numeric)\n",
    "])\n",
    "\n",
    "pipeline = Pipeline(steps=[\n",
    "    ('ohe_and_scaling', column_transformer),\n",
    "    ('regression', LogisticRegression(max_iter=100000))\n",
    "])\n",
    "\n",
    "begin = datetime.now()\n",
    "model = pipeline.fit(X_train, y_train)\n",
    "print(f\"Encoding + learning time : {(datetime.now() - begin).total_seconds()} seconds\")\n",
    "y_pred = model.predict(X_test)"
   ]
  },
  {
   "cell_type": "code",
   "execution_count": 62,
   "metadata": {},
   "outputs": [
    {
     "name": "stdout",
     "output_type": "stream",
     "text": [
      "AUC PR : 0.7188541128820272\n"
     ]
    }
   ],
   "source": [
    "auc_pr, auc_roc = get_metrics(y_test, y_pred)\n",
    "print(f\"AUC PR : {auc_pr}\")"
   ]
  },
  {
   "cell_type": "markdown",
   "metadata": {},
   "source": [
    " Видим, что целевая метрика ощутимо выросла, отлично! "
   ]
  },
  {
   "cell_type": "markdown",
   "metadata": {
    "id": "9p-qOs6lP75b"
   },
   "source": [
    "Как можно заметить, one-hot-кодирование может сильно увеличивать количество признаков. Это сказывается на объеме необходимой памяти, особенно, если некоторый признак имеет большое количество значений.\n"
   ]
  },
  {
   "cell_type": "markdown",
   "metadata": {
    "id": "l1q3k3yaLF8Y"
   },
   "source": [
    "#### __Задание 5. Mean-target Encoding__ (1 балл)"
   ]
  },
  {
   "cell_type": "markdown",
   "metadata": {
    "id": "tanu5Hm5Lr7R"
   },
   "source": [
    "> Проблемы разрастания числа признаков можно избежать в другом способе кодирования категориальных признаков — mean-target encoding (для простоты будем называть это __счётчиками__). Сравним эффективность методов в рамках нашей маркетинговой задачи.\n",
    "\n",
    "> Основная идея в том, что важны не сами категории, а значения целевой переменной, которые имеют объекты этой категории. Каждый категориальный признак мы заменим средним значением целевой переменной по всем объектам этой же категории:\n",
    "$$\n",
    "g_j(x, X) = \\frac{\\sum_{i=1}^{\\ell} [f_j(x) = f_j(x_i)][y_i = +1]}{\\sum_{i=1}^{\\ell} [f_j(x) = f_j(x_i)]}\n",
    "$$\n",
    "\n",
    "Закодируйте категориальные переменные с помощью счётчиков (ровно так, как описано выше, без каких-либо хитростей). Обучите логистическую регрессию и посмотрите на качество модели на тестовом множестве.\n",
    "\n",
    "Сравните время обучения с предыдущими экспериментами (с учетом кодирования признаков)."
   ]
  },
  {
   "cell_type": "code",
   "execution_count": 69,
   "metadata": {},
   "outputs": [
    {
     "name": "stdout",
     "output_type": "stream",
     "text": [
      "Requirement already satisfied: category_encoders in /Library/Frameworks/Python.framework/Versions/3.10/lib/python3.10/site-packages (2.5.1.post0)\n",
      "Requirement already satisfied: scipy>=1.0.0 in /Library/Frameworks/Python.framework/Versions/3.10/lib/python3.10/site-packages (from category_encoders) (1.9.2)\n",
      "Requirement already satisfied: pandas>=1.0.5 in /Library/Frameworks/Python.framework/Versions/3.10/lib/python3.10/site-packages (from category_encoders) (1.5.0)\n",
      "Requirement already satisfied: patsy>=0.5.1 in /Library/Frameworks/Python.framework/Versions/3.10/lib/python3.10/site-packages (from category_encoders) (0.5.3)\n",
      "Requirement already satisfied: scikit-learn>=0.20.0 in /Library/Frameworks/Python.framework/Versions/3.10/lib/python3.10/site-packages (from category_encoders) (1.1.2)\n",
      "Requirement already satisfied: numpy>=1.14.0 in /Library/Frameworks/Python.framework/Versions/3.10/lib/python3.10/site-packages (from category_encoders) (1.23.3)\n",
      "Requirement already satisfied: statsmodels>=0.9.0 in /Library/Frameworks/Python.framework/Versions/3.10/lib/python3.10/site-packages (from category_encoders) (0.13.5)\n",
      "Requirement already satisfied: python-dateutil>=2.8.1 in /Users/ivanbondyrev/Library/Python/3.10/lib/python/site-packages (from pandas>=1.0.5->category_encoders) (2.8.2)\n",
      "Requirement already satisfied: pytz>=2020.1 in /Library/Frameworks/Python.framework/Versions/3.10/lib/python3.10/site-packages (from pandas>=1.0.5->category_encoders) (2022.4)\n",
      "Requirement already satisfied: six in /Users/ivanbondyrev/Library/Python/3.10/lib/python/site-packages (from patsy>=0.5.1->category_encoders) (1.16.0)\n",
      "Requirement already satisfied: joblib>=1.0.0 in /Library/Frameworks/Python.framework/Versions/3.10/lib/python3.10/site-packages (from scikit-learn>=0.20.0->category_encoders) (1.2.0)\n",
      "Requirement already satisfied: threadpoolctl>=2.0.0 in /Library/Frameworks/Python.framework/Versions/3.10/lib/python3.10/site-packages (from scikit-learn>=0.20.0->category_encoders) (3.1.0)\n",
      "Requirement already satisfied: packaging>=21.3 in /Users/ivanbondyrev/Library/Python/3.10/lib/python/site-packages (from statsmodels>=0.9.0->category_encoders) (21.3)\n",
      "Requirement already satisfied: pyparsing!=3.0.5,>=2.0.2 in /Users/ivanbondyrev/Library/Python/3.10/lib/python/site-packages (from packaging>=21.3->statsmodels>=0.9.0->category_encoders) (3.0.9)\n",
      "--- Logging error ---\n",
      "Traceback (most recent call last):\n",
      "  File \"/Library/Frameworks/Python.framework/Versions/3.10/lib/python3.10/site-packages/pip/_internal/utils/logging.py\", line 177, in emit\n",
      "    self.console.print(renderable, overflow=\"ignore\", crop=False, style=style)\n",
      "  File \"/Library/Frameworks/Python.framework/Versions/3.10/lib/python3.10/site-packages/pip/_vendor/rich/console.py\", line 1673, in print\n",
      "    extend(render(renderable, render_options))\n",
      "  File \"/Library/Frameworks/Python.framework/Versions/3.10/lib/python3.10/site-packages/pip/_vendor/rich/console.py\", line 1305, in render\n",
      "    for render_output in iter_render:\n",
      "  File \"/Library/Frameworks/Python.framework/Versions/3.10/lib/python3.10/site-packages/pip/_internal/utils/logging.py\", line 134, in __rich_console__\n",
      "    for line in lines:\n",
      "  File \"/Library/Frameworks/Python.framework/Versions/3.10/lib/python3.10/site-packages/pip/_vendor/rich/segment.py\", line 249, in split_lines\n",
      "    for segment in segments:\n",
      "  File \"/Library/Frameworks/Python.framework/Versions/3.10/lib/python3.10/site-packages/pip/_vendor/rich/console.py\", line 1283, in render\n",
      "    renderable = rich_cast(renderable)\n",
      "  File \"/Library/Frameworks/Python.framework/Versions/3.10/lib/python3.10/site-packages/pip/_vendor/rich/protocol.py\", line 36, in rich_cast\n",
      "    renderable = cast_method()\n",
      "  File \"/Library/Frameworks/Python.framework/Versions/3.10/lib/python3.10/site-packages/pip/_internal/self_outdated_check.py\", line 130, in __rich__\n",
      "    pip_cmd = get_best_invocation_for_this_pip()\n",
      "  File \"/Library/Frameworks/Python.framework/Versions/3.10/lib/python3.10/site-packages/pip/_internal/utils/entrypoints.py\", line 58, in get_best_invocation_for_this_pip\n",
      "    if found_executable and os.path.samefile(\n",
      "  File \"/Library/Frameworks/Python.framework/Versions/3.10/lib/python3.10/genericpath.py\", line 101, in samefile\n",
      "    s2 = os.stat(f2)\n",
      "FileNotFoundError: [Errno 2] No such file or directory: '/Library/Frameworks/Python.framework/Versions/3.10/bin/pip'\n",
      "Call stack:\n",
      "  File \"/usr/local/bin/pip3\", line 8, in <module>\n",
      "    sys.exit(main())\n",
      "  File \"/Library/Frameworks/Python.framework/Versions/3.10/lib/python3.10/site-packages/pip/_internal/cli/main.py\", line 70, in main\n",
      "    return command.main(cmd_args)\n",
      "  File \"/Library/Frameworks/Python.framework/Versions/3.10/lib/python3.10/site-packages/pip/_internal/cli/base_command.py\", line 101, in main\n",
      "    return self._main(args)\n",
      "  File \"/Library/Frameworks/Python.framework/Versions/3.10/lib/python3.10/site-packages/pip/_internal/cli/base_command.py\", line 223, in _main\n",
      "    self.handle_pip_version_check(options)\n",
      "  File \"/Library/Frameworks/Python.framework/Versions/3.10/lib/python3.10/site-packages/pip/_internal/cli/req_command.py\", line 190, in handle_pip_version_check\n",
      "    pip_self_version_check(session, options)\n",
      "  File \"/Library/Frameworks/Python.framework/Versions/3.10/lib/python3.10/site-packages/pip/_internal/self_outdated_check.py\", line 236, in pip_self_version_check\n",
      "    logger.warning(\"[present-rich] %s\", upgrade_prompt)\n",
      "  File \"/Library/Frameworks/Python.framework/Versions/3.10/lib/python3.10/logging/__init__.py\", line 1489, in warning\n",
      "    self._log(WARNING, msg, args, **kwargs)\n",
      "  File \"/Library/Frameworks/Python.framework/Versions/3.10/lib/python3.10/logging/__init__.py\", line 1624, in _log\n",
      "    self.handle(record)\n",
      "  File \"/Library/Frameworks/Python.framework/Versions/3.10/lib/python3.10/logging/__init__.py\", line 1634, in handle\n",
      "    self.callHandlers(record)\n",
      "  File \"/Library/Frameworks/Python.framework/Versions/3.10/lib/python3.10/logging/__init__.py\", line 1696, in callHandlers\n",
      "    hdlr.handle(record)\n",
      "  File \"/Library/Frameworks/Python.framework/Versions/3.10/lib/python3.10/logging/__init__.py\", line 968, in handle\n",
      "    self.emit(record)\n",
      "  File \"/Library/Frameworks/Python.framework/Versions/3.10/lib/python3.10/site-packages/pip/_internal/utils/logging.py\", line 179, in emit\n",
      "    self.handleError(record)\n",
      "Message: '[present-rich] %s'\n",
      "Arguments: (UpgradePrompt(old='22.2.2', new='22.3.1'),)\n"
     ]
    }
   ],
   "source": [
    "!pip3 install category_encoders"
   ]
  },
  {
   "cell_type": "code",
   "execution_count": 70,
   "metadata": {
    "id": "Q4W5YbD2LbGw"
   },
   "outputs": [],
   "source": [
    "from category_encoders import TargetEncoder"
   ]
  },
  {
   "cell_type": "code",
   "execution_count": 95,
   "metadata": {},
   "outputs": [
    {
     "name": "stderr",
     "output_type": "stream",
     "text": [
      "/Library/Frameworks/Python.framework/Versions/3.10/lib/python3.10/site-packages/category_encoders/target_encoder.py:122: FutureWarning: Default parameter min_samples_leaf will change in version 2.6.See https://github.com/scikit-learn-contrib/category_encoders/issues/327\n",
      "  warnings.warn(\"Default parameter min_samples_leaf will change in version 2.6.\"\n",
      "/Library/Frameworks/Python.framework/Versions/3.10/lib/python3.10/site-packages/category_encoders/target_encoder.py:127: FutureWarning: Default parameter smoothing will change in version 2.6.See https://github.com/scikit-learn-contrib/category_encoders/issues/327\n",
      "  warnings.warn(\"Default parameter smoothing will change in version 2.6.\"\n"
     ]
    },
    {
     "name": "stdout",
     "output_type": "stream",
     "text": [
      "Encoding + learning time : 5.321692 seconds\n"
     ]
    }
   ],
   "source": [
    "column_transformer = ColumnTransformer([\n",
    "    ('te', TargetEncoder(), categorical),\n",
    "    ('scaling', StandardScaler(), numeric)\n",
    "])\n",
    "\n",
    "pipeline = Pipeline(steps=[\n",
    "    ('ohe_and_scaling', column_transformer),\n",
    "    ('regression', LogisticRegression(max_iter=100000))\n",
    "])\n",
    "\n",
    "begin = datetime.now()\n",
    "model = pipeline.fit(X_train, y_train)\n",
    "print(f\"Encoding + learning time : {(datetime.now() - begin).total_seconds()} seconds\")\n",
    "y_pred = model.predict(X_test)"
   ]
  },
  {
   "cell_type": "markdown",
   "metadata": {},
   "source": [
    "Получается подольше, чем в предыдущие разы"
   ]
  },
  {
   "cell_type": "code",
   "execution_count": 67,
   "metadata": {},
   "outputs": [
    {
     "name": "stdout",
     "output_type": "stream",
     "text": [
      "AUC PR : 0.7087533797576836\n"
     ]
    }
   ],
   "source": [
    "auc_pr, auc_roc = get_metrics(y_test, y_pred)\n",
    "print(f\"AUC PR : {auc_pr}\")"
   ]
  },
  {
   "cell_type": "markdown",
   "metadata": {
    "id": "ABXherJ3LGBj"
   },
   "source": [
    "##### __Бонус: Эффективная реализация (1 балл)__\n",
    "\n",
    "Здесь и далее реализуйте вычисление счетчиков с помощью трансформера (наследуйтесь от классов `BaseEstimator, TransformerMixin` из `sklearn.base`). Обратите внимание, что все вычисления должны быть векторизованными, трансформер не должен модифицировать передаваемую ему выборку inplace, а все необходимые статистики нужно считать только по обучающей выборке в методе `fit`. Ваш трансформер должен принимать при инициализации список из категориальных признаков и изменять только их. "
   ]
  },
  {
   "cell_type": "code",
   "execution_count": 92,
   "metadata": {
    "id": "Kk8D4dDuP75b"
   },
   "outputs": [],
   "source": [
    "from sklearn.base import BaseEstimator, TransformerMixin\n",
    "\n",
    "class MyTargetEncoder(BaseEstimator, TransformerMixin):\n",
    "\n",
    "    def __init__(self):\n",
    "        pass\n",
    "    \n",
    "    def fit(self, X, y):\n",
    "        print(\"Call fit\")\n",
    "        return self\n",
    "    \n",
    "    def transform(self, X):\n",
    "        print(\"Call transform\")\n",
    "        print(X)\n",
    "        return X\n",
    "    "
   ]
  },
  {
   "cell_type": "markdown",
   "metadata": {
    "id": "bH-JPoINqJ62"
   },
   "source": [
    "_______\n",
    "\n",
    "__Методы борьбы с переобучением счетчиков__\n",
    "\n",
    "\n",
    "Отметим, что mean-target encoding признаки сами по себе являются классификаторами и, обучаясь на них, мы допускаем \"утечку\" целевой переменной в признаки. Это ведёт к __переобучению__, поэтому считать такие признаки необходимо таким образом, чтобы при вычислении для конкретного объекта его __целевая метка не использовалась__.\n",
    "\n",
    "Это можно делать следующими способами:\n",
    "1. Вычислять значение счётчика по всем объектам расположенным выше в датасете (например, если у нас выборка отсортирована по времени).\n",
    "2. Вычислять по фолдам, то есть делить выборку на некоторое количество частей и подсчитывать значение признаков по всем фолдам кроме текущего (как делается в кросс-валидации).\n",
    "3. Внесение некоторого шума в посчитанные признаки.\n",
    "\n",
    "#### __Задание 6. Пошумим__  (0.5 балла)\n",
    "\n",
    "Реализуйте корректное вычисление счётчиков самым простым способом — добавление шума к значениям.  При этом постарайтесь найти баланс между борьбой с переобучением и сохранением полезности признаков. Снова обучите логистическую регрессию, оцените качество. Сделайте выводы."
   ]
  },
  {
   "cell_type": "code",
   "execution_count": null,
   "metadata": {
    "id": "HiqJBxrAP75c"
   },
   "outputs": [],
   "source": [
    "#your code here"
   ]
  },
  {
   "cell_type": "markdown",
   "metadata": {
    "id": "1GtUtPCjP75c"
   },
   "source": [
    "##### __Бонус: другой подход__ (0.5 балла)\n",
    "\n",
    "Посчитайте корректные счётчики первым или вторым способов из описанных выше (не забудьте добавить и шум).\n",
    "\n",
    "\n"
   ]
  },
  {
   "cell_type": "code",
   "execution_count": null,
   "metadata": {
    "id": "AjqsSTd6P75c"
   },
   "outputs": [],
   "source": [
    "#your code here"
   ]
  },
  {
   "cell_type": "markdown",
   "metadata": {
    "id": "aMe2b5i6P75d"
   },
   "source": [
    "#### __Задание 7. Сглаживание счетчиков__  (1 балл)"
   ]
  },
  {
   "cell_type": "markdown",
   "metadata": {
    "id": "4gnmTaJqP75d"
   },
   "source": [
    "> Теперь ответим на следующий вопрос: что будет, если некоторая категория встречается в выборке всего несколько раз? По этой причине производится сглаживание счётчиков. Например, на практике хорошие результаты показывает использование сглаживания средним по всей выборке:\n",
    "$$\n",
    "g_j(x, X) = \\frac{\\sum_{i=1}^{\\ell} [f_j(x) = f_j(x_i)][y_i = +1] + C \\times global\\_mean}{\\sum_{i=1}^{\\ell} [f_j(x) = f_j(x_i)] + C}\n",
    "$$\n",
    "где $global\\_mean$ — доля объектов положительного класса в выборке, $C$ — параметр, определяющий степень сглаживания (можно использовать 10 или подобрать для каждого признака свой). Идея в том, что мы \"разбавляем\" среднее значение по категории глобальным средним значением. И тем меньше, чем большее количество объектов этой категории встречается в выборке. \n",
    "\n",
    "> Вместо среднего значения целевой переменной для сглаживания можно использовать любое другое значение от 0 до 1 (этот параметр иногда называют $prior$). Можно сделать несколько признаков с разными значениями параметра. На практике в задачах бинарной классификации полезными бывают даже отрицательные значения!\n",
    "\n",
    "Добавьте сглаживание, описанное выше и повторите эксперименты.\n"
   ]
  },
  {
   "cell_type": "code",
   "execution_count": 111,
   "metadata": {
    "id": "4xRMlYQlP75d"
   },
   "outputs": [
    {
     "name": "stderr",
     "output_type": "stream",
     "text": [
      "/Library/Frameworks/Python.framework/Versions/3.10/lib/python3.10/site-packages/category_encoders/target_encoder.py:122: FutureWarning: Default parameter min_samples_leaf will change in version 2.6.See https://github.com/scikit-learn-contrib/category_encoders/issues/327\n",
      "  warnings.warn(\"Default parameter min_samples_leaf will change in version 2.6.\"\n"
     ]
    },
    {
     "name": "stdout",
     "output_type": "stream",
     "text": [
      "Encoding + learning time : 6.504266 seconds\n"
     ]
    }
   ],
   "source": [
    "\n",
    "column_transformer = ColumnTransformer([\n",
    "    ('te', TargetEncoder(smoothing=50), categorical), #добавили сглаживание\n",
    "    ('scaling', StandardScaler(), numeric)\n",
    "])\n",
    "\n",
    "pipeline = Pipeline(steps=[\n",
    "    ('ohe_and_scaling', column_transformer),\n",
    "    ('regression', LogisticRegression(max_iter=100000))\n",
    "])\n",
    "\n",
    "begin = datetime.now()\n",
    "model = pipeline.fit(X_train, y_train)\n",
    "print(f\"Encoding + learning time : {(datetime.now() - begin).total_seconds()} seconds\")\n",
    "y_pred = model.predict(X_test)"
   ]
  },
  {
   "cell_type": "code",
   "execution_count": 112,
   "metadata": {},
   "outputs": [
    {
     "name": "stdout",
     "output_type": "stream",
     "text": [
      "AUC PR : 0.7097283347274135\n"
     ]
    }
   ],
   "source": [
    "auc_pr, auc_roc = get_metrics(y_test, y_pred)\n",
    "print(f\"AUC PR : {auc_pr}\")"
   ]
  },
  {
   "cell_type": "markdown",
   "metadata": {},
   "source": [
    "Видим, что сглаживание немного помогло"
   ]
  },
  {
   "cell_type": "markdown",
   "metadata": {
    "id": "TksKMbr_P75d"
   },
   "source": [
    "#### __Задание 8. И все-таки числовой?__  (0.5 балла)\n",
    "\n",
    "В данных имеются признаки \"возраст\" и \"число рабочих часов в неделю\". Сейчас мы интерпретируем их как числовые, что в общем случае для линейной модели может быть неверной гипотезой. Тем не менее, у этих признаков есть довольно много уникальных значений (сколько?), поэтому применять к ним one-hot кодирование может оказаться излишним. Попробуйте закодировать эти признаки с помощью счетчиков (вместе и по отдельности). Стало ли лучше?\n",
    "\n"
   ]
  },
  {
   "cell_type": "code",
   "execution_count": 113,
   "metadata": {
    "id": "NGE4O-alP75e"
   },
   "outputs": [],
   "source": [
    "categorical = ['workclass', 'education', \n",
    "           'education-num', 'marital-status', 'occupation',\n",
    "           'relationship', 'race', 'sex', 'native-country', \"age\"] #добавляем age в категор\n",
    "\n",
    "numeric = [  'fnlwgt', 'capital-gain', \n",
    "           'capital-loss', 'hours-per-week']\n",
    "\n"
   ]
  },
  {
   "cell_type": "code",
   "execution_count": 114,
   "metadata": {},
   "outputs": [
    {
     "name": "stderr",
     "output_type": "stream",
     "text": [
      "/Library/Frameworks/Python.framework/Versions/3.10/lib/python3.10/site-packages/category_encoders/target_encoder.py:122: FutureWarning: Default parameter min_samples_leaf will change in version 2.6.See https://github.com/scikit-learn-contrib/category_encoders/issues/327\n",
      "  warnings.warn(\"Default parameter min_samples_leaf will change in version 2.6.\"\n"
     ]
    },
    {
     "name": "stdout",
     "output_type": "stream",
     "text": [
      "Encoding + learning time : 4.80995 seconds\n",
      "AUC PR : 0.7092641219867264\n"
     ]
    }
   ],
   "source": [
    "\n",
    "column_transformer = ColumnTransformer([\n",
    "    ('te', TargetEncoder(smoothing=50), categorical), #добавили сглаживание\n",
    "    ('scaling', StandardScaler(), numeric)\n",
    "])\n",
    "\n",
    "pipeline = Pipeline(steps=[\n",
    "    ('ohe_and_scaling', column_transformer),\n",
    "    ('regression', LogisticRegression(max_iter=100000))\n",
    "])\n",
    "\n",
    "begin = datetime.now()\n",
    "model = pipeline.fit(X_train, y_train)\n",
    "print(f\"Encoding + learning time : {(datetime.now() - begin).total_seconds()} seconds\")\n",
    "y_pred = model.predict(X_test)\n",
    "\n",
    "auc_pr, auc_roc = get_metrics(y_test, y_pred)\n",
    "print(f\"AUC PR : {auc_pr}\")"
   ]
  },
  {
   "cell_type": "markdown",
   "metadata": {},
   "source": [
    "Немного ухудшилось"
   ]
  },
  {
   "cell_type": "code",
   "execution_count": 115,
   "metadata": {},
   "outputs": [],
   "source": [
    "categorical = ['workclass', 'education', \n",
    "           'education-num', 'marital-status', 'occupation',\n",
    "           'relationship', 'race', 'sex', 'native-country', 'hours-per-week'] # добавляем часов в неделю в категор\n",
    "\n",
    "numeric = [\"age\", 'fnlwgt', 'capital-gain', \n",
    "           'capital-loss']\n",
    "\n"
   ]
  },
  {
   "cell_type": "code",
   "execution_count": 116,
   "metadata": {},
   "outputs": [
    {
     "name": "stderr",
     "output_type": "stream",
     "text": [
      "/Library/Frameworks/Python.framework/Versions/3.10/lib/python3.10/site-packages/category_encoders/target_encoder.py:122: FutureWarning: Default parameter min_samples_leaf will change in version 2.6.See https://github.com/scikit-learn-contrib/category_encoders/issues/327\n",
      "  warnings.warn(\"Default parameter min_samples_leaf will change in version 2.6.\"\n"
     ]
    },
    {
     "name": "stdout",
     "output_type": "stream",
     "text": [
      "Encoding + learning time : 14.855095 seconds\n",
      "AUC PR : 0.7102394795694145\n"
     ]
    }
   ],
   "source": [
    "\n",
    "column_transformer = ColumnTransformer([\n",
    "    ('te', TargetEncoder(smoothing=50), categorical), #добавили сглаживание\n",
    "    ('scaling', StandardScaler(), numeric)\n",
    "])\n",
    "\n",
    "pipeline = Pipeline(steps=[\n",
    "    ('ohe_and_scaling', column_transformer),\n",
    "    ('regression', LogisticRegression(max_iter=100000))\n",
    "])\n",
    "\n",
    "begin = datetime.now()\n",
    "model = pipeline.fit(X_train, y_train)\n",
    "print(f\"Encoding + learning time : {(datetime.now() - begin).total_seconds()} seconds\")\n",
    "y_pred = model.predict(X_test)\n",
    "\n",
    "auc_pr, auc_roc = get_metrics(y_test, y_pred)\n",
    "print(f\"AUC PR : {auc_pr}\")"
   ]
  },
  {
   "cell_type": "markdown",
   "metadata": {},
   "source": [
    "Немного улучшилось"
   ]
  },
  {
   "cell_type": "code",
   "execution_count": 119,
   "metadata": {},
   "outputs": [],
   "source": [
    "categorical = ['workclass', 'education', \n",
    "           'education-num', 'marital-status', 'occupation',\n",
    "           'relationship', 'race', 'sex', 'native-country', 'hours-per-week', \"age\"] # добавляем часов в неделю и возраст в категор\n",
    "\n",
    "numeric = ['fnlwgt', 'capital-gain', \n",
    "           'capital-loss']\n",
    "\n"
   ]
  },
  {
   "cell_type": "code",
   "execution_count": 120,
   "metadata": {},
   "outputs": [
    {
     "name": "stderr",
     "output_type": "stream",
     "text": [
      "/Library/Frameworks/Python.framework/Versions/3.10/lib/python3.10/site-packages/category_encoders/target_encoder.py:122: FutureWarning: Default parameter min_samples_leaf will change in version 2.6.See https://github.com/scikit-learn-contrib/category_encoders/issues/327\n",
      "  warnings.warn(\"Default parameter min_samples_leaf will change in version 2.6.\"\n"
     ]
    },
    {
     "name": "stdout",
     "output_type": "stream",
     "text": [
      "Encoding + learning time : 5.897104 seconds\n",
      "AUC PR : 0.7092641219867264\n"
     ]
    }
   ],
   "source": [
    "\n",
    "column_transformer = ColumnTransformer([\n",
    "    ('te', TargetEncoder(smoothing=50), categorical), #добавили сглаживание\n",
    "    ('scaling', StandardScaler(), numeric)\n",
    "])\n",
    "\n",
    "pipeline = Pipeline(steps=[\n",
    "    ('ohe_and_scaling', column_transformer),\n",
    "    ('regression', LogisticRegression(max_iter=100000))\n",
    "])\n",
    "\n",
    "begin = datetime.now()\n",
    "model = pipeline.fit(X_train, y_train)\n",
    "print(f\"Encoding + learning time : {(datetime.now() - begin).total_seconds()} seconds\")\n",
    "y_pred = model.predict(X_test)\n",
    "\n",
    "auc_pr, auc_roc = get_metrics(y_test, y_pred)\n",
    "print(f\"AUC PR : {auc_pr}\")"
   ]
  },
  {
   "cell_type": "markdown",
   "metadata": {},
   "source": [
    "По итогу, самым удачным решением было добавить только кол-во часов в неделю в категориальные признаки."
   ]
  },
  {
   "cell_type": "markdown",
   "metadata": {
    "id": "2mwXyUnOP75e"
   },
   "source": [
    "> __Замечание.__ Усложнение методов вычисления счётчиков не делают результаты модели гарантированно лучше. Особенно с учётом того, что логистическая регрессия не такая сложная модель, чтобы переобучаться. Поэтому вы необязательно должны были получать на каждом шаге всё лучшие и лучшие результаты (но необходимые результаты у вас должны были получиться).\n",
    "\n",
    "Как мы могли пронаблюдать, счётчики являются конкурентной альтернативой one-hot-кодированию. Опишите, какие плюсы и минусы использования счётчиков по сравнению с one-hot-кодированием вы заметили.\n",
    "\n",
    "__Ответ:__ Ну плюс, очевидно, состоит в меньшем количестве памяти, которое необходимо для mean target, минусы такие: ohe все-таки поточнее будет как мне кажется, оно как-то больше информации сохраняет, также mte допускает утечку целевых переменных даже не смотря на все эти приседания + надо свой трансформер руками писать, чтобы все фичи добавлять, ужас какой-то."
   ]
  },
  {
   "cell_type": "markdown",
   "metadata": {
    "id": "_oU4I7HjP75f"
   },
   "source": [
    "# Часть 3. Отбор признаков"
   ]
  },
  {
   "cell_type": "markdown",
   "metadata": {
    "id": "JKb6BsQMP75f"
   },
   "source": [
    "Важной частью процесса построения модели является отбор признаков. На практике многие признаки оказывают малое влияние на модель (при этом их расчёт занимает время) или даже негативно сказываются на качестве модели. Попробуем несколько подходов отбора признаков, оценим, как они влияют на качество модели и сколько времени занимают.\n",
    "\n",
    "Обратимся к тем же данным про предсказание дохода."
   ]
  },
  {
   "cell_type": "code",
   "execution_count": 121,
   "metadata": {
    "id": "k-_L9TJ8P75f"
   },
   "outputs": [],
   "source": [
    "columns = ['age', 'workclass', 'fnlwgt', 'education', \n",
    "           'education-num', 'marital-status', 'occupation',\n",
    "           'relationship', 'race', 'sex', 'capital-gain', \n",
    "           'capital-loss', 'hours-per-week', 'native-country',\n",
    "           'income']\n",
    "\n",
    "df = pd.read_csv('adult.data', header=None, names=columns)\n",
    "df['income'] = (df['income'] != \" <=50K\").astype('int32')"
   ]
  },
  {
   "cell_type": "markdown",
   "metadata": {
    "id": "iGqys4ZpiXjr"
   },
   "source": [
    "Разделите выборку на обучающую и тестовую в соотношении 3:1. Зафиксируйте `random_state=777`, также используйте `stratify`. "
   ]
  },
  {
   "cell_type": "code",
   "execution_count": null,
   "metadata": {
    "id": "M2TT35c_iYc-"
   },
   "outputs": [],
   "source": [
    "X_train, X_test, y_train, y_test = train_test_split(df.loc[:, \"age\" :\"native-country\"], df['income'], test_size=0.25, random_state=777, stratify=df['income'])"
   ]
  },
  {
   "cell_type": "code",
   "execution_count": 158,
   "metadata": {},
   "outputs": [],
   "source": [
    "categorical = ['workclass', 'education', \n",
    "           'education-num', 'marital-status', 'occupation',\n",
    "           'relationship', 'race', 'sex', 'native-country']\n",
    "\n",
    "numeric = ['fnlwgt', 'capital-gain', \n",
    "           'capital-loss',  'hours-per-week', \"age\"]"
   ]
  },
  {
   "cell_type": "markdown",
   "metadata": {
    "id": "-uAlw2X-P75f"
   },
   "source": [
    "Давайте закодируем все категориальные признаки с помощью One-hot Encoding, считая возраст и число часов числовыми. Сколько новых признаков мы получим?"
   ]
  },
  {
   "cell_type": "code",
   "execution_count": 132,
   "metadata": {},
   "outputs": [
    {
     "name": "stdout",
     "output_type": "stream",
     "text": [
      "Количество признаков, после ohe выросло на: 104\n"
     ]
    }
   ],
   "source": [
    "ohe = OneHotEncoder()\n",
    "feature_num_after_ohe = ohe.fit_transform(X_train[categorical]).shape[1]\n",
    "print(f\"Количество признаков, после ohe выросло на: {feature_num_after_ohe - len(categorical + numeric)}\")"
   ]
  },
  {
   "cell_type": "code",
   "execution_count": 160,
   "metadata": {
    "id": "ILg-JGugP75f"
   },
   "outputs": [
    {
     "name": "stdout",
     "output_type": "stream",
     "text": [
      "Encoding + learning time : 1.902711 seconds\n"
     ]
    }
   ],
   "source": [
    "from sklearn.preprocessing import OrdinalEncoder, OneHotEncoder\n",
    "from sklearn.compose import ColumnTransformer\n",
    "from sklearn.preprocessing import StandardScaler\n",
    "from sklearn.pipeline import Pipeline\n",
    "from datetime import datetime\n",
    "\n",
    "column_transformer = ColumnTransformer([\n",
    "    ('ohe', OneHotEncoder(), categorical),\n",
    "])\n",
    "\n",
    "pipeline = Pipeline(steps=[\n",
    "    ('ohe_and_scaling', column_transformer),\n",
    "    ('regression', LogisticRegression(max_iter=100000))\n",
    "])\n",
    "\n",
    "begin = datetime.now()\n",
    "model = pipeline.fit(X_train, y_train)\n",
    "print(f\"Encoding + learning time : {(datetime.now() - begin).total_seconds()} seconds\")\n",
    "y_pred = model.predict(X_test)"
   ]
  },
  {
   "cell_type": "markdown",
   "metadata": {
    "id": "kq-XZwf3P75g"
   },
   "source": [
    "В качестве основной модели будем использовать логистическую регрессию, а целевой метрики — `AUC-PR`. Обучите модель и посчитайте качество на тестовой выборке. Давайте запомним полученное значение."
   ]
  },
  {
   "cell_type": "code",
   "execution_count": 161,
   "metadata": {
    "id": "XMH5D_6OP75g"
   },
   "outputs": [
    {
     "name": "stdout",
     "output_type": "stream",
     "text": [
      "AUC PR : 0.6748232919450121\n"
     ]
    }
   ],
   "source": [
    "auc_pr, auc_roc = get_metrics(y_test, y_pred)\n",
    "print(f\"AUC PR : {auc_pr}\")"
   ]
  },
  {
   "cell_type": "markdown",
   "metadata": {
    "id": "QD7jIiDeP75g"
   },
   "source": [
    "#### __Задание 9. Встроенные методы (0.5 балла)__"
   ]
  },
  {
   "cell_type": "markdown",
   "metadata": {
    "id": "bf2T9xtUP75g"
   },
   "source": [
    "Допустим, мы хотим оставить только 40 лучших признаков. Попробуем сделать это несколькими способами.\n",
    "\n",
    "Начнём с отборам признаков с помощью линейной модели. Как известно, веса линейной модели означают вклад каждого признака в предсказание модели, а значит, модуль этого вклада можно интерпретировать как важность признаков. Такой метод отбора называются встроенным или embedded method, так как он заложен в особенности модели.\n",
    "\n",
    "Оставьте 40 признаков с наибольшим модулем соответствующего параметра линейной модели. Обучите модели заново и оцените её качество. Замерьте скорость такого отбора признаков.\n",
    "\n"
   ]
  },
  {
   "cell_type": "code",
   "execution_count": 201,
   "metadata": {},
   "outputs": [],
   "source": [
    "def get_most_important(a):\n",
    "    a = list(a[0])\n",
    "    a = list(zip(a, range(len(a))))\n",
    "    a = sorted(a, key=lambda x : -abs(x[0]))\n",
    "    res = []\n",
    "    for i in range(40):\n",
    "        res.append(a[i][1])\n",
    "    return res"
   ]
  },
  {
   "cell_type": "code",
   "execution_count": 234,
   "metadata": {
    "id": "wqOH9EunP75g"
   },
   "outputs": [
    {
     "name": "stdout",
     "output_type": "stream",
     "text": [
      "shape before drop (24420, 123)\n",
      "shape after drop (24420, 40)\n",
      "Encoding + learning time : 15.249731 seconds\n",
      "AUC PR : 0.6978312039268924\n"
     ]
    }
   ],
   "source": [
    "column_transformer = ColumnTransformer([\n",
    "    ('ohe', OneHotEncoder(), categorical),\n",
    "])\n",
    "\n",
    "reg = LogisticRegression(max_iter=100000)\n",
    "\n",
    "\n",
    "begin = datetime.now()\n",
    "X_train_ohe = column_transformer.fit_transform(X_train).toarray()\n",
    "X_train_ohe = np.concatenate((X_train_ohe, X_train[numeric].to_numpy()), axis=1)\n",
    "print(f\"shape before drop {X_train_ohe.shape}\")\n",
    "reg.fit(X_train_ohe, y_train)\n",
    "best_features = get_most_important(reg.coef_)\n",
    "X_train_ohe = X_train_ohe[:, best_features]\n",
    "print(f\"shape after drop {X_train_ohe.shape}\")\n",
    "reg.fit(X_train_ohe, y_train)\n",
    "print(f\"Encoding + learning time : {(datetime.now() - begin).total_seconds()} seconds\")\n",
    "\n",
    "X_test_ohe = column_transformer.transform(X_test).toarray()\n",
    "X_test_ohe = np.concatenate((X_test_ohe, X_test[numeric].to_numpy()), axis=1)\n",
    "y_pred = reg.predict(X_test_ohe[:, best_features])\n",
    "auc_pr, auc_roc = get_metrics(y_test, y_pred)\n",
    "print(f\"AUC PR : {auc_pr}\")"
   ]
  },
  {
   "cell_type": "markdown",
   "metadata": {
    "id": "CCmtS99eVVrC"
   },
   "source": [
    "Изменилось ли качество? Как?\n",
    "\n",
    "Изменилось, стало хуже очевидно"
   ]
  },
  {
   "cell_type": "markdown",
   "metadata": {
    "id": "E5y5hVyYP75h"
   },
   "source": [
    "Подумаем, что мы не учли. Мы действовали в предположении, что признаки вносят вклад равномерно, и не учитывали их масштаб. Если мы умножим один из признаков в 100 раз, то без учёта регуляризации его вес уменьшится в эти же 100 раз. А мы на основе этого отбираем признаки! Давайте сначала отмасштабируем признаки одним из способов, а только потом будем удалять признаки. \n",
    "\n",
    "Кстати, в таком случае надо пересчитать качество на всех признаках (сделайте это ниже). Если вы сделали нормирование признаков в самом начале, то попробуйте отобрать признаки на неотмасштабированных данных.\n",
    "\n",
    "Что получилось?"
   ]
  },
  {
   "cell_type": "markdown",
   "metadata": {},
   "source": [
    "Пересчитывем на всех данных"
   ]
  },
  {
   "cell_type": "code",
   "execution_count": 203,
   "metadata": {},
   "outputs": [
    {
     "name": "stdout",
     "output_type": "stream",
     "text": [
      "Encoding + learning time : 1.648085 seconds\n",
      "AUC PR : 0.7188541128820272\n"
     ]
    }
   ],
   "source": [
    "from sklearn.preprocessing import OrdinalEncoder, OneHotEncoder\n",
    "from sklearn.compose import ColumnTransformer\n",
    "from sklearn.preprocessing import StandardScaler\n",
    "from sklearn.pipeline import Pipeline\n",
    "from datetime import datetime\n",
    "\n",
    "column_transformer = ColumnTransformer([\n",
    "    ('ohe', OneHotEncoder(), categorical),\n",
    "    ('scaling', StandardScaler(), numeric),\n",
    "])\n",
    "\n",
    "pipeline = Pipeline(steps=[\n",
    "    ('ohe_and_scaling', column_transformer),\n",
    "    ('regression', LogisticRegression(max_iter=100000))\n",
    "])\n",
    "\n",
    "begin = datetime.now()\n",
    "model = pipeline.fit(X_train, y_train)\n",
    "print(f\"Encoding + learning time : {(datetime.now() - begin).total_seconds()} seconds\")\n",
    "y_pred = model.predict(X_test)\n",
    "auc_pr, auc_roc = get_metrics(y_test, y_pred)\n",
    "print(f\"AUC PR : {auc_pr}\")"
   ]
  },
  {
   "cell_type": "code",
   "execution_count": 204,
   "metadata": {
    "id": "qXytEuBgP75h"
   },
   "outputs": [
    {
     "name": "stdout",
     "output_type": "stream",
     "text": [
      "shape before drop (24420, 123)\n",
      "[119, 42, 43, 57, 22, 25, 80, 68, 19, 40, 45, 23, 39, 52, 53, 78, 82, 66, 77, 87, 86, 46, 8, 59, 21, 38, 98, 61, 44, 1, 56, 58, 106, 14, 28, 65, 18, 37, 103, 104]\n",
      "shape after drop (24420, 40)\n",
      "Encoding + learning time : 5.288778 seconds\n",
      "AUC PR : 0.6809589450312793\n"
     ]
    }
   ],
   "source": [
    "column_transformer = ColumnTransformer([\n",
    "    ('ohe', OneHotEncoder(), categorical),\n",
    "    ('scaling', StandardScaler(), numeric),\n",
    "])\n",
    "\n",
    "reg = LogisticRegression(max_iter=100000)\n",
    "\n",
    "\n",
    "begin = datetime.now()\n",
    "X_train_ohe = column_transformer.fit_transform(X_train)\n",
    "print(f\"shape before drop {X_train_ohe.shape}\")\n",
    "reg.fit(X_train_ohe, y_train)\n",
    "best_features = get_most_important(reg.coef_)\n",
    "print(best_features)\n",
    "X_train_ohe = X_train_ohe[:, best_features]\n",
    "print(f\"shape after drop {X_train_ohe.shape}\")\n",
    "reg.fit(X_train_ohe, y_train)\n",
    "print(f\"Encoding + learning time : {(datetime.now() - begin).total_seconds()} seconds\")\n",
    "\n",
    "X_test_ohe = column_transformer.transform(X_test)\n",
    "y_pred = reg.predict(X_test_ohe[:, best_features])\n",
    "auc_pr, auc_roc = get_metrics(y_test, y_pred)\n",
    "print(f\"AUC PR : {auc_pr}\")"
   ]
  },
  {
   "cell_type": "markdown",
   "metadata": {},
   "source": [
    "Качество все равно хуже, чем в случае использование всех признаков и хуже чем без масштабирования"
   ]
  },
  {
   "cell_type": "markdown",
   "metadata": {
    "id": "OLZJRpxjP75h"
   },
   "source": [
    "Вопрос на засыпку: one-hot кодирование возвращает нам единичные признаки-индикаторы. Попробуйте также отскалировать их, как и обычные числовые, и снова выбрать 40 главных по вкладу признаков. Изменился ли их список? Изменится ли качество?"
   ]
  },
  {
   "cell_type": "code",
   "execution_count": 237,
   "metadata": {
    "id": "VpGE8ll5P75h"
   },
   "outputs": [
    {
     "name": "stdout",
     "output_type": "stream",
     "text": [
      "shape before drop (24420, 123)\n",
      "[119, 43, 45, 57, 121, 122, 22, 25, 56, 120, 66, 52, 41, 68, 64, 75, 74, 53, 46, 58, 18, 37, 21, 38, 8, 63, 104, 67, 54, 23, 39, 19, 40, 14, 28, 44, 1, 9, 30, 10]\n",
      "shape after drop (24420, 40)\n",
      "Encoding + learning time : 5.027674 seconds\n",
      "(8141, 123)\n",
      "AUC PR : 0.7038579802541751\n"
     ]
    }
   ],
   "source": [
    "column_transformer = ColumnTransformer([\n",
    "    ('ohe', OneHotEncoder(), categorical),\n",
    "])\n",
    "\n",
    "scaler = StandardScaler()\n",
    "\n",
    "reg = LogisticRegression(max_iter=100000)\n",
    "\n",
    "\n",
    "begin = datetime.now()\n",
    "X_train_ohe = column_transformer.fit_transform(X_train).toarray()\n",
    "X_train_ohe = np.concatenate((X_train_ohe, X_train[numeric].to_numpy()), axis=1)\n",
    "X_train_ohe = scaler.fit_transform(X_train_ohe)\n",
    "print(f\"shape before drop {X_train_ohe.shape}\")\n",
    "reg.fit(X_train_ohe, y_train)\n",
    "best_features = get_most_important(reg.coef_)\n",
    "print(best_features)\n",
    "X_train_ohe = X_train_ohe[:, best_features]\n",
    "print(f\"shape after drop {X_train_ohe.shape}\")\n",
    "reg.fit(X_train_ohe, y_train)\n",
    "print(f\"Encoding + learning time : {(datetime.now() - begin).total_seconds()} seconds\")\n",
    "\n",
    "X_test_ohe = column_transformer.transform(X_test).toarray()\n",
    "X_test_ohe = np.concatenate((X_test_ohe, X_test[numeric].to_numpy()), axis=1)\n",
    "X_test_ohe = scaler.transform(X_test_ohe)\n",
    "y_pred = reg.predict(X_test_ohe[:, best_features])\n",
    "auc_pr, auc_roc = get_metrics(y_test, y_pred)\n",
    "print(f\"AUC PR : {auc_pr}\")"
   ]
  },
  {
   "cell_type": "markdown",
   "metadata": {},
   "source": [
    "Список изменился, качество улучшилось"
   ]
  },
  {
   "cell_type": "markdown",
   "metadata": {
    "id": "3nK78Ag2P75i"
   },
   "source": [
    "#### __Задание 10. Методы фильтрации (0.5 балла)__\n",
    "\n",
    "\n",
    "Давайте отбирать признаки умнее, а именно через подсчёт некоторой функции для каждого признака. На основании значений этой функции будем оставлять наиболее важные признаки. Методы этого семейства называют фильтрующими или  filter methods. \n",
    "\n",
    "В качестве такой функции будем считать t-статистику:\n",
    "\n",
    "$$t(j) = \\frac{|\\mu_+ - \\mu_-|}{\\sqrt{\\frac{n_+ \\sigma^2_+ + n_- \\sigma^2_-}{n_+ + n_-}}},$$\n",
    "\n",
    "где $\\mu$, $\\sigma$, $n$ соответственно среднее, стандартное отклонение и количество объектов каждого из классов.\n",
    "\n",
    "Оставьте 40 признаков с наибольшим значением $t$, замерьте качество и скорость отбора признаков.\n",
    "\n"
   ]
  },
  {
   "cell_type": "code",
   "execution_count": 238,
   "metadata": {
    "id": "0snv1D-hP75i"
   },
   "outputs": [
    {
     "data": {
      "text/plain": [
       "(24420, 123)"
      ]
     },
     "execution_count": 238,
     "metadata": {},
     "output_type": "execute_result"
    }
   ],
   "source": [
    "X_train_ohe = column_transformer.fit_transform(X_train).toarray()\n",
    "X_train_ohe = np.concatenate((X_train_ohe, X_train[numeric].to_numpy()), axis=1)\n",
    "X_train_ohe.shape"
   ]
  },
  {
   "cell_type": "code",
   "execution_count": 246,
   "metadata": {},
   "outputs": [
    {
     "data": {
      "text/plain": [
       "(123,)"
      ]
     },
     "execution_count": 246,
     "metadata": {},
     "output_type": "execute_result"
    }
   ],
   "source": []
  },
  {
   "cell_type": "code",
   "execution_count": 247,
   "metadata": {},
   "outputs": [],
   "source": [
    "Pos_X_train_ohe = X_train_ohe[y_train == 1]\n",
    "Neg_X_train_ohe = X_train_ohe[y_train == 0]\n",
    "\n",
    "n_pos = Pos_X_train_ohe.shape[0]\n",
    "n_neg = Neg_X_train_ohe.shape[0]\n",
    "\n",
    "mu_pos = np.mean(Pos_X_train_ohe, axis=0)\n",
    "mu_neg = np.mean(Neg_X_train_ohe, axis=0)\n",
    "\n",
    "sigma_pos = np.var(Pos_X_train_ohe, axis=0)\n",
    "sigma_neg = np.var(Neg_X_train_ohe, axis=0)"
   ]
  },
  {
   "cell_type": "code",
   "execution_count": 248,
   "metadata": {},
   "outputs": [],
   "source": [
    "criterion = np.abs(mu_pos - mu_neg) / np.sqrt((n_pos * sigma_pos + n_neg * sigma_neg) / (n_pos + n_neg))\n",
    "criterion.shape"
   ]
  },
  {
   "cell_type": "code",
   "execution_count": null,
   "metadata": {},
   "outputs": [],
   "source": [
    "best_by_criterion = get_most_important(criterion)"
   ]
  },
  {
   "cell_type": "code",
   "execution_count": 261,
   "metadata": {},
   "outputs": [
    {
     "name": "stdout",
     "output_type": "stream",
     "text": [
      "shape before drop (24420, 123)\n",
      "shape after drop (24420, 40)\n",
      "Encoding + learning time : 5.126414 seconds\n",
      "AUC PR : 0.6986456250565413\n"
     ]
    }
   ],
   "source": [
    "column_transformer = ColumnTransformer([\n",
    "    ('ohe', OneHotEncoder(), categorical),\n",
    "])\n",
    "\n",
    "scaler = StandardScaler()\n",
    "\n",
    "reg = LogisticRegression(max_iter=100000)\n",
    "\n",
    "\n",
    "begin = datetime.now()\n",
    "X_train_ohe = column_transformer.fit_transform(X_train).toarray()\n",
    "X_train_ohe = np.concatenate((X_train_ohe, X_train[numeric].to_numpy()), axis=1)\n",
    "print(f\"shape before drop {X_train_ohe.shape}\")\n",
    "X_train_ohe = X_train_ohe[:, best_by_criterion]\n",
    "print(f\"shape after drop {X_train_ohe.shape}\")\n",
    "reg.fit(X_train_ohe, y_train)\n",
    "print(f\"Encoding + learning time : {(datetime.now() - begin).total_seconds()} seconds\")\n",
    "\n",
    "X_test_ohe = column_transformer.transform(X_test).toarray()\n",
    "X_test_ohe = np.concatenate((X_test_ohe, X_test[numeric].to_numpy()), axis=1)\n",
    "y_pred = reg.predict(X_test_ohe[:, best_by_criterion])\n",
    "auc_pr, auc_roc = get_metrics(y_test, y_pred)\n",
    "print(f\"AUC PR : {auc_pr}\")"
   ]
  },
  {
   "cell_type": "markdown",
   "metadata": {},
   "source": [
    "Неплохой результат, хотя бывало и получше"
   ]
  },
  {
   "cell_type": "markdown",
   "metadata": {
    "id": "zO63RNCLP75i"
   },
   "source": [
    "#### __Задание 11. Методы-обёртки__ (1 балл) \n",
    "\n",
    "Третий из рассматриваемых нами методов работает следующим образом: мы исключаем по очереди один из признаков и смотрим, как это влияет на качество. Удаляем признаки таким жадным способом, пока не окажется выполненым некоторое условие (количество признаков или ухудшение качества). Более конкретно, на каждом шаге мы будем удалять такой признак $j$, что качество модели на множестве оставшихся признаков без $j$ максимально, то есть удалять мы будем наиболее бесполезный признак.\n",
    "\n",
    "Заметим, что нельзя оценивать качество по тестовой выборке, иначе мы можем переобучиться, как, например, при настройке гиперпараметров. Разделите обучающую выборку на 2 части, на одной из них обучайте модель без одного из признаков,  на второй части оценивайте качество. Исходную тестовую выборку стоит использовать только для финальной оценки качества.\n",
    "\n",
    "Снова оставьте только 40 признаков и оцените качество на тестовой выборке. Сколько времени занял такой отбор признаков?"
   ]
  },
  {
   "cell_type": "code",
   "execution_count": 262,
   "metadata": {
    "id": "ISGdzDQQP75j"
   },
   "outputs": [],
   "source": [
    "X_train, X_val, y_train, y_val = train_test_split(X_train, y_train, test_size=0.2, random_state=777, stratify=y_train)"
   ]
  },
  {
   "cell_type": "code",
   "execution_count": 283,
   "metadata": {},
   "outputs": [],
   "source": [
    "X_train_ohe = column_transformer.fit_transform(X_train).toarray()\n",
    "X_train_ohe = np.concatenate((X_train_ohe, X_train[numeric].to_numpy()), axis=1)\n",
    "X_train_ohe = scaler.fit_transform(X_train_ohe)\n",
    "\n",
    "X_val_ohe = column_transformer.transform(X_val).toarray()\n",
    "X_val_ohe = np.concatenate((X_val_ohe, X_val[numeric].to_numpy()), axis=1)\n",
    "X_val_ohe = scaler.transform(X_val_ohe)"
   ]
  },
  {
   "cell_type": "code",
   "execution_count": 268,
   "metadata": {},
   "outputs": [],
   "source": [
    "import copy"
   ]
  },
  {
   "cell_type": "code",
   "execution_count": 281,
   "metadata": {},
   "outputs": [
    {
     "name": "stdout",
     "output_type": "stream",
     "text": [
      "best AUC PR : 0.7199012252416792\n",
      "REMOVE 118\n",
      "TOTAL NUMBER OF LEFT FEATURES 122\n",
      "best AUC PR : 0.7208169123972232\n",
      "REMOVE 50\n",
      "TOTAL NUMBER OF LEFT FEATURES 121\n",
      "best AUC PR : 0.7208169123972232\n",
      "REMOVE 1\n",
      "TOTAL NUMBER OF LEFT FEATURES 120\n"
     ]
    }
   ],
   "source": [
    "features = set(list(range(X_train_ohe.shape[1])))\n",
    "\n",
    "while len(features) > 120:\n",
    "    best_auc_pr = -1\n",
    "    feature_to_remove = -1\n",
    "    for feature in features:\n",
    "        \n",
    "\n",
    "        new_features = copy.deepcopy(features)\n",
    "        new_features.remove(feature)\n",
    "\n",
    "        scaler = StandardScaler()\n",
    "\n",
    "        reg = LogisticRegression(max_iter=1000)\n",
    "\n",
    "        X_train_ohe_ = X_train_ohe[:, list(new_features)]\n",
    "        reg.fit(X_train_ohe_, y_train)\n",
    "\n",
    "        X_val_ohe_ = X_val_ohe[:, list(new_features)]\n",
    "        y_pred = reg.predict(X_val_ohe_)\n",
    "        auc_pr, auc_roc = get_metrics(y_val, y_pred)\n",
    "        if auc_pr > best_auc_pr:\n",
    "            feature_to_remove = feature\n",
    "            best_auc_pr = auc_pr\n",
    "    \n",
    "    features.remove(feature_to_remove)\n",
    "    print(f\"best AUC PR : {best_auc_pr}\")\n",
    "    print(f\"REMOVE {feature_to_remove}\")\n",
    "    print(f\"TOTAL NUMBER OF LEFT FEATURES {len(features)}\")\n",
    "\n",
    "\n",
    "        \n",
    "\n",
    "\n"
   ]
  },
  {
   "cell_type": "markdown",
   "metadata": {},
   "source": [
    "Таким образом я смог выкинуть только 3 признака, потому что у меня иначе комп взорвется"
   ]
  },
  {
   "cell_type": "code",
   "execution_count": 284,
   "metadata": {},
   "outputs": [
    {
     "name": "stdout",
     "output_type": "stream",
     "text": [
      "shape before drop (19536, 123)\n",
      "shape after drop (19536, 120)\n",
      "Encoding + learning time : 2.373034 seconds\n",
      "AUC PR : 0.7189789533815116\n"
     ]
    }
   ],
   "source": [
    "reg = LogisticRegression(max_iter=100000)\n",
    "\n",
    "\n",
    "begin = datetime.now()\n",
    "print(f\"shape before drop {X_train_ohe.shape}\")\n",
    "X_train_ohe = X_train_ohe[:, list(features)]\n",
    "print(f\"shape after drop {X_train_ohe.shape}\")\n",
    "reg.fit(X_train_ohe, y_train)\n",
    "print(f\"Encoding + learning time : {(datetime.now() - begin).total_seconds()} seconds\")\n",
    "\n",
    "X_test_ohe = column_transformer.transform(X_test).toarray()\n",
    "X_test_ohe = np.concatenate((X_test_ohe, X_test[numeric].to_numpy()), axis=1)\n",
    "X_test_ohe = scaler.transform(X_test_ohe)\n",
    "y_pred = reg.predict(X_test_ohe[:, list(features)])\n",
    "auc_pr, auc_roc = get_metrics(y_test, y_pred)\n",
    "print(f\"AUC PR : {auc_pr}\")"
   ]
  },
  {
   "cell_type": "markdown",
   "metadata": {
    "id": "1AEL4z61P75j"
   },
   "source": [
    "Стоит отметить, что с помощью такого метода можно пойти и в обратную сторону. Попробуйте _добавлять_ по одному самому полезному признаку в выборку до тех пор, пока не наберется 40 штук. Найдется ли порог, при котором добавление следующих признаков будет только ухудшать качество модели?"
   ]
  },
  {
   "cell_type": "code",
   "execution_count": 289,
   "metadata": {
    "id": "ZzF8TzVFP75j"
   },
   "outputs": [
    {
     "name": "stdout",
     "output_type": "stream",
     "text": [
      "best AUC PR : 0.6320137391565963\n",
      "ADD 119\n",
      "TOTAL NUMBER OF OUR FEATURES 1\n",
      "best AUC PR : 0.6404064082635511\n",
      "ADD 37\n",
      "TOTAL NUMBER OF OUR FEATURES 2\n",
      "best AUC PR : 0.649121872336158\n",
      "ADD 24\n",
      "TOTAL NUMBER OF OUR FEATURES 3\n",
      "best AUC PR : 0.6494446673018102\n",
      "ADD 98\n",
      "TOTAL NUMBER OF OUR FEATURES 4\n",
      "best AUC PR : 0.6494446673018102\n",
      "ADD 3\n",
      "TOTAL NUMBER OF OUR FEATURES 5\n"
     ]
    }
   ],
   "source": [
    "features = set(list(range(X_train_ohe.shape[1])))\n",
    "our_features = set()\n",
    "\n",
    "while len(our_features) < 5:\n",
    "    best_auc_pr = -1\n",
    "    feature_to_add = -1\n",
    "    for feature in features:\n",
    "\n",
    "        our_features_copy = copy.deepcopy(our_features)\n",
    "\n",
    "        if feature not in our_features:\n",
    "            our_features_copy.add(feature)\n",
    "\n",
    "        reg = LogisticRegression(max_iter=1000)\n",
    "\n",
    "        X_train_ohe_ = X_train_ohe[:, list(our_features_copy)]\n",
    "        reg.fit(X_train_ohe_, y_train)\n",
    "\n",
    "        X_val_ohe_ = X_val_ohe[:, list(our_features_copy)]\n",
    "        y_pred = reg.predict(X_val_ohe_)\n",
    "        auc_pr, auc_roc = get_metrics(y_val, y_pred)\n",
    "        if auc_pr > best_auc_pr:\n",
    "            feature_to_add = feature\n",
    "            best_auc_pr = auc_pr\n",
    "    \n",
    "    our_features.add(feature_to_add)\n",
    "    print(f\"best AUC PR : {best_auc_pr}\")\n",
    "    print(f\"ADD {feature_to_add}\")\n",
    "    print(f\"TOTAL NUMBER OF OUR FEATURES {len(our_features)}\")\n"
   ]
  },
  {
   "cell_type": "code",
   "execution_count": 290,
   "metadata": {},
   "outputs": [
    {
     "name": "stdout",
     "output_type": "stream",
     "text": [
      "shape before drop (19536, 120)\n",
      "shape after drop (19536, 5)\n",
      "Encoding + learning time : 0.0612 seconds\n",
      "AUC PR : 0.6431605579967865\n"
     ]
    }
   ],
   "source": [
    "reg = LogisticRegression(max_iter=100000)\n",
    "\n",
    "\n",
    "begin = datetime.now()\n",
    "print(f\"shape before drop {X_train_ohe.shape}\")\n",
    "X_train_ohe = X_train_ohe[:, list(our_features)]\n",
    "print(f\"shape after drop {X_train_ohe.shape}\")\n",
    "reg.fit(X_train_ohe, y_train)\n",
    "print(f\"Encoding + learning time : {(datetime.now() - begin).total_seconds()} seconds\")\n",
    "\n",
    "X_test_ohe = column_transformer.transform(X_test).toarray()\n",
    "X_test_ohe = np.concatenate((X_test_ohe, X_test[numeric].to_numpy()), axis=1)\n",
    "X_test_ohe = scaler.transform(X_test_ohe)\n",
    "y_pred = reg.predict(X_test_ohe[:, list(our_features)])\n",
    "auc_pr, auc_roc = get_metrics(y_test, y_pred)\n",
    "print(f\"AUC PR : {auc_pr}\")"
   ]
  },
  {
   "cell_type": "markdown",
   "metadata": {
    "id": "wj6a-BERP75j"
   },
   "source": [
    "Давайте подведём итоги по отбору признаков. Назовите преимущества и недостатки каждого из методов. Какой метод привёл к наилучшему качеству?\n",
    "\n",
    "**Ответ:** \n",
    "\n",
    "Самый лучший метод это отсортить по значимости и выкинуть мусорные, он показал хорошие результаты + он не очень долгий. На основе t-статистики тоже ничего, довольно быстро, но показал себя хуже, чем первый. Последний самый ужасный, потому что очень долго считается, мб у него качество и получше будет, но ждать столько невозможно, поэтому хз."
   ]
  },
  {
   "cell_type": "markdown",
   "metadata": {
    "id": "zrR06pp7P75k"
   },
   "source": [
    "# Часть 4. Оценка экономического эффекта модели\n",
    "\n",
    "> В данной части мы займемся тем, что от вас скорее всего потребуется на реальной работе (помимо перекладки `json`, разумеется). А именно: \n",
    "- мы соберем несколько специализированных метрик качества,\n",
    "- попытаемся настроить модель на максимизацию _прибыли_,\n",
    "- оценим, сколько вообще получится заработать на этом.\n",
    "\n",
    "> Разумеется, здесь будет сделано множество упрощающих жизнь допущений, но обо всем по порядку. Если вы всё прослушали на экономике, то напомним, что выручка — это сколько денег нам принесли клиенты, а прибыль — выручка за вычетом расходов на зарплату и прочее."
   ]
  },
  {
   "cell_type": "markdown",
   "metadata": {
    "id": "NQkW5Xh6yip2"
   },
   "source": [
    "\n",
    "#### __Задание 12. Прогноз по доходам и расходам__ (1 балл)\n",
    "\n",
    "В этой части мы будем работать с данными [UCI Bank Marketing Dataset](https://archive.ics.uci.edu/ml/datasets/bank+marketing). Этот датасет содержит информацию о банковском телефонном маркетинге.\n",
    "\n",
    "__Объектом__ здесь является телефонный звонок потенциальному клиенту с предложением некоторой услуги (утверждается, что это краткосрочный депозит). В качестве признакового описания используются характеристики клиента (образование, брак и т.д.), данные о звонке и различные экономические индикаторы - более подробная информация представлена в файле `bank-additional-names.txt`.\n",
    "__Целевая переменная__ - ответ клиента (согласился ли он открыть депозит?)"
   ]
  },
  {
   "cell_type": "code",
   "execution_count": 163,
   "metadata": {
    "id": "e9WBqQd1aAjp"
   },
   "outputs": [
    {
     "name": "stdout",
     "output_type": "stream",
     "text": [
      "--2022-11-21 19:14:39--  https://archive.ics.uci.edu/ml/machine-learning-databases/00222/bank-additional.zip\n",
      "Распознаётся archive.ics.uci.edu (archive.ics.uci.edu)… 128.195.10.252\n",
      "Подключение к archive.ics.uci.edu (archive.ics.uci.edu)|128.195.10.252|:443... соединение установлено.\n",
      "HTTP-запрос отправлен. Ожидание ответа… 200 OK\n",
      "Длина: 444572 (434K) [application/x-httpd-php]\n",
      "Сохранение в: «bank-additional.zip.2»\n",
      "\n",
      "bank-additional.zip  66%[============>       ] 287,00K   239KB/s               ^C\n",
      "Archive:  bank-additional.zip\n",
      "replace bank-additional/.DS_Store? [y]es, [n]o, [A]ll, [N]one, [r]ename: ^C\n"
     ]
    }
   ],
   "source": [
    "!wget https://archive.ics.uci.edu/ml/machine-learning-databases/00222/bank-additional.zip\n",
    "!unzip bank-additional.zip\n",
    "df = pd.read_csv('bank-additional/bank-additional-full.csv', sep=';')"
   ]
  },
  {
   "cell_type": "code",
   "execution_count": null,
   "metadata": {
    "id": "Gbw5k7lMaYT1"
   },
   "outputs": [
    {
     "data": {
      "text/html": [
       "<div>\n",
       "<style scoped>\n",
       "    .dataframe tbody tr th:only-of-type {\n",
       "        vertical-align: middle;\n",
       "    }\n",
       "\n",
       "    .dataframe tbody tr th {\n",
       "        vertical-align: top;\n",
       "    }\n",
       "\n",
       "    .dataframe thead th {\n",
       "        text-align: right;\n",
       "    }\n",
       "</style>\n",
       "<table border=\"1\" class=\"dataframe\">\n",
       "  <thead>\n",
       "    <tr style=\"text-align: right;\">\n",
       "      <th></th>\n",
       "      <th>age</th>\n",
       "      <th>job</th>\n",
       "      <th>marital</th>\n",
       "      <th>education</th>\n",
       "      <th>default</th>\n",
       "      <th>housing</th>\n",
       "      <th>loan</th>\n",
       "      <th>contact</th>\n",
       "      <th>month</th>\n",
       "      <th>day_of_week</th>\n",
       "      <th>duration</th>\n",
       "      <th>campaign</th>\n",
       "      <th>pdays</th>\n",
       "      <th>previous</th>\n",
       "      <th>poutcome</th>\n",
       "      <th>emp.var.rate</th>\n",
       "      <th>cons.price.idx</th>\n",
       "      <th>cons.conf.idx</th>\n",
       "      <th>euribor3m</th>\n",
       "      <th>nr.employed</th>\n",
       "      <th>y</th>\n",
       "    </tr>\n",
       "  </thead>\n",
       "  <tbody>\n",
       "    <tr>\n",
       "      <th>0</th>\n",
       "      <td>56</td>\n",
       "      <td>housemaid</td>\n",
       "      <td>married</td>\n",
       "      <td>basic.4y</td>\n",
       "      <td>no</td>\n",
       "      <td>no</td>\n",
       "      <td>no</td>\n",
       "      <td>telephone</td>\n",
       "      <td>may</td>\n",
       "      <td>mon</td>\n",
       "      <td>261</td>\n",
       "      <td>1</td>\n",
       "      <td>999</td>\n",
       "      <td>0</td>\n",
       "      <td>nonexistent</td>\n",
       "      <td>1.1</td>\n",
       "      <td>93.994</td>\n",
       "      <td>-36.4</td>\n",
       "      <td>4.857</td>\n",
       "      <td>5191.0</td>\n",
       "      <td>no</td>\n",
       "    </tr>\n",
       "    <tr>\n",
       "      <th>1</th>\n",
       "      <td>57</td>\n",
       "      <td>services</td>\n",
       "      <td>married</td>\n",
       "      <td>high.school</td>\n",
       "      <td>unknown</td>\n",
       "      <td>no</td>\n",
       "      <td>no</td>\n",
       "      <td>telephone</td>\n",
       "      <td>may</td>\n",
       "      <td>mon</td>\n",
       "      <td>149</td>\n",
       "      <td>1</td>\n",
       "      <td>999</td>\n",
       "      <td>0</td>\n",
       "      <td>nonexistent</td>\n",
       "      <td>1.1</td>\n",
       "      <td>93.994</td>\n",
       "      <td>-36.4</td>\n",
       "      <td>4.857</td>\n",
       "      <td>5191.0</td>\n",
       "      <td>no</td>\n",
       "    </tr>\n",
       "    <tr>\n",
       "      <th>2</th>\n",
       "      <td>37</td>\n",
       "      <td>services</td>\n",
       "      <td>married</td>\n",
       "      <td>high.school</td>\n",
       "      <td>no</td>\n",
       "      <td>yes</td>\n",
       "      <td>no</td>\n",
       "      <td>telephone</td>\n",
       "      <td>may</td>\n",
       "      <td>mon</td>\n",
       "      <td>226</td>\n",
       "      <td>1</td>\n",
       "      <td>999</td>\n",
       "      <td>0</td>\n",
       "      <td>nonexistent</td>\n",
       "      <td>1.1</td>\n",
       "      <td>93.994</td>\n",
       "      <td>-36.4</td>\n",
       "      <td>4.857</td>\n",
       "      <td>5191.0</td>\n",
       "      <td>no</td>\n",
       "    </tr>\n",
       "    <tr>\n",
       "      <th>3</th>\n",
       "      <td>40</td>\n",
       "      <td>admin.</td>\n",
       "      <td>married</td>\n",
       "      <td>basic.6y</td>\n",
       "      <td>no</td>\n",
       "      <td>no</td>\n",
       "      <td>no</td>\n",
       "      <td>telephone</td>\n",
       "      <td>may</td>\n",
       "      <td>mon</td>\n",
       "      <td>151</td>\n",
       "      <td>1</td>\n",
       "      <td>999</td>\n",
       "      <td>0</td>\n",
       "      <td>nonexistent</td>\n",
       "      <td>1.1</td>\n",
       "      <td>93.994</td>\n",
       "      <td>-36.4</td>\n",
       "      <td>4.857</td>\n",
       "      <td>5191.0</td>\n",
       "      <td>no</td>\n",
       "    </tr>\n",
       "    <tr>\n",
       "      <th>4</th>\n",
       "      <td>56</td>\n",
       "      <td>services</td>\n",
       "      <td>married</td>\n",
       "      <td>high.school</td>\n",
       "      <td>no</td>\n",
       "      <td>no</td>\n",
       "      <td>yes</td>\n",
       "      <td>telephone</td>\n",
       "      <td>may</td>\n",
       "      <td>mon</td>\n",
       "      <td>307</td>\n",
       "      <td>1</td>\n",
       "      <td>999</td>\n",
       "      <td>0</td>\n",
       "      <td>nonexistent</td>\n",
       "      <td>1.1</td>\n",
       "      <td>93.994</td>\n",
       "      <td>-36.4</td>\n",
       "      <td>4.857</td>\n",
       "      <td>5191.0</td>\n",
       "      <td>no</td>\n",
       "    </tr>\n",
       "  </tbody>\n",
       "</table>\n",
       "</div>"
      ],
      "text/plain": [
       "   age        job  marital    education  default housing loan    contact  \\\n",
       "0   56  housemaid  married     basic.4y       no      no   no  telephone   \n",
       "1   57   services  married  high.school  unknown      no   no  telephone   \n",
       "2   37   services  married  high.school       no     yes   no  telephone   \n",
       "3   40     admin.  married     basic.6y       no      no   no  telephone   \n",
       "4   56   services  married  high.school       no      no  yes  telephone   \n",
       "\n",
       "  month day_of_week  duration  campaign  pdays  previous     poutcome  \\\n",
       "0   may         mon       261         1    999         0  nonexistent   \n",
       "1   may         mon       149         1    999         0  nonexistent   \n",
       "2   may         mon       226         1    999         0  nonexistent   \n",
       "3   may         mon       151         1    999         0  nonexistent   \n",
       "4   may         mon       307         1    999         0  nonexistent   \n",
       "\n",
       "   emp.var.rate  cons.price.idx  cons.conf.idx  euribor3m  nr.employed   y  \n",
       "0           1.1          93.994          -36.4      4.857       5191.0  no  \n",
       "1           1.1          93.994          -36.4      4.857       5191.0  no  \n",
       "2           1.1          93.994          -36.4      4.857       5191.0  no  \n",
       "3           1.1          93.994          -36.4      4.857       5191.0  no  \n",
       "4           1.1          93.994          -36.4      4.857       5191.0  no  "
      ]
     },
     "execution_count": 144,
     "metadata": {},
     "output_type": "execute_result"
    }
   ],
   "source": [
    "df.head()"
   ]
  },
  {
   "cell_type": "code",
   "execution_count": null,
   "metadata": {
    "id": "qmxCn_Pz3kJB"
   },
   "outputs": [],
   "source": [
    "X = df.drop(columns=['duration', 'y'])\n",
    "y = (df.y == 'yes')"
   ]
  },
  {
   "cell_type": "markdown",
   "metadata": {
    "id": "lMKgtxfwaBEQ"
   },
   "source": [
    "В этой части не нужно делить выборку - мы будем использовать кросс-валидацию.  Используйте 5 фолдов, сделайте `shuffle=True, random_state=500`. По кросс-валидации у вас получится 5 вариантов обучающей и тестовой выборки."
   ]
  },
  {
   "cell_type": "code",
   "execution_count": 146,
   "metadata": {
    "id": "xYPjtfnqP75k"
   },
   "outputs": [],
   "source": [
    "# your code here"
   ]
  },
  {
   "cell_type": "markdown",
   "metadata": {
    "id": "YIX-omTIyxtU"
   },
   "source": [
    "Обучите логистическую регрессию на каждой обучающей выборке (воспользуйтесь one-hot для категориальных признаков и `StandardScaler` для числовых, гиперпараметры по умолчанию) и сделайте предсказания для соответствующих тестовых выборок."
   ]
  },
  {
   "cell_type": "code",
   "execution_count": 147,
   "metadata": {
    "id": "5V3f4cQryx6c"
   },
   "outputs": [],
   "source": [
    "# your code here"
   ]
  },
  {
   "cell_type": "markdown",
   "metadata": {
    "id": "CcuHfZjfzmnt"
   },
   "source": [
    "Допустим, работники вашего колл-центра получают за один звонок клиенту 1 доллар. При согласии клиента на предлагаемые условия он принесет в банк 10 долларов. Предположим, что всем положительным прогнозам ваши сотрудники решили позвонить. Посчитайте на всех тестовых выборках выручку и усредните. Также вычислите стандартное отклонение.\n",
    "- Сколько денег вы в среднем заработаете? \n",
    "- Сколько из заработанных денег придётся отдать операторам вашего колл-центра?"
   ]
  },
  {
   "cell_type": "code",
   "execution_count": 148,
   "metadata": {
    "id": "0okqAh-AzWTX"
   },
   "outputs": [],
   "source": [
    "# your code here"
   ]
  },
  {
   "cell_type": "markdown",
   "metadata": {
    "id": "Da1x6u6wP75k"
   },
   "source": [
    "Внесем некоторую долю случайности. Пусть теперь согласный на условия клиент будет приносить не 10 долларов, а случайную величину, равномерно распределенную в интервале $[0;20)$. Проделайте все те же самые действия. Для имитации реальной ситуации **НЕ** фиксируйте `random_seed` при подсчете выручки с клиента. Что получилось?"
   ]
  },
  {
   "cell_type": "code",
   "execution_count": 149,
   "metadata": {
    "id": "0AKmJpRAP75k"
   },
   "outputs": [],
   "source": [
    "#your code here"
   ]
  },
  {
   "cell_type": "markdown",
   "metadata": {
    "id": "O1g9FPExP75k"
   },
   "source": [
    "Настройте по кросс-валидации коэффициент регуляризации модели для максимизации прибыли (считайте как случайную величину выше). Удалось ли получить какой-то выигрыш? При каком коэффициенте регуляризациии прибыль максимальна? Постройте график зависимости ожидаемой прибыли от коэффициента, укажите стандартные отклонения (вам поможет `plt.errorbar`, [пример](https://jakevdp.github.io/PythonDataScienceHandbook/04.03-errorbars.html))."
   ]
  },
  {
   "cell_type": "code",
   "execution_count": 150,
   "metadata": {
    "id": "YXx7qU5PP75l"
   },
   "outputs": [],
   "source": [
    "#your code here"
   ]
  },
  {
   "cell_type": "markdown",
   "metadata": {
    "id": "sdptRdaIP75l"
   },
   "source": [
    "Попробуйте запустить перебор несколько раз. Находится ли каждый раз один и тот же \"лучший\" коэффициент? Присутствует ли какая-то закономерность? Какие вы можете сделать из этого выводы?"
   ]
  },
  {
   "cell_type": "code",
   "execution_count": 151,
   "metadata": {
    "id": "inD5UMbGP75l"
   },
   "outputs": [],
   "source": [
    "#your code here"
   ]
  },
  {
   "cell_type": "markdown",
   "metadata": {
    "id": "J0j8HubaP75l"
   },
   "source": [
    "#### __Задание 13. Ключевая метрика__ (1 балл)\n",
    "\n",
    "Выше мы уже описали примерную экономическую модель вашей задачи. Как вы считаете, что для вашего бизнеса важнее — хороший precision или recall модели? Почему?\n",
    "\n",
    "__Ответ:__ # your answer here\n",
    "\n"
   ]
  },
  {
   "cell_type": "markdown",
   "metadata": {
    "id": "4LFRNnrtP75m"
   },
   "source": [
    "> Вспомним, что на самом деле логистическая регрессия предсказывает нам вероятности положительного класса для объекта. Возможно, путем настройки __порога бинаризации__ этих вероятностей мы сможем получить какой-то выигрыш?\n",
    "\n",
    "Проверьте ваши рассуждения выше с помощью настройки порога бинаризации на кросс-валидации для максимизации прибыли. Воспользуйтесь сеткой от 0 до 1 с шагом 0.01. Напомним, что снижение порога дает нам более высокий recall и более низкий precision, и наоборот."
   ]
  },
  {
   "cell_type": "code",
   "execution_count": 152,
   "metadata": {
    "id": "3ALl1YeBP75m"
   },
   "outputs": [],
   "source": [
    "#your code here"
   ]
  },
  {
   "cell_type": "markdown",
   "metadata": {
    "id": "fLL7uqb2P75m"
   },
   "source": [
    "Постройте график зависимости прибыли от порога бинаризации, также отметьте на нем стандартные отклонения. Выделите наилучший порог. \n",
    "\n",
    "\n",
    "__Вопрос:__ Замечаете ли вы какую-то закономерность? Для правильного ответа на этот вопрос попробуйте запустить несколько раз и задумайтесь, почему порог получается в какой-то конкретной области?"
   ]
  },
  {
   "cell_type": "code",
   "execution_count": 153,
   "metadata": {
    "id": "K2D3BkVsP75m"
   },
   "outputs": [],
   "source": [
    "#your code here"
   ]
  },
  {
   "cell_type": "markdown",
   "metadata": {
    "id": "i7Ksl7b9P75m"
   },
   "source": [
    "Каковы значения precision и recall на выбранном пороге? Оцените по кросс-валидации. Также вычислите стандартное отклонение."
   ]
  },
  {
   "cell_type": "code",
   "execution_count": 154,
   "metadata": {
    "id": "i0fwjmYGP75n"
   },
   "outputs": [],
   "source": [
    "#your code here"
   ]
  },
  {
   "cell_type": "markdown",
   "metadata": {
    "id": "H4xmz6caP75n"
   },
   "source": [
    "Можно пронаблюдать, что наша модель склоняется к более высокому recall. Попробуйте оценить качество модели с помощью `PR-AUC` в зоне recall $\\geq$ 0.5. Сделайте это следующим образом:\n",
    "- выберите только те пороги, на которых достигается необходимый recall,\n",
    "- затем интерпретируйте отсеченный в единичном квадрате прямоугольник как новый единичный квадрат,\n",
    "- посчитайте площадь под отсеченной кривой"
   ]
  },
  {
   "cell_type": "code",
   "execution_count": 155,
   "metadata": {
    "id": "lbYWnxfgP75n"
   },
   "outputs": [],
   "source": [
    "#your code here"
   ]
  },
  {
   "cell_type": "markdown",
   "metadata": {
    "id": "ACYk14eyP75n"
   },
   "source": [
    "__Бонус (0.01 балла):__ что вы кушали в день сдачи данного ДЗ на завтрак?\n",
    "\n",
    "__Ответ:__ Навернул говна, делая данное дз, конечно (ладно, шутка, но вообще обещали, что это дз будет быстрым, а оказалось-то не очень)"
   ]
  }
 ],
 "metadata": {
  "colab": {
   "collapsed_sections": [
    "eMwMhTpA1MwR"
   ],
   "provenance": []
  },
  "kernelspec": {
   "display_name": "Python 3.10.7 64-bit",
   "language": "python",
   "name": "python3"
  },
  "language_info": {
   "codemirror_mode": {
    "name": "ipython",
    "version": 3
   },
   "file_extension": ".py",
   "mimetype": "text/x-python",
   "name": "python",
   "nbconvert_exporter": "python",
   "pygments_lexer": "ipython3",
   "version": "3.10.7"
  },
  "vscode": {
   "interpreter": {
    "hash": "aee8b7b246df8f9039afb4144a1f6fd8d2ca17a180786b69acc140d282b71a49"
   }
  }
 },
 "nbformat": 4,
 "nbformat_minor": 1
}
