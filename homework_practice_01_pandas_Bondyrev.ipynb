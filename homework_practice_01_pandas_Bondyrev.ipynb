{
  "cells": [
    {
      "cell_type": "markdown",
      "metadata": {
        "id": "HcF9My_FhLuk"
      },
      "source": [
        "## Машинное обучение 1, ПМИ ФКН ВШЭ\n",
        "\n",
        "## Практическое домашнее задание 1\n",
        "\n",
        "### Общая информация\n",
        "\n",
        "Дата выдачи: 09.09.2022\n",
        "\n",
        "Мягкий дедлайн: 23:59MSK 22.09.2022\n",
        "\n",
        "Жесткий дедлайн: 23:59MSK 29.09.2022"
      ]
    },
    {
      "cell_type": "markdown",
      "metadata": {
        "id": "G64TptyJhLuo"
      },
      "source": [
        "### О задании\n",
        "\n",
        "Задание состоит из двух разделов, посвященных работе с табличными данными с помощью библиотеки pandas и визуализации с помощью matplotlib. В первом разделе вам предстоит выполнить базовые задания с помощью вышеуказанных библиотек, а во втором распределить студентов по курсам. Баллы даются за выполнение отдельных пунктов. Задачи в рамках одного раздела рекомендуется решать в том порядке, в котором они даны в задании.\n",
        "\n",
        "Задание направлено на освоение jupyter notebook (будет использоваться в дальнейших заданиях), библиотек pandas и matplotlib.\n",
        "\n",
        "### Оценивание и штрафы\n",
        "Каждая из задач имеет определенную «стоимость» (указана в скобках около задачи). Максимально допустимая оценка за работу — 10 баллов.\n",
        "\n",
        "Сдавать задание после жёсткого дедлайна нельзя. При выставлении неполного балла за задание в связи с наличием ошибок на усмотрение проверяющего предусмотрена возможность исправить работу на указанных в ответном письме условиях.\n",
        "\n",
        "Задание выполняется самостоятельно. «Похожие» решения считаются плагиатом и все задействованные студенты (в том числе те, у кого списали) не могут получить за него больше 0 баллов (подробнее о плагиате см. на странице курса). Если вы нашли решение какого-то из заданий (или его часть) в открытом источнике, необходимо указать ссылку на этот источник (скорее всего вы будете не единственным, кто это нашел, поэтому чтобы исключить подозрение в плагиате, необходима ссылка на источник).\n",
        "\n",
        "### Формат сдачи\n",
        "Задания сдаются через систему Anytask. Инвайт можно получить у семинариста или ассистента. Присылать необходимо ноутбук с выполненным заданием. Сам ноутбук называйте в формате homework-practice-01-pandas-Username.ipynb, где Username — ваша фамилия.\n",
        "\n",
        "Для удобства проверки самостоятельно посчитайте свою максимальную оценку (исходя из набора решенных задач) и укажите ниже.\n",
        "\n",
        "Оценка: xx."
      ]
    },
    {
      "cell_type": "markdown",
      "metadata": {
        "id": "BaXlfHE_hLup"
      },
      "source": [
        "## 0. Введение"
      ]
    },
    {
      "cell_type": "markdown",
      "metadata": {
        "id": "wirAvJNxhLup"
      },
      "source": [
        "Сейчас мы находимся в jupyter-ноутбуке (или ipython-ноутбуке). Это удобная среда для написания кода, проведения экспериментов, изучения данных, построения визуализаций и других нужд, не связанных с написанием production-кода. \n",
        "\n",
        "Ноутбук состоит из ячеек, каждая из которых может быть либо ячейкой с кодом, либо ячейкой с текстом размеченным и неразмеченным. Текст поддерживает markdown-разметку и формулы в Latex.\n",
        "\n",
        "Для работы с содержимым ячейки используется *режим редактирования* (*Edit mode*, включается нажатием клавиши **Enter** после выбора ячейки), а для навигации между ячейками искользуется *командный режим* (*Command mode*, включается нажатием клавиши **Esc**). Тип ячейки можно задать в командном режиме либо с помощью горячих клавиш (**y** to code, **m** to markdown, **r** to edit raw text), либо в меню *Cell -> Cell type*. \n",
        "\n",
        "После заполнения ячейки нужно нажать *Shift + Enter*, эта команда обработает содержимое ячейки: проинтерпретирует код или сверстает размеченный текст."
      ]
    },
    {
      "cell_type": "code",
      "execution_count": null,
      "metadata": {
        "id": "aQ2_j3nkhLuq",
        "colab": {
          "base_uri": "https://localhost:8080/"
        },
        "outputId": "55b920b5-2ddd-486e-ee20-88a5eb54e796"
      },
      "outputs": [
        {
          "output_type": "execute_result",
          "data": {
            "text/plain": [
              "4"
            ]
          },
          "metadata": {},
          "execution_count": 1
        }
      ],
      "source": [
        "# ячейка с кодом, при выполнении которой появится output\n",
        "2 + 2"
      ]
    },
    {
      "cell_type": "markdown",
      "metadata": {
        "id": "ZlulCwVKhLur"
      },
      "source": [
        "Ячейка с неразмеченыным текстом."
      ]
    },
    {
      "cell_type": "markdown",
      "metadata": {
        "id": "A4wkVlIehLur"
      },
      "source": [
        "Попробуйте создать свои ячейки, написать какой-нибудь код и текст какой-нибудь формулой."
      ]
    },
    {
      "cell_type": "code",
      "execution_count": null,
      "metadata": {
        "id": "BIuaYSvqhLus"
      },
      "outputs": [],
      "source": [
        "# your code"
      ]
    },
    {
      "cell_type": "markdown",
      "metadata": {
        "id": "iWs6ljrIhLus"
      },
      "source": [
        "[Здесь](https://athena.brynmawr.edu/jupyter/hub/dblank/public/Jupyter%20Notebook%20Users%20Manual.ipynb) находится <s>не</s>большая заметка о используемом языке разметки Markdown. Он позволяет:\n",
        "\n",
        "0. Составлять упорядоченные списки\n",
        "1. Выделять *текст* <s>при</s> **необходимости**\n",
        "2. Добавлять [ссылки](http://imgs.xkcd.com/comics/the_universal_label.png)\n",
        "\n",
        "\n",
        "* Составлять неупорядоченные списки\n",
        "\n",
        "Делать вставки с помощью LaTex:\n",
        "    \n",
        "$\n",
        "\\left\\{\n",
        "\\begin{array}{ll}\n",
        "x = 16 \\sin^3 (t) \\\\ \n",
        "y = 13 \\cos (t) - 5 \\cos (2t) - 2 \\cos (3t) - \\cos (4t) \\\\\n",
        "t \\in [0, 2 \\pi]\n",
        "\\end{array}\n",
        "\\right.$"
      ]
    },
    {
      "cell_type": "markdown",
      "metadata": {
        "id": "6fmTGcXOhLus"
      },
      "source": [
        "А ещё можно вставлять картинки, или гифки, или что захотите:\n",
        "\n",
        "<img src=\"https://media1.tenor.com/images/9b8fbe9214504bcf6c60fe4e4f7e114e/tenor.gif?itemid=5416416\" style=\"width: 400px\">"
      ]
    },
    {
      "cell_type": "markdown",
      "metadata": {
        "id": "J_toGw7DhLut"
      },
      "source": [
        "### Google Colab"
      ]
    },
    {
      "cell_type": "markdown",
      "metadata": {
        "id": "jpkbCVjGhLut"
      },
      "source": [
        "Что за колаб? \n",
        "\n",
        "**Google Colab (Colaboratory)** это **Jupyter Notebook + Cloud + Google Drive.**\n",
        "\n",
        "Компания Google предоставляет возможность бесплатно запускать ноутбуки (предварительно загрузив их на свой гугл-диск) прямо в облаке. При этом вам не требуется установка никаких пакетов на свою машину, а работать можно прямиком из браузера. Вот ссылка:"
      ]
    },
    {
      "cell_type": "markdown",
      "metadata": {
        "id": "06MQog3yhLut"
      },
      "source": [
        "https://colab.research.google.com"
      ]
    },
    {
      "cell_type": "markdown",
      "metadata": {
        "id": "5_hfWXKPhLut"
      },
      "source": [
        "При использовании вы увидете много сходств с jupyter ноутбуком. Одним из преимуществ является доступность GPU, соответствующую опцию можно активировать в настройках сервиса. При желании вы сможете найти в интернете много туториалов по использованию или разобраться самостоятельно =)"
      ]
    },
    {
      "cell_type": "markdown",
      "metadata": {
        "id": "sUe2vnFGhLuu"
      },
      "source": [
        "## 1. Табличные данные и Pandas"
      ]
    },
    {
      "cell_type": "markdown",
      "metadata": {
        "id": "DJQzjjqJhLuu"
      },
      "source": [
        "Pandas — удобная библиотека для работы с табличными данными в Python, если данных не слишком много и они помещаются в оперативную память вашего компьютера. Несмотря на неэффективность реализации и некоторые проблемы, библиотека стала стандартом в анализе данных.\n",
        "\n",
        "Основной объект в pandas — это DataFrame, представляющий собой таблицу с именованными колонками различных типов, индексом (может быть многоуровневым). DataFrame можно создавать, считывая таблицу из файла или задавая вручную из других объектов.\n",
        "\n",
        "В этой части потребуется выполнить несколько небольших заданий. Можно пойти двумя путями: сначала изучить материалы, а потом приступить к заданиям, или же разбираться \"по ходу\". Выбирайте сами.\n",
        "\n",
        "Материалы:\n",
        "1. [Pandas за 10 минут из официального руководства](http://pandas.pydata.org/pandas-docs/stable/10min.html)\n",
        "2. [Документация](http://pandas.pydata.org/pandas-docs/stable/index.html) (стоит обращаться, если не понятно, как вызывать конкретный метод)\n",
        "3. [Примеры использования функционала](http://nbviewer.jupyter.org/github/justmarkham/pandas-videos/blob/master/pandas.ipynb)\n",
        "\n",
        "Многие из заданий можно выполнить несколькими способами. Не существуют единственно верного, но попробуйте максимально задействовать арсенал pandas и ориентируйтесь на простоту и понятность вашего кода. Мы не будем подсказывать, что нужно использовать для решения конкретной задачи, попробуйте находить необходимый функционал сами (название метода чаще всего очевидно). В помощь вам документация, поиск и stackoverflow."
      ]
    },
    {
      "cell_type": "code",
      "execution_count": 1,
      "metadata": {
        "id": "26zbFY25hLuv",
        "outputId": "1b8b53da-0f30-4c33-b89a-22a7104e70d4",
        "colab": {
          "base_uri": "https://localhost:8080/"
        }
      },
      "outputs": [
        {
          "output_type": "stream",
          "name": "stdout",
          "text": [
            "Populating the interactive namespace from numpy and matplotlib\n"
          ]
        }
      ],
      "source": [
        "%pylab inline\n",
        "import pandas as pd\n",
        "import numpy as np"
      ]
    },
    {
      "cell_type": "markdown",
      "metadata": {
        "id": "s6ZxS-57h72n"
      },
      "source": [
        "<span style=\"color:red\">Перед выполнением задания необходимо ознакомиться с первым семинаром (seminars/sem01-pandas.ipynb) </span>.\n",
        "\n",
        "Это поможет вам получить общее понимание происходяшего и успешнее справиться с заданием.\n",
        "\n",
        "Также успешному выполнению способствует внимательное чтение текста задания от начала до конца.\n",
        "\n",
        "Удачи!"
      ]
    },
    {
      "cell_type": "markdown",
      "metadata": {
        "id": "dneJl9TyhLuv"
      },
      "source": [
        "Скачаем подготовленные на семинаре данные:"
      ]
    },
    {
      "cell_type": "code",
      "execution_count": 2,
      "metadata": {
        "id": "rj_I0RslhLuw"
      },
      "outputs": [],
      "source": [
        "!wget  -O 'end_seminar.xlsx' -q 'https://www.dropbox.com/s/f4rm8sjc3v99p0m/_end_seminar.xlsx?dl=0'"
      ]
    },
    {
      "cell_type": "markdown",
      "metadata": {
        "id": "5hp7bn_ThLuw"
      },
      "source": [
        "Для пользователей Windows: скачайте файл самостоятельно и поместите его в папку с тетрадкой. Или попробуйте один из следующих вариантов:"
      ]
    },
    {
      "cell_type": "code",
      "execution_count": null,
      "metadata": {
        "id": "4h4_BaX8hLuw"
      },
      "outputs": [],
      "source": [
        "# !powershell iwr -outf somefile https://somesite/somefile"
      ]
    },
    {
      "cell_type": "code",
      "execution_count": null,
      "metadata": {
        "id": "7bHroLGChLuw"
      },
      "outputs": [],
      "source": [
        "# !pip install wget\n",
        "# import wget \n",
        "# wget.download('https://dropbox.com/s/f4rm8sjc3v99p0m/_end_seminar.xlsx?dl=1', 'end_seminar.xlsx')"
      ]
    },
    {
      "cell_type": "markdown",
      "metadata": {
        "id": "VFs_6IythLux"
      },
      "source": [
        "##### В первой части задания (до раздела \"Распределение студентов по курсам\") использование циклов запрещается и повлечет за собой снижение оценки. Использование <code>vectorize</code> и  <code>apply</code>, <code>apply_along_axis</code> крайне нежелательно."
      ]
    },
    {
      "cell_type": "markdown",
      "metadata": {
        "id": "shFkfJkohLux"
      },
      "source": [
        "Для каждой задачи из этого раздела вы должны написать код для получения ответа, а также дать текстовый ответ, если он предполагается.\n",
        "\n",
        "На некоторые вопросы вы можете получить путём пристального взгляда на таблицу, но это не будет засчитываться. Вы в любом случае должны получить ответ с помощью кода."
      ]
    },
    {
      "cell_type": "markdown",
      "metadata": {
        "id": "gDD85M7bhLux"
      },
      "source": [
        "#### 1. [0 баллов] Откройте файл с таблицей (не забудьте про её формат). Выведите последние 10 строк.\n",
        "\n",
        "Посмотрите на данные и скажите, что они из себя представляют, сколько в таблице строк, какие столбцы? (на это не надо отвечать, просто подумайте об этом)"
      ]
    },
    {
      "cell_type": "code",
      "execution_count": 3,
      "metadata": {
        "id": "PKulur3LhLuy",
        "colab": {
          "base_uri": "https://localhost:8080/",
          "height": 800
        },
        "outputId": "22cd3756-18dd-4095-88e9-da6e3a61fa46"
      },
      "outputs": [
        {
          "output_type": "execute_result",
          "data": {
            "text/plain": [
              "                  timestamp                                id  rating  \\\n",
              "0   2020-05-15 01:12:50.543  93ff79a51cd602f1dd3028ba2c129503     698   \n",
              "1   2020-05-15 02:46:48.066  26b01b1c4cd5656bab18d24c548834fb     647   \n",
              "2   2020-05-15 03:12:41.480  30f3653fc176d54e89ac3179c455c6dd     624   \n",
              "3   2020-05-15 04:43:08.994  1528f0eaa027580820ccf0d92a53ad68     579   \n",
              "4   2020-05-15 07:47:17.197  496ea4f0d4abe264b1bb1b80eb3830c5     572   \n",
              "..                      ...                               ...     ...   \n",
              "356 2020-05-19 19:04:17.873  c5870b37ee3f672e4259dfb2fc02ed8f    1029   \n",
              "357 2020-05-19 20:19:25.815  f44aea1095f9f5b8e2f5f0ed2b17891b    1060   \n",
              "358 2020-05-20 11:54:38.318  d7118b44c7e8fdbbaaca226d2da6fef1    1111   \n",
              "359 2020-05-23 21:16:40.916  79d14db48e4737af731960ae212d5134     966   \n",
              "360 2020-05-23 21:16:40.916  f2d210ace25a841e1e58036b257d5d47    1195   \n",
              "\n",
              "     18_group  is_mi                                           fall_1  \\\n",
              "0       181.0    NaN                                         Язык SQL   \n",
              "1       181.0    NaN                Высокопроизводительные вычисления   \n",
              "2       185.0    NaN                 Безопасность компьютерных систем   \n",
              "3       182.0    NaN                      Statistical Learning Theory   \n",
              "4       183.0    NaN                Высокопроизводительные вычисления   \n",
              "..        ...    ...                                              ...   \n",
              "356       NaN    NaN                      Statistical Learning Theory   \n",
              "357       NaN    NaN                Анализ неструктурированных данных   \n",
              "358       NaN    NaN  Сбор и обработка данных с помощью краудсорсинга   \n",
              "359       NaN    NaN                 Безопасность компьютерных систем   \n",
              "360       NaN    NaN                Анализ неструктурированных данных   \n",
              "\n",
              "                                                fall_2  \\\n",
              "0                    Высокопроизводительные вычисления   \n",
              "1                     Безопасность компьютерных систем   \n",
              "2                                 Матричные вычисления   \n",
              "3                    Высокопроизводительные вычисления   \n",
              "4                     Безопасность компьютерных систем   \n",
              "..                                                 ...   \n",
              "356                  Анализ неструктурированных данных   \n",
              "357                  Высокопроизводительные вычисления   \n",
              "358                        Statistical Learning Theory   \n",
              "359  Принятие решений в условиях риска и неопределё...   \n",
              "360                      Моделирование временных рядов   \n",
              "\n",
              "                                              fall_3  \\\n",
              "0                               Матричные вычисления   \n",
              "1                                           Язык SQL   \n",
              "2                      Моделирование временных рядов   \n",
              "3                               Матричные вычисления   \n",
              "4                                  Теория баз данных   \n",
              "..                                               ...   \n",
              "356  Сбор и обработка данных с помощью краудсорсинга   \n",
              "357                    Моделирование временных рядов   \n",
              "358                Анализ неструктурированных данных   \n",
              "359                Анализ неструктурированных данных   \n",
              "360                Высокопроизводительные вычисления   \n",
              "\n",
              "                                              spring_1  \\\n",
              "0                               Дискретная оптимизация   \n",
              "1                               Дискретная оптимизация   \n",
              "2                               Дискретная оптимизация   \n",
              "3                               Дискретная оптимизация   \n",
              "4                                    Компьютерные сети   \n",
              "..                                                 ...   \n",
              "356                           Обучение с подкреплением   \n",
              "357                             Конфликты и кооперация   \n",
              "358  Проектирование и разработка высоконагруженных ...   \n",
              "359  Проектирование и разработка высоконагруженных ...   \n",
              "360                           Обучение с подкреплением   \n",
              "\n",
              "                                 spring_2  \\\n",
              "0                        Численные методы   \n",
              "1                        Численные методы   \n",
              "2                     Машинное обучение 2   \n",
              "3                        Численные методы   \n",
              "4                  Дискретная оптимизация   \n",
              "..                                    ...   \n",
              "356                Конфликты и кооперация   \n",
              "357              Обучение с подкреплением   \n",
              "358  Методы сжатия и передачи медиаданных   \n",
              "359  Методы сжатия и передачи медиаданных   \n",
              "360                   Компьютерное зрение   \n",
              "\n",
              "                                 spring_3 is_first_time  percentile  17_group  \\\n",
              "0                     Машинное обучение 2            Да    0.183857       NaN   \n",
              "1                     Машинное обучение 2           Нет    0.426009       NaN   \n",
              "2                        Численные методы            Да    0.538117       NaN   \n",
              "3                     Машинное обучение 2            Да    0.744395       NaN   \n",
              "4                        Численные методы            Да    0.780269       NaN   \n",
              "..                                    ...           ...         ...       ...   \n",
              "356                   Компьютерное зрение            Да    0.920290     174.0   \n",
              "357                      Численные методы            Да    0.840580     174.0   \n",
              "358                      Численные методы            Да    0.652174     173.0   \n",
              "359                   Компьютерное зрение            Да    0.985507     172.0   \n",
              "360  Методы сжатия и передачи медиаданных           NaN    0.369565     176.0   \n",
              "\n",
              "                            blended  is_ml_student  \n",
              "0                               NaN            NaN  \n",
              "1                               NaN            NaN  \n",
              "2                               NaN            NaN  \n",
              "3                               NaN            NaN  \n",
              "4                               NaN            NaN  \n",
              "..                              ...            ...  \n",
              "356                          DevOps            NaN  \n",
              "357                          DevOps            NaN  \n",
              "358  Соревновательный анализ данных            NaN  \n",
              "359                          DevOps            NaN  \n",
              "360  Соревновательный анализ данных            NaN  \n",
              "\n",
              "[361 rows x 16 columns]"
            ],
            "text/html": [
              "\n",
              "  <div id=\"df-26a3b4b8-1df4-4d20-9c35-d5b282a2b216\">\n",
              "    <div class=\"colab-df-container\">\n",
              "      <div>\n",
              "<style scoped>\n",
              "    .dataframe tbody tr th:only-of-type {\n",
              "        vertical-align: middle;\n",
              "    }\n",
              "\n",
              "    .dataframe tbody tr th {\n",
              "        vertical-align: top;\n",
              "    }\n",
              "\n",
              "    .dataframe thead th {\n",
              "        text-align: right;\n",
              "    }\n",
              "</style>\n",
              "<table border=\"1\" class=\"dataframe\">\n",
              "  <thead>\n",
              "    <tr style=\"text-align: right;\">\n",
              "      <th></th>\n",
              "      <th>timestamp</th>\n",
              "      <th>id</th>\n",
              "      <th>rating</th>\n",
              "      <th>18_group</th>\n",
              "      <th>is_mi</th>\n",
              "      <th>fall_1</th>\n",
              "      <th>fall_2</th>\n",
              "      <th>fall_3</th>\n",
              "      <th>spring_1</th>\n",
              "      <th>spring_2</th>\n",
              "      <th>spring_3</th>\n",
              "      <th>is_first_time</th>\n",
              "      <th>percentile</th>\n",
              "      <th>17_group</th>\n",
              "      <th>blended</th>\n",
              "      <th>is_ml_student</th>\n",
              "    </tr>\n",
              "  </thead>\n",
              "  <tbody>\n",
              "    <tr>\n",
              "      <th>0</th>\n",
              "      <td>2020-05-15 01:12:50.543</td>\n",
              "      <td>93ff79a51cd602f1dd3028ba2c129503</td>\n",
              "      <td>698</td>\n",
              "      <td>181.0</td>\n",
              "      <td>NaN</td>\n",
              "      <td>Язык SQL</td>\n",
              "      <td>Высокопроизводительные вычисления</td>\n",
              "      <td>Матричные вычисления</td>\n",
              "      <td>Дискретная оптимизация</td>\n",
              "      <td>Численные методы</td>\n",
              "      <td>Машинное обучение 2</td>\n",
              "      <td>Да</td>\n",
              "      <td>0.183857</td>\n",
              "      <td>NaN</td>\n",
              "      <td>NaN</td>\n",
              "      <td>NaN</td>\n",
              "    </tr>\n",
              "    <tr>\n",
              "      <th>1</th>\n",
              "      <td>2020-05-15 02:46:48.066</td>\n",
              "      <td>26b01b1c4cd5656bab18d24c548834fb</td>\n",
              "      <td>647</td>\n",
              "      <td>181.0</td>\n",
              "      <td>NaN</td>\n",
              "      <td>Высокопроизводительные вычисления</td>\n",
              "      <td>Безопасность компьютерных систем</td>\n",
              "      <td>Язык SQL</td>\n",
              "      <td>Дискретная оптимизация</td>\n",
              "      <td>Численные методы</td>\n",
              "      <td>Машинное обучение 2</td>\n",
              "      <td>Нет</td>\n",
              "      <td>0.426009</td>\n",
              "      <td>NaN</td>\n",
              "      <td>NaN</td>\n",
              "      <td>NaN</td>\n",
              "    </tr>\n",
              "    <tr>\n",
              "      <th>2</th>\n",
              "      <td>2020-05-15 03:12:41.480</td>\n",
              "      <td>30f3653fc176d54e89ac3179c455c6dd</td>\n",
              "      <td>624</td>\n",
              "      <td>185.0</td>\n",
              "      <td>NaN</td>\n",
              "      <td>Безопасность компьютерных систем</td>\n",
              "      <td>Матричные вычисления</td>\n",
              "      <td>Моделирование временных рядов</td>\n",
              "      <td>Дискретная оптимизация</td>\n",
              "      <td>Машинное обучение 2</td>\n",
              "      <td>Численные методы</td>\n",
              "      <td>Да</td>\n",
              "      <td>0.538117</td>\n",
              "      <td>NaN</td>\n",
              "      <td>NaN</td>\n",
              "      <td>NaN</td>\n",
              "    </tr>\n",
              "    <tr>\n",
              "      <th>3</th>\n",
              "      <td>2020-05-15 04:43:08.994</td>\n",
              "      <td>1528f0eaa027580820ccf0d92a53ad68</td>\n",
              "      <td>579</td>\n",
              "      <td>182.0</td>\n",
              "      <td>NaN</td>\n",
              "      <td>Statistical Learning Theory</td>\n",
              "      <td>Высокопроизводительные вычисления</td>\n",
              "      <td>Матричные вычисления</td>\n",
              "      <td>Дискретная оптимизация</td>\n",
              "      <td>Численные методы</td>\n",
              "      <td>Машинное обучение 2</td>\n",
              "      <td>Да</td>\n",
              "      <td>0.744395</td>\n",
              "      <td>NaN</td>\n",
              "      <td>NaN</td>\n",
              "      <td>NaN</td>\n",
              "    </tr>\n",
              "    <tr>\n",
              "      <th>4</th>\n",
              "      <td>2020-05-15 07:47:17.197</td>\n",
              "      <td>496ea4f0d4abe264b1bb1b80eb3830c5</td>\n",
              "      <td>572</td>\n",
              "      <td>183.0</td>\n",
              "      <td>NaN</td>\n",
              "      <td>Высокопроизводительные вычисления</td>\n",
              "      <td>Безопасность компьютерных систем</td>\n",
              "      <td>Теория баз данных</td>\n",
              "      <td>Компьютерные сети</td>\n",
              "      <td>Дискретная оптимизация</td>\n",
              "      <td>Численные методы</td>\n",
              "      <td>Да</td>\n",
              "      <td>0.780269</td>\n",
              "      <td>NaN</td>\n",
              "      <td>NaN</td>\n",
              "      <td>NaN</td>\n",
              "    </tr>\n",
              "    <tr>\n",
              "      <th>...</th>\n",
              "      <td>...</td>\n",
              "      <td>...</td>\n",
              "      <td>...</td>\n",
              "      <td>...</td>\n",
              "      <td>...</td>\n",
              "      <td>...</td>\n",
              "      <td>...</td>\n",
              "      <td>...</td>\n",
              "      <td>...</td>\n",
              "      <td>...</td>\n",
              "      <td>...</td>\n",
              "      <td>...</td>\n",
              "      <td>...</td>\n",
              "      <td>...</td>\n",
              "      <td>...</td>\n",
              "      <td>...</td>\n",
              "    </tr>\n",
              "    <tr>\n",
              "      <th>356</th>\n",
              "      <td>2020-05-19 19:04:17.873</td>\n",
              "      <td>c5870b37ee3f672e4259dfb2fc02ed8f</td>\n",
              "      <td>1029</td>\n",
              "      <td>NaN</td>\n",
              "      <td>NaN</td>\n",
              "      <td>Statistical Learning Theory</td>\n",
              "      <td>Анализ неструктурированных данных</td>\n",
              "      <td>Сбор и обработка данных с помощью краудсорсинга</td>\n",
              "      <td>Обучение с подкреплением</td>\n",
              "      <td>Конфликты и кооперация</td>\n",
              "      <td>Компьютерное зрение</td>\n",
              "      <td>Да</td>\n",
              "      <td>0.920290</td>\n",
              "      <td>174.0</td>\n",
              "      <td>DevOps</td>\n",
              "      <td>NaN</td>\n",
              "    </tr>\n",
              "    <tr>\n",
              "      <th>357</th>\n",
              "      <td>2020-05-19 20:19:25.815</td>\n",
              "      <td>f44aea1095f9f5b8e2f5f0ed2b17891b</td>\n",
              "      <td>1060</td>\n",
              "      <td>NaN</td>\n",
              "      <td>NaN</td>\n",
              "      <td>Анализ неструктурированных данных</td>\n",
              "      <td>Высокопроизводительные вычисления</td>\n",
              "      <td>Моделирование временных рядов</td>\n",
              "      <td>Конфликты и кооперация</td>\n",
              "      <td>Обучение с подкреплением</td>\n",
              "      <td>Численные методы</td>\n",
              "      <td>Да</td>\n",
              "      <td>0.840580</td>\n",
              "      <td>174.0</td>\n",
              "      <td>DevOps</td>\n",
              "      <td>NaN</td>\n",
              "    </tr>\n",
              "    <tr>\n",
              "      <th>358</th>\n",
              "      <td>2020-05-20 11:54:38.318</td>\n",
              "      <td>d7118b44c7e8fdbbaaca226d2da6fef1</td>\n",
              "      <td>1111</td>\n",
              "      <td>NaN</td>\n",
              "      <td>NaN</td>\n",
              "      <td>Сбор и обработка данных с помощью краудсорсинга</td>\n",
              "      <td>Statistical Learning Theory</td>\n",
              "      <td>Анализ неструктурированных данных</td>\n",
              "      <td>Проектирование и разработка высоконагруженных ...</td>\n",
              "      <td>Методы сжатия и передачи медиаданных</td>\n",
              "      <td>Численные методы</td>\n",
              "      <td>Да</td>\n",
              "      <td>0.652174</td>\n",
              "      <td>173.0</td>\n",
              "      <td>Соревновательный анализ данных</td>\n",
              "      <td>NaN</td>\n",
              "    </tr>\n",
              "    <tr>\n",
              "      <th>359</th>\n",
              "      <td>2020-05-23 21:16:40.916</td>\n",
              "      <td>79d14db48e4737af731960ae212d5134</td>\n",
              "      <td>966</td>\n",
              "      <td>NaN</td>\n",
              "      <td>NaN</td>\n",
              "      <td>Безопасность компьютерных систем</td>\n",
              "      <td>Принятие решений в условиях риска и неопределё...</td>\n",
              "      <td>Анализ неструктурированных данных</td>\n",
              "      <td>Проектирование и разработка высоконагруженных ...</td>\n",
              "      <td>Методы сжатия и передачи медиаданных</td>\n",
              "      <td>Компьютерное зрение</td>\n",
              "      <td>Да</td>\n",
              "      <td>0.985507</td>\n",
              "      <td>172.0</td>\n",
              "      <td>DevOps</td>\n",
              "      <td>NaN</td>\n",
              "    </tr>\n",
              "    <tr>\n",
              "      <th>360</th>\n",
              "      <td>2020-05-23 21:16:40.916</td>\n",
              "      <td>f2d210ace25a841e1e58036b257d5d47</td>\n",
              "      <td>1195</td>\n",
              "      <td>NaN</td>\n",
              "      <td>NaN</td>\n",
              "      <td>Анализ неструктурированных данных</td>\n",
              "      <td>Моделирование временных рядов</td>\n",
              "      <td>Высокопроизводительные вычисления</td>\n",
              "      <td>Обучение с подкреплением</td>\n",
              "      <td>Компьютерное зрение</td>\n",
              "      <td>Методы сжатия и передачи медиаданных</td>\n",
              "      <td>NaN</td>\n",
              "      <td>0.369565</td>\n",
              "      <td>176.0</td>\n",
              "      <td>Соревновательный анализ данных</td>\n",
              "      <td>NaN</td>\n",
              "    </tr>\n",
              "  </tbody>\n",
              "</table>\n",
              "<p>361 rows × 16 columns</p>\n",
              "</div>\n",
              "      <button class=\"colab-df-convert\" onclick=\"convertToInteractive('df-26a3b4b8-1df4-4d20-9c35-d5b282a2b216')\"\n",
              "              title=\"Convert this dataframe to an interactive table.\"\n",
              "              style=\"display:none;\">\n",
              "        \n",
              "  <svg xmlns=\"http://www.w3.org/2000/svg\" height=\"24px\"viewBox=\"0 0 24 24\"\n",
              "       width=\"24px\">\n",
              "    <path d=\"M0 0h24v24H0V0z\" fill=\"none\"/>\n",
              "    <path d=\"M18.56 5.44l.94 2.06.94-2.06 2.06-.94-2.06-.94-.94-2.06-.94 2.06-2.06.94zm-11 1L8.5 8.5l.94-2.06 2.06-.94-2.06-.94L8.5 2.5l-.94 2.06-2.06.94zm10 10l.94 2.06.94-2.06 2.06-.94-2.06-.94-.94-2.06-.94 2.06-2.06.94z\"/><path d=\"M17.41 7.96l-1.37-1.37c-.4-.4-.92-.59-1.43-.59-.52 0-1.04.2-1.43.59L10.3 9.45l-7.72 7.72c-.78.78-.78 2.05 0 2.83L4 21.41c.39.39.9.59 1.41.59.51 0 1.02-.2 1.41-.59l7.78-7.78 2.81-2.81c.8-.78.8-2.07 0-2.86zM5.41 20L4 18.59l7.72-7.72 1.47 1.35L5.41 20z\"/>\n",
              "  </svg>\n",
              "      </button>\n",
              "      \n",
              "  <style>\n",
              "    .colab-df-container {\n",
              "      display:flex;\n",
              "      flex-wrap:wrap;\n",
              "      gap: 12px;\n",
              "    }\n",
              "\n",
              "    .colab-df-convert {\n",
              "      background-color: #E8F0FE;\n",
              "      border: none;\n",
              "      border-radius: 50%;\n",
              "      cursor: pointer;\n",
              "      display: none;\n",
              "      fill: #1967D2;\n",
              "      height: 32px;\n",
              "      padding: 0 0 0 0;\n",
              "      width: 32px;\n",
              "    }\n",
              "\n",
              "    .colab-df-convert:hover {\n",
              "      background-color: #E2EBFA;\n",
              "      box-shadow: 0px 1px 2px rgba(60, 64, 67, 0.3), 0px 1px 3px 1px rgba(60, 64, 67, 0.15);\n",
              "      fill: #174EA6;\n",
              "    }\n",
              "\n",
              "    [theme=dark] .colab-df-convert {\n",
              "      background-color: #3B4455;\n",
              "      fill: #D2E3FC;\n",
              "    }\n",
              "\n",
              "    [theme=dark] .colab-df-convert:hover {\n",
              "      background-color: #434B5C;\n",
              "      box-shadow: 0px 1px 3px 1px rgba(0, 0, 0, 0.15);\n",
              "      filter: drop-shadow(0px 1px 2px rgba(0, 0, 0, 0.3));\n",
              "      fill: #FFFFFF;\n",
              "    }\n",
              "  </style>\n",
              "\n",
              "      <script>\n",
              "        const buttonEl =\n",
              "          document.querySelector('#df-26a3b4b8-1df4-4d20-9c35-d5b282a2b216 button.colab-df-convert');\n",
              "        buttonEl.style.display =\n",
              "          google.colab.kernel.accessAllowed ? 'block' : 'none';\n",
              "\n",
              "        async function convertToInteractive(key) {\n",
              "          const element = document.querySelector('#df-26a3b4b8-1df4-4d20-9c35-d5b282a2b216');\n",
              "          const dataTable =\n",
              "            await google.colab.kernel.invokeFunction('convertToInteractive',\n",
              "                                                     [key], {});\n",
              "          if (!dataTable) return;\n",
              "\n",
              "          const docLinkHtml = 'Like what you see? Visit the ' +\n",
              "            '<a target=\"_blank\" href=https://colab.research.google.com/notebooks/data_table.ipynb>data table notebook</a>'\n",
              "            + ' to learn more about interactive tables.';\n",
              "          element.innerHTML = '';\n",
              "          dataTable['output_type'] = 'display_data';\n",
              "          await google.colab.output.renderOutput(dataTable, element);\n",
              "          const docLink = document.createElement('div');\n",
              "          docLink.innerHTML = docLinkHtml;\n",
              "          element.appendChild(docLink);\n",
              "        }\n",
              "      </script>\n",
              "    </div>\n",
              "  </div>\n",
              "  "
            ]
          },
          "metadata": {},
          "execution_count": 3
        }
      ],
      "source": [
        "data = pd.read_excel('end_seminar.xlsx')\n",
        "data"
      ]
    },
    {
      "cell_type": "markdown",
      "metadata": {
        "id": "jPiMwyqHhLuy"
      },
      "source": [
        "#### 2. [0.5 балла] Есть ли в данных пропуски? В каких колонках? Сколько их в каждой из этих колонок?"
      ]
    },
    {
      "cell_type": "code",
      "execution_count": 4,
      "metadata": {
        "id": "edY1RrSOhLuy",
        "colab": {
          "base_uri": "https://localhost:8080/"
        },
        "outputId": "b0c483b5-8b13-4b73-d1b0-5a7f158ed928"
      },
      "outputs": [
        {
          "output_type": "execute_result",
          "data": {
            "text/plain": [
              "timestamp          0\n",
              "id                 0\n",
              "rating             0\n",
              "18_group         138\n",
              "is_mi            343\n",
              "fall_1             0\n",
              "fall_2             0\n",
              "fall_3             0\n",
              "spring_1           0\n",
              "spring_2           0\n",
              "spring_3           0\n",
              "is_first_time      2\n",
              "percentile         0\n",
              "17_group         223\n",
              "blended          223\n",
              "is_ml_student    304\n",
              "dtype: int64"
            ]
          },
          "metadata": {},
          "execution_count": 4
        }
      ],
      "source": [
        "data.isna().sum()"
      ]
    },
    {
      "cell_type": "markdown",
      "metadata": {
        "id": "B5ORhP2uhLuz"
      },
      "source": [
        "Заполните пропуски пустой строкой для строковых колонок и нулём для числовых (постарайтесь избежать перечисления названий всех столбцов)."
      ]
    },
    {
      "cell_type": "code",
      "execution_count": 5,
      "metadata": {
        "id": "TlF_JJ2ghLuz",
        "colab": {
          "base_uri": "https://localhost:8080/"
        },
        "outputId": "8635ee42-c79c-4603-d2e8-58df85f0cab0"
      },
      "outputs": [
        {
          "output_type": "execute_result",
          "data": {
            "text/plain": [
              "timestamp        0\n",
              "id               0\n",
              "rating           0\n",
              "18_group         0\n",
              "is_mi            0\n",
              "fall_1           0\n",
              "fall_2           0\n",
              "fall_3           0\n",
              "spring_1         0\n",
              "spring_2         0\n",
              "spring_3         0\n",
              "is_first_time    0\n",
              "percentile       0\n",
              "17_group         0\n",
              "blended          0\n",
              "is_ml_student    0\n",
              "dtype: int64"
            ]
          },
          "metadata": {},
          "execution_count": 5
        }
      ],
      "source": [
        "str_cols = data.columns[data.dtypes==object]\n",
        "data[str_cols] = data[str_cols].fillna('')\n",
        "data = data.fillna(0)\n",
        "data.isna().sum()"
      ]
    },
    {
      "cell_type": "markdown",
      "metadata": {
        "id": "w5ELhkT1hLuz"
      },
      "source": [
        "#### 3. [0.5 балла] Посмотрите повнимательнее на колонку 'is_first_time'. \n",
        "\n",
        "Есть ли в ней ответы \"Нет\"? Сколько их?\n",
        "\n",
        "Если вы найдете повторные обращения студентов, оставьте только самую позднюю версию. В дальнейших заданиях используйте версию данных без повторов.\n",
        "\n",
        "<i>Обращения со значением \"Нет\" в 'is_first_time' могут быть как повторными, так и первичными, поскольку поле заполняли сами студенты.</i>"
      ]
    },
    {
      "cell_type": "code",
      "execution_count": 6,
      "metadata": {
        "id": "VEfiNsyQhLuz"
      },
      "outputs": [],
      "source": [
        "data.sort_values([\"timestamp\"], inplace=True)\n",
        "data.drop_duplicates(subset=[\"id\"], inplace=True, keep=\"last\", )"
      ]
    },
    {
      "cell_type": "markdown",
      "metadata": {
        "id": "Jhk3tVpVhLuy"
      },
      "source": [
        "#### 4. [0.5 балла] Ответьте на вопросы:\n",
        "1. Сколько было заявок из групп 18-го года набора, а сколько из групп 17-го года?\n",
        "2. Есть ли студенты с равными перцентилями (среди объединенных данных, ведь конкурс на каждый курс общий)?"
      ]
    },
    {
      "cell_type": "code",
      "execution_count": 7,
      "metadata": {
        "id": "bsn4vn8RhLuy",
        "colab": {
          "base_uri": "https://localhost:8080/"
        },
        "outputId": "c5e2164a-29a6-4f7a-f1e4-cb9b5bd24ab3"
      },
      "outputs": [
        {
          "output_type": "stream",
          "name": "stdout",
          "text": [
            "2017 : 134\n",
            "2018 : 213\n"
          ]
        }
      ],
      "source": [
        "print(f\"2017 : {data['17_group'].astype(bool).sum(axis=0)}\")\n",
        "print(f\"2018 : {data['18_group'].astype(bool).sum(axis=0)}\")"
      ]
    },
    {
      "cell_type": "code",
      "source": [
        "data[data.duplicated('percentile', keep=False)]"
      ],
      "metadata": {
        "id": "JqkLZ27x2gfb",
        "colab": {
          "base_uri": "https://localhost:8080/",
          "height": 263
        },
        "outputId": "bf034f57-f4e5-4936-f8ad-18b620b33c76"
      },
      "execution_count": 8,
      "outputs": [
        {
          "output_type": "execute_result",
          "data": {
            "text/plain": [
              "                  timestamp                                id  rating  \\\n",
              "231 2020-05-14 21:52:43.844  3a7326c9e355a67d3805824ca34c4bc5    1457   \n",
              "80  2020-05-18 17:09:23.589  3e106aaef8b24dbb01319c73e14c2936     784   \n",
              "\n",
              "     18_group  is_mi                            fall_1  \\\n",
              "231       0.0    0.0       Statistical Learning Theory   \n",
              "80      182.0    0.0  Безопасность компьютерных систем   \n",
              "\n",
              "                                fall_2                       fall_3  \\\n",
              "231  Высокопроизводительные вычисления  Statistical Learning Theory   \n",
              "80         Statistical Learning Theory         Матричные вычисления   \n",
              "\n",
              "                   spring_1                                     spring_2  \\\n",
              "231   Символьные вычисления                             Численные методы   \n",
              "80   Дискретная оптимизация  Промышленное программирование на языке Java   \n",
              "\n",
              "                                       spring_3 is_first_time  percentile  \\\n",
              "231                       Символьные вычисления            Да         0.0   \n",
              "80   Дополнительные главы прикладной статистики            Да         0.0   \n",
              "\n",
              "     17_group                                blended  is_ml_student  \n",
              "231     173.0  Введение в дифференциальную геометрию            0.0  \n",
              "80        0.0                                                   1.0  "
            ],
            "text/html": [
              "\n",
              "  <div id=\"df-9787ee4d-feb8-44e6-b440-138b4e76b8a0\">\n",
              "    <div class=\"colab-df-container\">\n",
              "      <div>\n",
              "<style scoped>\n",
              "    .dataframe tbody tr th:only-of-type {\n",
              "        vertical-align: middle;\n",
              "    }\n",
              "\n",
              "    .dataframe tbody tr th {\n",
              "        vertical-align: top;\n",
              "    }\n",
              "\n",
              "    .dataframe thead th {\n",
              "        text-align: right;\n",
              "    }\n",
              "</style>\n",
              "<table border=\"1\" class=\"dataframe\">\n",
              "  <thead>\n",
              "    <tr style=\"text-align: right;\">\n",
              "      <th></th>\n",
              "      <th>timestamp</th>\n",
              "      <th>id</th>\n",
              "      <th>rating</th>\n",
              "      <th>18_group</th>\n",
              "      <th>is_mi</th>\n",
              "      <th>fall_1</th>\n",
              "      <th>fall_2</th>\n",
              "      <th>fall_3</th>\n",
              "      <th>spring_1</th>\n",
              "      <th>spring_2</th>\n",
              "      <th>spring_3</th>\n",
              "      <th>is_first_time</th>\n",
              "      <th>percentile</th>\n",
              "      <th>17_group</th>\n",
              "      <th>blended</th>\n",
              "      <th>is_ml_student</th>\n",
              "    </tr>\n",
              "  </thead>\n",
              "  <tbody>\n",
              "    <tr>\n",
              "      <th>231</th>\n",
              "      <td>2020-05-14 21:52:43.844</td>\n",
              "      <td>3a7326c9e355a67d3805824ca34c4bc5</td>\n",
              "      <td>1457</td>\n",
              "      <td>0.0</td>\n",
              "      <td>0.0</td>\n",
              "      <td>Statistical Learning Theory</td>\n",
              "      <td>Высокопроизводительные вычисления</td>\n",
              "      <td>Statistical Learning Theory</td>\n",
              "      <td>Символьные вычисления</td>\n",
              "      <td>Численные методы</td>\n",
              "      <td>Символьные вычисления</td>\n",
              "      <td>Да</td>\n",
              "      <td>0.0</td>\n",
              "      <td>173.0</td>\n",
              "      <td>Введение в дифференциальную геометрию</td>\n",
              "      <td>0.0</td>\n",
              "    </tr>\n",
              "    <tr>\n",
              "      <th>80</th>\n",
              "      <td>2020-05-18 17:09:23.589</td>\n",
              "      <td>3e106aaef8b24dbb01319c73e14c2936</td>\n",
              "      <td>784</td>\n",
              "      <td>182.0</td>\n",
              "      <td>0.0</td>\n",
              "      <td>Безопасность компьютерных систем</td>\n",
              "      <td>Statistical Learning Theory</td>\n",
              "      <td>Матричные вычисления</td>\n",
              "      <td>Дискретная оптимизация</td>\n",
              "      <td>Промышленное программирование на языке Java</td>\n",
              "      <td>Дополнительные главы прикладной статистики</td>\n",
              "      <td>Да</td>\n",
              "      <td>0.0</td>\n",
              "      <td>0.0</td>\n",
              "      <td></td>\n",
              "      <td>1.0</td>\n",
              "    </tr>\n",
              "  </tbody>\n",
              "</table>\n",
              "</div>\n",
              "      <button class=\"colab-df-convert\" onclick=\"convertToInteractive('df-9787ee4d-feb8-44e6-b440-138b4e76b8a0')\"\n",
              "              title=\"Convert this dataframe to an interactive table.\"\n",
              "              style=\"display:none;\">\n",
              "        \n",
              "  <svg xmlns=\"http://www.w3.org/2000/svg\" height=\"24px\"viewBox=\"0 0 24 24\"\n",
              "       width=\"24px\">\n",
              "    <path d=\"M0 0h24v24H0V0z\" fill=\"none\"/>\n",
              "    <path d=\"M18.56 5.44l.94 2.06.94-2.06 2.06-.94-2.06-.94-.94-2.06-.94 2.06-2.06.94zm-11 1L8.5 8.5l.94-2.06 2.06-.94-2.06-.94L8.5 2.5l-.94 2.06-2.06.94zm10 10l.94 2.06.94-2.06 2.06-.94-2.06-.94-.94-2.06-.94 2.06-2.06.94z\"/><path d=\"M17.41 7.96l-1.37-1.37c-.4-.4-.92-.59-1.43-.59-.52 0-1.04.2-1.43.59L10.3 9.45l-7.72 7.72c-.78.78-.78 2.05 0 2.83L4 21.41c.39.39.9.59 1.41.59.51 0 1.02-.2 1.41-.59l7.78-7.78 2.81-2.81c.8-.78.8-2.07 0-2.86zM5.41 20L4 18.59l7.72-7.72 1.47 1.35L5.41 20z\"/>\n",
              "  </svg>\n",
              "      </button>\n",
              "      \n",
              "  <style>\n",
              "    .colab-df-container {\n",
              "      display:flex;\n",
              "      flex-wrap:wrap;\n",
              "      gap: 12px;\n",
              "    }\n",
              "\n",
              "    .colab-df-convert {\n",
              "      background-color: #E8F0FE;\n",
              "      border: none;\n",
              "      border-radius: 50%;\n",
              "      cursor: pointer;\n",
              "      display: none;\n",
              "      fill: #1967D2;\n",
              "      height: 32px;\n",
              "      padding: 0 0 0 0;\n",
              "      width: 32px;\n",
              "    }\n",
              "\n",
              "    .colab-df-convert:hover {\n",
              "      background-color: #E2EBFA;\n",
              "      box-shadow: 0px 1px 2px rgba(60, 64, 67, 0.3), 0px 1px 3px 1px rgba(60, 64, 67, 0.15);\n",
              "      fill: #174EA6;\n",
              "    }\n",
              "\n",
              "    [theme=dark] .colab-df-convert {\n",
              "      background-color: #3B4455;\n",
              "      fill: #D2E3FC;\n",
              "    }\n",
              "\n",
              "    [theme=dark] .colab-df-convert:hover {\n",
              "      background-color: #434B5C;\n",
              "      box-shadow: 0px 1px 3px 1px rgba(0, 0, 0, 0.15);\n",
              "      filter: drop-shadow(0px 1px 2px rgba(0, 0, 0, 0.3));\n",
              "      fill: #FFFFFF;\n",
              "    }\n",
              "  </style>\n",
              "\n",
              "      <script>\n",
              "        const buttonEl =\n",
              "          document.querySelector('#df-9787ee4d-feb8-44e6-b440-138b4e76b8a0 button.colab-df-convert');\n",
              "        buttonEl.style.display =\n",
              "          google.colab.kernel.accessAllowed ? 'block' : 'none';\n",
              "\n",
              "        async function convertToInteractive(key) {\n",
              "          const element = document.querySelector('#df-9787ee4d-feb8-44e6-b440-138b4e76b8a0');\n",
              "          const dataTable =\n",
              "            await google.colab.kernel.invokeFunction('convertToInteractive',\n",
              "                                                     [key], {});\n",
              "          if (!dataTable) return;\n",
              "\n",
              "          const docLinkHtml = 'Like what you see? Visit the ' +\n",
              "            '<a target=\"_blank\" href=https://colab.research.google.com/notebooks/data_table.ipynb>data table notebook</a>'\n",
              "            + ' to learn more about interactive tables.';\n",
              "          element.innerHTML = '';\n",
              "          dataTable['output_type'] = 'display_data';\n",
              "          await google.colab.output.renderOutput(dataTable, element);\n",
              "          const docLink = document.createElement('div');\n",
              "          docLink.innerHTML = docLinkHtml;\n",
              "          element.appendChild(docLink);\n",
              "        }\n",
              "      </script>\n",
              "    </div>\n",
              "  </div>\n",
              "  "
            ]
          },
          "metadata": {},
          "execution_count": 8
        }
      ]
    },
    {
      "cell_type": "markdown",
      "source": [
        "Только два ноулайфера с 0 перцинителем повторяются"
      ],
      "metadata": {
        "id": "rIVtmlCrolux"
      }
    },
    {
      "cell_type": "markdown",
      "metadata": {
        "id": "IlzHp3HVhLuz"
      },
      "source": [
        "#### 5. [0.5 балла] Какие  blended-курсы для четверокурсников существуют? На какой blended-курс записалось наибольшее количество студентов? На каком из blended-курсов собрались студенты с самым высоким средним рейтингом (выведите этот курс и количество студентов на нем)? "
      ]
    },
    {
      "cell_type": "code",
      "execution_count": 9,
      "metadata": {
        "id": "j_BRWerHhLu0",
        "colab": {
          "base_uri": "https://localhost:8080/"
        },
        "outputId": "441487a4-d240-4ccc-9719-60fe10f20ecf"
      },
      "outputs": [
        {
          "output_type": "stream",
          "name": "stdout",
          "text": [
            "Blended: DevOps Введение в дифференциальную геометрию Соревновательный анализ данных\n"
          ]
        }
      ],
      "source": [
        "print(\"Blended:\", *data[data['17_group'] != 0]['blended'].unique())"
      ]
    },
    {
      "cell_type": "code",
      "source": [
        "blended_groups = data[data['17_group'] != 0].groupby(\"blended\")"
      ],
      "metadata": {
        "id": "KTlWp0CRyz1e"
      },
      "execution_count": 10,
      "outputs": []
    },
    {
      "cell_type": "code",
      "source": [
        "blended_groups[\"blended\"].count()"
      ],
      "metadata": {
        "colab": {
          "base_uri": "https://localhost:8080/"
        },
        "id": "u_IY9yhYq-KY",
        "outputId": "8eb8051e-6501-4993-b3af-cb4fe7d3a50b"
      },
      "execution_count": 11,
      "outputs": [
        {
          "output_type": "execute_result",
          "data": {
            "text/plain": [
              "blended\n",
              "DevOps                                   87\n",
              "Введение в дифференциальную геометрию    15\n",
              "Соревновательный анализ данных           32\n",
              "Name: blended, dtype: int64"
            ]
          },
          "metadata": {},
          "execution_count": 11
        }
      ]
    },
    {
      "cell_type": "markdown",
      "source": [
        "Больше всего записались на DevOps"
      ],
      "metadata": {
        "id": "R1UHE9Wfr1I-"
      }
    },
    {
      "cell_type": "code",
      "source": [
        "highest_rating_course = blended_groups.mean()[\"rating\"].idxmax()"
      ],
      "metadata": {
        "id": "UIYOaU683wFP"
      },
      "execution_count": 12,
      "outputs": []
    },
    {
      "cell_type": "code",
      "source": [
        "print(\"Курс с самым большим рейтнгом: \", highest_rating_course)\n",
        "print(\"Количество студентов на курсе с самым большим рейтингом: \", blended_groups[\"blended\"].count()[highest_rating_course])"
      ],
      "metadata": {
        "colab": {
          "base_uri": "https://localhost:8080/"
        },
        "id": "F5vtILlT2Yee",
        "outputId": "39dbdb5b-a84e-4b91-d5be-46fec3dc580d"
      },
      "execution_count": 13,
      "outputs": [
        {
          "output_type": "stream",
          "name": "stdout",
          "text": [
            "Курс с самым большим рейтнгом:  Введение в дифференциальную геометрию\n",
            "Количество студентов на курсе с самым большим рейтингом:  15\n"
          ]
        }
      ]
    },
    {
      "cell_type": "markdown",
      "metadata": {
        "id": "IU_FLt8HhLu0"
      },
      "source": [
        "#### 6. [1 балл] Выясните, есть ли студенты с абсолютно одинаковыми предпочтениями по всем курсам.\n",
        "\n",
        "Для этого сформируйте таблицу, где для каждого возможного набора курсов посчитано количество студентов, выбравших такой набор, и оставьте только строки где это количество больше 1.\n",
        "\n",
        "В данном случае набор курсов задается упорядоченным множеством ('fall_1', 'fall_2', 'fall_3', 'spring_1', 'spring_2', 'spring_3', 'blended'). Элемент blended будет нулевым для 3-го курса."
      ]
    },
    {
      "cell_type": "code",
      "execution_count": 14,
      "metadata": {
        "id": "BBDlR1mFhLu0",
        "colab": {
          "base_uri": "https://localhost:8080/"
        },
        "outputId": "b5132484-e276-405a-d23c-5e0dbd2f30a4"
      },
      "outputs": [
        {
          "output_type": "execute_result",
          "data": {
            "text/plain": [
              "fall_1                                           fall_2                                           fall_3                                           spring_1                                                spring_2                                     spring_3                                     blended\n",
              "Statistical Learning Theory                      Анализ неструктурированных данных                Сбор и обработка данных с помощью краудсорсинга  Обучение с подкреплением                                Конфликты и кооперация                       Компьютерное зрение                          DevOps     2\n",
              "Байесовские методы машинного обучения            Анализ неструктурированных данных                Глубинное обучение в обработке звука             Обучение с подкреплением                                Генеративные модели в машинном обучении      Компьютерное зрение                          DevOps     2\n",
              "                                                                                                  Сбор и обработка данных с помощью краудсорсинга  Обучение с подкреплением                                Компьютерное зрение                          Генеративные модели в машинном обучении      DevOps     2\n",
              "Безопасность компьютерных систем                 Statistical Learning Theory                      Матричные вычисления                             Дискретная оптимизация                                  Промышленное программирование на языке Java  Дополнительные главы прикладной статистики              3\n",
              "                                                 Высокопроизводительные вычисления                Анализ неструктурированных данных                Проектирование и разработка высоконагруженных сервисов  Методы сжатия и передачи медиаданных         Конфликты и кооперация                       DevOps     2\n",
              "                                                                                                  Язык SQL                                         Компьютерные сети                                       Промышленное программирование на языке Java  Дискретная оптимизация                                  3\n",
              "                                                                                                                                                   Промышленное программирование на языке Java             Компьютерные сети                            Системы баз данных                                      2\n",
              "                                                 Матричные вычисления                             Моделирование временных рядов                    Промышленное программирование на языке Java             Компьютерные сети                            Дискретная оптимизация                                  2\n",
              "                                                 Сбор и обработка данных с помощью краудсорсинга  Матричные вычисления                             Компьютерные сети                                       Промышленное программирование на языке Java  Анализ данных в бизнесе                                 2\n",
              "                                                 Теория баз данных                                Язык SQL                                         Машинное обучение 2                                     Компьютерные сети                            Промышленное программирование на языке Java             2\n",
              "Высокопроизводительные вычисления                Безопасность компьютерных систем                 Сбор и обработка данных с помощью краудсорсинга  Проектирование и разработка высоконагруженных сервисов  Методы сжатия и передачи медиаданных         Компьютерное зрение                          DevOps     2\n",
              "                                                 Сбор и обработка данных с помощью краудсорсинга  Моделирование временных рядов                    Проектирование и разработка высоконагруженных сервисов  Методы сжатия и передачи медиаданных         Методы сжатия и передачи медиаданных         DevOps     2\n",
              "Моделирование временных рядов                    Сбор и обработка данных с помощью краудсорсинга  Безопасность компьютерных систем                 Компьютерные сети                                       Дополнительные главы прикладной статистики   Системы баз данных                                      2\n",
              "Сбор и обработка данных с помощью краудсорсинга  Язык SQL                                         Теория баз данных                                Промышленное программирование на языке Java             Машинное обучение 2                          Компьютерные сети                                       2\n",
              "Язык SQL                                         Высокопроизводительные вычисления                Теория баз данных                                Компьютерные сети                                       Промышленное программирование на языке Java  Дискретная оптимизация                                  2\n",
              "Name: id, dtype: int64"
            ]
          },
          "metadata": {},
          "execution_count": 14
        }
      ],
      "source": [
        "groupby_courses = data.groupby(['fall_1', 'fall_2', 'fall_3', 'spring_1', 'spring_2', 'spring_3', 'blended'])[\"id\"].count()\n",
        "more_than_one_student_groups = groupby_courses[groupby_courses > 1]\n",
        "more_than_one_student_groups"
      ]
    },
    {
      "cell_type": "markdown",
      "metadata": {
        "id": "spu3r3vchLu0"
      },
      "source": [
        "#### 7. [0.5 балла] Найдите курсы по выбору, на которые записывались как студенты 18-го года набора, так и студенты 17-го года."
      ]
    },
    {
      "cell_type": "code",
      "execution_count": 15,
      "metadata": {
        "id": "t21fWi8ShLu0"
      },
      "outputs": [],
      "source": [
        "courses_17 = pd.Series(pd.unique(data[data[\"17_group\"] > 0].loc[:, [\"fall_1\", \"fall_2\", \"fall_3\", \"spring_1\", \"spring_2\", \"blended\"]].values.ravel('K')), name='course')\n",
        "courses_18 = pd.Series(pd.unique(data[data[\"18_group\"] > 0].loc[:, [\"fall_1\", \"fall_2\", \"fall_3\", \"spring_1\", \"spring_2\", \"blended\"]].values.ravel('K')), name=\"course\")"
      ]
    },
    {
      "cell_type": "code",
      "source": [
        "print(\"Общие курсы: \")\n",
        "pd.merge(courses_17, courses_18, how='inner', left_on='course', right_on='course')"
      ],
      "metadata": {
        "colab": {
          "base_uri": "https://localhost:8080/",
          "height": 287
        },
        "id": "nX-h7s8-BPMZ",
        "outputId": "bf264477-ad97-46b9-826f-67db59a4fcb6"
      },
      "execution_count": 16,
      "outputs": [
        {
          "output_type": "stream",
          "name": "stdout",
          "text": [
            "Общие курсы: \n"
          ]
        },
        {
          "output_type": "execute_result",
          "data": {
            "text/plain": [
              "                                              course\n",
              "0                   Безопасность компьютерных систем\n",
              "1                  Высокопроизводительные вычисления\n",
              "2                        Statistical Learning Theory\n",
              "3                      Моделирование временных рядов\n",
              "4    Сбор и обработка данных с помощью краудсорсинга\n",
              "5  Принятие решений в условиях риска и неопределё...\n",
              "6                                   Численные методы"
            ],
            "text/html": [
              "\n",
              "  <div id=\"df-6e2402a1-17e5-4fc4-a880-99d19ff3b483\">\n",
              "    <div class=\"colab-df-container\">\n",
              "      <div>\n",
              "<style scoped>\n",
              "    .dataframe tbody tr th:only-of-type {\n",
              "        vertical-align: middle;\n",
              "    }\n",
              "\n",
              "    .dataframe tbody tr th {\n",
              "        vertical-align: top;\n",
              "    }\n",
              "\n",
              "    .dataframe thead th {\n",
              "        text-align: right;\n",
              "    }\n",
              "</style>\n",
              "<table border=\"1\" class=\"dataframe\">\n",
              "  <thead>\n",
              "    <tr style=\"text-align: right;\">\n",
              "      <th></th>\n",
              "      <th>course</th>\n",
              "    </tr>\n",
              "  </thead>\n",
              "  <tbody>\n",
              "    <tr>\n",
              "      <th>0</th>\n",
              "      <td>Безопасность компьютерных систем</td>\n",
              "    </tr>\n",
              "    <tr>\n",
              "      <th>1</th>\n",
              "      <td>Высокопроизводительные вычисления</td>\n",
              "    </tr>\n",
              "    <tr>\n",
              "      <th>2</th>\n",
              "      <td>Statistical Learning Theory</td>\n",
              "    </tr>\n",
              "    <tr>\n",
              "      <th>3</th>\n",
              "      <td>Моделирование временных рядов</td>\n",
              "    </tr>\n",
              "    <tr>\n",
              "      <th>4</th>\n",
              "      <td>Сбор и обработка данных с помощью краудсорсинга</td>\n",
              "    </tr>\n",
              "    <tr>\n",
              "      <th>5</th>\n",
              "      <td>Принятие решений в условиях риска и неопределё...</td>\n",
              "    </tr>\n",
              "    <tr>\n",
              "      <th>6</th>\n",
              "      <td>Численные методы</td>\n",
              "    </tr>\n",
              "  </tbody>\n",
              "</table>\n",
              "</div>\n",
              "      <button class=\"colab-df-convert\" onclick=\"convertToInteractive('df-6e2402a1-17e5-4fc4-a880-99d19ff3b483')\"\n",
              "              title=\"Convert this dataframe to an interactive table.\"\n",
              "              style=\"display:none;\">\n",
              "        \n",
              "  <svg xmlns=\"http://www.w3.org/2000/svg\" height=\"24px\"viewBox=\"0 0 24 24\"\n",
              "       width=\"24px\">\n",
              "    <path d=\"M0 0h24v24H0V0z\" fill=\"none\"/>\n",
              "    <path d=\"M18.56 5.44l.94 2.06.94-2.06 2.06-.94-2.06-.94-.94-2.06-.94 2.06-2.06.94zm-11 1L8.5 8.5l.94-2.06 2.06-.94-2.06-.94L8.5 2.5l-.94 2.06-2.06.94zm10 10l.94 2.06.94-2.06 2.06-.94-2.06-.94-.94-2.06-.94 2.06-2.06.94z\"/><path d=\"M17.41 7.96l-1.37-1.37c-.4-.4-.92-.59-1.43-.59-.52 0-1.04.2-1.43.59L10.3 9.45l-7.72 7.72c-.78.78-.78 2.05 0 2.83L4 21.41c.39.39.9.59 1.41.59.51 0 1.02-.2 1.41-.59l7.78-7.78 2.81-2.81c.8-.78.8-2.07 0-2.86zM5.41 20L4 18.59l7.72-7.72 1.47 1.35L5.41 20z\"/>\n",
              "  </svg>\n",
              "      </button>\n",
              "      \n",
              "  <style>\n",
              "    .colab-df-container {\n",
              "      display:flex;\n",
              "      flex-wrap:wrap;\n",
              "      gap: 12px;\n",
              "    }\n",
              "\n",
              "    .colab-df-convert {\n",
              "      background-color: #E8F0FE;\n",
              "      border: none;\n",
              "      border-radius: 50%;\n",
              "      cursor: pointer;\n",
              "      display: none;\n",
              "      fill: #1967D2;\n",
              "      height: 32px;\n",
              "      padding: 0 0 0 0;\n",
              "      width: 32px;\n",
              "    }\n",
              "\n",
              "    .colab-df-convert:hover {\n",
              "      background-color: #E2EBFA;\n",
              "      box-shadow: 0px 1px 2px rgba(60, 64, 67, 0.3), 0px 1px 3px 1px rgba(60, 64, 67, 0.15);\n",
              "      fill: #174EA6;\n",
              "    }\n",
              "\n",
              "    [theme=dark] .colab-df-convert {\n",
              "      background-color: #3B4455;\n",
              "      fill: #D2E3FC;\n",
              "    }\n",
              "\n",
              "    [theme=dark] .colab-df-convert:hover {\n",
              "      background-color: #434B5C;\n",
              "      box-shadow: 0px 1px 3px 1px rgba(0, 0, 0, 0.15);\n",
              "      filter: drop-shadow(0px 1px 2px rgba(0, 0, 0, 0.3));\n",
              "      fill: #FFFFFF;\n",
              "    }\n",
              "  </style>\n",
              "\n",
              "      <script>\n",
              "        const buttonEl =\n",
              "          document.querySelector('#df-6e2402a1-17e5-4fc4-a880-99d19ff3b483 button.colab-df-convert');\n",
              "        buttonEl.style.display =\n",
              "          google.colab.kernel.accessAllowed ? 'block' : 'none';\n",
              "\n",
              "        async function convertToInteractive(key) {\n",
              "          const element = document.querySelector('#df-6e2402a1-17e5-4fc4-a880-99d19ff3b483');\n",
              "          const dataTable =\n",
              "            await google.colab.kernel.invokeFunction('convertToInteractive',\n",
              "                                                     [key], {});\n",
              "          if (!dataTable) return;\n",
              "\n",
              "          const docLinkHtml = 'Like what you see? Visit the ' +\n",
              "            '<a target=\"_blank\" href=https://colab.research.google.com/notebooks/data_table.ipynb>data table notebook</a>'\n",
              "            + ' to learn more about interactive tables.';\n",
              "          element.innerHTML = '';\n",
              "          dataTable['output_type'] = 'display_data';\n",
              "          await google.colab.output.renderOutput(dataTable, element);\n",
              "          const docLink = document.createElement('div');\n",
              "          docLink.innerHTML = docLinkHtml;\n",
              "          element.appendChild(docLink);\n",
              "        }\n",
              "      </script>\n",
              "    </div>\n",
              "  </div>\n",
              "  "
            ]
          },
          "metadata": {},
          "execution_count": 16
        }
      ]
    },
    {
      "cell_type": "markdown",
      "metadata": {
        "id": "PYfX-Dr5hLu0"
      },
      "source": [
        "Методом исключения найдите курсы, которые предлагались только студентам 18-го года и только студентам 17-го года."
      ]
    },
    {
      "cell_type": "code",
      "source": [
        "print(\"Курсы только 17 года: \")\n",
        "courses_17[~courses_17.isin(courses_18)]"
      ],
      "metadata": {
        "colab": {
          "base_uri": "https://localhost:8080/"
        },
        "id": "doCCnKegIhyD",
        "outputId": "12525d16-01cc-4843-eab8-1daa0b3c11fe"
      },
      "execution_count": 17,
      "outputs": [
        {
          "output_type": "stream",
          "name": "stdout",
          "text": [
            "Курсы только 17 года: \n"
          ]
        },
        {
          "output_type": "execute_result",
          "data": {
            "text/plain": [
              "1                  Глубинное обучение в обработке звука\n",
              "4                     Анализ неструктурированных данных\n",
              "5                 Байесовские методы машинного обучения\n",
              "9                                   Компьютерное зрение\n",
              "10    Проектирование и разработка высоконагруженных ...\n",
              "11                               Конфликты и кооперация\n",
              "12                                Символьные вычисления\n",
              "13                 Методы сжатия и передачи медиаданных\n",
              "14                             Обучение с подкреплением\n",
              "15              Генеративные модели в машинном обучении\n",
              "17                                               DevOps\n",
              "18                Введение в дифференциальную геометрию\n",
              "19                       Соревновательный анализ данных\n",
              "Name: course, dtype: object"
            ]
          },
          "metadata": {},
          "execution_count": 17
        }
      ]
    },
    {
      "cell_type": "code",
      "source": [
        "print(\"Курсы только 18 года: \")\n",
        "courses_18[~courses_18.isin(courses_17)]"
      ],
      "metadata": {
        "colab": {
          "base_uri": "https://localhost:8080/"
        },
        "id": "9wKM2PLuJFgB",
        "outputId": "9a2f097d-7b4b-4820-98da-f4c0f5ce1e9c"
      },
      "execution_count": 18,
      "outputs": [
        {
          "output_type": "stream",
          "name": "stdout",
          "text": [
            "Курсы только 18 года: \n"
          ]
        },
        {
          "output_type": "execute_result",
          "data": {
            "text/plain": [
              "0                                        Язык SQL\n",
              "4                               Теория баз данных\n",
              "7                            Матричные вычисления\n",
              "9                          Дискретная оптимизация\n",
              "10                              Компьютерные сети\n",
              "11    Промышленное программирование на языке Java\n",
              "13     Дополнительные главы прикладной статистики\n",
              "14                        Анализ данных в бизнесе\n",
              "15                            Машинное обучение 2\n",
              "16                             Системы баз данных\n",
              "17                                               \n",
              "Name: course, dtype: object"
            ]
          },
          "metadata": {},
          "execution_count": 18
        }
      ]
    },
    {
      "cell_type": "markdown",
      "metadata": {
        "id": "uL45Tg5fhLu1"
      },
      "source": [
        "### Визуализации и matplotlib"
      ]
    },
    {
      "cell_type": "markdown",
      "metadata": {
        "id": "MY9lKmP2hLu1"
      },
      "source": [
        "При работе с данными часто неудобно делать какие-то выводы, если смотреть на таблицу и числа в частности, поэтому важно уметь визуализировать данные. Здесь будут описаны ключевые правила оформления графиков для **всех** домашних заданий.\n",
        "\n",
        "У matplotlib, конечно же, есть [документация](https://matplotlib.org/users/index.html) с большим количеством [примеров](https://matplotlib.org/examples/), но для начала достаточно знать про несколько основных типов графиков:\n",
        "- plot — обычный поточечный график, которым можно изображать кривые или отдельные точки;\n",
        "- hist — гистограмма, показывающая распределение некоторой величины;\n",
        "- scatter — график, показывающий взаимосвязь двух величин;\n",
        "- bar — столбцовый график, показывающий взаимосвязь количественной величины от категориальной.\n",
        "\n",
        "В этом задании вы попробуете построить один из них. Не забывайте про базовые принципы построения приличных графиков:\n",
        "- оси должны быть подписаны, причём не слишком мелко;\n",
        "- у графика должно быть название;\n",
        "- если изображено несколько графиков, то необходима поясняющая легенда;\n",
        "- все линии на графиках должны быть чётко видны (нет похожих цветов или цветов, сливающихся с фоном);\n",
        "- если отображена величина, имеющая очевидный диапазон значений (например, проценты могут быть от 0 до 100), то желательно масштабировать ось на весь диапазон значений (исключением является случай, когда вам необходимо показать малое отличие, которое незаметно в таких масштабах);\n",
        "- сетка на графике помогает оценить значения в точках на глаз, это обычно полезно, поэтому лучше ее отрисовывать;\n",
        "- если распределение на гистограмме имеет тяжёлые хвосты, лучше использовать логарифмическую шкалу.\n",
        "\n",
        "Еще одна билиотека для визуализации: [seaborn](https://jakevdp.github.io/PythonDataScienceHandbook/04.14-visualization-with-seaborn.html) (обычно сокращается до sns). Это настройка над matplotlib, иногда удобнее и красивее делать визуализации через неё. \n",
        "\n",
        "**5 пунктов после которых ваши графики не будут прежними:**\n",
        "- для красивой картинки <code>%config InlineBackend.figure_format = 'retina'</code>\n",
        "- задаем размер (почти) всех графиков (можно выбрать другие значения) <code>plt.rcParams['figure.figsize'] = 8, 5</code>\n",
        "- размер шрифта подписей графиков <code>plt.rcParams['font.size'] = 12</code>\n",
        "- формат в котором сохраняется изображение <code>mpl.rcParams['savefig.format'] = 'pdf'</code>\n",
        "- sns – seaborn, добавляет решетку <code>sns.set_style('darkgrid')</code>\n",
        "\n",
        "Добавьте эти функции в ячейку ниже. Каждый график все равно придется настраивать отдельно, но указанные строчки позволят значительно упростить процесс.  "
      ]
    },
    {
      "cell_type": "code",
      "execution_count": 19,
      "metadata": {
        "id": "na9doUOFhLu1"
      },
      "outputs": [],
      "source": [
        "%matplotlib inline\n",
        "import matplotlib.pyplot as plt\n",
        "import seaborn as sns\n",
        "\n",
        "%config InlineBackend.figure_format = 'retina'\n",
        "plt.rcParams['figure.figsize'] = 8, 5\n",
        "plt.rcParams['font.size'] = 12\n",
        "plt.rcParams['savefig.format'] = 'pdf'\n",
        "sns.set_style('darkgrid')"
      ]
    },
    {
      "cell_type": "markdown",
      "metadata": {
        "id": "kikwLpxfhLu1"
      },
      "source": [
        "#### 8. [0.5 балла] Постройте график средних рейтингов по дням получения ответов (bar plot)."
      ]
    },
    {
      "cell_type": "code",
      "execution_count": 20,
      "metadata": {
        "id": "UTPLVeQvhLu2",
        "colab": {
          "base_uri": "https://localhost:8080/",
          "height": 413
        },
        "outputId": "21a7c1f9-b532-4cc6-cd09-f35c68020040"
      },
      "outputs": [
        {
          "output_type": "display_data",
          "data": {
            "text/plain": [
              "<Figure size 576x360 with 1 Axes>"
            ],
            "image/png": "[encoded data removed]"
          },
          "metadata": {
            "image/png": {
              "width": 514,
              "height": 396
            }
          }
        }
      ],
      "source": [
        "mean_rating_by_day = data.groupby(data.set_index('timestamp').index.date).mean()[\"rating\"]\n",
        "plt.figure()\n",
        "ax = mean_rating_by_day.plot.bar( title='mean rating by date')\n",
        "ax.set_xlabel(\"date\")\n",
        "ax.set_ylabel(\"mean rating\")\n",
        "plt.savefig(\"mean_rating_by_date.pdf\", format=\"pdf\", bbox_inches=\"tight\")\n",
        "plt.show()"
      ]
    },
    {
      "cell_type": "markdown",
      "metadata": {
        "id": "AmsQg9_xhLu2"
      },
      "source": [
        "Сохраните график в формате pdf (так он останется векторизованным)."
      ]
    },
    {
      "cell_type": "code",
      "execution_count": null,
      "metadata": {
        "id": "vKZNSwWghLu2"
      },
      "outputs": [],
      "source": [
        "#Сохранил выше"
      ]
    },
    {
      "cell_type": "markdown",
      "metadata": {
        "id": "sCgWwjl0hLu2"
      },
      "source": [
        "### 2. Распределение студентов по курсам."
      ]
    },
    {
      "cell_type": "markdown",
      "metadata": {
        "id": "zytDNIfJh72u"
      },
      "source": [
        "<span style=\"color:red\">!!!ВНИМАТЕЛЬНО ИЗУЧИТЕ ТЕКСТ НИЖЕ!!!</span>.\n",
        "\n",
        "<span style=\"color:orange\">Если во время выполнения заданий у вас вознинут вопросы -- еще раз перечитайте текст целиком, скорее всего ответы уже содержатся в нем.</span>"
      ]
    },
    {
      "cell_type": "markdown",
      "metadata": {
        "id": "VNqXUpr4hLu3"
      },
      "source": [
        "Теперь вам нужно распределить студентов по осенним курсам по выбору, учитывая их предпочтения."
      ]
    },
    {
      "cell_type": "markdown",
      "metadata": {
        "id": "5cAR2FgphLu3"
      },
      "source": [
        "Алгоритм распределения студентов по курсам:\n",
        "1. По умолчанию на каждой дисциплине по выбору у 3 и 4 курсов может учиться 1 группа (до 30 студентов). Исключения описаны ниже. На blended-дисциплинах для четверокурсников количество мест не ограничено.\n",
        "2. Проводится первая волна отбора. Для каждой дисциплины формируется список тех, кто указал её первым приоритетом (если студент должен выбрать два курса по выбору, то для него дисциплины, которые он указал первым и вторым приоритетом, рассматриваются как дисциплины первого приоритета). Если желающих больше, чем мест, то выбирается топ по перцентилю рейтинга.\n",
        "3. На дисциплинах, где остались места после первой волны, формируются списки тех, кто выбрал их вторым приоритетом, и места заполняются лучшими по перцентили рейтинга студентами. После этого проводится такая же процедура для дисциплин третьего приоритета.\n",
        "4. Если студент не попал на необходимое количество курсов по итогам трёх волн, с ним связывается учебный офис и решает вопрос в индивидуальном порядке."
      ]
    },
    {
      "cell_type": "markdown",
      "metadata": {
        "id": "BiNKVwS6hLu3"
      },
      "source": [
        "Обращаем ваше внимание на следующие детали:\n",
        "- Конкурс на каждый курс общий для 3-го и 4-го курса\n",
        "\n",
        "- По умолчанию студент выбирает один осенний и один весенний курс по выбору, а также четверокурсники выбирают один blended-курс. Студенты групп 17-го года специализаций МОП и ТИ выбирают по 2 осенних и 2 весенних курса по выбору, также студенты групп 18' специализации МИ выбирают 2 осенних курса. <i>Для студентов, которые выбирают 2 курса (например, осенних) первый приоритет — <code>fall_1</code> и <code>fall_2</code>, второй приоритет — <code>fall_3</code>. Такие студенты участвуют только в двух волнах отбора</i>.\n",
        "\n",
        "- Студенты специализации МОП не могут выбрать весенним курсом по выбору Машинное обучение 2. **Если студент специализации МОП выбрал Машинное обучение 2, то его приоритеты сдвигаются.** Из-за совпадений первого и второго курса по выбору двигать приоритеты не надо.\n",
        "\n",
        "- Blended-курсы не трогайте, по ним не надо распределять, на другие курсы они никак не влияют.\n",
        "\n",
        "- Заведомо известно, что в процессе распределения не возникнет ситуации, когда на одно место претендуют студенты с одинаковым перцентилем.\n",
        "\n",
        "- Постарайтесь воздержаться от использования циклов там, где это возможно. <i>Допустимо итерироваться по <b>курсам</b>, на которые проводится отбор, и по <b>волнам</b> отбора. Если вы придумаете, как обойтись и без этих циклов, то на усмотрение проверяющего могут быть добавлены бонусные баллы. <b>Дублирование кода не признается успешным избавлением от циклов</b></i>\n",
        "\n",
        "- На выходе ожидается файл res_fall.csv с результатами распределения на осенние курсы по выбору. Файл должен быть следующего формата:\n",
        "\n",
        "    * Три колонки: ID, course1, course2\n",
        "    \n",
        "    * Если студент не попал на курс, но должен был, то вместо названия курса в ячейке должна быть строка \"???\"\n",
        "    \n",
        "    * Если студент должен выбрать только один курс, то в колонке course2 для него должна стоять строка \"-\"\n",
        "    \n",
        "    * Если студент должен выбрать два курса по выбору, то порядок в колонках course1 и course2 не важен.\n",
        "    \n",
        "    * hint: для сохранения воспользуйтесь df.to_csv('solution.csv', index=None)\n",
        "    \n",
        "\n",
        "Для работы вам могут понадобиться следующие данные:\n",
        "\n",
        "- Результаты опроса (вы уже использовали этот файл в первой части задания, но на всякий случай ссылка: https://www.dropbox.com/s/f4rm8sjc3v99p0m/_end_seminar.xlsx?dl=0)\n",
        "\n",
        "- Соответствие номеров групп специализациям:\n",
        "\n",
        "    * 171, 172 - МОП; 173 - ТИ; 174 — АДИС; 175, 176 — РС; 177 — АПР\n",
        "    \n",
        "    * У студентов 18-го года номера групп соответствуют номерам до распределения по специализациям. Это означает, что по номеру группы 18* нельзя однозначно определить специализацию студента. При этом в рамках распределения важно знать информацию только о двух из них: МОП и МИ. Эти знание можно получить из колонок 'is_ml_student\n",
        "' и 'is_mi' соответственно.\n",
        "\n",
        "- Ограничения по количеству мест на курсах по выбору:\n",
        "\n",
        "    * Осенние: везде 30 мест, кроме Statistical Learning Theory (60 мест), Высокопроизводительных вычислений (60 мест), Анализа неструктурированных данных ($\\infty$ мест)\n",
        "\n",
        "    * Весенние: везде 30 мест, кроме Обучения с подкреплением (60 мест), Анализа данных в бизнесе (60 мест).\n",
        "\n",
        "\n",
        "Кстати, убедитесь, что в данных больше нет пропусков и повторных записей."
      ]
    },
    {
      "cell_type": "markdown",
      "metadata": {
        "id": "o5t55IcQhLu4"
      },
      "source": [
        "#### 0. Проверка\n",
        "\n",
        "Для начала давайте убедимся, что вы успешно выполнили задания первой части и проверим ваши данные на наличие пропусков и повторов:"
      ]
    },
    {
      "cell_type": "code",
      "execution_count": 21,
      "metadata": {
        "id": "34HWEdVdhLu4"
      },
      "outputs": [],
      "source": [
        "assert data.shape[0] == 347, 'В таблице остались повторы или потеряны данные'\n",
        "\n",
        "assert data.isna().sum().sum() == 0, 'В таблице остались пропуски'"
      ]
    },
    {
      "cell_type": "markdown",
      "metadata": {
        "id": "_ImUFyG3hLu4"
      },
      "source": [
        "Если вы не получили AssertionError, то можете продолжать."
      ]
    },
    {
      "cell_type": "markdown",
      "metadata": {
        "id": "LTGSwwvAhLu4"
      },
      "source": [
        "#### 1. [1 балл] Создайте новый признак, обозначающий, сколько осенних курсов должен выбрать студент\n",
        "\n",
        "В этом вам может помочь информация о специализации и группе стундента."
      ]
    },
    {
      "cell_type": "code",
      "execution_count": 22,
      "metadata": {
        "id": "ouxo0kHFhLu4"
      },
      "outputs": [],
      "source": [
        "def get_fall_courses_amount(row):\n",
        "  if row[\"17_group\"] != 0:\n",
        "    if 171 <= row[\"17_group\"] <= 173:\n",
        "      return 2\n",
        "    else:\n",
        "      return 1\n",
        "  else:\n",
        "    if row[\"is_mi\"] != 0:\n",
        "      return 2\n",
        "    else:\n",
        "      return 1"
      ]
    },
    {
      "cell_type": "code",
      "source": [
        "data[\"fall_courses_amount\"] = data.apply(get_fall_courses_amount, axis=1)"
      ],
      "metadata": {
        "id": "4Qd23y4T4P-B"
      },
      "execution_count": 23,
      "outputs": []
    },
    {
      "cell_type": "markdown",
      "metadata": {
        "id": "S47aq1sQhLu4"
      },
      "source": [
        "Проверка:"
      ]
    },
    {
      "cell_type": "code",
      "execution_count": 24,
      "metadata": {
        "id": "OlOgzDKDhLu5"
      },
      "outputs": [],
      "source": [
        "col_name =  \"fall_courses_amount\"   # insert your new column name as str\n",
        "\n",
        "assert(data[data['id'] == '2662600c2c37e11e62f6ee0b88452f22'][col_name] == 2).all()\n",
        "assert(data[data['id'] == 'd555d2805e1d93d4f023e57dc4c8f403'][col_name] == 2).all()\n",
        "assert(data[data['id'] == '8fe79f84f36e3a5d2d6745621321302c'][col_name] == 1).all()\n",
        "assert(data[data['id'] == 'e4caca755ee0bdd711e18fb8084958b5'][col_name] == 1).all()"
      ]
    },
    {
      "cell_type": "markdown",
      "metadata": {
        "id": "VtQYhwuPhLu5"
      },
      "source": [
        "#### 2. [2 балла] Распределите студентов в соответствии с первым приоритетом"
      ]
    },
    {
      "cell_type": "code",
      "execution_count": 25,
      "metadata": {
        "id": "6gWfT3vqhLu5"
      },
      "outputs": [],
      "source": [
        "fall_courses = pd.Series(pd.unique(data.loc[:, [\"fall_1\", \"fall_2\", \"fall_3\"]].values.ravel('K')), name='course')\n",
        "\n",
        "d = dict()\n",
        "for course in fall_courses: \n",
        "  if course == \"Statistical Learning Theory\" or course == \"Высокопроизводительные вычисления\":\n",
        "    d[course] = 60\n",
        "  elif course == \"Анализ неструктурированных данных\":\n",
        "    d[course] = 400\n",
        "  else:\n",
        "    d[course] = 30\n",
        "fall_courses = d\n",
        "\n",
        "data[\"fall_course_1\"] = np.nan\n",
        "data[\"fall_course_2\"] = np.nan\n",
        "data[\"is_first_place\"] = np.nan\n",
        "data[\"is_last_place\"] = np.nan\n",
        "data[\"fall_courses_amount\"] = data.apply(get_fall_courses_amount, axis=1)"
      ]
    },
    {
      "cell_type": "code",
      "source": [
        "def fall_distributor(data, first_wave, last_wave, fall_courses):\n",
        "  for i in range(first_wave, last_wave + 1):\n",
        "    for course in fall_courses:\n",
        "\n",
        "      if fall_courses[course] == 0:\n",
        "        continue\n",
        "\n",
        "      if i == 1:\n",
        "        ith_wave = data[(data[\"fall_1\"] == course) | ((data[\"fall_2\"] == course) & (data[\"fall_courses_amount\"] == 2))]\n",
        "      elif i == 2:\n",
        "        ith_wave = data[((data[\"fall_2\"] == course) & (data[\"fall_course_1\"].isna()) & (data[\"fall_courses_amount\"] == 1)) \\\n",
        "                        | ((data[\"fall_3\"] == course) & (data[\"fall_courses_amount\"] == 2) & (course != data[\"fall_course_1\"]) & ((data[\"fall_course_1\"].isna()) | (data[\"fall_course_2\"].isna())))]\n",
        "\n",
        "      else:\n",
        "        ith_wave = data[((data[\"fall_3\"] == course) & (data[\"fall_course_1\"].isna()) & (data[\"fall_courses_amount\"] == 1))]\n",
        "\n",
        "\n",
        "      ith_wave = ith_wave.sort_values(by=[\"percentile\"])\n",
        "      ith_wave = ith_wave[:fall_courses[course]]\n",
        "      fall_courses[course] -= ith_wave.shape[0]\n",
        "      \n",
        "      idx_of_first = ith_wave.head(1).index\n",
        "      idx_of_last = ith_wave.tail(1).index\n",
        "\n",
        "      ith_wave.at[idx_of_first, \"is_first_place\"] = True\n",
        "      ith_wave.at[idx_of_last, \"is_last_place\"] = True\n",
        "\n",
        "      idxs = ith_wave[ith_wave[\"fall_courses_amount\"] == 1].index\n",
        "      ith_wave.at[idxs, \"fall_course_1\"] = course\n",
        "\n",
        "      idxs = ith_wave[(ith_wave[\"fall_courses_amount\"] == 2) & (ith_wave[\"fall_course_1\"].isna())].index\n",
        "      ith_wave.at[idxs, \"fall_course_1\"] = course\n",
        "\n",
        "      \n",
        "      idxs = ith_wave[(ith_wave[\"fall_courses_amount\"] == 2) \\\n",
        "                                      & (~ith_wave[\"fall_course_1\"].isna()) & (ith_wave[\"fall_course_1\"] != course)].index\n",
        "      ith_wave.at[idxs, \"fall_course_2\"] = course\n",
        "\n",
        "      data.loc[ith_wave.index, :] = ith_wave[:]"
      ],
      "metadata": {
        "id": "DI_WRsoA_Zn7"
      },
      "execution_count": 26,
      "outputs": []
    },
    {
      "cell_type": "code",
      "source": [
        "fall_distributor(data, 1, 1, fall_courses)"
      ],
      "metadata": {
        "id": "qQcqUnBe6YUL"
      },
      "execution_count": 27,
      "outputs": []
    },
    {
      "cell_type": "markdown",
      "metadata": {
        "id": "vc5zXP5hhLu5"
      },
      "source": [
        "Здесь для проверки приведена таблица, в которой есть 2 дополнительные колонки:\n",
        "    \n",
        "    1) is_first_place - является ли студент лучшим по перцентили хотя бы на одном из курсов, куда он был зачислен \n",
        "    (True / NaN)\n",
        "    \n",
        "    2) is_last_place  - является ли студент худшим по перцентили хотя бы на одном из курсов, куда он был зачислен (True / NaN)"
      ]
    },
    {
      "cell_type": "code",
      "execution_count": 28,
      "metadata": {
        "id": "uZTkGEq5hLu5"
      },
      "outputs": [],
      "source": [
        "!wget  -O '2_task_check.csv' -q 'https://www.dropbox.com/s/v8o2zzq3iz5gc9w/_2_task_check.csv?dl=0'\n",
        "check_df = pd.read_csv('2_task_check.csv')"
      ]
    },
    {
      "cell_type": "markdown",
      "metadata": {
        "id": "E_fbyB9qhLu5"
      },
      "source": [
        "После распределения студентов в соответствии с первым приоритетом добавьте в свой датафрейм аналогичные признаки и запустите проверку:"
      ]
    },
    {
      "cell_type": "code",
      "execution_count": 29,
      "metadata": {
        "id": "GOAzQeYehLu6"
      },
      "outputs": [],
      "source": [
        "df = data\n",
        "fir_col_name = 'is_first_place'      # insert name of your new column with is_first_place as str\n",
        "last_col_name =  'is_last_place'    # insert name of your new column with is_last_place as str\n",
        "\n",
        "\n",
        "assert((df[df[fir_col_name].isna() == False][['id']].sort_values('id').reset_index(drop=True)\n",
        "        ==\n",
        "        check_df[check_df['is_first_place'].isna() == False][['id']].sort_values('id').reset_index(drop=True)\n",
        "       ).id.values).all()\n",
        "\n",
        "\n",
        "assert((df[df[last_col_name].isna() == False][['id']].sort_values('id').reset_index(drop=True)\n",
        "       == \n",
        "       check_df[check_df['is_last_place'].isna() == False][['id']].sort_values('id').reset_index(drop=True)\n",
        "      ).id.values).all()"
      ]
    },
    {
      "cell_type": "markdown",
      "metadata": {
        "id": "RO6DwNNFhLu6"
      },
      "source": [
        "#### 3. [3 балла] Проведите все три волны отбора студентов на курсы по выбору"
      ]
    },
    {
      "cell_type": "code",
      "execution_count": 30,
      "metadata": {
        "id": "jn2OOrLjhLu6"
      },
      "outputs": [],
      "source": [
        "fall_distributor(data, 2, 3, fall_courses)"
      ]
    },
    {
      "cell_type": "code",
      "source": [
        "res_fall = data[[\"id\", \"fall_course_1\", \"fall_course_2\", \"fall_courses_amount\"]]\n",
        "res_fall.rename(columns = {'id':'ID', 'fall_course_1':'course1', 'fall_course_2' : 'course2'}, inplace = True)"
      ],
      "metadata": {
        "colab": {
          "base_uri": "https://localhost:8080/"
        },
        "id": "V1xeINEL5fUE",
        "outputId": "53acb5bc-7963-4a9a-a014-e847d6fa10b1"
      },
      "execution_count": 31,
      "outputs": [
        {
          "output_type": "stream",
          "name": "stderr",
          "text": [
            "/usr/local/lib/python3.7/dist-packages/pandas/core/frame.py:5047: SettingWithCopyWarning: \n",
            "A value is trying to be set on a copy of a slice from a DataFrame\n",
            "\n",
            "See the caveats in the documentation: https://pandas.pydata.org/pandas-docs/stable/user_guide/indexing.html#returning-a-view-versus-a-copy\n",
            "  errors=errors,\n"
          ]
        }
      ]
    },
    {
      "cell_type": "code",
      "source": [
        "res_fall[\"course1\"].fillna(\"???\", inplace=True)\n",
        "res_fall[\"course2\"].fillna(\"???\", inplace=True)\n",
        "res_fall.loc[res_fall['fall_courses_amount'] == 1, 'course2'] = \"-\""
      ],
      "metadata": {
        "colab": {
          "base_uri": "https://localhost:8080/"
        },
        "id": "Zdq_oXSUJQDE",
        "outputId": "632ec20a-5836-4ee0-b636-6559e0acd964"
      },
      "execution_count": 32,
      "outputs": [
        {
          "output_type": "stream",
          "name": "stderr",
          "text": [
            "/usr/local/lib/python3.7/dist-packages/pandas/core/generic.py:6392: SettingWithCopyWarning: \n",
            "A value is trying to be set on a copy of a slice from a DataFrame\n",
            "\n",
            "See the caveats in the documentation: https://pandas.pydata.org/pandas-docs/stable/user_guide/indexing.html#returning-a-view-versus-a-copy\n",
            "  return self._update_inplace(result)\n",
            "/usr/local/lib/python3.7/dist-packages/pandas/core/indexing.py:1817: SettingWithCopyWarning: \n",
            "A value is trying to be set on a copy of a slice from a DataFrame.\n",
            "Try using .loc[row_indexer,col_indexer] = value instead\n",
            "\n",
            "See the caveats in the documentation: https://pandas.pydata.org/pandas-docs/stable/user_guide/indexing.html#returning-a-view-versus-a-copy\n",
            "  self._setitem_single_column(loc, value, pi)\n"
          ]
        }
      ]
    },
    {
      "cell_type": "code",
      "source": [
        "res_fall.drop(['fall_courses_amount'], axis=1, inplace=True)"
      ],
      "metadata": {
        "colab": {
          "base_uri": "https://localhost:8080/"
        },
        "id": "F9iknaVJIh7S",
        "outputId": "5e2d78bd-003e-4c3e-f4fd-44182bc8350d"
      },
      "execution_count": 33,
      "outputs": [
        {
          "output_type": "stream",
          "name": "stderr",
          "text": [
            "/usr/local/lib/python3.7/dist-packages/pandas/core/frame.py:4913: SettingWithCopyWarning: \n",
            "A value is trying to be set on a copy of a slice from a DataFrame\n",
            "\n",
            "See the caveats in the documentation: https://pandas.pydata.org/pandas-docs/stable/user_guide/indexing.html#returning-a-view-versus-a-copy\n",
            "  errors=errors,\n"
          ]
        }
      ]
    },
    {
      "cell_type": "code",
      "source": [
        "res_fall.to_csv('res_fall.csv', index=None)"
      ],
      "metadata": {
        "id": "zyUQHNnhNvfM"
      },
      "execution_count": 34,
      "outputs": []
    },
    {
      "cell_type": "markdown",
      "metadata": {
        "id": "1xQjV9BuhLu6"
      },
      "source": [
        "**Отправьте свой файл res_fall.csv в контест (https://contest.yandex.ru/contest/40211/problems/A/) и прикрепите/укажите ниже ваш никнейм и ссылку на успешную посылку.**"
      ]
    },
    {
      "cell_type": "markdown",
      "source": [
        "https://contest.yandex.ru/contest/40211/problems/A/?success=70749375#528867/2020_09_14/oF91l8YOQm\n",
        "\n",
        "Nick: iyubondyrev@edu.hse.ru"
      ],
      "metadata": {
        "id": "unmrzoHclPTF"
      }
    },
    {
      "cell_type": "markdown",
      "metadata": {
        "id": "QRTbPrgbhLu6"
      },
      "source": [
        "*Дисклеймер:*\n",
        "\n",
        "Успешная посылка в контесте является **обязательным** условием получения полного балла за этот (и следующий) пункт. Если добиться успешной посылки не удастся, баллы будут выставляться на усмотрение проверяюшего. \n",
        "\n",
        "При этом ОК в контесте не гарантирует полный балл. Оценка всё равно может быть снижена в случае обнаружения неэффективностей или ошибок в коде. Если вы сдадите в AnyTask очевидно неработающий код или ноутбук без кода, но при этом в контест будет сдан корректный файл, то это будет расцениваться как плагиат."
      ]
    },
    {
      "cell_type": "markdown",
      "metadata": {
        "id": "1IkQa_gdhLu6"
      },
      "source": [
        "На всякий случай просим вас сдать вместе с ноутбуком файл res_fall.csv в anytask"
      ]
    },
    {
      "cell_type": "markdown",
      "metadata": {
        "id": "k8d711qGhLu7"
      },
      "source": [
        "**Дополнительное задание. [2 бонусных балла] Распределите таким же образом студентов еще и на весенние курсы по выбору.**\n",
        "\n",
        "Если ваш код был хорошо структурирован, то это не составит проблем. \n",
        "\n",
        "Если вы выполнили это задание, сдайте среди прочего файл res_spring.csv в таком же формате, как и res_fall.csv."
      ]
    },
    {
      "cell_type": "code",
      "source": [
        "def get_spring_courses_amount(row):\n",
        "  if row[\"17_group\"] != 0:\n",
        "    if 171 <= row[\"17_group\"] <= 173:\n",
        "      return 2\n",
        "    else:\n",
        "      return 1\n",
        "  else:\n",
        "      return 1\n",
        "\n",
        "data[\"spring_courses_amount\"] = data.apply(get_spring_courses_amount, axis=1)"
      ],
      "metadata": {
        "id": "Qka-1PpTYaZf"
      },
      "execution_count": 35,
      "outputs": []
    },
    {
      "cell_type": "code",
      "source": [
        "spring_courses = pd.Series(pd.unique(data.loc[:, [\"spring_1\", \"spring_2\", \"spring_3\"]].values.ravel('K')), name='course')\n",
        "d = dict()\n",
        "for course in spring_courses: \n",
        "  if course == \"Обучение с подкреплением\" or course == \"Анализ данных в бизнесе\":\n",
        "    d[course] = 60\n",
        "  else:\n",
        "    d[course] = 30\n",
        "spring_courses = d\n",
        "spring_courses"
      ],
      "metadata": {
        "colab": {
          "base_uri": "https://localhost:8080/"
        },
        "id": "5hem32wai6ZJ",
        "outputId": "dc07a7a8-cc79-4247-9e84-c49aa9c5e6da"
      },
      "execution_count": 36,
      "outputs": [
        {
          "output_type": "execute_result",
          "data": {
            "text/plain": [
              "{'Компьютерное зрение': 30,\n",
              " 'Проектирование и разработка высоконагруженных сервисов': 30,\n",
              " 'Конфликты и кооперация': 30,\n",
              " 'Символьные вычисления': 30,\n",
              " 'Методы сжатия и передачи медиаданных': 30,\n",
              " 'Дискретная оптимизация': 30,\n",
              " 'Компьютерные сети': 30,\n",
              " 'Промышленное программирование на языке Java': 30,\n",
              " 'Численные методы': 30,\n",
              " 'Дополнительные главы прикладной статистики': 30,\n",
              " 'Обучение с подкреплением': 60,\n",
              " 'Анализ данных в бизнесе': 60,\n",
              " 'Машинное обучение 2': 30,\n",
              " 'Генеративные модели в машинном обучении': 30,\n",
              " 'Системы баз данных': 30}"
            ]
          },
          "metadata": {},
          "execution_count": 36
        }
      ]
    },
    {
      "cell_type": "code",
      "source": [
        "spring1_fail = data[((data[\"is_ml_student\"] == True) | ((data[\"17_group\"] == 171) | (data[\"17_group\"] == 172))) & (data[\"spring_1\"] == \"Машинное обучение 2\")]\n",
        "spring1_fail[\"spring_1\"] = spring1_fail[\"spring_2\"]\n",
        "spring1_fail[\"spring_2\"] = spring1_fail[\"spring_3\"]\n",
        "spring1_fail[\"spring_3\"] = np.nan\n",
        "data.loc[spring1_fail.index, :] = spring1_fail\n",
        "\n",
        "spring2_fail = data[((data[\"is_ml_student\"] == True) | ((data[\"17_group\"] == 171) | (data[\"17_group\"] == 172))) & (data[\"spring_2\"] == \"Машинное обучение 2\")]\n",
        "spring2_fail[\"spring_2\"] = spring2_fail[\"spring_3\"]\n",
        "spring2_fail[\"spring_3\"] = np.nan\n",
        "data.loc[spring2_fail.index, :] = spring2_fail\n",
        "\n",
        "spring3_fail = data[((data[\"is_ml_student\"] == True) | ((data[\"17_group\"] == 171) | (data[\"17_group\"] == 172))) & (data[\"spring_3\"] == \"Машинное обучение 2\")]\n",
        "spring3_fail[\"spring_3\"] = np.nan\n",
        "data.loc[spring3_fail.index, :] = spring3_fail"
      ],
      "metadata": {
        "id": "OQHF2tL7cl3i",
        "colab": {
          "base_uri": "https://localhost:8080/"
        },
        "outputId": "8a0ad950-edc4-4263-ff2d-525271905896"
      },
      "execution_count": 37,
      "outputs": [
        {
          "output_type": "stream",
          "name": "stderr",
          "text": [
            "/usr/local/lib/python3.7/dist-packages/ipykernel_launcher.py:2: SettingWithCopyWarning: \n",
            "A value is trying to be set on a copy of a slice from a DataFrame.\n",
            "Try using .loc[row_indexer,col_indexer] = value instead\n",
            "\n",
            "See the caveats in the documentation: https://pandas.pydata.org/pandas-docs/stable/user_guide/indexing.html#returning-a-view-versus-a-copy\n",
            "  \n",
            "/usr/local/lib/python3.7/dist-packages/ipykernel_launcher.py:3: SettingWithCopyWarning: \n",
            "A value is trying to be set on a copy of a slice from a DataFrame.\n",
            "Try using .loc[row_indexer,col_indexer] = value instead\n",
            "\n",
            "See the caveats in the documentation: https://pandas.pydata.org/pandas-docs/stable/user_guide/indexing.html#returning-a-view-versus-a-copy\n",
            "  This is separate from the ipykernel package so we can avoid doing imports until\n",
            "/usr/local/lib/python3.7/dist-packages/ipykernel_launcher.py:4: SettingWithCopyWarning: \n",
            "A value is trying to be set on a copy of a slice from a DataFrame.\n",
            "Try using .loc[row_indexer,col_indexer] = value instead\n",
            "\n",
            "See the caveats in the documentation: https://pandas.pydata.org/pandas-docs/stable/user_guide/indexing.html#returning-a-view-versus-a-copy\n",
            "  after removing the cwd from sys.path.\n",
            "/usr/local/lib/python3.7/dist-packages/ipykernel_launcher.py:8: SettingWithCopyWarning: \n",
            "A value is trying to be set on a copy of a slice from a DataFrame.\n",
            "Try using .loc[row_indexer,col_indexer] = value instead\n",
            "\n",
            "See the caveats in the documentation: https://pandas.pydata.org/pandas-docs/stable/user_guide/indexing.html#returning-a-view-versus-a-copy\n",
            "  \n",
            "/usr/local/lib/python3.7/dist-packages/ipykernel_launcher.py:9: SettingWithCopyWarning: \n",
            "A value is trying to be set on a copy of a slice from a DataFrame.\n",
            "Try using .loc[row_indexer,col_indexer] = value instead\n",
            "\n",
            "See the caveats in the documentation: https://pandas.pydata.org/pandas-docs/stable/user_guide/indexing.html#returning-a-view-versus-a-copy\n",
            "  if __name__ == '__main__':\n",
            "/usr/local/lib/python3.7/dist-packages/ipykernel_launcher.py:13: SettingWithCopyWarning: \n",
            "A value is trying to be set on a copy of a slice from a DataFrame.\n",
            "Try using .loc[row_indexer,col_indexer] = value instead\n",
            "\n",
            "See the caveats in the documentation: https://pandas.pydata.org/pandas-docs/stable/user_guide/indexing.html#returning-a-view-versus-a-copy\n",
            "  del sys.path[0]\n"
          ]
        }
      ]
    },
    {
      "cell_type": "code",
      "source": [
        "data[\"spring_course_1\"] = np.nan\n",
        "data[\"spring_course_2\"] = np.nan"
      ],
      "metadata": {
        "id": "wVfoov7tgFnF"
      },
      "execution_count": 38,
      "outputs": []
    },
    {
      "cell_type": "code",
      "execution_count": 39,
      "metadata": {
        "id": "hwmusOGThLu7"
      },
      "outputs": [],
      "source": [
        "def spring_distributor(data, first_wave, last_wave, spring_courses):\n",
        "  for i in range(first_wave, last_wave + 1):\n",
        "    for course in spring_courses:\n",
        "\n",
        "      if spring_courses[course] == 0:\n",
        "        continue\n",
        "\n",
        "      if i == 1:\n",
        "        ith_wave = data[(data[\"spring_1\"] == course) | ((data[\"spring_2\"] == course) & (data[\"spring_courses_amount\"] == 2))]\n",
        "      elif i == 2:\n",
        "        ith_wave = data[((data[\"spring_2\"] == course) & (data[\"spring_course_1\"].isna()) & (data[\"spring_courses_amount\"] == 1)) \\\n",
        "                        | ((data[\"spring_3\"] == course) & (data[\"spring_courses_amount\"] == 2) & (course != data[\"spring_course_1\"]) & ((data[\"spring_course_1\"].isna()) | (data[\"spring_course_2\"].isna())))]\n",
        "\n",
        "      else:\n",
        "        ith_wave = data[((data[\"spring_3\"] == course) & (data[\"spring_course_1\"].isna()) & (data[\"spring_courses_amount\"] == 1))]\n",
        "\n",
        "\n",
        "      ith_wave = ith_wave.sort_values(by=[\"percentile\"])\n",
        "      ith_wave = ith_wave[:spring_courses[course]]\n",
        "      spring_courses[course] -= ith_wave.shape[0]\n",
        "\n",
        "      idxs = ith_wave[ith_wave[\"spring_courses_amount\"] == 1].index\n",
        "      ith_wave.at[idxs, \"spring_course_1\"] = course\n",
        "\n",
        "      idxs = ith_wave[(ith_wave[\"spring_courses_amount\"] == 2) & (ith_wave[\"spring_course_1\"].isna())].index\n",
        "      ith_wave.at[idxs, \"spring_course_1\"] = course\n",
        "\n",
        "      \n",
        "      idxs = ith_wave[(ith_wave[\"spring_courses_amount\"] == 2) \\\n",
        "                                      & (~ith_wave[\"spring_course_1\"].isna()) & (ith_wave[\"spring_course_1\"] != course)].index\n",
        "      ith_wave.at[idxs, \"spring_course_2\"] = course\n",
        "\n",
        "      data.loc[ith_wave.index, :] = ith_wave[:]"
      ]
    },
    {
      "cell_type": "code",
      "source": [
        "spring_distributor(data, 1, 3, spring_courses)"
      ],
      "metadata": {
        "id": "qkD3cTl2fi_z"
      },
      "execution_count": 40,
      "outputs": []
    },
    {
      "cell_type": "code",
      "source": [
        "res_spring = data[[\"id\", \"spring_course_1\", \"spring_course_2\", \"spring_courses_amount\"]]\n",
        "res_spring.rename(columns = {'id':'ID', 'spring_course_1':'course1', 'spring_course_2' : 'course2'}, inplace = True)\n",
        "res_spring[\"course1\"].fillna(\"???\", inplace=True)\n",
        "res_spring[\"course2\"].fillna(\"???\", inplace=True)\n",
        "res_spring.loc[res_spring['spring_courses_amount'] == 1, 'course2'] = \"-\"\n",
        "res_spring.drop(['spring_courses_amount'], axis=1, inplace=True)\n",
        "res_spring.to_csv('res_spring.csv', index=None)"
      ],
      "metadata": {
        "id": "9_vwebyXjA8K"
      },
      "execution_count": 41,
      "outputs": []
    },
    {
      "cell_type": "markdown",
      "metadata": {
        "id": "It7QQZLYhLu7"
      },
      "source": [
        "**Отправьте свой файл res_spring.csv в контест (https://contest.yandex.ru/contest/40211/problems/B/) и прикрепите/укажите ниже ваш никнейм и ссылку на успешную посылку.**"
      ]
    },
    {
      "cell_type": "markdown",
      "source": [
        "https://contest.yandex.ru/contest/40211/problems/B/?success=70749476#528867/2020_09_14/7D5nIGtcFE\n",
        "\n",
        "Nick: iyubondyrev@du.hse.ru"
      ],
      "metadata": {
        "id": "nOn8oMy0lliz"
      }
    },
    {
      "cell_type": "markdown",
      "metadata": {
        "id": "1YcouVTihLu7"
      },
      "source": [
        "На всякий случай просим вас сдать вместе с ноутбуком файл res_spring.csv в anytask"
      ]
    },
    {
      "cell_type": "markdown",
      "metadata": {
        "id": "uY_OY6inhLu7"
      },
      "source": [
        "Вставьте картинку, описывающую ваш опыт выполнения этого задания:"
      ]
    },
    {
      "cell_type": "code",
      "execution_count": null,
      "metadata": {
        "id": "R9_7CnSFhLu7"
      },
      "outputs": [],
      "source": []
    }
  ],
  "metadata": {
    "colab": {
      "provenance": [],
      "collapsed_sections": []
    },
    "kernelspec": {
      "display_name": "Python 3 (ipykernel)",
      "language": "python",
      "name": "python3"
    },
    "language_info": {
      "codemirror_mode": {
        "name": "ipython",
        "version": 3
      },
      "file_extension": ".py",
      "mimetype": "text/x-python",
      "name": "python",
      "nbconvert_exporter": "python",
      "pygments_lexer": "ipython3",
      "version": "3.10.4"
    },
    "varInspector": {
      "cols": {
        "lenName": 16,
        "lenType": 16,
        "lenVar": 40
      },
      "kernels_config": {
        "python": {
          "delete_cmd_postfix": "",
          "delete_cmd_prefix": "del ",
          "library": "var_list.py",
          "varRefreshCmd": "print(var_dic_list())"
        },
        "r": {
          "delete_cmd_postfix": ") ",
          "delete_cmd_prefix": "rm(",
          "library": "var_list.r",
          "varRefreshCmd": "cat(var_dic_list()) "
        }
      },
      "types_to_exclude": [
        "module",
        "function",
        "builtin_function_or_method",
        "instance",
        "_Feature"
      ],
      "window_display": false
    },
    "vscode": {
      "interpreter": {
        "hash": "e7370f93d1d0cde622a1f8e1c04877d8463912d04d973331ad4851f04de6915a"
      }
    }
  },
  "nbformat": 4,
  "nbformat_minor": 0
}