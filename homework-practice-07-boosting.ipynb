{
 "cells": [
  {
   "cell_type": "markdown",
   "metadata": {
    "pycharm": {
     "name": "#%% md\n"
    }
   },
   "source": [
    "# Машинное обучение, ФКН ВШЭ\n",
    "\n",
    "# Практическое задание 7. Бустинговое\n",
    "\n",
    "## Общая информация\n",
    "\n",
    "Дата выдачи: 13.12.2022\n",
    "\n",
    "Мягкий дедлайн: 20.12.2022 23:59 MSK\n",
    "\n",
    "Жёсткий дедлайн: 20.12.2022 23:59 MSK\n",
    "\n",
    "## Оценивание и штрафы\n",
    "\n",
    "Каждая из задач имеет определенную «стоимость» (указана в скобках около задачи). Максимально допустимая оценка за работу — 10 баллов.\n",
    "\n",
    "Сдавать задание после указанного срока сдачи нельзя. При выставлении неполного балла за задание в связи с наличием ошибок на усмотрение проверяющего предусмотрена возможность исправить работу на указанных в ответном письме условиях.\n",
    "\n",
    "Задание выполняется самостоятельно. «Похожие» решения считаются плагиатом и все задействованные студенты (в том числе те, у кого списали) не могут получить за него больше 0 баллов (подробнее о плагиате см. на странице курса). Если вы нашли решение какого-то из заданий (или его часть) в открытом источнике, необходимо указать ссылку на этот источник в отдельном блоке в конце вашей работы (скорее всего вы будете не единственным, кто это нашел, поэтому чтобы исключить подозрение в плагиате, необходима ссылка на источник).\n",
    "\n",
    "Неэффективная реализация кода может негативно отразиться на оценке.\n",
    "\n",
    "## Формат сдачи\n",
    "Задания сдаются через систему anytask. Посылка должна содержать:\n",
    "* Ноутбук homework-practice-07-Username.ipynb\n",
    "\n",
    "Username — ваша фамилия на латинице"
   ]
  },
  {
   "cell_type": "markdown",
   "metadata": {
    "pycharm": {
     "name": "#%% md\n"
    }
   },
   "source": [
    "## О задании\n",
    "\n",
    "В этом задании вам предстоит вручную запрограммировать один из самых мощных алгоритмов машинного обучения — бустинг."
   ]
  },
  {
   "cell_type": "code",
   "execution_count": 56,
   "metadata": {
    "pycharm": {
     "name": "#%%\n"
    }
   },
   "outputs": [],
   "source": [
    "from warnings import filterwarnings\n",
    "\n",
    "import matplotlib.pyplot as plt\n",
    "import numpy as np\n",
    "import seaborn as sns\n",
    "from scipy.sparse import load_npz\n",
    "from sklearn.model_selection import train_test_split\n",
    "\n",
    "\n",
    "sns.set(style='darkgrid')\n",
    "filterwarnings('ignore')"
   ]
  },
  {
   "cell_type": "code",
   "execution_count": 57,
   "metadata": {
    "pycharm": {
     "name": "#%%\n"
    }
   },
   "outputs": [],
   "source": [
    "x = load_npz('x.npz')\n",
    "y = np.load('y.npy')"
   ]
  },
  {
   "cell_type": "markdown",
   "metadata": {
    "pycharm": {
     "name": "#%% md\n"
    }
   },
   "source": [
    "Разделим на обучающую, валидационную и тестовую выборки (`random_state` оставьте равным 1337 для воспроизводимости)."
   ]
  },
  {
   "cell_type": "code",
   "execution_count": 58,
   "metadata": {
    "pycharm": {
     "name": "#%%\n"
    }
   },
   "outputs": [
    {
     "data": {
      "text/plain": [
       "((18825, 169), (2354, 169), (2353, 169))"
      ]
     },
     "execution_count": 58,
     "metadata": {},
     "output_type": "execute_result"
    }
   ],
   "source": [
    "x_train, x_test, y_train, y_test = train_test_split(x, y, test_size=0.2, random_state=1337)\n",
    "\n",
    "x_test, x_valid, y_test, y_valid = train_test_split(x_test, y_test, test_size=0.5, random_state=1337)\n",
    "\n",
    "x_train.shape, x_valid.shape, x_test.shape"
   ]
  },
  {
   "cell_type": "markdown",
   "metadata": {
    "pycharm": {
     "name": "#%% md\n"
    }
   },
   "source": [
    "## Задание 1. Реализация градиентного бустингового (4 балла)\n",
    "\n",
    "Вам нужно дописать код в файлике `boosting.py`. Для вас уже подготовлен шаблон класса `Boosting`, вы можете менять его по своему усмотрению.\n",
    "\n",
    "### Инструкции для функций:\n",
    "\n",
    "#### `__init__`\n",
    "\n",
    "В `__init__` приходит кучка параметров, распишем что есть что:\n",
    "\n",
    " - `base_model_class` - класс базовой модели нашего бустинга\n",
    " - `base_model_params` - словарь с гиперпараметрами для базовой модели\n",
    " - `n_estimators` - какое количество базовых моделей нужно обучить\n",
    " - `learning_rate` - темп обучения, должен быть из полуинтервала $(0, 1]$\n",
    " - `subsample` - доля объектов, на которой будет обучаться базовая модель (какую часть составляет бутстрапная выборка от исходной обучающей)\n",
    " - `early_stopping_rounds` - число итераций, после которых при отсутствии улучшения качества на валидационной выборке обучение останавливается\n",
    " - `plot` - строить ли после обучения всех базовых моделей график с качеством\n",
    "\n",
    "#### `fit`\n",
    "\n",
    "В `fit` приходит две выборки, обучающая и валидационная. На обучающей мы обучаем новые базовые модели, на валидационной считаем качество для ранней остановки (если это предусматривают параметры).\n",
    "\n",
    "Сначала нам нужно сделать какую-то нулевую модель, сделать предсказания для обучающей и валидационной выборок (в шаблоне это нулевая модель, соответственно предсказания это просто `np.zeros`). После этого нужно обучить `n_estimators` базовых моделей (как и на что обучаются базовые модели смотрите в лекциях и семинарах). После каждой обученной базовой модели мы должны обновить текущие предсказания, посчитать ошибку на обучающей и валидационной выборках (используем `loss_fn` для этого), проверить на раннюю остановку.\n",
    "\n",
    "После всего цикла обучения надо нарисовать график (если `plot`).\n",
    "\n",
    "\n",
    "#### `fit_new_base_model`\n",
    "\n",
    "В `fit_new_base_model` приходит обучающая выборка (целиком) и текущие предсказания для неё. Мы должны сгенерировать бутстрап выборку для обучения базовой модели и обучить базовую модель. После обучения модели запускаем поиск оптимальной гаммы, добавляем новую модель и гамму (не забываем про темп обучения) в соответствующие списки.\n",
    "\n",
    "#### `predict_proba`\n",
    "\n",
    "В `predict_proba` приходит выборка, нужно предсказать вероятности для неё. Суммируем предсказания базовых моделей на этой выборке (не забываем про гаммы) и накидываем сигмоиду."
   ]
  },
  {
   "cell_type": "code",
   "execution_count": 59,
   "metadata": {
    "pycharm": {
     "name": "#%%\n"
    }
   },
   "outputs": [
    {
     "name": "stdout",
     "output_type": "stream",
     "text": [
      "The autoreload extension is already loaded. To reload it, use:\n",
      "  %reload_ext autoreload\n"
     ]
    }
   ],
   "source": [
    "%load_ext autoreload"
   ]
  },
  {
   "cell_type": "code",
   "execution_count": 60,
   "metadata": {
    "pycharm": {
     "name": "#%%\n"
    }
   },
   "outputs": [],
   "source": [
    "%autoreload 2\n",
    "\n",
    "from boosting import Boosting"
   ]
  },
  {
   "cell_type": "markdown",
   "metadata": {
    "pycharm": {
     "name": "#%% md\n"
    }
   },
   "source": [
    "### Проверка кода\n",
    "\n",
    "У автора задания всё учится около одной секунды."
   ]
  },
  {
   "cell_type": "code",
   "execution_count": 61,
   "metadata": {
    "pycharm": {
     "name": "#%%\n"
    }
   },
   "outputs": [
    {
     "data": {
      "image/png": "[encoded data removed]",
      "text/plain": [
       "<Figure size 640x480 with 1 Axes>"
      ]
     },
     "metadata": {},
     "output_type": "display_data"
    },
    {
     "name": "stdout",
     "output_type": "stream",
     "text": [
      "CPU times: user 1.13 s, sys: 8.95 ms, total: 1.14 s\n",
      "Wall time: 966 ms\n",
      "Train ROC-AUC 0.9893\n",
      "Valid ROC-AUC 0.9090\n",
      "Test ROC-AUC 0.9171\n"
     ]
    }
   ],
   "source": [
    "boosting = Boosting(plot=True)\n",
    "\n",
    "%time boosting.fit(x_train, y_train, x_valid, y_valid)\n",
    "\n",
    "assert len(boosting.models) == boosting.n_estimators\n",
    "assert len(boosting.gammas) == boosting.n_estimators\n",
    "\n",
    "assert boosting.predict_proba(x_test).shape == (x_test.shape[0], 2)\n",
    "\n",
    "print(f'Train ROC-AUC {boosting.score(x_train, y_train):.4f}')\n",
    "print(f'Valid ROC-AUC {boosting.score(x_valid, y_valid):.4f}')\n",
    "print(f'Test ROC-AUC {boosting.score(x_test, y_test):.4f}')"
   ]
  },
  {
   "cell_type": "markdown",
   "metadata": {
    "pycharm": {
     "name": "#%% md\n"
    }
   },
   "source": [
    "## Задание 2. Обучение градиентного бустингового (1 балл)\n",
    "\n",
    "Оцените качество на тестовой выборке вашей имплементации бустинга для различной максимальной глубины решающего дерева в качестве базовой модели. Здесь и далее мы будем использовать метрику ROC-AUC.\n",
    "\n",
    "Перебирайте максимальную глубину от 1 до 30 с шагом 2 (остальные параметры бустинга стоит оставить равными по умолчанию). Постройте график зависимости качества на обучающей и тестовой выборке в зависимости от глубины."
   ]
  },
  {
   "cell_type": "code",
   "execution_count": 62,
   "metadata": {
    "pycharm": {
     "name": "#%%\n"
    }
   },
   "outputs": [],
   "source": [
    "depths = range(1, 30, 2)\n",
    "train_scores = []\n",
    "test_scores = []\n",
    "\n",
    "for depth in depths:   \n",
    "    boosting = Boosting(plot=False, base_model_params={\"max_depth\" : depth})\n",
    "    boosting.fit(x_train, y_train, x_valid, y_valid)\n",
    "    train_scores.append(boosting.score(x_train, y_train))\n",
    "    test_scores.append(boosting.score(x_test, y_test))"
   ]
  },
  {
   "cell_type": "code",
   "execution_count": 63,
   "metadata": {},
   "outputs": [
    {
     "data": {
      "image/png": "[encoded data removed]",
      "text/plain": [
       "<Figure size 640x480 with 1 Axes>"
      ]
     },
     "metadata": {},
     "output_type": "display_data"
    }
   ],
   "source": [
    "plt.plot(depths, train_scores, label=\"train\")\n",
    "plt.plot(depths, test_scores, label=\"test\")\n",
    "plt.legend()\n",
    "plt.title(\"AUC-ROC scores depending on depth\")\n",
    "plt.ylabel(\"score\")\n",
    "plt.xlabel(\"depth\")\n",
    "plt.show()"
   ]
  },
  {
   "attachments": {},
   "cell_type": "markdown",
   "metadata": {
    "pycharm": {
     "name": "#%% md\n"
    }
   },
   "source": [
    "**Какая из моделей имеет лучшее качество? Как вы можете это объяснить?**\n",
    "\n",
    "Из графика видно, что та у которой глубина ~ 8, так как у нее лучшее качество на тесте. Так происходит потому что наш бустинг переобучается с ростом максимальной глубины базовой модели. Это согласуется с теорией, обсуждали на лекции. При этом если слишком неглубокие деревья базовые, то не хватает мощности."
   ]
  },
  {
   "cell_type": "markdown",
   "metadata": {
    "pycharm": {
     "name": "#%% md\n"
    }
   },
   "source": [
    "## Задание 3. Подбираем гиперпараметры и ищем лучшую модель (3 балла)\n",
    "\n",
    "Подберите по валидационной выборке основные гиперпараметры для вашей модели бустинга. Следует подобрать все основные параметры для самого градиентного бустинга и для самих базовых моделей. Существуют библиотеки для подбора гиперпараметров, попробуйте использовать какую-нибудь из следующих двух - [Hyperopt](https://github.com/hyperopt/hyperopt), [Optuna](https://optuna.org/)."
   ]
  },
  {
   "cell_type": "code",
   "execution_count": 64,
   "metadata": {
    "pycharm": {
     "is_executing": true,
     "name": "#%%\n"
    }
   },
   "outputs": [],
   "source": [
    "import optuna"
   ]
  },
  {
   "cell_type": "code",
   "execution_count": 65,
   "metadata": {},
   "outputs": [
    {
     "name": "stderr",
     "output_type": "stream",
     "text": [
      "\u001b[32m[I 2022-12-20 18:13:22,342]\u001b[0m A new study created in memory with name: no-name-5955877e-3bea-43a4-90ea-245ca9407de5\u001b[0m\n",
      "\u001b[32m[I 2022-12-20 18:13:27,462]\u001b[0m Trial 0 finished with value: 0.937526789284765 and parameters: {'n_estimators': 51, 'learning_rate': 0.4954934848868722, 'subsample': 0.25179928623886083, 'max_depth': 10, 'min_samples_split': 30, 'min_samples_leaf': 12, 'max_features': None}. Best is trial 0 with value: 0.937526789284765.\u001b[0m\n",
      "\u001b[32m[I 2022-12-20 18:13:27,517]\u001b[0m Trial 1 finished with value: 0.9119954535041781 and parameters: {'n_estimators': 1, 'learning_rate': 0.6941031166111372, 'subsample': 0.4872910732523519, 'max_depth': 25, 'min_samples_split': 15, 'min_samples_leaf': 16, 'max_features': None}. Best is trial 0 with value: 0.937526789284765.\u001b[0m\n",
      "\u001b[32m[I 2022-12-20 18:13:27,653]\u001b[0m Trial 2 finished with value: 0.9219409131145173 and parameters: {'n_estimators': 4, 'learning_rate': 0.06138847035231574, 'subsample': 0.20922682697691605, 'max_depth': 22, 'min_samples_split': 10, 'min_samples_leaf': 10, 'max_features': 'sqrt'}. Best is trial 0 with value: 0.937526789284765.\u001b[0m\n",
      "\u001b[32m[I 2022-12-20 18:13:27,688]\u001b[0m Trial 3 finished with value: 0.9106684609999895 and parameters: {'n_estimators': 1, 'learning_rate': 0.01634617849958027, 'subsample': 0.20124556159481294, 'max_depth': 12, 'min_samples_split': 18, 'min_samples_leaf': 32, 'max_features': 'auto'}. Best is trial 0 with value: 0.937526789284765.\u001b[0m\n",
      "\u001b[32m[I 2022-12-20 18:13:27,717]\u001b[0m Trial 4 finished with value: 0.8400317520371829 and parameters: {'n_estimators': 1, 'learning_rate': 0.1447266676614315, 'subsample': 0.24244542255141846, 'max_depth': 5, 'min_samples_split': 7, 'min_samples_leaf': 12, 'max_features': 'log2'}. Best is trial 0 with value: 0.937526789284765.\u001b[0m\n",
      "\u001b[32m[I 2022-12-20 18:13:27,917]\u001b[0m Trial 5 finished with value: 0.9207388374986929 and parameters: {'n_estimators': 5, 'learning_rate': 0.2411822542372788, 'subsample': 0.5530343307021163, 'max_depth': 5, 'min_samples_split': 2, 'min_samples_leaf': 13, 'max_features': 'sqrt'}. Best is trial 0 with value: 0.937526789284765.\u001b[0m\n",
      "\u001b[32m[I 2022-12-20 18:13:27,949]\u001b[0m Trial 6 finished with value: 0.8740985430620043 and parameters: {'n_estimators': 1, 'learning_rate': 0.9069980300513304, 'subsample': 0.28825148618304675, 'max_depth': 1, 'min_samples_split': 7, 'min_samples_leaf': 4, 'max_features': 'log2'}. Best is trial 0 with value: 0.937526789284765.\u001b[0m\n",
      "\u001b[32m[I 2022-12-20 18:13:28,000]\u001b[0m Trial 7 finished with value: 0.9161935389632936 and parameters: {'n_estimators': 1, 'learning_rate': 0.11314637148583855, 'subsample': 0.4381364487927767, 'max_depth': 1, 'min_samples_split': 8, 'min_samples_leaf': 21, 'max_features': 'auto'}. Best is trial 0 with value: 0.937526789284765.\u001b[0m\n",
      "\u001b[32m[I 2022-12-20 18:13:28,315]\u001b[0m Trial 8 finished with value: 0.9300732819138704 and parameters: {'n_estimators': 5, 'learning_rate': 0.10750715237524147, 'subsample': 0.3976852068668049, 'max_depth': 12, 'min_samples_split': 19, 'min_samples_leaf': 15, 'max_features': 'auto'}. Best is trial 0 with value: 0.937526789284765.\u001b[0m\n",
      "\u001b[32m[I 2022-12-20 18:13:28,526]\u001b[0m Trial 9 finished with value: 0.9098431315267078 and parameters: {'n_estimators': 2, 'learning_rate': 0.0347735137983202, 'subsample': 0.7810157164071351, 'max_depth': 2, 'min_samples_split': 4, 'min_samples_leaf': 8, 'max_features': None}. Best is trial 0 with value: 0.937526789284765.\u001b[0m\n",
      "\u001b[32m[I 2022-12-20 18:13:40,050]\u001b[0m Trial 10 finished with value: 0.9397413701586724 and parameters: {'n_estimators': 78, 'learning_rate': 0.32868536380961694, 'subsample': 0.3227778871943568, 'max_depth': 3, 'min_samples_split': 31, 'min_samples_leaf': 2, 'max_features': None}. Best is trial 10 with value: 0.9397413701586724.\u001b[0m\n",
      "\u001b[32m[I 2022-12-20 18:13:53,052]\u001b[0m Trial 11 finished with value: 0.9404689212369087 and parameters: {'n_estimators': 84, 'learning_rate': 0.3510801246672122, 'subsample': 0.3183077979128792, 'max_depth': 3, 'min_samples_split': 32, 'min_samples_leaf': 2, 'max_features': None}. Best is trial 11 with value: 0.9404689212369087.\u001b[0m\n",
      "\u001b[32m[I 2022-12-20 18:14:06,208]\u001b[0m Trial 12 finished with value: 0.9407407052655861 and parameters: {'n_estimators': 83, 'learning_rate': 0.3646896060025389, 'subsample': 0.3328950094102711, 'max_depth': 2, 'min_samples_split': 32, 'min_samples_leaf': 2, 'max_features': None}. Best is trial 12 with value: 0.9407407052655861.\u001b[0m\n",
      "\u001b[32m[I 2022-12-20 18:14:08,561]\u001b[0m Trial 13 finished with value: 0.9374262172212896 and parameters: {'n_estimators': 25, 'learning_rate': 0.2632204531108717, 'subsample': 0.34603026516748303, 'max_depth': 2, 'min_samples_split': 30, 'min_samples_leaf': 2, 'max_features': None}. Best is trial 12 with value: 0.9407407052655861.\u001b[0m\n",
      "\u001b[32m[I 2022-12-20 18:14:11,055]\u001b[0m Trial 14 finished with value: 0.931507631104864 and parameters: {'n_estimators': 19, 'learning_rate': 0.43417921867234505, 'subsample': 0.6204826677201221, 'max_depth': 2, 'min_samples_split': 13, 'min_samples_leaf': 4, 'max_features': None}. Best is trial 12 with value: 0.9407407052655861.\u001b[0m\n",
      "\u001b[32m[I 2022-12-20 18:14:30,625]\u001b[0m Trial 15 finished with value: 0.9359663259189374 and parameters: {'n_estimators': 95, 'learning_rate': 0.1829637366093138, 'subsample': 0.38091282797374987, 'max_depth': 3, 'min_samples_split': 4, 'min_samples_leaf': 3, 'max_features': None}. Best is trial 12 with value: 0.9407407052655861.\u001b[0m\n",
      "\u001b[32m[I 2022-12-20 18:14:32,084]\u001b[0m Trial 16 finished with value: 0.9364687871408239 and parameters: {'n_estimators': 19, 'learning_rate': 0.0587609175416749, 'subsample': 0.2886443220883603, 'max_depth': 1, 'min_samples_split': 22, 'min_samples_leaf': 5, 'max_features': None}. Best is trial 12 with value: 0.9407407052655861.\u001b[0m\n",
      "\u001b[32m[I 2022-12-20 18:14:36,557]\u001b[0m Trial 17 finished with value: 0.9415245288079097 and parameters: {'n_estimators': 39, 'learning_rate': 0.5255751332415999, 'subsample': 0.9891686960945543, 'max_depth': 7, 'min_samples_split': 4, 'min_samples_leaf': 3, 'max_features': 'sqrt'}. Best is trial 17 with value: 0.9415245288079097.\u001b[0m\n",
      "\u001b[32m[I 2022-12-20 18:14:40,454]\u001b[0m Trial 18 finished with value: 0.9400778076567268 and parameters: {'n_estimators': 36, 'learning_rate': 0.9477860929847617, 'subsample': 0.970574644582339, 'max_depth': 7, 'min_samples_split': 3, 'min_samples_leaf': 3, 'max_features': 'sqrt'}. Best is trial 17 with value: 0.9415245288079097.\u001b[0m\n",
      "\u001b[32m[I 2022-12-20 18:14:40,971]\u001b[0m Trial 19 finished with value: 0.9357172903331887 and parameters: {'n_estimators': 10, 'learning_rate': 0.5705635737613237, 'subsample': 0.6860758660361691, 'max_depth': 7, 'min_samples_split': 5, 'min_samples_leaf': 6, 'max_features': 'sqrt'}. Best is trial 17 with value: 0.9415245288079097.\u001b[0m\n",
      "\u001b[32m[I 2022-12-20 18:14:47,062]\u001b[0m Trial 20 finished with value: 0.9416514411737239 and parameters: {'n_estimators': 49, 'learning_rate': 0.011493948489101749, 'subsample': 0.9661365418575701, 'max_depth': 19, 'min_samples_split': 2, 'min_samples_leaf': 3, 'max_features': 'sqrt'}. Best is trial 20 with value: 0.9416514411737239.\u001b[0m\n",
      "\u001b[32m[I 2022-12-20 18:14:52,660]\u001b[0m Trial 21 finished with value: 0.9404533565127994 and parameters: {'n_estimators': 47, 'learning_rate': 0.010410366937289204, 'subsample': 0.9089397710435045, 'max_depth': 18, 'min_samples_split': 2, 'min_samples_leaf': 3, 'max_features': 'sqrt'}. Best is trial 20 with value: 0.9416514411737239.\u001b[0m\n",
      "\u001b[32m[I 2022-12-20 18:14:53,406]\u001b[0m Trial 22 finished with value: 0.9383764635829356 and parameters: {'n_estimators': 11, 'learning_rate': 0.024506169155548256, 'subsample': 0.8311704259970006, 'max_depth': 8, 'min_samples_split': 3, 'min_samples_leaf': 3, 'max_features': 'sqrt'}. Best is trial 20 with value: 0.9416514411737239.\u001b[0m\n",
      "\u001b[32m[I 2022-12-20 18:14:56,561]\u001b[0m Trial 23 finished with value: 0.9404385899796701 and parameters: {'n_estimators': 36, 'learning_rate': 0.06202498062399625, 'subsample': 0.7110830370456304, 'max_depth': 19, 'min_samples_split': 3, 'min_samples_leaf': 4, 'max_features': 'sqrt'}. Best is trial 20 with value: 0.9416514411737239.\u001b[0m\n",
      "\u001b[32m[I 2022-12-20 18:14:59,121]\u001b[0m Trial 24 finished with value: 0.939382184217689 and parameters: {'n_estimators': 24, 'learning_rate': 0.03613953649345696, 'subsample': 0.9685019265818049, 'max_depth': 17, 'min_samples_split': 2, 'min_samples_leaf': 2, 'max_features': 'sqrt'}. Best is trial 20 with value: 0.9416514411737239.\u001b[0m\n",
      "\u001b[32m[I 2022-12-20 18:15:03,932]\u001b[0m Trial 25 finished with value: 0.9390676969715837 and parameters: {'n_estimators': 54, 'learning_rate': 0.1962307145793153, 'subsample': 0.5181635894080462, 'max_depth': 32, 'min_samples_split': 4, 'min_samples_leaf': 5, 'max_features': 'log2'}. Best is trial 20 with value: 0.9416514411737239.\u001b[0m\n",
      "\u001b[32m[I 2022-12-20 18:15:04,611]\u001b[0m Trial 26 finished with value: 0.9376948084860472 and parameters: {'n_estimators': 12, 'learning_rate': 0.011026580700458574, 'subsample': 0.8282532526945098, 'max_depth': 4, 'min_samples_split': 5, 'min_samples_leaf': 7, 'max_features': 'sqrt'}. Best is trial 20 with value: 0.9416514411737239.\u001b[0m\n",
      "\u001b[32m[I 2022-12-20 18:15:12,307]\u001b[0m Trial 27 finished with value: 0.942362629336871 and parameters: {'n_estimators': 65, 'learning_rate': 0.6129862429218732, 'subsample': 0.5830653675480324, 'max_depth': 13, 'min_samples_split': 9, 'min_samples_leaf': 3, 'max_features': 'sqrt'}. Best is trial 27 with value: 0.942362629336871.\u001b[0m\n",
      "\u001b[32m[I 2022-12-20 18:15:14,776]\u001b[0m Trial 28 finished with value: 0.9393538484379004 and parameters: {'n_estimators': 33, 'learning_rate': 0.7084460674232932, 'subsample': 0.6073258814153828, 'max_depth': 13, 'min_samples_split': 11, 'min_samples_leaf': 5, 'max_features': 'sqrt'}. Best is trial 27 with value: 0.942362629336871.\u001b[0m\n",
      "\u001b[32m[I 2022-12-20 18:15:22,390]\u001b[0m Trial 29 finished with value: 0.9402753599242677 and parameters: {'n_estimators': 61, 'learning_rate': 0.5123757205696718, 'subsample': 0.6969927481826557, 'max_depth': 9, 'min_samples_split': 5, 'min_samples_leaf': 3, 'max_features': 'sqrt'}. Best is trial 27 with value: 0.942362629336871.\u001b[0m\n",
      "\u001b[32m[I 2022-12-20 18:15:27,716]\u001b[0m Trial 30 finished with value: 0.939814803728829 and parameters: {'n_estimators': 49, 'learning_rate': 0.017166885367242823, 'subsample': 0.8884132155654398, 'max_depth': 15, 'min_samples_split': 10, 'min_samples_leaf': 4, 'max_features': 'sqrt'}. Best is trial 27 with value: 0.942362629336871.\u001b[0m\n",
      "\u001b[32m[I 2022-12-20 18:15:35,794]\u001b[0m Trial 31 finished with value: 0.9416809742399825 and parameters: {'n_estimators': 65, 'learning_rate': 0.39305867241574144, 'subsample': 0.44615552396973523, 'max_depth': 28, 'min_samples_split': 3, 'min_samples_leaf': 2, 'max_features': 'sqrt'}. Best is trial 27 with value: 0.942362629336871.\u001b[0m\n",
      "\u001b[32m[I 2022-12-20 18:15:42,886]\u001b[0m Trial 32 finished with value: 0.9432079135846517 and parameters: {'n_estimators': 63, 'learning_rate': 0.6749167033343225, 'subsample': 0.48009033553165825, 'max_depth': 26, 'min_samples_split': 3, 'min_samples_leaf': 3, 'max_features': 'sqrt'}. Best is trial 32 with value: 0.9432079135846517.\u001b[0m\n",
      "\u001b[32m[I 2022-12-20 18:15:50,001]\u001b[0m Trial 33 finished with value: 0.9406684689818995 and parameters: {'n_estimators': 65, 'learning_rate': 0.7132540539898087, 'subsample': 0.467381082565393, 'max_depth': 29, 'min_samples_split': 3, 'min_samples_leaf': 4, 'max_features': 'sqrt'}. Best is trial 32 with value: 0.9432079135846517.\u001b[0m\n",
      "\u001b[32m[I 2022-12-20 18:15:51,490]\u001b[0m Trial 34 finished with value: 0.9382240091057625 and parameters: {'n_estimators': 26, 'learning_rate': 0.686061480300762, 'subsample': 0.411091971091839, 'max_depth': 24, 'min_samples_split': 2, 'min_samples_leaf': 9, 'max_features': 'sqrt'}. Best is trial 32 with value: 0.9432079135846517.\u001b[0m\n",
      "\u001b[32m[I 2022-12-20 18:16:05,217]\u001b[0m Trial 35 finished with value: 0.940742700743036 and parameters: {'n_estimators': 100, 'learning_rate': 0.27145063887646254, 'subsample': 0.5178451787809445, 'max_depth': 22, 'min_samples_split': 8, 'min_samples_leaf': 6, 'max_features': 'sqrt'}. Best is trial 32 with value: 0.9432079135846517.\u001b[0m\n",
      "\u001b[32m[I 2022-12-20 18:16:13,616]\u001b[0m Trial 36 finished with value: 0.9367246073499021 and parameters: {'n_estimators': 64, 'learning_rate': 0.0757618510591179, 'subsample': 0.5833611443287435, 'max_depth': 27, 'min_samples_split': 6, 'min_samples_leaf': 31, 'max_features': 'auto'}. Best is trial 32 with value: 0.9432079135846517.\u001b[0m\n",
      "\u001b[32m[I 2022-12-20 18:16:14,357]\u001b[0m Trial 37 finished with value: 0.9333135381970302 and parameters: {'n_estimators': 14, 'learning_rate': 0.4117998344808531, 'subsample': 0.4947780349154794, 'max_depth': 11, 'min_samples_split': 14, 'min_samples_leaf': 2, 'max_features': 'log2'}. Best is trial 32 with value: 0.9432079135846517.\u001b[0m\n",
      "\u001b[32m[I 2022-12-20 18:16:14,441]\u001b[0m Trial 38 finished with value: 0.9210269844424597 and parameters: {'n_estimators': 2, 'learning_rate': 0.15533695264880226, 'subsample': 0.4448020970516386, 'max_depth': 15, 'min_samples_split': 6, 'min_samples_leaf': 3, 'max_features': 'sqrt'}. Best is trial 32 with value: 0.9432079135846517.\u001b[0m\n",
      "\u001b[32m[I 2022-12-20 18:16:18,576]\u001b[0m Trial 39 finished with value: 0.939943312476603 and parameters: {'n_estimators': 47, 'learning_rate': 0.9374461168432948, 'subsample': 0.5451856717942823, 'max_depth': 23, 'min_samples_split': 3, 'min_samples_leaf': 5, 'max_features': 'sqrt'}. Best is trial 32 with value: 0.9432079135846517.\u001b[0m\n",
      "\u001b[32m[I 2022-12-20 18:16:21,559]\u001b[0m Trial 40 finished with value: 0.9364851500559132 and parameters: {'n_estimators': 29, 'learning_rate': 0.6688926421652108, 'subsample': 0.37275098746970947, 'max_depth': 32, 'min_samples_split': 8, 'min_samples_leaf': 6, 'max_features': 'auto'}. Best is trial 32 with value: 0.9432079135846517.\u001b[0m\n",
      "\u001b[32m[I 2022-12-20 18:16:25,645]\u001b[0m Trial 41 finished with value: 0.939232922504436 and parameters: {'n_estimators': 41, 'learning_rate': 0.536180025509009, 'subsample': 0.752918937131155, 'max_depth': 21, 'min_samples_split': 4, 'min_samples_leaf': 3, 'max_features': 'sqrt'}. Best is trial 32 with value: 0.9432079135846517.\u001b[0m\n",
      "\u001b[32m[I 2022-12-20 18:16:33,716]\u001b[0m Trial 42 finished with value: 0.941341743073498 and parameters: {'n_estimators': 68, 'learning_rate': 0.4716488817486403, 'subsample': 0.6422790364785956, 'max_depth': 14, 'min_samples_split': 2, 'min_samples_leaf': 4, 'max_features': 'sqrt'}. Best is trial 32 with value: 0.9432079135846517.\u001b[0m\n",
      "\u001b[32m[I 2022-12-20 18:16:34,905]\u001b[0m Trial 43 finished with value: 0.9365972958885981 and parameters: {'n_estimators': 19, 'learning_rate': 0.2938538960431311, 'subsample': 0.9883604166289989, 'max_depth': 9, 'min_samples_split': 4, 'min_samples_leaf': 11, 'max_features': 'sqrt'}. Best is trial 32 with value: 0.9432079135846517.\u001b[0m\n",
      "\u001b[32m[I 2022-12-20 18:16:39,378]\u001b[0m Trial 44 finished with value: 0.9403659546004934 and parameters: {'n_estimators': 51, 'learning_rate': 0.7530301247247583, 'subsample': 0.42449674212964256, 'max_depth': 6, 'min_samples_split': 6, 'min_samples_leaf': 3, 'max_features': 'log2'}. Best is trial 32 with value: 0.9432079135846517.\u001b[0m\n",
      "\u001b[32m[I 2022-12-20 18:16:39,716]\u001b[0m Trial 45 finished with value: 0.9306894853504019 and parameters: {'n_estimators': 8, 'learning_rate': 0.5670597177342536, 'subsample': 0.24024233528520905, 'max_depth': 10, 'min_samples_split': 9, 'min_samples_leaf': 2, 'max_features': 'sqrt'}. Best is trial 32 with value: 0.9432079135846517.\u001b[0m\n",
      "\u001b[32m[I 2022-12-20 18:16:45,970]\u001b[0m Trial 46 finished with value: 0.9358402117441031 and parameters: {'n_estimators': 73, 'learning_rate': 0.39307509261150747, 'subsample': 0.47939944136027535, 'max_depth': 17, 'min_samples_split': 3, 'min_samples_leaf': 20, 'max_features': 'sqrt'}. Best is trial 32 with value: 0.9432079135846517.\u001b[0m\n",
      "\u001b[32m[I 2022-12-20 18:16:53,559]\u001b[0m Trial 47 finished with value: 0.9321621477084338 and parameters: {'n_estimators': 37, 'learning_rate': 0.2190776650097448, 'subsample': 0.895819947275703, 'max_depth': 26, 'min_samples_split': 12, 'min_samples_leaf': 4, 'max_features': 'auto'}. Best is trial 32 with value: 0.9432079135846517.\u001b[0m\n",
      "\u001b[32m[I 2022-12-20 18:17:09,588]\u001b[0m Trial 48 finished with value: 0.9403843129930327 and parameters: {'n_estimators': 88, 'learning_rate': 0.3266902792196183, 'subsample': 0.7955107517321464, 'max_depth': 12, 'min_samples_split': 5, 'min_samples_leaf': 2, 'max_features': 'sqrt'}. Best is trial 32 with value: 0.9432079135846517.\u001b[0m\n",
      "\u001b[32m[I 2022-12-20 18:17:09,715]\u001b[0m Trial 49 finished with value: 0.9188579004544101 and parameters: {'n_estimators': 3, 'learning_rate': 0.11962260306528993, 'subsample': 0.5776606551132332, 'max_depth': 5, 'min_samples_split': 17, 'min_samples_leaf': 7, 'max_features': 'sqrt'}. Best is trial 32 with value: 0.9432079135846517.\u001b[0m\n"
     ]
    },
    {
     "name": "stdout",
     "output_type": "stream",
     "text": [
      "FrozenTrial(number=32, values=[0.9432079135846517], datetime_start=datetime.datetime(2022, 12, 20, 18, 15, 35, 796265), datetime_complete=datetime.datetime(2022, 12, 20, 18, 15, 42, 886640), params={'n_estimators': 63, 'learning_rate': 0.6749167033343225, 'subsample': 0.48009033553165825, 'max_depth': 26, 'min_samples_split': 3, 'min_samples_leaf': 3, 'max_features': 'sqrt'}, distributions={'n_estimators': IntDistribution(high=100, log=True, low=1, step=1), 'learning_rate': FloatDistribution(high=1.0, log=True, low=0.01, step=None), 'subsample': FloatDistribution(high=1.0, log=True, low=0.2, step=None), 'max_depth': IntDistribution(high=32, log=True, low=1, step=1), 'min_samples_split': IntDistribution(high=32, log=True, low=2, step=1), 'min_samples_leaf': IntDistribution(high=32, log=True, low=2, step=1), 'max_features': CategoricalDistribution(choices=('auto', 'sqrt', 'log2', None))}, user_attrs={}, system_attrs={}, intermediate_values={}, trial_id=32, state=TrialState.COMPLETE, value=None)\n"
     ]
    }
   ],
   "source": [
    "def objective(trial):\n",
    "\n",
    "    n_estimators = trial.suggest_int(\"n_estimators\", 1, 100, log=True)\n",
    "    learning_rate = trial.suggest_float(\"learning_rate\", 0.01, 1, log=True)\n",
    "    subsample = trial.suggest_float(\"subsample\", 0.2, 1, log=True)\n",
    "    max_depth = trial.suggest_int(\"max_depth\", 1, 32, log=True)\n",
    "    min_samples_split = trial.suggest_int(\"min_samples_split\", 2, 32, log=True)\n",
    "    min_samples_leaf = trial.suggest_int(\"min_samples_leaf\", 2, 32, log=True)\n",
    "    max_features = trial.suggest_categorical(\"max_features\", [\"auto\", \"sqrt\", \"log2\", None])\n",
    "\n",
    "    boosting = Boosting(plot=False, n_estimators=n_estimators,\n",
    "                        learning_rate=learning_rate, subsample=subsample,\n",
    "                        base_model_params={ \"max_depth\" : depth,\n",
    "                                            \"min_samples_split\" : min_samples_split,\n",
    "                                            \"min_samples_leaf\" : min_samples_leaf,\n",
    "                                            \"max_features\" : max_features\n",
    "                                            })\n",
    "\n",
    "    boosting.fit(x_train, y_train, x_valid, y_valid)\n",
    "\n",
    "    score = boosting.score(x_valid, y_valid)\n",
    "    return score\n",
    "\n",
    "\n",
    "\n",
    "study = optuna.create_study(direction=\"maximize\")\n",
    "study.optimize(objective, n_trials=50)\n",
    "print(study.best_trial)"
   ]
  },
  {
   "cell_type": "code",
   "execution_count": 67,
   "metadata": {},
   "outputs": [
    {
     "data": {
      "text/plain": [
       "{'n_estimators': 63,\n",
       " 'learning_rate': 0.6749167033343225,\n",
       " 'subsample': 0.48009033553165825,\n",
       " 'max_depth': 26,\n",
       " 'min_samples_split': 3,\n",
       " 'min_samples_leaf': 3,\n",
       " 'max_features': 'sqrt'}"
      ]
     },
     "execution_count": 67,
     "metadata": {},
     "output_type": "execute_result"
    }
   ],
   "source": [
    "study.best_trial.params"
   ]
  },
  {
   "cell_type": "code",
   "execution_count": 66,
   "metadata": {},
   "outputs": [],
   "source": [
    "#сохраняем самые лучше параметры\n",
    "\n",
    "boosting = Boosting(plot=False, n_estimators=study.best_trial.params[\"n_estimators\"],\n",
    "                        learning_rate=study.best_trial.params[\"learning_rate\"], subsample=study.best_trial.params[\"subsample\"],\n",
    "                        base_model_params={ \"max_depth\" : study.best_trial.params[\"max_depth\"],\n",
    "                                            \"min_samples_split\" : study.best_trial.params[\"min_samples_split\"],\n",
    "                                            \"min_samples_leaf\" : study.best_trial.params[\"min_samples_leaf\"],\n",
    "                                            \"max_features\" : study.best_trial.params[\"max_features\"]\n",
    "                                            })\n",
    "\n",
    "boosting.fit(x_train, y_train, x_valid, y_valid)"
   ]
  },
  {
   "cell_type": "markdown",
   "metadata": {
    "pycharm": {
     "name": "#%% md\n"
    }
   },
   "source": [
    "## Задание 4. Интерпретация бустингового (2 балл)\n",
    "\n",
    "Постройте калибровочную кривую для вашей лучшей модели бустинга. Насколько хорошо бустинг оценивает вероятности? Постройте также калибровочную кривую для логистической регрессии, сравните их между собой. Проанализируйте полученные результаты."
   ]
  },
  {
   "cell_type": "code",
   "execution_count": 54,
   "metadata": {},
   "outputs": [],
   "source": [
    "def plot_calibration_curve(y_test, preds, name):\n",
    "    bin_middle_points = []\n",
    "    bin_real_ratios = []\n",
    "    n_bins = 10\n",
    "    for i in range(n_bins):\n",
    "        l = 1.0 / n_bins * i\n",
    "        r = 1.0 / n_bins * (i + 1)\n",
    "        bin_middle_points.append((l + r) / 2) \n",
    "        bin_real_ratios.append(np.mean(y_test[(preds >= l) & (preds < r)] == 1)) \n",
    "    plt.figure(figsize=(6,6))\n",
    "    plt.plot(bin_middle_points, bin_real_ratios)\n",
    "    plt.ylim([-0.05, 1.05])\n",
    "    #plt.xlim([-0.05, 1.05])\n",
    "    plt.grid()\n",
    "    plt.title(name)\n",
    "    plt.xlabel(\"mean predicted probability\")\n",
    "    plt.ylabel(\"fraction of positives\")\n",
    "    plt.show()"
   ]
  },
  {
   "cell_type": "code",
   "execution_count": 55,
   "metadata": {},
   "outputs": [
    {
     "data": {
      "image/png": "[encoded data removed]",
      "text/plain": [
       "<Figure size 600x600 with 1 Axes>"
      ]
     },
     "metadata": {},
     "output_type": "display_data"
    }
   ],
   "source": [
    "test_preds_boosting = boosting.predict_proba(x_test)[:, 1]\n",
    "plot_calibration_curve(y_test, test_preds_boosting, \"Boosting curve\")"
   ]
  },
  {
   "cell_type": "code",
   "execution_count": 22,
   "metadata": {},
   "outputs": [
    {
     "data": {
      "image/png": "[encoded data removed]",
      "text/plain": [
       "<Figure size 600x600 with 1 Axes>"
      ]
     },
     "metadata": {},
     "output_type": "display_data"
    }
   ],
   "source": [
    "from sklearn.linear_model import LogisticRegression\n",
    "\n",
    "LR = LogisticRegression(max_iter=100000).fit(x_train, y_train)\n",
    "plot_calibration_curve(y_test, LR.predict_proba(x_test)[:, 1], \"LR curve\")"
   ]
  },
  {
   "attachments": {},
   "cell_type": "markdown",
   "metadata": {},
   "source": [
    "Ну видно, что GB похуже предсказывает вероятности, чем LR. Наверное это потому что там деревья испоьлзуются в качестве базовых моделей и непрерывность теряется, что может быть плохо для определения вероятностей"
   ]
  },
  {
   "cell_type": "markdown",
   "metadata": {
    "pycharm": {
     "name": "#%% md\n"
    }
   },
   "source": [
    "Теперь попробуем оценить важность признаков для бустинга.\n",
    "\n",
    "Поскольку наша базовая модель - это дерево из `sklearn`, мы можем вычислить важность признака отдельно для каждого дерева и усреднить (воспользуйтесь `feature_importances_` у `DecisionTreeRegressor`), после этого нормировать значения, чтобы они суммировались в единицу (обратите внимание, что они должны быть неотрицательными - иначе вы что-то сделали не так).\n",
    "\n",
    "Допишите в вашей реализации бустинга функцию `feature_importances_` чтобы она возвращала описанные выше важности признаков.\n",
    "\n",
    "Нарисуйте столбчатую диаграмму важности признаков. На соседнем графике нарисуйте важность признаков для логистической регрессии, для этого используйте модули весов. Сравните графики. Проанализируйте полученные результаты."
   ]
  },
  {
   "cell_type": "code",
   "execution_count": 88,
   "metadata": {
    "pycharm": {
     "name": "#%%\n"
    }
   },
   "outputs": [
    {
     "data": {
      "image/png": "[encoded data removed]",
      "text/plain": [
       "<Figure size 1200x960 with 1 Axes>"
      ]
     },
     "metadata": {},
     "output_type": "display_data"
    }
   ],
   "source": [
    "from matplotlib.pyplot import figure\n",
    "figure(figsize=(15,12), dpi=80)\n",
    "fi = boosting.feature_importances_\n",
    "plt.title(\"Feature importance GB\")\n",
    "plt.xlabel(\"feature num\")\n",
    "plt.ylabel(\"importance\")\n",
    "plt.bar(range(len(fi)), fi)\n",
    "plt.show()"
   ]
  },
  {
   "cell_type": "code",
   "execution_count": 86,
   "metadata": {},
   "outputs": [
    {
     "data": {
      "image/png": "[encoded data removed]",
      "text/plain": [
       "<Figure size 1200x960 with 1 Axes>"
      ]
     },
     "metadata": {},
     "output_type": "display_data"
    }
   ],
   "source": [
    "figure(figsize=(15,12), dpi=80)\n",
    "c = np.abs(LR.coef_.reshape((-1,)))\n",
    "plt.title(\"LR coefs\")\n",
    "plt.xlabel(\"feature num\")\n",
    "plt.ylabel(\"coef\")\n",
    "plt.bar(range(len(c)), c)\n",
    "plt.show()"
   ]
  },
  {
   "attachments": {},
   "cell_type": "markdown",
   "metadata": {},
   "source": [
    "Видим, что у GB гораздо меньше действительно значимых признаков, это происхожит из-за особенностей построения модели, а именно из-за того, что базовые модели -- неглубокие деревья, поэтому они все выбират ограниченное количество признаков и, очевидно, будут брать только самые важные с их точки зрения. А регрессия использует все, отсюда и большие коэфы на всех фичах"
   ]
  },
  {
   "cell_type": "markdown",
   "metadata": {
    "pycharm": {
     "name": "#%% md\n"
    }
   },
   "source": [
    "Кстати, чаще всего излишние признаки могут вредить качеству бустинга. Попробуйте отфильтровать на основании диаграммы хвост наименее важных признаков и снова обучить модель (с теми же гиперпараметрами). Стало ли лучше?"
   ]
  },
  {
   "cell_type": "code",
   "execution_count": 131,
   "metadata": {
    "pycharm": {
     "name": "#%%\n"
    }
   },
   "outputs": [],
   "source": [
    "#откинем половину признаков, потому что из диаграммы видно, что очень много незначительных\n",
    "q = np.quantile(fi, q = 0.7)\n",
    "most_important = fi > q"
   ]
  },
  {
   "cell_type": "code",
   "execution_count": 132,
   "metadata": {},
   "outputs": [
    {
     "data": {
      "text/plain": [
       "array([False,  True,  True, False, False,  True, False, False, False,\n",
       "        True,  True, False, False, False, False,  True, False, False,\n",
       "       False, False,  True,  True, False, False,  True,  True, False,\n",
       "        True, False, False, False, False, False, False, False, False,\n",
       "        True, False, False, False, False, False, False, False, False,\n",
       "       False, False, False, False, False, False, False, False, False,\n",
       "       False, False, False, False, False, False, False, False, False,\n",
       "       False, False, False, False, False, False,  True, False,  True,\n",
       "       False, False, False, False, False, False, False, False, False,\n",
       "       False, False, False, False, False, False, False, False, False,\n",
       "       False, False, False, False, False, False, False, False, False,\n",
       "       False, False, False,  True, False, False, False,  True, False,\n",
       "        True, False,  True, False, False, False, False, False, False,\n",
       "       False, False, False, False,  True, False, False,  True, False,\n",
       "        True, False, False, False, False, False, False,  True,  True,\n",
       "        True,  True, False, False,  True,  True, False,  True, False,\n",
       "       False,  True,  True,  True,  True,  True,  True,  True,  True,\n",
       "       False,  True,  True,  True,  True,  True,  True,  True,  True,\n",
       "        True,  True,  True,  True,  True,  True,  True])"
      ]
     },
     "execution_count": 132,
     "metadata": {},
     "output_type": "execute_result"
    }
   ],
   "source": [
    "most_important"
   ]
  },
  {
   "cell_type": "code",
   "execution_count": 133,
   "metadata": {},
   "outputs": [],
   "source": [
    "x_train_important, x_valid_important, x_test_important = x_train[:, most_important], x_valid[:, most_important], x_test[:, most_important]"
   ]
  },
  {
   "cell_type": "code",
   "execution_count": 134,
   "metadata": {},
   "outputs": [
    {
     "data": {
      "text/plain": [
       "(18825, 51)"
      ]
     },
     "execution_count": 134,
     "metadata": {},
     "output_type": "execute_result"
    }
   ],
   "source": [
    "x_train_important.shape"
   ]
  },
  {
   "cell_type": "code",
   "execution_count": 135,
   "metadata": {},
   "outputs": [
    {
     "name": "stdout",
     "output_type": "stream",
     "text": [
      "Score with unimportant features 0.9361840147498989\n"
     ]
    }
   ],
   "source": [
    "boosting = Boosting(plot=False, n_estimators=study.best_trial.params[\"n_estimators\"],\n",
    "                        learning_rate=study.best_trial.params[\"learning_rate\"], subsample=study.best_trial.params[\"subsample\"],\n",
    "                        base_model_params={ \"max_depth\" : study.best_trial.params[\"max_depth\"],\n",
    "                                            \"min_samples_split\" : study.best_trial.params[\"min_samples_split\"],\n",
    "                                            \"min_samples_leaf\" : study.best_trial.params[\"min_samples_leaf\"],\n",
    "                                            \"max_features\" : study.best_trial.params[\"max_features\"]\n",
    "                                            })\n",
    "\n",
    "boosting.fit(x_train, y_train, x_valid, y_valid)\n",
    "\n",
    "print(f\"Score with unimportant features {boosting.score(x_test, y_test)}\")"
   ]
  },
  {
   "cell_type": "code",
   "execution_count": 136,
   "metadata": {},
   "outputs": [
    {
     "name": "stdout",
     "output_type": "stream",
     "text": [
      "Score with important features 0.9374207830609189\n"
     ]
    }
   ],
   "source": [
    "boosting = Boosting(plot=False, n_estimators=study.best_trial.params[\"n_estimators\"],\n",
    "                        learning_rate=study.best_trial.params[\"learning_rate\"], subsample=study.best_trial.params[\"subsample\"],\n",
    "                        base_model_params={ \"max_depth\" : study.best_trial.params[\"max_depth\"],\n",
    "                                            \"min_samples_split\" : study.best_trial.params[\"min_samples_split\"],\n",
    "                                            \"min_samples_leaf\" : study.best_trial.params[\"min_samples_leaf\"],\n",
    "                                            \"max_features\" : study.best_trial.params[\"max_features\"]\n",
    "                                            })\n",
    "\n",
    "boosting.fit(x_train_important, y_train, x_valid_important, y_valid)\n",
    "print(f\"Score with important features {boosting.score(x_test_important, y_test)}\")"
   ]
  },
  {
   "attachments": {},
   "cell_type": "markdown",
   "metadata": {},
   "source": [
    "Да, мальца улучшилось"
   ]
  },
  {
   "cell_type": "markdown",
   "metadata": {
    "pycharm": {
     "name": "#%% md\n"
    }
   },
   "source": [
    "## Задание 5 (бонус). Блендинговое (1 балл)\n",
    "\n",
    "Реализуйте блендинг над вашей лучшей моделью и логистической регрессией. Улучшилось ли качество?"
   ]
  },
  {
   "cell_type": "code",
   "execution_count": null,
   "metadata": {
    "pycharm": {
     "name": "#%%\n"
    }
   },
   "outputs": [],
   "source": [
    "# YOUR CODE:"
   ]
  },
  {
   "cell_type": "markdown",
   "metadata": {
    "collapsed": false,
    "pycharm": {
     "name": "#%% md\n"
    }
   },
   "source": [
    "## Задание 6 (бонус). Катбустовое (1 балл)\n",
    "\n",
    "Запустите [CatBoost](https://catboost.ai/en/docs/concepts/python-quickstart) на наших данных, сравните с вашей реализацией. Где получилось лучше?"
   ]
  },
  {
   "cell_type": "code",
   "execution_count": 143,
   "metadata": {
    "collapsed": false,
    "pycharm": {
     "name": "#%%\n"
    }
   },
   "outputs": [
    {
     "name": "stdout",
     "output_type": "stream",
     "text": [
      "Learning rate set to 0.036078\n",
      "0:\tlearn: 0.6491456\ttotal: 4.5ms\tremaining: 4.5s\n",
      "1:\tlearn: 0.6106099\ttotal: 9.8ms\tremaining: 4.89s\n",
      "2:\tlearn: 0.5804628\ttotal: 17.2ms\tremaining: 5.7s\n",
      "3:\tlearn: 0.5522560\ttotal: 22.6ms\tremaining: 5.62s\n",
      "4:\tlearn: 0.5262191\ttotal: 27.7ms\tremaining: 5.5s\n",
      "5:\tlearn: 0.5008078\ttotal: 33.1ms\tremaining: 5.48s\n",
      "6:\tlearn: 0.4812964\ttotal: 41ms\tremaining: 5.82s\n",
      "7:\tlearn: 0.4620363\ttotal: 49.2ms\tremaining: 6.1s\n",
      "8:\tlearn: 0.4461815\ttotal: 53.8ms\tremaining: 5.92s\n",
      "9:\tlearn: 0.4303349\ttotal: 58.7ms\tremaining: 5.82s\n",
      "10:\tlearn: 0.4142074\ttotal: 63.7ms\tremaining: 5.72s\n",
      "11:\tlearn: 0.4011999\ttotal: 69.6ms\tremaining: 5.73s\n",
      "12:\tlearn: 0.3907486\ttotal: 74.2ms\tremaining: 5.63s\n",
      "13:\tlearn: 0.3808039\ttotal: 78.8ms\tremaining: 5.55s\n",
      "14:\tlearn: 0.3710193\ttotal: 83.4ms\tremaining: 5.47s\n",
      "15:\tlearn: 0.3641416\ttotal: 88ms\tremaining: 5.41s\n",
      "16:\tlearn: 0.3554514\ttotal: 92.5ms\tremaining: 5.35s\n",
      "17:\tlearn: 0.3492318\ttotal: 96.8ms\tremaining: 5.28s\n",
      "18:\tlearn: 0.3419544\ttotal: 101ms\tremaining: 5.24s\n",
      "19:\tlearn: 0.3378271\ttotal: 106ms\tremaining: 5.21s\n",
      "20:\tlearn: 0.3330131\ttotal: 111ms\tremaining: 5.16s\n",
      "21:\tlearn: 0.3283114\ttotal: 115ms\tremaining: 5.12s\n",
      "22:\tlearn: 0.3239310\ttotal: 120ms\tremaining: 5.09s\n",
      "23:\tlearn: 0.3201538\ttotal: 125ms\tremaining: 5.09s\n",
      "24:\tlearn: 0.3157883\ttotal: 129ms\tremaining: 5.05s\n",
      "25:\tlearn: 0.3126070\ttotal: 134ms\tremaining: 5.02s\n",
      "26:\tlearn: 0.3092979\ttotal: 139ms\tremaining: 4.99s\n",
      "27:\tlearn: 0.3057002\ttotal: 143ms\tremaining: 4.96s\n",
      "28:\tlearn: 0.3022073\ttotal: 148ms\tremaining: 4.96s\n",
      "29:\tlearn: 0.2991090\ttotal: 153ms\tremaining: 4.96s\n",
      "30:\tlearn: 0.2959411\ttotal: 158ms\tremaining: 4.93s\n",
      "31:\tlearn: 0.2933313\ttotal: 162ms\tremaining: 4.9s\n",
      "32:\tlearn: 0.2905583\ttotal: 167ms\tremaining: 4.88s\n",
      "33:\tlearn: 0.2879579\ttotal: 171ms\tremaining: 4.86s\n",
      "34:\tlearn: 0.2855462\ttotal: 176ms\tremaining: 4.86s\n",
      "35:\tlearn: 0.2836845\ttotal: 180ms\tremaining: 4.83s\n",
      "36:\tlearn: 0.2817867\ttotal: 185ms\tremaining: 4.81s\n",
      "37:\tlearn: 0.2802803\ttotal: 190ms\tremaining: 4.81s\n",
      "38:\tlearn: 0.2789353\ttotal: 195ms\tremaining: 4.81s\n",
      "39:\tlearn: 0.2775255\ttotal: 200ms\tremaining: 4.79s\n",
      "40:\tlearn: 0.2758793\ttotal: 204ms\tremaining: 4.78s\n",
      "41:\tlearn: 0.2738899\ttotal: 209ms\tremaining: 4.77s\n",
      "42:\tlearn: 0.2723049\ttotal: 214ms\tremaining: 4.76s\n",
      "43:\tlearn: 0.2712591\ttotal: 218ms\tremaining: 4.75s\n",
      "44:\tlearn: 0.2696152\ttotal: 224ms\tremaining: 4.75s\n",
      "45:\tlearn: 0.2678187\ttotal: 229ms\tremaining: 4.74s\n",
      "46:\tlearn: 0.2662825\ttotal: 234ms\tremaining: 4.74s\n",
      "47:\tlearn: 0.2651202\ttotal: 240ms\tremaining: 4.76s\n",
      "48:\tlearn: 0.2637659\ttotal: 245ms\tremaining: 4.75s\n",
      "49:\tlearn: 0.2622806\ttotal: 249ms\tremaining: 4.73s\n",
      "50:\tlearn: 0.2609588\ttotal: 253ms\tremaining: 4.71s\n",
      "51:\tlearn: 0.2596497\ttotal: 258ms\tremaining: 4.69s\n",
      "52:\tlearn: 0.2586388\ttotal: 262ms\tremaining: 4.68s\n",
      "53:\tlearn: 0.2575308\ttotal: 267ms\tremaining: 4.67s\n",
      "54:\tlearn: 0.2563464\ttotal: 271ms\tremaining: 4.66s\n",
      "55:\tlearn: 0.2553938\ttotal: 275ms\tremaining: 4.64s\n",
      "56:\tlearn: 0.2542418\ttotal: 280ms\tremaining: 4.63s\n",
      "57:\tlearn: 0.2530719\ttotal: 284ms\tremaining: 4.62s\n",
      "58:\tlearn: 0.2521842\ttotal: 289ms\tremaining: 4.6s\n",
      "59:\tlearn: 0.2512768\ttotal: 293ms\tremaining: 4.59s\n",
      "60:\tlearn: 0.2504819\ttotal: 297ms\tremaining: 4.58s\n",
      "61:\tlearn: 0.2497338\ttotal: 302ms\tremaining: 4.57s\n",
      "62:\tlearn: 0.2492157\ttotal: 307ms\tremaining: 4.56s\n",
      "63:\tlearn: 0.2486779\ttotal: 312ms\tremaining: 4.56s\n",
      "64:\tlearn: 0.2478278\ttotal: 316ms\tremaining: 4.54s\n",
      "65:\tlearn: 0.2471226\ttotal: 320ms\tremaining: 4.53s\n",
      "66:\tlearn: 0.2460822\ttotal: 325ms\tremaining: 4.52s\n",
      "67:\tlearn: 0.2452864\ttotal: 329ms\tremaining: 4.5s\n",
      "68:\tlearn: 0.2446292\ttotal: 333ms\tremaining: 4.49s\n",
      "69:\tlearn: 0.2441226\ttotal: 338ms\tremaining: 4.49s\n",
      "70:\tlearn: 0.2435059\ttotal: 342ms\tremaining: 4.48s\n",
      "71:\tlearn: 0.2430224\ttotal: 347ms\tremaining: 4.47s\n",
      "72:\tlearn: 0.2425474\ttotal: 351ms\tremaining: 4.46s\n",
      "73:\tlearn: 0.2417467\ttotal: 355ms\tremaining: 4.45s\n",
      "74:\tlearn: 0.2411925\ttotal: 360ms\tremaining: 4.44s\n",
      "75:\tlearn: 0.2405901\ttotal: 364ms\tremaining: 4.43s\n",
      "76:\tlearn: 0.2401959\ttotal: 369ms\tremaining: 4.42s\n",
      "77:\tlearn: 0.2396339\ttotal: 373ms\tremaining: 4.41s\n",
      "78:\tlearn: 0.2391089\ttotal: 377ms\tremaining: 4.4s\n",
      "79:\tlearn: 0.2386577\ttotal: 383ms\tremaining: 4.4s\n",
      "80:\tlearn: 0.2381253\ttotal: 387ms\tremaining: 4.39s\n",
      "81:\tlearn: 0.2376817\ttotal: 392ms\tremaining: 4.38s\n",
      "82:\tlearn: 0.2371225\ttotal: 396ms\tremaining: 4.38s\n",
      "83:\tlearn: 0.2367069\ttotal: 401ms\tremaining: 4.38s\n",
      "84:\tlearn: 0.2362258\ttotal: 406ms\tremaining: 4.37s\n",
      "85:\tlearn: 0.2358507\ttotal: 410ms\tremaining: 4.36s\n",
      "86:\tlearn: 0.2353571\ttotal: 415ms\tremaining: 4.36s\n",
      "87:\tlearn: 0.2350400\ttotal: 419ms\tremaining: 4.34s\n",
      "88:\tlearn: 0.2345352\ttotal: 424ms\tremaining: 4.34s\n",
      "89:\tlearn: 0.2341770\ttotal: 428ms\tremaining: 4.33s\n",
      "90:\tlearn: 0.2338436\ttotal: 433ms\tremaining: 4.32s\n",
      "91:\tlearn: 0.2334750\ttotal: 437ms\tremaining: 4.32s\n",
      "92:\tlearn: 0.2331383\ttotal: 443ms\tremaining: 4.32s\n",
      "93:\tlearn: 0.2327619\ttotal: 448ms\tremaining: 4.32s\n",
      "94:\tlearn: 0.2323787\ttotal: 453ms\tremaining: 4.32s\n",
      "95:\tlearn: 0.2318464\ttotal: 458ms\tremaining: 4.31s\n",
      "96:\tlearn: 0.2314195\ttotal: 463ms\tremaining: 4.31s\n",
      "97:\tlearn: 0.2310564\ttotal: 467ms\tremaining: 4.3s\n",
      "98:\tlearn: 0.2307503\ttotal: 472ms\tremaining: 4.29s\n",
      "99:\tlearn: 0.2303961\ttotal: 476ms\tremaining: 4.29s\n",
      "100:\tlearn: 0.2300228\ttotal: 482ms\tremaining: 4.29s\n",
      "101:\tlearn: 0.2297032\ttotal: 486ms\tremaining: 4.28s\n",
      "102:\tlearn: 0.2294196\ttotal: 491ms\tremaining: 4.27s\n",
      "103:\tlearn: 0.2291325\ttotal: 495ms\tremaining: 4.27s\n",
      "104:\tlearn: 0.2288106\ttotal: 500ms\tremaining: 4.26s\n",
      "105:\tlearn: 0.2285878\ttotal: 504ms\tremaining: 4.25s\n",
      "106:\tlearn: 0.2282590\ttotal: 508ms\tremaining: 4.24s\n",
      "107:\tlearn: 0.2279335\ttotal: 513ms\tremaining: 4.24s\n",
      "108:\tlearn: 0.2276412\ttotal: 518ms\tremaining: 4.23s\n",
      "109:\tlearn: 0.2272001\ttotal: 522ms\tremaining: 4.22s\n",
      "110:\tlearn: 0.2268866\ttotal: 527ms\tremaining: 4.22s\n",
      "111:\tlearn: 0.2265965\ttotal: 532ms\tremaining: 4.21s\n",
      "112:\tlearn: 0.2262775\ttotal: 537ms\tremaining: 4.21s\n",
      "113:\tlearn: 0.2260244\ttotal: 542ms\tremaining: 4.21s\n",
      "114:\tlearn: 0.2257123\ttotal: 568ms\tremaining: 4.37s\n",
      "115:\tlearn: 0.2253910\ttotal: 580ms\tremaining: 4.42s\n",
      "116:\tlearn: 0.2251471\ttotal: 584ms\tremaining: 4.41s\n",
      "117:\tlearn: 0.2249142\ttotal: 591ms\tremaining: 4.42s\n",
      "118:\tlearn: 0.2246985\ttotal: 598ms\tremaining: 4.43s\n",
      "119:\tlearn: 0.2245074\ttotal: 602ms\tremaining: 4.42s\n",
      "120:\tlearn: 0.2240694\ttotal: 607ms\tremaining: 4.41s\n",
      "121:\tlearn: 0.2237190\ttotal: 612ms\tremaining: 4.4s\n",
      "122:\tlearn: 0.2234510\ttotal: 616ms\tremaining: 4.39s\n",
      "123:\tlearn: 0.2231866\ttotal: 621ms\tremaining: 4.39s\n",
      "124:\tlearn: 0.2229539\ttotal: 626ms\tremaining: 4.38s\n",
      "125:\tlearn: 0.2226710\ttotal: 630ms\tremaining: 4.37s\n",
      "126:\tlearn: 0.2224127\ttotal: 635ms\tremaining: 4.36s\n",
      "127:\tlearn: 0.2220662\ttotal: 639ms\tremaining: 4.35s\n",
      "128:\tlearn: 0.2217772\ttotal: 644ms\tremaining: 4.35s\n",
      "129:\tlearn: 0.2214827\ttotal: 648ms\tremaining: 4.34s\n",
      "130:\tlearn: 0.2212394\ttotal: 653ms\tremaining: 4.33s\n",
      "131:\tlearn: 0.2210140\ttotal: 658ms\tremaining: 4.32s\n",
      "132:\tlearn: 0.2207578\ttotal: 662ms\tremaining: 4.32s\n",
      "133:\tlearn: 0.2205363\ttotal: 666ms\tremaining: 4.3s\n",
      "134:\tlearn: 0.2202804\ttotal: 671ms\tremaining: 4.3s\n",
      "135:\tlearn: 0.2198814\ttotal: 676ms\tremaining: 4.29s\n",
      "136:\tlearn: 0.2196995\ttotal: 680ms\tremaining: 4.28s\n",
      "137:\tlearn: 0.2194758\ttotal: 685ms\tremaining: 4.28s\n",
      "138:\tlearn: 0.2193014\ttotal: 690ms\tremaining: 4.27s\n",
      "139:\tlearn: 0.2190886\ttotal: 694ms\tremaining: 4.26s\n",
      "140:\tlearn: 0.2189098\ttotal: 698ms\tremaining: 4.25s\n",
      "141:\tlearn: 0.2187230\ttotal: 704ms\tremaining: 4.25s\n",
      "142:\tlearn: 0.2184286\ttotal: 708ms\tremaining: 4.24s\n",
      "143:\tlearn: 0.2181666\ttotal: 713ms\tremaining: 4.24s\n",
      "144:\tlearn: 0.2179187\ttotal: 718ms\tremaining: 4.23s\n",
      "145:\tlearn: 0.2177321\ttotal: 722ms\tremaining: 4.22s\n",
      "146:\tlearn: 0.2174924\ttotal: 727ms\tremaining: 4.22s\n",
      "147:\tlearn: 0.2173069\ttotal: 731ms\tremaining: 4.21s\n",
      "148:\tlearn: 0.2171508\ttotal: 736ms\tremaining: 4.2s\n",
      "149:\tlearn: 0.2169305\ttotal: 741ms\tremaining: 4.2s\n",
      "150:\tlearn: 0.2167165\ttotal: 745ms\tremaining: 4.19s\n",
      "151:\tlearn: 0.2164227\ttotal: 750ms\tremaining: 4.18s\n",
      "152:\tlearn: 0.2162450\ttotal: 755ms\tremaining: 4.18s\n",
      "153:\tlearn: 0.2160502\ttotal: 760ms\tremaining: 4.17s\n",
      "154:\tlearn: 0.2159058\ttotal: 764ms\tremaining: 4.17s\n",
      "155:\tlearn: 0.2157260\ttotal: 769ms\tremaining: 4.16s\n",
      "156:\tlearn: 0.2155017\ttotal: 773ms\tremaining: 4.15s\n",
      "157:\tlearn: 0.2152952\ttotal: 778ms\tremaining: 4.14s\n",
      "158:\tlearn: 0.2151336\ttotal: 782ms\tremaining: 4.13s\n",
      "159:\tlearn: 0.2149782\ttotal: 786ms\tremaining: 4.13s\n",
      "160:\tlearn: 0.2148205\ttotal: 790ms\tremaining: 4.12s\n",
      "161:\tlearn: 0.2145281\ttotal: 795ms\tremaining: 4.11s\n",
      "162:\tlearn: 0.2143882\ttotal: 800ms\tremaining: 4.11s\n",
      "163:\tlearn: 0.2142610\ttotal: 805ms\tremaining: 4.1s\n",
      "164:\tlearn: 0.2140180\ttotal: 810ms\tremaining: 4.1s\n",
      "165:\tlearn: 0.2138142\ttotal: 814ms\tremaining: 4.09s\n",
      "166:\tlearn: 0.2136149\ttotal: 819ms\tremaining: 4.08s\n",
      "167:\tlearn: 0.2133923\ttotal: 823ms\tremaining: 4.08s\n",
      "168:\tlearn: 0.2132505\ttotal: 828ms\tremaining: 4.07s\n",
      "169:\tlearn: 0.2131111\ttotal: 832ms\tremaining: 4.06s\n",
      "170:\tlearn: 0.2128182\ttotal: 836ms\tremaining: 4.05s\n",
      "171:\tlearn: 0.2126905\ttotal: 840ms\tremaining: 4.04s\n",
      "172:\tlearn: 0.2125587\ttotal: 845ms\tremaining: 4.04s\n",
      "173:\tlearn: 0.2124089\ttotal: 850ms\tremaining: 4.03s\n",
      "174:\tlearn: 0.2122404\ttotal: 854ms\tremaining: 4.02s\n",
      "175:\tlearn: 0.2120657\ttotal: 858ms\tremaining: 4.02s\n",
      "176:\tlearn: 0.2119171\ttotal: 863ms\tremaining: 4.01s\n",
      "177:\tlearn: 0.2117388\ttotal: 867ms\tremaining: 4s\n",
      "178:\tlearn: 0.2116222\ttotal: 871ms\tremaining: 4s\n",
      "179:\tlearn: 0.2113572\ttotal: 876ms\tremaining: 3.99s\n",
      "180:\tlearn: 0.2111646\ttotal: 880ms\tremaining: 3.98s\n",
      "181:\tlearn: 0.2109675\ttotal: 884ms\tremaining: 3.98s\n",
      "182:\tlearn: 0.2108600\ttotal: 889ms\tremaining: 3.97s\n",
      "183:\tlearn: 0.2107253\ttotal: 894ms\tremaining: 3.96s\n",
      "184:\tlearn: 0.2105937\ttotal: 898ms\tremaining: 3.95s\n",
      "185:\tlearn: 0.2104135\ttotal: 902ms\tremaining: 3.95s\n",
      "186:\tlearn: 0.2102395\ttotal: 907ms\tremaining: 3.94s\n",
      "187:\tlearn: 0.2100739\ttotal: 911ms\tremaining: 3.94s\n",
      "188:\tlearn: 0.2098812\ttotal: 916ms\tremaining: 3.93s\n",
      "189:\tlearn: 0.2096841\ttotal: 920ms\tremaining: 3.92s\n",
      "190:\tlearn: 0.2095743\ttotal: 925ms\tremaining: 3.92s\n",
      "191:\tlearn: 0.2093934\ttotal: 929ms\tremaining: 3.91s\n",
      "192:\tlearn: 0.2092936\ttotal: 934ms\tremaining: 3.9s\n",
      "193:\tlearn: 0.2091520\ttotal: 938ms\tremaining: 3.9s\n",
      "194:\tlearn: 0.2090294\ttotal: 942ms\tremaining: 3.89s\n",
      "195:\tlearn: 0.2087621\ttotal: 947ms\tremaining: 3.88s\n",
      "196:\tlearn: 0.2085897\ttotal: 952ms\tremaining: 3.88s\n",
      "197:\tlearn: 0.2084738\ttotal: 956ms\tremaining: 3.87s\n",
      "198:\tlearn: 0.2083127\ttotal: 960ms\tremaining: 3.87s\n",
      "199:\tlearn: 0.2081942\ttotal: 965ms\tremaining: 3.86s\n",
      "200:\tlearn: 0.2080461\ttotal: 970ms\tremaining: 3.85s\n",
      "201:\tlearn: 0.2078812\ttotal: 974ms\tremaining: 3.85s\n",
      "202:\tlearn: 0.2077163\ttotal: 978ms\tremaining: 3.84s\n",
      "203:\tlearn: 0.2075444\ttotal: 983ms\tremaining: 3.84s\n",
      "204:\tlearn: 0.2073538\ttotal: 988ms\tremaining: 3.83s\n",
      "205:\tlearn: 0.2071502\ttotal: 993ms\tremaining: 3.83s\n",
      "206:\tlearn: 0.2070268\ttotal: 998ms\tremaining: 3.82s\n",
      "207:\tlearn: 0.2068995\ttotal: 1s\tremaining: 3.82s\n",
      "208:\tlearn: 0.2067449\ttotal: 1.01s\tremaining: 3.81s\n",
      "209:\tlearn: 0.2065784\ttotal: 1.01s\tremaining: 3.81s\n",
      "210:\tlearn: 0.2064240\ttotal: 1.02s\tremaining: 3.8s\n",
      "211:\tlearn: 0.2062622\ttotal: 1.02s\tremaining: 3.8s\n",
      "212:\tlearn: 0.2061055\ttotal: 1.02s\tremaining: 3.79s\n",
      "213:\tlearn: 0.2059758\ttotal: 1.03s\tremaining: 3.79s\n",
      "214:\tlearn: 0.2058473\ttotal: 1.03s\tremaining: 3.78s\n",
      "215:\tlearn: 0.2057411\ttotal: 1.04s\tremaining: 3.77s\n",
      "216:\tlearn: 0.2056177\ttotal: 1.05s\tremaining: 3.78s\n",
      "217:\tlearn: 0.2055132\ttotal: 1.05s\tremaining: 3.78s\n",
      "218:\tlearn: 0.2053109\ttotal: 1.06s\tremaining: 3.77s\n",
      "219:\tlearn: 0.2051211\ttotal: 1.06s\tremaining: 3.77s\n",
      "220:\tlearn: 0.2050150\ttotal: 1.07s\tremaining: 3.76s\n",
      "221:\tlearn: 0.2048696\ttotal: 1.07s\tremaining: 3.75s\n",
      "222:\tlearn: 0.2047565\ttotal: 1.07s\tremaining: 3.75s\n",
      "223:\tlearn: 0.2045702\ttotal: 1.08s\tremaining: 3.74s\n",
      "224:\tlearn: 0.2043845\ttotal: 1.08s\tremaining: 3.74s\n",
      "225:\tlearn: 0.2042178\ttotal: 1.09s\tremaining: 3.73s\n",
      "226:\tlearn: 0.2040663\ttotal: 1.09s\tremaining: 3.73s\n",
      "227:\tlearn: 0.2038889\ttotal: 1.1s\tremaining: 3.72s\n",
      "228:\tlearn: 0.2037238\ttotal: 1.1s\tremaining: 3.71s\n",
      "229:\tlearn: 0.2036068\ttotal: 1.11s\tremaining: 3.71s\n",
      "230:\tlearn: 0.2034365\ttotal: 1.11s\tremaining: 3.71s\n",
      "231:\tlearn: 0.2032606\ttotal: 1.12s\tremaining: 3.7s\n",
      "232:\tlearn: 0.2031262\ttotal: 1.12s\tremaining: 3.69s\n",
      "233:\tlearn: 0.2030279\ttotal: 1.13s\tremaining: 3.69s\n",
      "234:\tlearn: 0.2028343\ttotal: 1.13s\tremaining: 3.68s\n",
      "235:\tlearn: 0.2026514\ttotal: 1.14s\tremaining: 3.68s\n",
      "236:\tlearn: 0.2024714\ttotal: 1.14s\tremaining: 3.67s\n",
      "237:\tlearn: 0.2023086\ttotal: 1.15s\tremaining: 3.67s\n",
      "238:\tlearn: 0.2021512\ttotal: 1.15s\tremaining: 3.66s\n",
      "239:\tlearn: 0.2020727\ttotal: 1.15s\tremaining: 3.65s\n",
      "240:\tlearn: 0.2019722\ttotal: 1.16s\tremaining: 3.65s\n",
      "241:\tlearn: 0.2018519\ttotal: 1.16s\tremaining: 3.64s\n",
      "242:\tlearn: 0.2017536\ttotal: 1.17s\tremaining: 3.64s\n",
      "243:\tlearn: 0.2016000\ttotal: 1.17s\tremaining: 3.63s\n",
      "244:\tlearn: 0.2014523\ttotal: 1.18s\tremaining: 3.63s\n",
      "245:\tlearn: 0.2012982\ttotal: 1.18s\tremaining: 3.62s\n",
      "246:\tlearn: 0.2011665\ttotal: 1.19s\tremaining: 3.62s\n",
      "247:\tlearn: 0.2010465\ttotal: 1.19s\tremaining: 3.61s\n",
      "248:\tlearn: 0.2009584\ttotal: 1.2s\tremaining: 3.61s\n",
      "249:\tlearn: 0.2007995\ttotal: 1.2s\tremaining: 3.6s\n",
      "250:\tlearn: 0.2006917\ttotal: 1.21s\tremaining: 3.6s\n",
      "251:\tlearn: 0.2005699\ttotal: 1.21s\tremaining: 3.59s\n",
      "252:\tlearn: 0.2004703\ttotal: 1.21s\tremaining: 3.58s\n",
      "253:\tlearn: 0.2003717\ttotal: 1.22s\tremaining: 3.58s\n",
      "254:\tlearn: 0.2002435\ttotal: 1.22s\tremaining: 3.57s\n",
      "255:\tlearn: 0.2001518\ttotal: 1.23s\tremaining: 3.57s\n",
      "256:\tlearn: 0.2000234\ttotal: 1.23s\tremaining: 3.56s\n",
      "257:\tlearn: 0.1999196\ttotal: 1.24s\tremaining: 3.56s\n",
      "258:\tlearn: 0.1997332\ttotal: 1.24s\tremaining: 3.55s\n",
      "259:\tlearn: 0.1996327\ttotal: 1.25s\tremaining: 3.55s\n",
      "260:\tlearn: 0.1995295\ttotal: 1.25s\tremaining: 3.54s\n",
      "261:\tlearn: 0.1994020\ttotal: 1.26s\tremaining: 3.54s\n",
      "262:\tlearn: 0.1993023\ttotal: 1.26s\tremaining: 3.53s\n",
      "263:\tlearn: 0.1992134\ttotal: 1.26s\tremaining: 3.53s\n",
      "264:\tlearn: 0.1990398\ttotal: 1.27s\tremaining: 3.52s\n",
      "265:\tlearn: 0.1988915\ttotal: 1.27s\tremaining: 3.52s\n",
      "266:\tlearn: 0.1987143\ttotal: 1.28s\tremaining: 3.51s\n",
      "267:\tlearn: 0.1986045\ttotal: 1.28s\tremaining: 3.5s\n",
      "268:\tlearn: 0.1985108\ttotal: 1.29s\tremaining: 3.5s\n",
      "269:\tlearn: 0.1983983\ttotal: 1.29s\tremaining: 3.49s\n",
      "270:\tlearn: 0.1982933\ttotal: 1.3s\tremaining: 3.49s\n",
      "271:\tlearn: 0.1982043\ttotal: 1.3s\tremaining: 3.48s\n",
      "272:\tlearn: 0.1980818\ttotal: 1.3s\tremaining: 3.47s\n",
      "273:\tlearn: 0.1979395\ttotal: 1.31s\tremaining: 3.47s\n",
      "274:\tlearn: 0.1977888\ttotal: 1.31s\tremaining: 3.46s\n",
      "275:\tlearn: 0.1976716\ttotal: 1.32s\tremaining: 3.46s\n",
      "276:\tlearn: 0.1975992\ttotal: 1.32s\tremaining: 3.45s\n",
      "277:\tlearn: 0.1975134\ttotal: 1.33s\tremaining: 3.44s\n",
      "278:\tlearn: 0.1974172\ttotal: 1.33s\tremaining: 3.44s\n",
      "279:\tlearn: 0.1972706\ttotal: 1.33s\tremaining: 3.43s\n",
      "280:\tlearn: 0.1971626\ttotal: 1.34s\tremaining: 3.42s\n",
      "281:\tlearn: 0.1970422\ttotal: 1.34s\tremaining: 3.42s\n",
      "282:\tlearn: 0.1969777\ttotal: 1.35s\tremaining: 3.42s\n",
      "283:\tlearn: 0.1968278\ttotal: 1.35s\tremaining: 3.41s\n",
      "284:\tlearn: 0.1967335\ttotal: 1.36s\tremaining: 3.4s\n",
      "285:\tlearn: 0.1965934\ttotal: 1.36s\tremaining: 3.4s\n",
      "286:\tlearn: 0.1965181\ttotal: 1.37s\tremaining: 3.39s\n",
      "287:\tlearn: 0.1963887\ttotal: 1.37s\tremaining: 3.39s\n",
      "288:\tlearn: 0.1962734\ttotal: 1.37s\tremaining: 3.38s\n",
      "289:\tlearn: 0.1961663\ttotal: 1.38s\tremaining: 3.38s\n",
      "290:\tlearn: 0.1960556\ttotal: 1.38s\tremaining: 3.37s\n",
      "291:\tlearn: 0.1959291\ttotal: 1.39s\tremaining: 3.37s\n",
      "292:\tlearn: 0.1957482\ttotal: 1.39s\tremaining: 3.36s\n",
      "293:\tlearn: 0.1956445\ttotal: 1.4s\tremaining: 3.36s\n",
      "294:\tlearn: 0.1954604\ttotal: 1.4s\tremaining: 3.35s\n",
      "295:\tlearn: 0.1953445\ttotal: 1.41s\tremaining: 3.35s\n",
      "296:\tlearn: 0.1952729\ttotal: 1.42s\tremaining: 3.35s\n",
      "297:\tlearn: 0.1951621\ttotal: 1.42s\tremaining: 3.35s\n",
      "298:\tlearn: 0.1950751\ttotal: 1.43s\tremaining: 3.34s\n",
      "299:\tlearn: 0.1948965\ttotal: 1.43s\tremaining: 3.34s\n",
      "300:\tlearn: 0.1947852\ttotal: 1.44s\tremaining: 3.33s\n",
      "301:\tlearn: 0.1946855\ttotal: 1.44s\tremaining: 3.33s\n",
      "302:\tlearn: 0.1945783\ttotal: 1.45s\tremaining: 3.33s\n",
      "303:\tlearn: 0.1944602\ttotal: 1.45s\tremaining: 3.32s\n",
      "304:\tlearn: 0.1943393\ttotal: 1.46s\tremaining: 3.32s\n",
      "305:\tlearn: 0.1942125\ttotal: 1.46s\tremaining: 3.31s\n",
      "306:\tlearn: 0.1940271\ttotal: 1.46s\tremaining: 3.31s\n",
      "307:\tlearn: 0.1939396\ttotal: 1.47s\tremaining: 3.3s\n",
      "308:\tlearn: 0.1938370\ttotal: 1.47s\tremaining: 3.29s\n",
      "309:\tlearn: 0.1937498\ttotal: 1.48s\tremaining: 3.29s\n",
      "310:\tlearn: 0.1936378\ttotal: 1.48s\tremaining: 3.28s\n",
      "311:\tlearn: 0.1935562\ttotal: 1.49s\tremaining: 3.28s\n",
      "312:\tlearn: 0.1934768\ttotal: 1.49s\tremaining: 3.27s\n",
      "313:\tlearn: 0.1933423\ttotal: 1.49s\tremaining: 3.27s\n",
      "314:\tlearn: 0.1932413\ttotal: 1.5s\tremaining: 3.26s\n",
      "315:\tlearn: 0.1931746\ttotal: 1.5s\tremaining: 3.25s\n",
      "316:\tlearn: 0.1930616\ttotal: 1.51s\tremaining: 3.25s\n",
      "317:\tlearn: 0.1929116\ttotal: 1.51s\tremaining: 3.24s\n",
      "318:\tlearn: 0.1928220\ttotal: 1.52s\tremaining: 3.24s\n",
      "319:\tlearn: 0.1926591\ttotal: 1.52s\tremaining: 3.23s\n",
      "320:\tlearn: 0.1925358\ttotal: 1.53s\tremaining: 3.23s\n",
      "321:\tlearn: 0.1923688\ttotal: 1.53s\tremaining: 3.23s\n",
      "322:\tlearn: 0.1922784\ttotal: 1.54s\tremaining: 3.22s\n",
      "323:\tlearn: 0.1921759\ttotal: 1.54s\tremaining: 3.22s\n",
      "324:\tlearn: 0.1920529\ttotal: 1.55s\tremaining: 3.21s\n",
      "325:\tlearn: 0.1919854\ttotal: 1.55s\tremaining: 3.21s\n",
      "326:\tlearn: 0.1918921\ttotal: 1.56s\tremaining: 3.2s\n",
      "327:\tlearn: 0.1917786\ttotal: 1.56s\tremaining: 3.2s\n",
      "328:\tlearn: 0.1916396\ttotal: 1.57s\tremaining: 3.19s\n",
      "329:\tlearn: 0.1915625\ttotal: 1.57s\tremaining: 3.19s\n",
      "330:\tlearn: 0.1914721\ttotal: 1.58s\tremaining: 3.19s\n",
      "331:\tlearn: 0.1913704\ttotal: 1.58s\tremaining: 3.18s\n",
      "332:\tlearn: 0.1913227\ttotal: 1.59s\tremaining: 3.18s\n",
      "333:\tlearn: 0.1912366\ttotal: 1.59s\tremaining: 3.17s\n",
      "334:\tlearn: 0.1911337\ttotal: 1.59s\tremaining: 3.17s\n",
      "335:\tlearn: 0.1910225\ttotal: 1.6s\tremaining: 3.16s\n",
      "336:\tlearn: 0.1909268\ttotal: 1.6s\tremaining: 3.16s\n",
      "337:\tlearn: 0.1908461\ttotal: 1.61s\tremaining: 3.15s\n",
      "338:\tlearn: 0.1907482\ttotal: 1.61s\tremaining: 3.15s\n",
      "339:\tlearn: 0.1905963\ttotal: 1.62s\tremaining: 3.14s\n",
      "340:\tlearn: 0.1905124\ttotal: 1.62s\tremaining: 3.14s\n",
      "341:\tlearn: 0.1903947\ttotal: 1.63s\tremaining: 3.13s\n",
      "342:\tlearn: 0.1902573\ttotal: 1.63s\tremaining: 3.13s\n",
      "343:\tlearn: 0.1901413\ttotal: 1.64s\tremaining: 3.12s\n",
      "344:\tlearn: 0.1900425\ttotal: 1.64s\tremaining: 3.11s\n",
      "345:\tlearn: 0.1899335\ttotal: 1.64s\tremaining: 3.11s\n",
      "346:\tlearn: 0.1897966\ttotal: 1.65s\tremaining: 3.1s\n",
      "347:\tlearn: 0.1896967\ttotal: 1.65s\tremaining: 3.1s\n",
      "348:\tlearn: 0.1896179\ttotal: 1.66s\tremaining: 3.09s\n",
      "349:\tlearn: 0.1894893\ttotal: 1.67s\tremaining: 3.09s\n",
      "350:\tlearn: 0.1894106\ttotal: 1.67s\tremaining: 3.09s\n",
      "351:\tlearn: 0.1893380\ttotal: 1.68s\tremaining: 3.09s\n",
      "352:\tlearn: 0.1892295\ttotal: 1.68s\tremaining: 3.08s\n",
      "353:\tlearn: 0.1891167\ttotal: 1.69s\tremaining: 3.08s\n",
      "354:\tlearn: 0.1890141\ttotal: 1.69s\tremaining: 3.07s\n",
      "355:\tlearn: 0.1888941\ttotal: 1.69s\tremaining: 3.06s\n",
      "356:\tlearn: 0.1887982\ttotal: 1.7s\tremaining: 3.06s\n",
      "357:\tlearn: 0.1887286\ttotal: 1.7s\tremaining: 3.05s\n",
      "358:\tlearn: 0.1886162\ttotal: 1.71s\tremaining: 3.05s\n",
      "359:\tlearn: 0.1885368\ttotal: 1.71s\tremaining: 3.04s\n",
      "360:\tlearn: 0.1884318\ttotal: 1.72s\tremaining: 3.04s\n",
      "361:\tlearn: 0.1883221\ttotal: 1.72s\tremaining: 3.03s\n",
      "362:\tlearn: 0.1882304\ttotal: 1.73s\tremaining: 3.03s\n",
      "363:\tlearn: 0.1881113\ttotal: 1.73s\tremaining: 3.02s\n",
      "364:\tlearn: 0.1880470\ttotal: 1.73s\tremaining: 3.02s\n",
      "365:\tlearn: 0.1879703\ttotal: 1.74s\tremaining: 3.01s\n",
      "366:\tlearn: 0.1878844\ttotal: 1.74s\tremaining: 3.01s\n",
      "367:\tlearn: 0.1877578\ttotal: 1.75s\tremaining: 3s\n",
      "368:\tlearn: 0.1876861\ttotal: 1.75s\tremaining: 3s\n",
      "369:\tlearn: 0.1876024\ttotal: 1.76s\tremaining: 2.99s\n",
      "370:\tlearn: 0.1875458\ttotal: 1.76s\tremaining: 2.98s\n",
      "371:\tlearn: 0.1874742\ttotal: 1.77s\tremaining: 2.98s\n",
      "372:\tlearn: 0.1873593\ttotal: 1.77s\tremaining: 2.98s\n",
      "373:\tlearn: 0.1872836\ttotal: 1.77s\tremaining: 2.97s\n",
      "374:\tlearn: 0.1872076\ttotal: 1.78s\tremaining: 2.97s\n",
      "375:\tlearn: 0.1870919\ttotal: 1.78s\tremaining: 2.96s\n",
      "376:\tlearn: 0.1869815\ttotal: 1.79s\tremaining: 2.96s\n",
      "377:\tlearn: 0.1868546\ttotal: 1.79s\tremaining: 2.95s\n",
      "378:\tlearn: 0.1867840\ttotal: 1.8s\tremaining: 2.95s\n",
      "379:\tlearn: 0.1867016\ttotal: 1.8s\tremaining: 2.94s\n",
      "380:\tlearn: 0.1866357\ttotal: 1.81s\tremaining: 2.94s\n",
      "381:\tlearn: 0.1865653\ttotal: 1.81s\tremaining: 2.93s\n",
      "382:\tlearn: 0.1864962\ttotal: 1.82s\tremaining: 2.93s\n",
      "383:\tlearn: 0.1864229\ttotal: 1.82s\tremaining: 2.92s\n",
      "384:\tlearn: 0.1863755\ttotal: 1.83s\tremaining: 2.92s\n",
      "385:\tlearn: 0.1863044\ttotal: 1.83s\tremaining: 2.91s\n",
      "386:\tlearn: 0.1862078\ttotal: 1.83s\tremaining: 2.91s\n",
      "387:\tlearn: 0.1861226\ttotal: 1.84s\tremaining: 2.9s\n",
      "388:\tlearn: 0.1860143\ttotal: 1.84s\tremaining: 2.9s\n",
      "389:\tlearn: 0.1859784\ttotal: 1.85s\tremaining: 2.89s\n",
      "390:\tlearn: 0.1858827\ttotal: 1.85s\tremaining: 2.88s\n",
      "391:\tlearn: 0.1857574\ttotal: 1.86s\tremaining: 2.88s\n",
      "392:\tlearn: 0.1856661\ttotal: 1.86s\tremaining: 2.88s\n",
      "393:\tlearn: 0.1855881\ttotal: 1.87s\tremaining: 2.87s\n",
      "394:\tlearn: 0.1854823\ttotal: 1.87s\tremaining: 2.87s\n",
      "395:\tlearn: 0.1854377\ttotal: 1.88s\tremaining: 2.86s\n",
      "396:\tlearn: 0.1853819\ttotal: 1.88s\tremaining: 2.86s\n",
      "397:\tlearn: 0.1853195\ttotal: 1.89s\tremaining: 2.85s\n",
      "398:\tlearn: 0.1852688\ttotal: 1.89s\tremaining: 2.85s\n",
      "399:\tlearn: 0.1852021\ttotal: 1.9s\tremaining: 2.84s\n",
      "400:\tlearn: 0.1851381\ttotal: 1.9s\tremaining: 2.84s\n",
      "401:\tlearn: 0.1850542\ttotal: 1.9s\tremaining: 2.83s\n",
      "402:\tlearn: 0.1849947\ttotal: 1.91s\tremaining: 2.83s\n",
      "403:\tlearn: 0.1849372\ttotal: 1.91s\tremaining: 2.82s\n",
      "404:\tlearn: 0.1849045\ttotal: 1.92s\tremaining: 2.82s\n",
      "405:\tlearn: 0.1848165\ttotal: 1.92s\tremaining: 2.81s\n",
      "406:\tlearn: 0.1847476\ttotal: 1.93s\tremaining: 2.81s\n",
      "407:\tlearn: 0.1846763\ttotal: 1.93s\tremaining: 2.8s\n",
      "408:\tlearn: 0.1845669\ttotal: 1.94s\tremaining: 2.8s\n",
      "409:\tlearn: 0.1844790\ttotal: 1.94s\tremaining: 2.79s\n",
      "410:\tlearn: 0.1843639\ttotal: 1.94s\tremaining: 2.79s\n",
      "411:\tlearn: 0.1842974\ttotal: 1.95s\tremaining: 2.78s\n",
      "412:\tlearn: 0.1842444\ttotal: 1.95s\tremaining: 2.77s\n",
      "413:\tlearn: 0.1841938\ttotal: 1.96s\tremaining: 2.77s\n",
      "414:\tlearn: 0.1841441\ttotal: 1.96s\tremaining: 2.77s\n",
      "415:\tlearn: 0.1840443\ttotal: 1.97s\tremaining: 2.76s\n",
      "416:\tlearn: 0.1839511\ttotal: 1.97s\tremaining: 2.75s\n",
      "417:\tlearn: 0.1838639\ttotal: 1.98s\tremaining: 2.75s\n",
      "418:\tlearn: 0.1838134\ttotal: 1.98s\tremaining: 2.75s\n",
      "419:\tlearn: 0.1836866\ttotal: 1.99s\tremaining: 2.74s\n",
      "420:\tlearn: 0.1836320\ttotal: 2s\tremaining: 2.75s\n",
      "421:\tlearn: 0.1835765\ttotal: 2.01s\tremaining: 2.75s\n",
      "422:\tlearn: 0.1835099\ttotal: 2.03s\tremaining: 2.77s\n",
      "423:\tlearn: 0.1834731\ttotal: 2.04s\tremaining: 2.78s\n",
      "424:\tlearn: 0.1834178\ttotal: 2.05s\tremaining: 2.78s\n",
      "425:\tlearn: 0.1833551\ttotal: 2.06s\tremaining: 2.77s\n",
      "426:\tlearn: 0.1832439\ttotal: 2.06s\tremaining: 2.77s\n",
      "427:\tlearn: 0.1831797\ttotal: 2.07s\tremaining: 2.76s\n",
      "428:\tlearn: 0.1831079\ttotal: 2.07s\tremaining: 2.76s\n",
      "429:\tlearn: 0.1830349\ttotal: 2.08s\tremaining: 2.75s\n",
      "430:\tlearn: 0.1830014\ttotal: 2.08s\tremaining: 2.75s\n",
      "431:\tlearn: 0.1829529\ttotal: 2.09s\tremaining: 2.74s\n",
      "432:\tlearn: 0.1828761\ttotal: 2.09s\tremaining: 2.74s\n",
      "433:\tlearn: 0.1827981\ttotal: 2.1s\tremaining: 2.73s\n",
      "434:\tlearn: 0.1827294\ttotal: 2.1s\tremaining: 2.73s\n",
      "435:\tlearn: 0.1827019\ttotal: 2.1s\tremaining: 2.72s\n",
      "436:\tlearn: 0.1826433\ttotal: 2.11s\tremaining: 2.72s\n",
      "437:\tlearn: 0.1825977\ttotal: 2.11s\tremaining: 2.71s\n",
      "438:\tlearn: 0.1825131\ttotal: 2.12s\tremaining: 2.71s\n",
      "439:\tlearn: 0.1824551\ttotal: 2.12s\tremaining: 2.7s\n",
      "440:\tlearn: 0.1824093\ttotal: 2.13s\tremaining: 2.7s\n",
      "441:\tlearn: 0.1823149\ttotal: 2.13s\tremaining: 2.69s\n",
      "442:\tlearn: 0.1822284\ttotal: 2.14s\tremaining: 2.69s\n",
      "443:\tlearn: 0.1821573\ttotal: 2.14s\tremaining: 2.68s\n",
      "444:\tlearn: 0.1820718\ttotal: 2.15s\tremaining: 2.68s\n",
      "445:\tlearn: 0.1820184\ttotal: 2.15s\tremaining: 2.67s\n",
      "446:\tlearn: 0.1819734\ttotal: 2.15s\tremaining: 2.67s\n",
      "447:\tlearn: 0.1819206\ttotal: 2.16s\tremaining: 2.66s\n",
      "448:\tlearn: 0.1818304\ttotal: 2.16s\tremaining: 2.65s\n",
      "449:\tlearn: 0.1817537\ttotal: 2.17s\tremaining: 2.65s\n",
      "450:\tlearn: 0.1816694\ttotal: 2.17s\tremaining: 2.65s\n",
      "451:\tlearn: 0.1816109\ttotal: 2.18s\tremaining: 2.64s\n",
      "452:\tlearn: 0.1815616\ttotal: 2.18s\tremaining: 2.63s\n",
      "453:\tlearn: 0.1814846\ttotal: 2.19s\tremaining: 2.63s\n",
      "454:\tlearn: 0.1813999\ttotal: 2.19s\tremaining: 2.63s\n",
      "455:\tlearn: 0.1812936\ttotal: 2.2s\tremaining: 2.62s\n",
      "456:\tlearn: 0.1812373\ttotal: 2.2s\tremaining: 2.62s\n",
      "457:\tlearn: 0.1811881\ttotal: 2.21s\tremaining: 2.61s\n",
      "458:\tlearn: 0.1810702\ttotal: 2.21s\tremaining: 2.61s\n",
      "459:\tlearn: 0.1809936\ttotal: 2.22s\tremaining: 2.6s\n",
      "460:\tlearn: 0.1809499\ttotal: 2.23s\tremaining: 2.6s\n",
      "461:\tlearn: 0.1809074\ttotal: 2.23s\tremaining: 2.6s\n",
      "462:\tlearn: 0.1808493\ttotal: 2.24s\tremaining: 2.59s\n",
      "463:\tlearn: 0.1807867\ttotal: 2.24s\tremaining: 2.59s\n",
      "464:\tlearn: 0.1806951\ttotal: 2.25s\tremaining: 2.59s\n",
      "465:\tlearn: 0.1806705\ttotal: 2.25s\tremaining: 2.58s\n",
      "466:\tlearn: 0.1805779\ttotal: 2.26s\tremaining: 2.58s\n",
      "467:\tlearn: 0.1805149\ttotal: 2.27s\tremaining: 2.58s\n",
      "468:\tlearn: 0.1804677\ttotal: 2.27s\tremaining: 2.57s\n",
      "469:\tlearn: 0.1804009\ttotal: 2.27s\tremaining: 2.56s\n",
      "470:\tlearn: 0.1803258\ttotal: 2.28s\tremaining: 2.56s\n",
      "471:\tlearn: 0.1802603\ttotal: 2.29s\tremaining: 2.56s\n",
      "472:\tlearn: 0.1801963\ttotal: 2.29s\tremaining: 2.55s\n",
      "473:\tlearn: 0.1801424\ttotal: 2.29s\tremaining: 2.55s\n",
      "474:\tlearn: 0.1800783\ttotal: 2.3s\tremaining: 2.54s\n",
      "475:\tlearn: 0.1800310\ttotal: 2.31s\tremaining: 2.54s\n",
      "476:\tlearn: 0.1799820\ttotal: 2.31s\tremaining: 2.53s\n",
      "477:\tlearn: 0.1798940\ttotal: 2.32s\tremaining: 2.53s\n",
      "478:\tlearn: 0.1798161\ttotal: 2.32s\tremaining: 2.52s\n",
      "479:\tlearn: 0.1797682\ttotal: 2.33s\tremaining: 2.52s\n",
      "480:\tlearn: 0.1797091\ttotal: 2.33s\tremaining: 2.52s\n",
      "481:\tlearn: 0.1796428\ttotal: 2.33s\tremaining: 2.51s\n",
      "482:\tlearn: 0.1795856\ttotal: 2.34s\tremaining: 2.5s\n",
      "483:\tlearn: 0.1795311\ttotal: 2.35s\tremaining: 2.5s\n",
      "484:\tlearn: 0.1794412\ttotal: 2.35s\tremaining: 2.5s\n",
      "485:\tlearn: 0.1793901\ttotal: 2.35s\tremaining: 2.49s\n",
      "486:\tlearn: 0.1793239\ttotal: 2.36s\tremaining: 2.49s\n",
      "487:\tlearn: 0.1792385\ttotal: 2.37s\tremaining: 2.48s\n",
      "488:\tlearn: 0.1791725\ttotal: 2.37s\tremaining: 2.48s\n",
      "489:\tlearn: 0.1790894\ttotal: 2.38s\tremaining: 2.47s\n",
      "490:\tlearn: 0.1790109\ttotal: 2.38s\tremaining: 2.47s\n",
      "491:\tlearn: 0.1789280\ttotal: 2.38s\tremaining: 2.46s\n",
      "492:\tlearn: 0.1788851\ttotal: 2.39s\tremaining: 2.46s\n",
      "493:\tlearn: 0.1788269\ttotal: 2.4s\tremaining: 2.45s\n",
      "494:\tlearn: 0.1787615\ttotal: 2.4s\tremaining: 2.45s\n",
      "495:\tlearn: 0.1787238\ttotal: 2.4s\tremaining: 2.44s\n",
      "496:\tlearn: 0.1786797\ttotal: 2.41s\tremaining: 2.44s\n",
      "497:\tlearn: 0.1786083\ttotal: 2.42s\tremaining: 2.43s\n",
      "498:\tlearn: 0.1785596\ttotal: 2.42s\tremaining: 2.43s\n",
      "499:\tlearn: 0.1784828\ttotal: 2.42s\tremaining: 2.42s\n",
      "500:\tlearn: 0.1784369\ttotal: 2.43s\tremaining: 2.42s\n",
      "501:\tlearn: 0.1783934\ttotal: 2.44s\tremaining: 2.42s\n",
      "502:\tlearn: 0.1783514\ttotal: 2.44s\tremaining: 2.41s\n",
      "503:\tlearn: 0.1782094\ttotal: 2.45s\tremaining: 2.41s\n",
      "504:\tlearn: 0.1781155\ttotal: 2.45s\tremaining: 2.4s\n",
      "505:\tlearn: 0.1780723\ttotal: 2.46s\tremaining: 2.4s\n",
      "506:\tlearn: 0.1780075\ttotal: 2.46s\tremaining: 2.4s\n",
      "507:\tlearn: 0.1779409\ttotal: 2.47s\tremaining: 2.39s\n",
      "508:\tlearn: 0.1778988\ttotal: 2.47s\tremaining: 2.39s\n",
      "509:\tlearn: 0.1778514\ttotal: 2.48s\tremaining: 2.38s\n",
      "510:\tlearn: 0.1778188\ttotal: 2.48s\tremaining: 2.38s\n",
      "511:\tlearn: 0.1777797\ttotal: 2.49s\tremaining: 2.37s\n",
      "512:\tlearn: 0.1777061\ttotal: 2.49s\tremaining: 2.37s\n",
      "513:\tlearn: 0.1776111\ttotal: 2.5s\tremaining: 2.36s\n",
      "514:\tlearn: 0.1775585\ttotal: 2.5s\tremaining: 2.36s\n",
      "515:\tlearn: 0.1774955\ttotal: 2.51s\tremaining: 2.35s\n",
      "516:\tlearn: 0.1774114\ttotal: 2.51s\tremaining: 2.35s\n",
      "517:\tlearn: 0.1773659\ttotal: 2.52s\tremaining: 2.34s\n",
      "518:\tlearn: 0.1773140\ttotal: 2.52s\tremaining: 2.34s\n",
      "519:\tlearn: 0.1772428\ttotal: 2.52s\tremaining: 2.33s\n",
      "520:\tlearn: 0.1771869\ttotal: 2.53s\tremaining: 2.33s\n",
      "521:\tlearn: 0.1771451\ttotal: 2.53s\tremaining: 2.32s\n",
      "522:\tlearn: 0.1770731\ttotal: 2.54s\tremaining: 2.31s\n",
      "523:\tlearn: 0.1770213\ttotal: 2.54s\tremaining: 2.31s\n",
      "524:\tlearn: 0.1769585\ttotal: 2.55s\tremaining: 2.3s\n",
      "525:\tlearn: 0.1769107\ttotal: 2.55s\tremaining: 2.3s\n",
      "526:\tlearn: 0.1768510\ttotal: 2.56s\tremaining: 2.29s\n",
      "527:\tlearn: 0.1768157\ttotal: 2.56s\tremaining: 2.29s\n",
      "528:\tlearn: 0.1767618\ttotal: 2.56s\tremaining: 2.28s\n",
      "529:\tlearn: 0.1766972\ttotal: 2.57s\tremaining: 2.28s\n",
      "530:\tlearn: 0.1766480\ttotal: 2.57s\tremaining: 2.27s\n",
      "531:\tlearn: 0.1765807\ttotal: 2.58s\tremaining: 2.27s\n",
      "532:\tlearn: 0.1765390\ttotal: 2.58s\tremaining: 2.26s\n",
      "533:\tlearn: 0.1764739\ttotal: 2.59s\tremaining: 2.26s\n",
      "534:\tlearn: 0.1764289\ttotal: 2.59s\tremaining: 2.25s\n",
      "535:\tlearn: 0.1763573\ttotal: 2.6s\tremaining: 2.25s\n",
      "536:\tlearn: 0.1762991\ttotal: 2.6s\tremaining: 2.24s\n",
      "537:\tlearn: 0.1762637\ttotal: 2.61s\tremaining: 2.24s\n",
      "538:\tlearn: 0.1762192\ttotal: 2.61s\tremaining: 2.23s\n",
      "539:\tlearn: 0.1761779\ttotal: 2.62s\tremaining: 2.23s\n",
      "540:\tlearn: 0.1761459\ttotal: 2.62s\tremaining: 2.22s\n",
      "541:\tlearn: 0.1760898\ttotal: 2.63s\tremaining: 2.22s\n",
      "542:\tlearn: 0.1760119\ttotal: 2.63s\tremaining: 2.21s\n",
      "543:\tlearn: 0.1759539\ttotal: 2.63s\tremaining: 2.21s\n",
      "544:\tlearn: 0.1758840\ttotal: 2.64s\tremaining: 2.2s\n",
      "545:\tlearn: 0.1758131\ttotal: 2.64s\tremaining: 2.2s\n",
      "546:\tlearn: 0.1757627\ttotal: 2.65s\tremaining: 2.19s\n",
      "547:\tlearn: 0.1757260\ttotal: 2.65s\tremaining: 2.19s\n",
      "548:\tlearn: 0.1756831\ttotal: 2.66s\tremaining: 2.18s\n",
      "549:\tlearn: 0.1756167\ttotal: 2.66s\tremaining: 2.18s\n",
      "550:\tlearn: 0.1755637\ttotal: 2.67s\tremaining: 2.17s\n",
      "551:\tlearn: 0.1755229\ttotal: 2.67s\tremaining: 2.17s\n",
      "552:\tlearn: 0.1754835\ttotal: 2.68s\tremaining: 2.16s\n",
      "553:\tlearn: 0.1753760\ttotal: 2.68s\tremaining: 2.16s\n",
      "554:\tlearn: 0.1752937\ttotal: 2.69s\tremaining: 2.15s\n",
      "555:\tlearn: 0.1752545\ttotal: 2.69s\tremaining: 2.15s\n",
      "556:\tlearn: 0.1752093\ttotal: 2.69s\tremaining: 2.14s\n",
      "557:\tlearn: 0.1751762\ttotal: 2.7s\tremaining: 2.14s\n",
      "558:\tlearn: 0.1750660\ttotal: 2.7s\tremaining: 2.13s\n",
      "559:\tlearn: 0.1750183\ttotal: 2.71s\tremaining: 2.13s\n",
      "560:\tlearn: 0.1749595\ttotal: 2.71s\tremaining: 2.12s\n",
      "561:\tlearn: 0.1749274\ttotal: 2.72s\tremaining: 2.12s\n",
      "562:\tlearn: 0.1748677\ttotal: 2.72s\tremaining: 2.11s\n",
      "563:\tlearn: 0.1748059\ttotal: 2.73s\tremaining: 2.11s\n",
      "564:\tlearn: 0.1747629\ttotal: 2.73s\tremaining: 2.1s\n",
      "565:\tlearn: 0.1747297\ttotal: 2.74s\tremaining: 2.1s\n",
      "566:\tlearn: 0.1746661\ttotal: 2.74s\tremaining: 2.09s\n",
      "567:\tlearn: 0.1746292\ttotal: 2.75s\tremaining: 2.09s\n",
      "568:\tlearn: 0.1745611\ttotal: 2.75s\tremaining: 2.08s\n",
      "569:\tlearn: 0.1745096\ttotal: 2.75s\tremaining: 2.08s\n",
      "570:\tlearn: 0.1744549\ttotal: 2.76s\tremaining: 2.07s\n",
      "571:\tlearn: 0.1743888\ttotal: 2.76s\tremaining: 2.07s\n",
      "572:\tlearn: 0.1743275\ttotal: 2.77s\tremaining: 2.06s\n",
      "573:\tlearn: 0.1742848\ttotal: 2.77s\tremaining: 2.06s\n",
      "574:\tlearn: 0.1742304\ttotal: 2.78s\tremaining: 2.05s\n",
      "575:\tlearn: 0.1742009\ttotal: 2.78s\tremaining: 2.05s\n",
      "576:\tlearn: 0.1741377\ttotal: 2.79s\tremaining: 2.04s\n",
      "577:\tlearn: 0.1740892\ttotal: 2.79s\tremaining: 2.04s\n",
      "578:\tlearn: 0.1740375\ttotal: 2.79s\tremaining: 2.03s\n",
      "579:\tlearn: 0.1739833\ttotal: 2.8s\tremaining: 2.03s\n",
      "580:\tlearn: 0.1739489\ttotal: 2.8s\tremaining: 2.02s\n",
      "581:\tlearn: 0.1739135\ttotal: 2.81s\tremaining: 2.02s\n",
      "582:\tlearn: 0.1739061\ttotal: 2.81s\tremaining: 2.01s\n",
      "583:\tlearn: 0.1738362\ttotal: 2.82s\tremaining: 2.01s\n",
      "584:\tlearn: 0.1737531\ttotal: 2.82s\tremaining: 2s\n",
      "585:\tlearn: 0.1737411\ttotal: 2.83s\tremaining: 2s\n",
      "586:\tlearn: 0.1736648\ttotal: 2.83s\tremaining: 1.99s\n",
      "587:\tlearn: 0.1735998\ttotal: 2.83s\tremaining: 1.99s\n",
      "588:\tlearn: 0.1735570\ttotal: 2.84s\tremaining: 1.98s\n",
      "589:\tlearn: 0.1735141\ttotal: 2.84s\tremaining: 1.98s\n",
      "590:\tlearn: 0.1734409\ttotal: 2.85s\tremaining: 1.97s\n",
      "591:\tlearn: 0.1733955\ttotal: 2.85s\tremaining: 1.97s\n",
      "592:\tlearn: 0.1733523\ttotal: 2.86s\tremaining: 1.96s\n",
      "593:\tlearn: 0.1732918\ttotal: 2.86s\tremaining: 1.96s\n",
      "594:\tlearn: 0.1732510\ttotal: 2.87s\tremaining: 1.95s\n",
      "595:\tlearn: 0.1731994\ttotal: 2.87s\tremaining: 1.95s\n",
      "596:\tlearn: 0.1731304\ttotal: 2.88s\tremaining: 1.94s\n",
      "597:\tlearn: 0.1730979\ttotal: 2.88s\tremaining: 1.94s\n",
      "598:\tlearn: 0.1730484\ttotal: 2.88s\tremaining: 1.93s\n",
      "599:\tlearn: 0.1730144\ttotal: 2.89s\tremaining: 1.93s\n",
      "600:\tlearn: 0.1729673\ttotal: 2.89s\tremaining: 1.92s\n",
      "601:\tlearn: 0.1729188\ttotal: 2.9s\tremaining: 1.92s\n",
      "602:\tlearn: 0.1728826\ttotal: 2.9s\tremaining: 1.91s\n",
      "603:\tlearn: 0.1728495\ttotal: 2.91s\tremaining: 1.91s\n",
      "604:\tlearn: 0.1728111\ttotal: 2.91s\tremaining: 1.9s\n",
      "605:\tlearn: 0.1727771\ttotal: 2.92s\tremaining: 1.9s\n",
      "606:\tlearn: 0.1727133\ttotal: 2.92s\tremaining: 1.89s\n",
      "607:\tlearn: 0.1726598\ttotal: 2.92s\tremaining: 1.89s\n",
      "608:\tlearn: 0.1726390\ttotal: 2.93s\tremaining: 1.88s\n",
      "609:\tlearn: 0.1725655\ttotal: 2.93s\tremaining: 1.88s\n",
      "610:\tlearn: 0.1725091\ttotal: 2.94s\tremaining: 1.87s\n",
      "611:\tlearn: 0.1724705\ttotal: 2.94s\tremaining: 1.86s\n",
      "612:\tlearn: 0.1724360\ttotal: 2.95s\tremaining: 1.86s\n",
      "613:\tlearn: 0.1723835\ttotal: 2.95s\tremaining: 1.86s\n",
      "614:\tlearn: 0.1723148\ttotal: 2.96s\tremaining: 1.85s\n",
      "615:\tlearn: 0.1722677\ttotal: 2.96s\tremaining: 1.85s\n",
      "616:\tlearn: 0.1721782\ttotal: 2.97s\tremaining: 1.84s\n",
      "617:\tlearn: 0.1721136\ttotal: 2.97s\tremaining: 1.84s\n",
      "618:\tlearn: 0.1720537\ttotal: 2.98s\tremaining: 1.83s\n",
      "619:\tlearn: 0.1720156\ttotal: 2.98s\tremaining: 1.83s\n",
      "620:\tlearn: 0.1719523\ttotal: 2.99s\tremaining: 1.82s\n",
      "621:\tlearn: 0.1719205\ttotal: 2.99s\tremaining: 1.82s\n",
      "622:\tlearn: 0.1718883\ttotal: 2.99s\tremaining: 1.81s\n",
      "623:\tlearn: 0.1718433\ttotal: 3s\tremaining: 1.81s\n",
      "624:\tlearn: 0.1717906\ttotal: 3s\tremaining: 1.8s\n",
      "625:\tlearn: 0.1717281\ttotal: 3.01s\tremaining: 1.8s\n",
      "626:\tlearn: 0.1716815\ttotal: 3.01s\tremaining: 1.79s\n",
      "627:\tlearn: 0.1716368\ttotal: 3.02s\tremaining: 1.79s\n",
      "628:\tlearn: 0.1715998\ttotal: 3.02s\tremaining: 1.78s\n",
      "629:\tlearn: 0.1715553\ttotal: 3.03s\tremaining: 1.78s\n",
      "630:\tlearn: 0.1715005\ttotal: 3.03s\tremaining: 1.77s\n",
      "631:\tlearn: 0.1714374\ttotal: 3.04s\tremaining: 1.77s\n",
      "632:\tlearn: 0.1713966\ttotal: 3.04s\tremaining: 1.76s\n",
      "633:\tlearn: 0.1713508\ttotal: 3.04s\tremaining: 1.76s\n",
      "634:\tlearn: 0.1713174\ttotal: 3.05s\tremaining: 1.75s\n",
      "635:\tlearn: 0.1712526\ttotal: 3.05s\tremaining: 1.75s\n",
      "636:\tlearn: 0.1711925\ttotal: 3.06s\tremaining: 1.74s\n",
      "637:\tlearn: 0.1711121\ttotal: 3.06s\tremaining: 1.74s\n",
      "638:\tlearn: 0.1710510\ttotal: 3.07s\tremaining: 1.73s\n",
      "639:\tlearn: 0.1710147\ttotal: 3.07s\tremaining: 1.73s\n",
      "640:\tlearn: 0.1709725\ttotal: 3.08s\tremaining: 1.72s\n",
      "641:\tlearn: 0.1709186\ttotal: 3.08s\tremaining: 1.72s\n",
      "642:\tlearn: 0.1708704\ttotal: 3.09s\tremaining: 1.71s\n",
      "643:\tlearn: 0.1708341\ttotal: 3.09s\tremaining: 1.71s\n",
      "644:\tlearn: 0.1707991\ttotal: 3.1s\tremaining: 1.7s\n",
      "645:\tlearn: 0.1707632\ttotal: 3.1s\tremaining: 1.7s\n",
      "646:\tlearn: 0.1706922\ttotal: 3.1s\tremaining: 1.69s\n",
      "647:\tlearn: 0.1706253\ttotal: 3.11s\tremaining: 1.69s\n",
      "648:\tlearn: 0.1705619\ttotal: 3.11s\tremaining: 1.68s\n",
      "649:\tlearn: 0.1705255\ttotal: 3.12s\tremaining: 1.68s\n",
      "650:\tlearn: 0.1704964\ttotal: 3.12s\tremaining: 1.67s\n",
      "651:\tlearn: 0.1704591\ttotal: 3.13s\tremaining: 1.67s\n",
      "652:\tlearn: 0.1704099\ttotal: 3.13s\tremaining: 1.67s\n",
      "653:\tlearn: 0.1703626\ttotal: 3.14s\tremaining: 1.66s\n",
      "654:\tlearn: 0.1703174\ttotal: 3.14s\tremaining: 1.66s\n",
      "655:\tlearn: 0.1702781\ttotal: 3.15s\tremaining: 1.65s\n",
      "656:\tlearn: 0.1702362\ttotal: 3.15s\tremaining: 1.65s\n",
      "657:\tlearn: 0.1701930\ttotal: 3.16s\tremaining: 1.64s\n",
      "658:\tlearn: 0.1701375\ttotal: 3.16s\tremaining: 1.64s\n",
      "659:\tlearn: 0.1701011\ttotal: 3.17s\tremaining: 1.63s\n",
      "660:\tlearn: 0.1700448\ttotal: 3.17s\tremaining: 1.63s\n",
      "661:\tlearn: 0.1700120\ttotal: 3.17s\tremaining: 1.62s\n",
      "662:\tlearn: 0.1699701\ttotal: 3.18s\tremaining: 1.62s\n",
      "663:\tlearn: 0.1699217\ttotal: 3.18s\tremaining: 1.61s\n",
      "664:\tlearn: 0.1698510\ttotal: 3.19s\tremaining: 1.61s\n",
      "665:\tlearn: 0.1697695\ttotal: 3.19s\tremaining: 1.6s\n",
      "666:\tlearn: 0.1697226\ttotal: 3.2s\tremaining: 1.6s\n",
      "667:\tlearn: 0.1696718\ttotal: 3.2s\tremaining: 1.59s\n",
      "668:\tlearn: 0.1696192\ttotal: 3.21s\tremaining: 1.59s\n",
      "669:\tlearn: 0.1695694\ttotal: 3.21s\tremaining: 1.58s\n",
      "670:\tlearn: 0.1695091\ttotal: 3.22s\tremaining: 1.58s\n",
      "671:\tlearn: 0.1694685\ttotal: 3.22s\tremaining: 1.57s\n",
      "672:\tlearn: 0.1694201\ttotal: 3.23s\tremaining: 1.57s\n",
      "673:\tlearn: 0.1693619\ttotal: 3.23s\tremaining: 1.56s\n",
      "674:\tlearn: 0.1693233\ttotal: 3.24s\tremaining: 1.56s\n",
      "675:\tlearn: 0.1692972\ttotal: 3.24s\tremaining: 1.55s\n",
      "676:\tlearn: 0.1692789\ttotal: 3.25s\tremaining: 1.55s\n",
      "677:\tlearn: 0.1692292\ttotal: 3.25s\tremaining: 1.54s\n",
      "678:\tlearn: 0.1691616\ttotal: 3.26s\tremaining: 1.54s\n",
      "679:\tlearn: 0.1691257\ttotal: 3.26s\tremaining: 1.53s\n",
      "680:\tlearn: 0.1690748\ttotal: 3.27s\tremaining: 1.53s\n",
      "681:\tlearn: 0.1690263\ttotal: 3.27s\tremaining: 1.52s\n",
      "682:\tlearn: 0.1689725\ttotal: 3.27s\tremaining: 1.52s\n",
      "683:\tlearn: 0.1689492\ttotal: 3.28s\tremaining: 1.51s\n",
      "684:\tlearn: 0.1689297\ttotal: 3.28s\tremaining: 1.51s\n",
      "685:\tlearn: 0.1688963\ttotal: 3.29s\tremaining: 1.5s\n",
      "686:\tlearn: 0.1688657\ttotal: 3.29s\tremaining: 1.5s\n",
      "687:\tlearn: 0.1688337\ttotal: 3.3s\tremaining: 1.5s\n",
      "688:\tlearn: 0.1688048\ttotal: 3.3s\tremaining: 1.49s\n",
      "689:\tlearn: 0.1687382\ttotal: 3.31s\tremaining: 1.49s\n",
      "690:\tlearn: 0.1686814\ttotal: 3.31s\tremaining: 1.48s\n",
      "691:\tlearn: 0.1686182\ttotal: 3.31s\tremaining: 1.48s\n",
      "692:\tlearn: 0.1685744\ttotal: 3.32s\tremaining: 1.47s\n",
      "693:\tlearn: 0.1685383\ttotal: 3.32s\tremaining: 1.47s\n",
      "694:\tlearn: 0.1684961\ttotal: 3.33s\tremaining: 1.46s\n",
      "695:\tlearn: 0.1684456\ttotal: 3.33s\tremaining: 1.46s\n",
      "696:\tlearn: 0.1684221\ttotal: 3.34s\tremaining: 1.45s\n",
      "697:\tlearn: 0.1683589\ttotal: 3.34s\tremaining: 1.45s\n",
      "698:\tlearn: 0.1682940\ttotal: 3.35s\tremaining: 1.44s\n",
      "699:\tlearn: 0.1682620\ttotal: 3.35s\tremaining: 1.44s\n",
      "700:\tlearn: 0.1682340\ttotal: 3.36s\tremaining: 1.43s\n",
      "701:\tlearn: 0.1682019\ttotal: 3.36s\tremaining: 1.43s\n",
      "702:\tlearn: 0.1681591\ttotal: 3.37s\tremaining: 1.42s\n",
      "703:\tlearn: 0.1681201\ttotal: 3.37s\tremaining: 1.42s\n",
      "704:\tlearn: 0.1680829\ttotal: 3.38s\tremaining: 1.41s\n",
      "705:\tlearn: 0.1680500\ttotal: 3.38s\tremaining: 1.41s\n",
      "706:\tlearn: 0.1680025\ttotal: 3.39s\tremaining: 1.4s\n",
      "707:\tlearn: 0.1679728\ttotal: 3.39s\tremaining: 1.4s\n",
      "708:\tlearn: 0.1679380\ttotal: 3.4s\tremaining: 1.39s\n",
      "709:\tlearn: 0.1678901\ttotal: 3.4s\tremaining: 1.39s\n",
      "710:\tlearn: 0.1678219\ttotal: 3.4s\tremaining: 1.38s\n",
      "711:\tlearn: 0.1678099\ttotal: 3.41s\tremaining: 1.38s\n",
      "712:\tlearn: 0.1677504\ttotal: 3.41s\tremaining: 1.37s\n",
      "713:\tlearn: 0.1677178\ttotal: 3.42s\tremaining: 1.37s\n",
      "714:\tlearn: 0.1676576\ttotal: 3.42s\tremaining: 1.36s\n",
      "715:\tlearn: 0.1675871\ttotal: 3.43s\tremaining: 1.36s\n",
      "716:\tlearn: 0.1675224\ttotal: 3.43s\tremaining: 1.35s\n",
      "717:\tlearn: 0.1674799\ttotal: 3.44s\tremaining: 1.35s\n",
      "718:\tlearn: 0.1674407\ttotal: 3.44s\tremaining: 1.34s\n",
      "719:\tlearn: 0.1673869\ttotal: 3.44s\tremaining: 1.34s\n",
      "720:\tlearn: 0.1673708\ttotal: 3.45s\tremaining: 1.33s\n",
      "721:\tlearn: 0.1673378\ttotal: 3.46s\tremaining: 1.33s\n",
      "722:\tlearn: 0.1672760\ttotal: 3.46s\tremaining: 1.32s\n",
      "723:\tlearn: 0.1672118\ttotal: 3.46s\tremaining: 1.32s\n",
      "724:\tlearn: 0.1671590\ttotal: 3.47s\tremaining: 1.31s\n",
      "725:\tlearn: 0.1671270\ttotal: 3.47s\tremaining: 1.31s\n",
      "726:\tlearn: 0.1671030\ttotal: 3.48s\tremaining: 1.31s\n",
      "727:\tlearn: 0.1670536\ttotal: 3.48s\tremaining: 1.3s\n",
      "728:\tlearn: 0.1669997\ttotal: 3.49s\tremaining: 1.3s\n",
      "729:\tlearn: 0.1669690\ttotal: 3.49s\tremaining: 1.29s\n",
      "730:\tlearn: 0.1669276\ttotal: 3.5s\tremaining: 1.29s\n",
      "731:\tlearn: 0.1668833\ttotal: 3.5s\tremaining: 1.28s\n",
      "732:\tlearn: 0.1668440\ttotal: 3.51s\tremaining: 1.28s\n",
      "733:\tlearn: 0.1667869\ttotal: 3.51s\tremaining: 1.27s\n",
      "734:\tlearn: 0.1667376\ttotal: 3.52s\tremaining: 1.27s\n",
      "735:\tlearn: 0.1667057\ttotal: 3.52s\tremaining: 1.26s\n",
      "736:\tlearn: 0.1666689\ttotal: 3.52s\tremaining: 1.26s\n",
      "737:\tlearn: 0.1665978\ttotal: 3.53s\tremaining: 1.25s\n",
      "738:\tlearn: 0.1665412\ttotal: 3.53s\tremaining: 1.25s\n",
      "739:\tlearn: 0.1665106\ttotal: 3.54s\tremaining: 1.24s\n",
      "740:\tlearn: 0.1664521\ttotal: 3.54s\tremaining: 1.24s\n",
      "741:\tlearn: 0.1664045\ttotal: 3.55s\tremaining: 1.23s\n",
      "742:\tlearn: 0.1663243\ttotal: 3.55s\tremaining: 1.23s\n",
      "743:\tlearn: 0.1662609\ttotal: 3.56s\tremaining: 1.22s\n",
      "744:\tlearn: 0.1662133\ttotal: 3.56s\tremaining: 1.22s\n",
      "745:\tlearn: 0.1661695\ttotal: 3.56s\tremaining: 1.21s\n",
      "746:\tlearn: 0.1661231\ttotal: 3.57s\tremaining: 1.21s\n",
      "747:\tlearn: 0.1660668\ttotal: 3.58s\tremaining: 1.2s\n",
      "748:\tlearn: 0.1660438\ttotal: 3.58s\tremaining: 1.2s\n",
      "749:\tlearn: 0.1660226\ttotal: 3.58s\tremaining: 1.19s\n",
      "750:\tlearn: 0.1659802\ttotal: 3.59s\tremaining: 1.19s\n",
      "751:\tlearn: 0.1659169\ttotal: 3.59s\tremaining: 1.18s\n",
      "752:\tlearn: 0.1658900\ttotal: 3.6s\tremaining: 1.18s\n",
      "753:\tlearn: 0.1658428\ttotal: 3.6s\tremaining: 1.18s\n",
      "754:\tlearn: 0.1658051\ttotal: 3.61s\tremaining: 1.17s\n",
      "755:\tlearn: 0.1657370\ttotal: 3.61s\tremaining: 1.17s\n",
      "756:\tlearn: 0.1656773\ttotal: 3.61s\tremaining: 1.16s\n",
      "757:\tlearn: 0.1656360\ttotal: 3.62s\tremaining: 1.16s\n",
      "758:\tlearn: 0.1655865\ttotal: 3.62s\tremaining: 1.15s\n",
      "759:\tlearn: 0.1655775\ttotal: 3.63s\tremaining: 1.15s\n",
      "760:\tlearn: 0.1655421\ttotal: 3.63s\tremaining: 1.14s\n",
      "761:\tlearn: 0.1655327\ttotal: 3.64s\tremaining: 1.14s\n",
      "762:\tlearn: 0.1654914\ttotal: 3.64s\tremaining: 1.13s\n",
      "763:\tlearn: 0.1654494\ttotal: 3.65s\tremaining: 1.13s\n",
      "764:\tlearn: 0.1653948\ttotal: 3.65s\tremaining: 1.12s\n",
      "765:\tlearn: 0.1653078\ttotal: 3.65s\tremaining: 1.12s\n",
      "766:\tlearn: 0.1652515\ttotal: 3.66s\tremaining: 1.11s\n",
      "767:\tlearn: 0.1652043\ttotal: 3.66s\tremaining: 1.11s\n",
      "768:\tlearn: 0.1651553\ttotal: 3.67s\tremaining: 1.1s\n",
      "769:\tlearn: 0.1651244\ttotal: 3.67s\tremaining: 1.1s\n",
      "770:\tlearn: 0.1650840\ttotal: 3.68s\tremaining: 1.09s\n",
      "771:\tlearn: 0.1650143\ttotal: 3.68s\tremaining: 1.09s\n",
      "772:\tlearn: 0.1649569\ttotal: 3.69s\tremaining: 1.08s\n",
      "773:\tlearn: 0.1649079\ttotal: 3.69s\tremaining: 1.08s\n",
      "774:\tlearn: 0.1648742\ttotal: 3.7s\tremaining: 1.07s\n",
      "775:\tlearn: 0.1648383\ttotal: 3.7s\tremaining: 1.07s\n",
      "776:\tlearn: 0.1647893\ttotal: 3.71s\tremaining: 1.06s\n",
      "777:\tlearn: 0.1646970\ttotal: 3.71s\tremaining: 1.06s\n",
      "778:\tlearn: 0.1646338\ttotal: 3.71s\tremaining: 1.05s\n",
      "779:\tlearn: 0.1646096\ttotal: 3.72s\tremaining: 1.05s\n",
      "780:\tlearn: 0.1645724\ttotal: 3.73s\tremaining: 1.04s\n",
      "781:\tlearn: 0.1645357\ttotal: 3.73s\tremaining: 1.04s\n",
      "782:\tlearn: 0.1645084\ttotal: 3.74s\tremaining: 1.03s\n",
      "783:\tlearn: 0.1644548\ttotal: 3.74s\tremaining: 1.03s\n",
      "784:\tlearn: 0.1644036\ttotal: 3.75s\tremaining: 1.03s\n",
      "785:\tlearn: 0.1643706\ttotal: 3.75s\tremaining: 1.02s\n",
      "786:\tlearn: 0.1643015\ttotal: 3.75s\tremaining: 1.02s\n",
      "787:\tlearn: 0.1642534\ttotal: 3.76s\tremaining: 1.01s\n",
      "788:\tlearn: 0.1642216\ttotal: 3.76s\tremaining: 1.01s\n",
      "789:\tlearn: 0.1641747\ttotal: 3.77s\tremaining: 1s\n",
      "790:\tlearn: 0.1641290\ttotal: 3.77s\tremaining: 997ms\n",
      "791:\tlearn: 0.1641213\ttotal: 3.78s\tremaining: 992ms\n",
      "792:\tlearn: 0.1640669\ttotal: 3.78s\tremaining: 987ms\n",
      "793:\tlearn: 0.1640201\ttotal: 3.79s\tremaining: 983ms\n",
      "794:\tlearn: 0.1639682\ttotal: 3.79s\tremaining: 978ms\n",
      "795:\tlearn: 0.1639344\ttotal: 3.8s\tremaining: 973ms\n",
      "796:\tlearn: 0.1639137\ttotal: 3.8s\tremaining: 968ms\n",
      "797:\tlearn: 0.1638860\ttotal: 3.81s\tremaining: 963ms\n",
      "798:\tlearn: 0.1638463\ttotal: 3.81s\tremaining: 958ms\n",
      "799:\tlearn: 0.1638015\ttotal: 3.81s\tremaining: 953ms\n",
      "800:\tlearn: 0.1637929\ttotal: 3.82s\tremaining: 949ms\n",
      "801:\tlearn: 0.1637559\ttotal: 3.82s\tremaining: 944ms\n",
      "802:\tlearn: 0.1637248\ttotal: 3.83s\tremaining: 939ms\n",
      "803:\tlearn: 0.1636751\ttotal: 3.83s\tremaining: 934ms\n",
      "804:\tlearn: 0.1636680\ttotal: 3.83s\tremaining: 929ms\n",
      "805:\tlearn: 0.1636253\ttotal: 3.84s\tremaining: 924ms\n",
      "806:\tlearn: 0.1635978\ttotal: 3.84s\tremaining: 919ms\n",
      "807:\tlearn: 0.1635577\ttotal: 3.85s\tremaining: 914ms\n",
      "808:\tlearn: 0.1635143\ttotal: 3.85s\tremaining: 910ms\n",
      "809:\tlearn: 0.1634680\ttotal: 3.86s\tremaining: 905ms\n",
      "810:\tlearn: 0.1634594\ttotal: 3.86s\tremaining: 900ms\n",
      "811:\tlearn: 0.1634144\ttotal: 3.87s\tremaining: 895ms\n",
      "812:\tlearn: 0.1633863\ttotal: 3.87s\tremaining: 890ms\n",
      "813:\tlearn: 0.1633512\ttotal: 3.87s\tremaining: 885ms\n",
      "814:\tlearn: 0.1632846\ttotal: 3.88s\tremaining: 880ms\n",
      "815:\tlearn: 0.1632401\ttotal: 3.88s\tremaining: 876ms\n",
      "816:\tlearn: 0.1632157\ttotal: 3.89s\tremaining: 871ms\n",
      "817:\tlearn: 0.1631700\ttotal: 3.89s\tremaining: 866ms\n",
      "818:\tlearn: 0.1631505\ttotal: 3.9s\tremaining: 861ms\n",
      "819:\tlearn: 0.1631198\ttotal: 3.9s\tremaining: 856ms\n",
      "820:\tlearn: 0.1630721\ttotal: 3.9s\tremaining: 851ms\n",
      "821:\tlearn: 0.1630411\ttotal: 3.91s\tremaining: 847ms\n",
      "822:\tlearn: 0.1630077\ttotal: 3.91s\tremaining: 842ms\n",
      "823:\tlearn: 0.1629682\ttotal: 3.92s\tremaining: 837ms\n",
      "824:\tlearn: 0.1629427\ttotal: 3.92s\tremaining: 832ms\n",
      "825:\tlearn: 0.1629058\ttotal: 3.93s\tremaining: 828ms\n",
      "826:\tlearn: 0.1628926\ttotal: 3.93s\tremaining: 823ms\n",
      "827:\tlearn: 0.1628781\ttotal: 3.94s\tremaining: 818ms\n",
      "828:\tlearn: 0.1628372\ttotal: 3.94s\tremaining: 813ms\n",
      "829:\tlearn: 0.1627873\ttotal: 3.95s\tremaining: 808ms\n",
      "830:\tlearn: 0.1627452\ttotal: 3.95s\tremaining: 804ms\n",
      "831:\tlearn: 0.1627127\ttotal: 3.96s\tremaining: 799ms\n",
      "832:\tlearn: 0.1626523\ttotal: 3.96s\tremaining: 794ms\n",
      "833:\tlearn: 0.1626081\ttotal: 3.97s\tremaining: 789ms\n",
      "834:\tlearn: 0.1625619\ttotal: 3.97s\tremaining: 785ms\n",
      "835:\tlearn: 0.1625280\ttotal: 3.98s\tremaining: 780ms\n",
      "836:\tlearn: 0.1624891\ttotal: 3.98s\tremaining: 775ms\n",
      "837:\tlearn: 0.1624540\ttotal: 3.98s\tremaining: 770ms\n",
      "838:\tlearn: 0.1624314\ttotal: 3.99s\tremaining: 765ms\n",
      "839:\tlearn: 0.1623808\ttotal: 3.99s\tremaining: 761ms\n",
      "840:\tlearn: 0.1623747\ttotal: 4s\tremaining: 756ms\n",
      "841:\tlearn: 0.1623235\ttotal: 4s\tremaining: 751ms\n",
      "842:\tlearn: 0.1622816\ttotal: 4.01s\tremaining: 746ms\n",
      "843:\tlearn: 0.1622516\ttotal: 4.01s\tremaining: 742ms\n",
      "844:\tlearn: 0.1622296\ttotal: 4.02s\tremaining: 737ms\n",
      "845:\tlearn: 0.1622224\ttotal: 4.02s\tremaining: 732ms\n",
      "846:\tlearn: 0.1621951\ttotal: 4.03s\tremaining: 727ms\n",
      "847:\tlearn: 0.1621876\ttotal: 4.03s\tremaining: 722ms\n",
      "848:\tlearn: 0.1621553\ttotal: 4.03s\tremaining: 717ms\n",
      "849:\tlearn: 0.1621039\ttotal: 4.04s\tremaining: 713ms\n",
      "850:\tlearn: 0.1620590\ttotal: 4.04s\tremaining: 708ms\n",
      "851:\tlearn: 0.1620345\ttotal: 4.05s\tremaining: 703ms\n",
      "852:\tlearn: 0.1620243\ttotal: 4.05s\tremaining: 698ms\n",
      "853:\tlearn: 0.1619752\ttotal: 4.06s\tremaining: 693ms\n",
      "854:\tlearn: 0.1619242\ttotal: 4.06s\tremaining: 689ms\n",
      "855:\tlearn: 0.1619156\ttotal: 4.06s\tremaining: 684ms\n",
      "856:\tlearn: 0.1618772\ttotal: 4.07s\tremaining: 679ms\n",
      "857:\tlearn: 0.1618716\ttotal: 4.07s\tremaining: 674ms\n",
      "858:\tlearn: 0.1618367\ttotal: 4.08s\tremaining: 669ms\n",
      "859:\tlearn: 0.1618019\ttotal: 4.08s\tremaining: 665ms\n",
      "860:\tlearn: 0.1617553\ttotal: 4.09s\tremaining: 660ms\n",
      "861:\tlearn: 0.1617077\ttotal: 4.09s\tremaining: 655ms\n",
      "862:\tlearn: 0.1616566\ttotal: 4.09s\tremaining: 650ms\n",
      "863:\tlearn: 0.1615969\ttotal: 4.1s\tremaining: 646ms\n",
      "864:\tlearn: 0.1615874\ttotal: 4.11s\tremaining: 641ms\n",
      "865:\tlearn: 0.1615535\ttotal: 4.11s\tremaining: 636ms\n",
      "866:\tlearn: 0.1615068\ttotal: 4.12s\tremaining: 631ms\n",
      "867:\tlearn: 0.1614382\ttotal: 4.12s\tremaining: 626ms\n",
      "868:\tlearn: 0.1613823\ttotal: 4.12s\tremaining: 622ms\n",
      "869:\tlearn: 0.1613327\ttotal: 4.13s\tremaining: 617ms\n",
      "870:\tlearn: 0.1612825\ttotal: 4.13s\tremaining: 612ms\n",
      "871:\tlearn: 0.1612293\ttotal: 4.14s\tremaining: 608ms\n",
      "872:\tlearn: 0.1611876\ttotal: 4.14s\tremaining: 603ms\n",
      "873:\tlearn: 0.1611570\ttotal: 4.15s\tremaining: 598ms\n",
      "874:\tlearn: 0.1610989\ttotal: 4.15s\tremaining: 593ms\n",
      "875:\tlearn: 0.1610463\ttotal: 4.16s\tremaining: 589ms\n",
      "876:\tlearn: 0.1610123\ttotal: 4.16s\tremaining: 584ms\n",
      "877:\tlearn: 0.1609678\ttotal: 4.17s\tremaining: 579ms\n",
      "878:\tlearn: 0.1609402\ttotal: 4.17s\tremaining: 574ms\n",
      "879:\tlearn: 0.1608911\ttotal: 4.18s\tremaining: 569ms\n",
      "880:\tlearn: 0.1608574\ttotal: 4.18s\tremaining: 565ms\n",
      "881:\tlearn: 0.1608257\ttotal: 4.18s\tremaining: 560ms\n",
      "882:\tlearn: 0.1608034\ttotal: 4.19s\tremaining: 555ms\n",
      "883:\tlearn: 0.1607712\ttotal: 4.19s\tremaining: 550ms\n",
      "884:\tlearn: 0.1607239\ttotal: 4.2s\tremaining: 546ms\n",
      "885:\tlearn: 0.1606983\ttotal: 4.21s\tremaining: 541ms\n",
      "886:\tlearn: 0.1606735\ttotal: 4.21s\tremaining: 537ms\n",
      "887:\tlearn: 0.1606177\ttotal: 4.22s\tremaining: 532ms\n",
      "888:\tlearn: 0.1605822\ttotal: 4.22s\tremaining: 527ms\n",
      "889:\tlearn: 0.1605190\ttotal: 4.23s\tremaining: 522ms\n",
      "890:\tlearn: 0.1604867\ttotal: 4.23s\tremaining: 518ms\n",
      "891:\tlearn: 0.1604583\ttotal: 4.24s\tremaining: 513ms\n",
      "892:\tlearn: 0.1604458\ttotal: 4.24s\tremaining: 508ms\n",
      "893:\tlearn: 0.1603860\ttotal: 4.24s\tremaining: 503ms\n",
      "894:\tlearn: 0.1603592\ttotal: 4.25s\tremaining: 499ms\n",
      "895:\tlearn: 0.1603330\ttotal: 4.25s\tremaining: 494ms\n",
      "896:\tlearn: 0.1602847\ttotal: 4.26s\tremaining: 489ms\n",
      "897:\tlearn: 0.1602258\ttotal: 4.26s\tremaining: 484ms\n",
      "898:\tlearn: 0.1601360\ttotal: 4.27s\tremaining: 480ms\n",
      "899:\tlearn: 0.1600959\ttotal: 4.27s\tremaining: 475ms\n",
      "900:\tlearn: 0.1600401\ttotal: 4.28s\tremaining: 470ms\n",
      "901:\tlearn: 0.1600235\ttotal: 4.28s\tremaining: 465ms\n",
      "902:\tlearn: 0.1599629\ttotal: 4.29s\tremaining: 460ms\n",
      "903:\tlearn: 0.1599261\ttotal: 4.29s\tremaining: 456ms\n",
      "904:\tlearn: 0.1598856\ttotal: 4.3s\tremaining: 451ms\n",
      "905:\tlearn: 0.1598196\ttotal: 4.3s\tremaining: 446ms\n",
      "906:\tlearn: 0.1597917\ttotal: 4.3s\tremaining: 441ms\n",
      "907:\tlearn: 0.1597719\ttotal: 4.31s\tremaining: 437ms\n",
      "908:\tlearn: 0.1597585\ttotal: 4.32s\tremaining: 432ms\n",
      "909:\tlearn: 0.1597362\ttotal: 4.32s\tremaining: 427ms\n",
      "910:\tlearn: 0.1597019\ttotal: 4.33s\tremaining: 423ms\n",
      "911:\tlearn: 0.1596776\ttotal: 4.33s\tremaining: 418ms\n",
      "912:\tlearn: 0.1596545\ttotal: 4.33s\tremaining: 413ms\n",
      "913:\tlearn: 0.1595917\ttotal: 4.34s\tremaining: 408ms\n",
      "914:\tlearn: 0.1595589\ttotal: 4.34s\tremaining: 404ms\n",
      "915:\tlearn: 0.1595218\ttotal: 4.35s\tremaining: 399ms\n",
      "916:\tlearn: 0.1594905\ttotal: 4.35s\tremaining: 394ms\n",
      "917:\tlearn: 0.1594487\ttotal: 4.36s\tremaining: 389ms\n",
      "918:\tlearn: 0.1594309\ttotal: 4.36s\tremaining: 385ms\n",
      "919:\tlearn: 0.1593739\ttotal: 4.37s\tremaining: 380ms\n",
      "920:\tlearn: 0.1593397\ttotal: 4.37s\tremaining: 375ms\n",
      "921:\tlearn: 0.1593089\ttotal: 4.38s\tremaining: 370ms\n",
      "922:\tlearn: 0.1592916\ttotal: 4.38s\tremaining: 366ms\n",
      "923:\tlearn: 0.1592644\ttotal: 4.39s\tremaining: 361ms\n",
      "924:\tlearn: 0.1592483\ttotal: 4.39s\tremaining: 356ms\n",
      "925:\tlearn: 0.1592025\ttotal: 4.39s\tremaining: 351ms\n",
      "926:\tlearn: 0.1591485\ttotal: 4.4s\tremaining: 347ms\n",
      "927:\tlearn: 0.1591111\ttotal: 4.41s\tremaining: 342ms\n",
      "928:\tlearn: 0.1590604\ttotal: 4.41s\tremaining: 337ms\n",
      "929:\tlearn: 0.1590134\ttotal: 4.42s\tremaining: 332ms\n",
      "930:\tlearn: 0.1589891\ttotal: 4.42s\tremaining: 328ms\n",
      "931:\tlearn: 0.1589589\ttotal: 4.42s\tremaining: 323ms\n",
      "932:\tlearn: 0.1589200\ttotal: 4.43s\tremaining: 318ms\n",
      "933:\tlearn: 0.1588918\ttotal: 4.43s\tremaining: 313ms\n",
      "934:\tlearn: 0.1588681\ttotal: 4.44s\tremaining: 308ms\n",
      "935:\tlearn: 0.1588302\ttotal: 4.44s\tremaining: 304ms\n",
      "936:\tlearn: 0.1587971\ttotal: 4.45s\tremaining: 299ms\n",
      "937:\tlearn: 0.1587511\ttotal: 4.45s\tremaining: 294ms\n",
      "938:\tlearn: 0.1587043\ttotal: 4.46s\tremaining: 289ms\n",
      "939:\tlearn: 0.1586562\ttotal: 4.46s\tremaining: 285ms\n",
      "940:\tlearn: 0.1586350\ttotal: 4.46s\tremaining: 280ms\n",
      "941:\tlearn: 0.1585967\ttotal: 4.47s\tremaining: 275ms\n",
      "942:\tlearn: 0.1585923\ttotal: 4.47s\tremaining: 270ms\n",
      "943:\tlearn: 0.1585423\ttotal: 4.48s\tremaining: 266ms\n",
      "944:\tlearn: 0.1585115\ttotal: 4.48s\tremaining: 261ms\n",
      "945:\tlearn: 0.1585013\ttotal: 4.49s\tremaining: 256ms\n",
      "946:\tlearn: 0.1584598\ttotal: 4.49s\tremaining: 251ms\n",
      "947:\tlearn: 0.1583987\ttotal: 4.5s\tremaining: 247ms\n",
      "948:\tlearn: 0.1583598\ttotal: 4.5s\tremaining: 242ms\n",
      "949:\tlearn: 0.1582978\ttotal: 4.51s\tremaining: 237ms\n",
      "950:\tlearn: 0.1582731\ttotal: 4.51s\tremaining: 232ms\n",
      "951:\tlearn: 0.1582208\ttotal: 4.51s\tremaining: 228ms\n",
      "952:\tlearn: 0.1581841\ttotal: 4.52s\tremaining: 223ms\n",
      "953:\tlearn: 0.1581613\ttotal: 4.53s\tremaining: 218ms\n",
      "954:\tlearn: 0.1581187\ttotal: 4.53s\tremaining: 213ms\n",
      "955:\tlearn: 0.1580835\ttotal: 4.54s\tremaining: 209ms\n",
      "956:\tlearn: 0.1580619\ttotal: 4.54s\tremaining: 204ms\n",
      "957:\tlearn: 0.1580359\ttotal: 4.54s\tremaining: 199ms\n",
      "958:\tlearn: 0.1580060\ttotal: 4.55s\tremaining: 195ms\n",
      "959:\tlearn: 0.1579738\ttotal: 4.56s\tremaining: 190ms\n",
      "960:\tlearn: 0.1579458\ttotal: 4.56s\tremaining: 185ms\n",
      "961:\tlearn: 0.1579067\ttotal: 4.57s\tremaining: 180ms\n",
      "962:\tlearn: 0.1578591\ttotal: 4.57s\tremaining: 176ms\n",
      "963:\tlearn: 0.1578073\ttotal: 4.58s\tremaining: 171ms\n",
      "964:\tlearn: 0.1577778\ttotal: 4.58s\tremaining: 166ms\n",
      "965:\tlearn: 0.1577639\ttotal: 4.59s\tremaining: 161ms\n",
      "966:\tlearn: 0.1577064\ttotal: 4.59s\tremaining: 157ms\n",
      "967:\tlearn: 0.1576708\ttotal: 4.6s\tremaining: 152ms\n",
      "968:\tlearn: 0.1576405\ttotal: 4.6s\tremaining: 147ms\n",
      "969:\tlearn: 0.1575892\ttotal: 4.61s\tremaining: 142ms\n",
      "970:\tlearn: 0.1575401\ttotal: 4.61s\tremaining: 138ms\n",
      "971:\tlearn: 0.1575217\ttotal: 4.62s\tremaining: 133ms\n",
      "972:\tlearn: 0.1575045\ttotal: 4.62s\tremaining: 128ms\n",
      "973:\tlearn: 0.1574760\ttotal: 4.63s\tremaining: 123ms\n",
      "974:\tlearn: 0.1574337\ttotal: 4.63s\tremaining: 119ms\n",
      "975:\tlearn: 0.1574068\ttotal: 4.63s\tremaining: 114ms\n",
      "976:\tlearn: 0.1573693\ttotal: 4.64s\tremaining: 109ms\n",
      "977:\tlearn: 0.1573370\ttotal: 4.65s\tremaining: 105ms\n",
      "978:\tlearn: 0.1572956\ttotal: 4.65s\tremaining: 99.8ms\n",
      "979:\tlearn: 0.1572499\ttotal: 4.66s\tremaining: 95ms\n",
      "980:\tlearn: 0.1572255\ttotal: 4.66s\tremaining: 90.3ms\n",
      "981:\tlearn: 0.1571913\ttotal: 4.67s\tremaining: 85.5ms\n",
      "982:\tlearn: 0.1571491\ttotal: 4.67s\tremaining: 80.8ms\n",
      "983:\tlearn: 0.1571201\ttotal: 4.67s\tremaining: 76ms\n",
      "984:\tlearn: 0.1570776\ttotal: 4.68s\tremaining: 71.3ms\n",
      "985:\tlearn: 0.1570123\ttotal: 4.68s\tremaining: 66.5ms\n",
      "986:\tlearn: 0.1569611\ttotal: 4.69s\tremaining: 61.8ms\n",
      "987:\tlearn: 0.1569344\ttotal: 4.7s\tremaining: 57ms\n",
      "988:\tlearn: 0.1569239\ttotal: 4.7s\tremaining: 52.3ms\n",
      "989:\tlearn: 0.1568935\ttotal: 4.71s\tremaining: 47.5ms\n",
      "990:\tlearn: 0.1568503\ttotal: 4.71s\tremaining: 42.8ms\n",
      "991:\tlearn: 0.1567690\ttotal: 4.71s\tremaining: 38ms\n",
      "992:\tlearn: 0.1567322\ttotal: 4.72s\tremaining: 33.3ms\n",
      "993:\tlearn: 0.1567166\ttotal: 4.72s\tremaining: 28.5ms\n",
      "994:\tlearn: 0.1566804\ttotal: 4.73s\tremaining: 23.8ms\n",
      "995:\tlearn: 0.1566324\ttotal: 4.73s\tremaining: 19ms\n",
      "996:\tlearn: 0.1565902\ttotal: 4.74s\tremaining: 14.3ms\n",
      "997:\tlearn: 0.1565596\ttotal: 4.74s\tremaining: 9.51ms\n",
      "998:\tlearn: 0.1565305\ttotal: 4.75s\tremaining: 4.75ms\n",
      "999:\tlearn: 0.1565011\ttotal: 4.75s\tremaining: 0us\n"
     ]
    }
   ],
   "source": [
    "from catboost import CatBoostClassifier\n",
    "\n",
    "model = CatBoostClassifier()\n",
    "# Fit model\n",
    "model.fit(x_train, y_train)\n",
    "# Get predicted classes\n",
    "preds_catboost = model.predict_proba(x_test)"
   ]
  },
  {
   "cell_type": "code",
   "execution_count": 144,
   "metadata": {},
   "outputs": [
    {
     "name": "stdout",
     "output_type": "stream",
     "text": [
      "Our GB score is 0.9374207830609189\n",
      "Catboost score is 0.9416219377978754\n"
     ]
    }
   ],
   "source": [
    "from sklearn.metrics import roc_auc_score\n",
    "print(f\"Our GB score is {boosting.score(x_test_important, y_test)}\")\n",
    "print(f\"Catboost score is {roc_auc_score(y_test == 1, preds_catboost[:, 1])}\")"
   ]
  },
  {
   "attachments": {},
   "cell_type": "markdown",
   "metadata": {},
   "source": [
    "Катбуст лучше, да"
   ]
  },
  {
   "cell_type": "markdown",
   "metadata": {
    "collapsed": false,
    "pycharm": {
     "name": "#%% md\n"
    }
   },
   "source": [
    "## Социализационный бонус. Новогоднее 🎆 (0.5 балла)\n",
    "\n",
    "Сфотографируйтесь с наряженной новогодней или рождественской ёлкой! Приложите фотографию, опишите свои впечатления, чего вы ждете от нового 2023 года?"
   ]
  }
 ],
 "metadata": {
  "kernelspec": {
   "display_name": "ml1_2022",
   "language": "python",
   "name": "ml1_2022"
  },
  "language_info": {
   "codemirror_mode": {
    "name": "ipython",
    "version": 3
   },
   "file_extension": ".py",
   "mimetype": "text/x-python",
   "name": "python",
   "nbconvert_exporter": "python",
   "pygments_lexer": "ipython3",
   "version": "3.10.8"
  },
  "nbTranslate": {
   "displayLangs": [
    "*"
   ],
   "hotkey": "alt-t",
   "langInMainMenu": true,
   "sourceLang": "en",
   "targetLang": "fr",
   "useGoogleTranslate": true
  },
  "toc": {
   "base_numbering": 1,
   "nav_menu": {
    "height": "210px",
    "width": "492px"
   },
   "number_sections": false,
   "sideBar": true,
   "skip_h1_title": false,
   "title_cell": "Table of Contents",
   "title_sidebar": "Contents",
   "toc_cell": false,
   "toc_position": {},
   "toc_section_display": true,
   "toc_window_display": true
  },
  "varInspector": {
   "cols": {
    "lenName": 16,
    "lenType": 16,
    "lenVar": 40
   },
   "kernels_config": {
    "python": {
     "delete_cmd_postfix": "",
     "delete_cmd_prefix": "del ",
     "library": "var_list.py",
     "varRefreshCmd": "print(var_dic_list())"
    },
    "r": {
     "delete_cmd_postfix": ") ",
     "delete_cmd_prefix": "rm(",
     "library": "var_list.r",
     "varRefreshCmd": "cat(var_dic_list()) "
    }
   },
   "types_to_exclude": [
    "module",
    "function",
    "builtin_function_or_method",
    "instance",
    "_Feature"
   ],
   "window_display": false
  }
 },
 "nbformat": 4,
 "nbformat_minor": 4
}
